{
 "cells": [
  {
   "cell_type": "markdown",
   "metadata": {
    "id": "BC06ED4CA34C4CD491E620311BED636A",
    "jupyter": {},
    "mdEditEnable": true,
    "slideshow": {
     "slide_type": "slide"
    },
    "tags": []
   },
   "source": [
    "# 1.5 函数的定义及使用"
   ]
  },
  {
   "cell_type": "markdown",
   "metadata": {
    "id": "7984BD52D0B640368D1B618DEF6B8C28",
    "jupyter": {},
    "mdEditEnable": true,
    "slideshow": {
     "slide_type": "slide"
    },
    "tags": []
   },
   "source": [
    "#### 函数是组织好的，可重复使用的，用来实现单一，或相关联功能的代码段，函数能提高应用的模块性，和代码的重复利用率\n",
    "## 1. 定义函数一般格式\n",
    "def 函数名（参数列表）:\n",
    "\t函数体\n"
   ]
  },
  {
   "cell_type": "code",
   "execution_count": 1,
   "metadata": {
    "id": "ACB95FBB45CD48388B424E73DA77C1E0",
    "jupyter": {},
    "slideshow": {
     "slide_type": "slide"
    },
    "tags": []
   },
   "outputs": [
    {
     "name": "stdout",
     "output_type": "stream",
     "text": [
      "width = 9  height = 3  area = 27\n"
     ]
    }
   ],
   "source": [
    "#一般情况下，参数值和参数名称是按函数声明中定义的顺序匹配起来的\n",
    "\n",
    "#实例：计算长方形面积\n",
    "def CalArea(width, height):  #定义计算面积函数\n",
    "    return width * height\n",
    "    \n",
    "w = 9\n",
    "h = 3\n",
    "print(\"width =\", w, \" height =\", h, \" area =\", CalArea(w, h))"
   ]
  },
  {
   "cell_type": "markdown",
   "metadata": {
    "id": "3BA250FC08CA412380756CFD9E4F6B55",
    "jupyter": {},
    "mdEditEnable": true,
    "slideshow": {
     "slide_type": "slide"
    },
    "tags": []
   },
   "source": [
    "#### 在python中，需要注意一切皆对象这个概念，则有了传可变对象和不可变对象的区别\n",
    "- 不可变对象 ：int，string，float，tuple   -- 可理解为C中，该参数为值传递\n",
    "- 可变对象   ：list，dictionary           -- 可理解为C中，该参数为指针传递"
   ]
  },
  {
   "cell_type": "code",
   "execution_count": 2,
   "metadata": {
    "id": "385D1FBEF53B4FFA87809D3AA1BA3274",
    "jupyter": {},
    "slideshow": {
     "slide_type": "slide"
    },
    "tags": []
   },
   "outputs": [
    {
     "name": "stdout",
     "output_type": "stream",
     "text": [
      "The result in function is:  [2020, 9, 14, ['Shanghai', 'Jiao', 'Tong', 'University']]\n",
      "The result in outside the function:  [2020, 9, 14, ['Shanghai', 'Jiao', 'Tong', 'University']]\n"
     ]
    }
   ],
   "source": [
    "#传可变对象\n",
    "\n",
    "def addlist(list1):\n",
    "   list1.append(['Shanghai', 'Jiao', 'Tong', 'University']) #传修改可变对象的值\n",
    "   print (\"The result in function is: \", list1)\n",
    " \n",
    "# 调用addlist函数\n",
    "list1 = [2020,9,14]\n",
    "addlist(list1)\n",
    "print (\"The result in outside the function: \", list1)\n",
    "#传入函数的和在末尾添加新内容的对象用的是同一个引用,所以得到以下的值："
   ]
  },
  {
   "cell_type": "code",
   "execution_count": 3,
   "metadata": {
    "id": "461EC6106954434C8DB8EF6602743BDA",
    "jupyter": {},
    "slideshow": {
     "slide_type": "slide"
    },
    "tags": []
   },
   "outputs": [
    {
     "name": "stdout",
     "output_type": "stream",
     "text": [
      "The result in function is:  Shanghai\n",
      "The result in function is:  Jiao\n"
     ]
    }
   ],
   "source": [
    "# 传不可变对象\n",
    "def modifyStr(a):\n",
    "    a = 'Shanghai'\n",
    "    print (\"The result in function is: \", a)\n",
    "b = 'Jiao'\n",
    "modifyStr(b)\n",
    "print (\"The result in function is: \", b)\n"
   ]
  },
  {
   "cell_type": "markdown",
   "metadata": {
    "id": "4923F66BCE514FCC8145D21F3A47169C",
    "jupyter": {},
    "mdEditEnable": true,
    "slideshow": {
     "slide_type": "slide"
    },
    "tags": []
   },
   "source": [
    "#### 通过以上两个例子，我们能发现，如果传入是可变对象的，则传入的值可以改变，如果不可变的则不能改变，传递的只是a的值，没有影响a对象本身。\n",
    "#### 对于传不可变对象比如在 modifyStr（a）内部修改 a 的值，只是修改另一个复制的对象，不会影响 a 本身，所以还是原来传入的值post。"
   ]
  },
  {
   "cell_type": "markdown",
   "metadata": {
    "id": "23AB587026A648009B6F754C885003D8",
    "jupyter": {},
    "mdEditEnable": true,
    "slideshow": {
     "slide_type": "slide"
    },
    "tags": []
   },
   "source": [
    "## 2. 参数\n",
    "#### 以下是调用函数时可使用的正式参数类型：\n",
    "- 必需参数\n",
    "- 关键字参数\n",
    "- 默认参数\n",
    "- 可变长参数"
   ]
  },
  {
   "cell_type": "markdown",
   "metadata": {
    "id": "6D7CA11341D948578405648B99BA7AF3",
    "jupyter": {},
    "mdEditEnable": true,
    "slideshow": {
     "slide_type": "slide"
    },
    "tags": []
   },
   "source": [
    "## 2.1 必需参数\n",
    "必需参数须以正确的顺序传入函数。调用时的数量必须和声明时的一样，如果不同则会报错。"
   ]
  },
  {
   "cell_type": "code",
   "execution_count": 4,
   "metadata": {
    "id": "7E109E9C50664BBC8A7760FF1141C1CB",
    "jupyter": {},
    "slideshow": {
     "slide_type": "slide"
    },
    "tags": []
   },
   "outputs": [
    {
     "ename": "TypeError",
     "evalue": "printstr() missing 1 required positional argument: 'str'",
     "output_type": "error",
     "traceback": [
      "\u001b[0;31m---------------------------------------------------------------------------\u001b[0m",
      "\u001b[0;31mTypeError\u001b[0m                                 Traceback (most recent call last)",
      "\u001b[0;32m<ipython-input-4-fe851170b537>\u001b[0m in \u001b[0;36m<module>\u001b[0;34m\u001b[0m\n\u001b[1;32m      3\u001b[0m \u001b[0;34m\u001b[0m\u001b[0m\n\u001b[1;32m      4\u001b[0m \u001b[0;31m# 因为在函数中定义需要参数传入，所以在调用 printstr 函数时，不加参数会报错\u001b[0m\u001b[0;34m\u001b[0m\u001b[0;34m\u001b[0m\u001b[0m\n\u001b[0;32m----> 5\u001b[0;31m \u001b[0mprintstr\u001b[0m\u001b[0;34m(\u001b[0m\u001b[0;34m)\u001b[0m\u001b[0;34m\u001b[0m\u001b[0m\n\u001b[0m",
      "\u001b[0;31mTypeError\u001b[0m: printstr() missing 1 required positional argument: 'str'"
     ]
    }
   ],
   "source": [
    "def printstr(str):\n",
    "   print(str)\n",
    " \n",
    "# 因为在函数中定义需要参数传入，所以在调用 printstr 函数时，不加参数会报错\n",
    "printstr()"
   ]
  },
  {
   "cell_type": "markdown",
   "metadata": {
    "id": "BBC86AF249A74F178A8E710E985AFD34",
    "jupyter": {},
    "mdEditEnable": true,
    "slideshow": {
     "slide_type": "slide"
    },
    "tags": []
   },
   "source": [
    "## 2.2 关键字参数\n",
    "可变参数允许你传入0个或任意个参数，这些可变参数在函数调用时自动组装为一个tuple，而关键字参数允许你传入0个或任意个含参数名的参数，这些关键字参数在函数内部自动组装为一个dict，关键字参数的功能就是拓展函数功能"
   ]
  },
  {
   "cell_type": "code",
   "execution_count": 5,
   "metadata": {
    "id": "48675517AB2541998F0232830F797AF5",
    "jupyter": {},
    "slideshow": {
     "slide_type": "slide"
    },
    "tags": []
   },
   "outputs": [
    {
     "name": "stdout",
     "output_type": "stream",
     "text": [
      "name: Tom stuId: 100001 other: {}\n",
      "name: Tim stuId: 100002 other: {'course': 'Financial'}\n",
      "name: Roy stuId: 100002 other: {'course': 'Financial', 'score': 90}\n"
     ]
    }
   ],
   "source": [
    "def student(name, stuId, **kw): #这里的**kw就是关键字参数，可以不用传入或者传入一个或者多个参数\n",
    "    print('name:', name, 'stuId:', stuId, 'other:', kw)\n",
    "student('Tom',100001)  #不用传入关键字参数\n",
    "student('Tim',100002,course='Financial')\n",
    "student('Roy',100002,course='Financial',score=90)"
   ]
  },
  {
   "cell_type": "markdown",
   "metadata": {
    "id": "8E9306E26AEC4D6786CDC32A2B2A954F",
    "jupyter": {},
    "mdEditEnable": true,
    "slideshow": {
     "slide_type": "slide"
    },
    "tags": []
   },
   "source": [
    "## 2.3 默认参数\n",
    "调用函数时，如果没有传递参数，则会使用默认参数。"
   ]
  },
  {
   "cell_type": "code",
   "execution_count": 6,
   "metadata": {
    "id": "F81B8358DE01418F8626634887E4ED1F",
    "jupyter": {},
    "slideshow": {
     "slide_type": "slide"
    },
    "tags": []
   },
   "outputs": [
    {
     "name": "stdout",
     "output_type": "stream",
     "text": [
      "传入参数的时候\n",
      "name:  Roy\n",
      "course:  Financial course\n",
      "不传参数的时候\n",
      "name:  Roy\n",
      "course:  Financial\n"
     ]
    }
   ],
   "source": [
    "def printinfo(name,course='Financial'):\n",
    "   print (\"name: \", name)\n",
    "   print (\"course: \", course)\n",
    " \n",
    "#调用printinfo函数\n",
    "print('传入参数的时候')\n",
    "printinfo( name=\"Roy\" ,course='Financial course')#传入参数的时候\n",
    "print('不传参数的时候')\n",
    "printinfo(name=\"Roy\" )#不传参数的时候"
   ]
  },
  {
   "cell_type": "markdown",
   "metadata": {
    "id": "1953734A63BD44FD92BE89174F353D07",
    "jupyter": {},
    "mdEditEnable": true,
    "slideshow": {
     "slide_type": "slide"
    },
    "tags": []
   },
   "source": [
    "## 2.4 可变长参数\n",
    "参数以一个星号开头的代表着一个任意长度的元组(tuple)，可以接收连续一串参数，如上面代码里传的是1，2，3或者更多。\n",
    "参数以两个星号开头的代表着一个字典，参数的形式是“key=value”，接受连续任意多个参数"
   ]
  },
  {
   "cell_type": "code",
   "execution_count": 13,
   "metadata": {
    "id": "EDE74BED923248248DFD6E199B4E0FDF",
    "jupyter": {},
    "slideshow": {
     "slide_type": "slide"
    },
    "tags": []
   },
   "outputs": [
    {
     "name": "stdout",
     "output_type": "stream",
     "text": [
      "output:\n",
      "1\n",
      "(2, 3, 4, 5, 6)\n"
     ]
    }
   ],
   "source": [
    "#一个*开头\n",
    "\n",
    "def printinfo(arg, *kw):\n",
    "   print (\"output:\")\n",
    "   print (arg)\n",
    "   print (kw)\n",
    " \n",
    "# 调用printinfo 函数\n",
    "printinfo(1,2,3,4,5,6)"
   ]
  },
  {
   "cell_type": "code",
   "execution_count": 14,
   "metadata": {
    "id": "92287E12DDF54C48A4F0FD80A7234167",
    "jupyter": {},
    "slideshow": {
     "slide_type": "slide"
    },
    "tags": []
   },
   "outputs": [
    {
     "name": "stdout",
     "output_type": "stream",
     "text": [
      "output:\n",
      "1\n",
      "{'a': 2, 'b': 3}\n"
     ]
    }
   ],
   "source": [
    "#两个*开头\n",
    "def printinfo(arg, **kw):\n",
    "   print (\"output:\")\n",
    "   print (arg)\n",
    "   print (kw)\n",
    " \n",
    "# 调用printinfo 函数\n",
    "printinfo(1,a=2,b=3)"
   ]
  },
  {
   "cell_type": "markdown",
   "metadata": {
    "id": "18145338BC884DA2BF0C25CD1113CA6D",
    "jupyter": {},
    "mdEditEnable": true,
    "notebookId": "60161346ac79f40016b7aac5",
    "slideshow": {
     "slide_type": "slide"
    },
    "tags": []
   },
   "source": [
    "## 2.5 变量作用域\n",
    "Python 中，程序的变量并不是在哪个位置都可以访问的，访问权限决定于这个变量是在哪里赋值的。作用域的相关知识在Python中很容易掉坑，所以大家学习的时候需要注意"
   ]
  },
  {
   "cell_type": "markdown",
   "metadata": {
    "id": "FF520D428A604EE88FBC7805771F7FDA",
    "jupyter": {},
    "mdEditEnable": true,
    "slideshow": {
     "slide_type": "slide"
    },
    "tags": []
   },
   "source": [
    "#### Python中一共有四种作用域：\n",
    "- L （Local） 局部作用域\n",
    "- E （Enclosing） 闭包函数外的函数中\n",
    "- G （Global） 全局作用域\n",
    "- B （Built-in） 内建作用域\n",
    "\n",
    "#### 以 L –> E –> G –>B 的规则查找，即：在局部找不到，便会去局部外的局部找（例如闭包），再找不到就会去全局找，再者去内建中找。"
   ]
  },
  {
   "cell_type": "code",
   "execution_count": 15,
   "metadata": {
    "id": "C26D960A1C134F208939FCA21F8C896F",
    "jupyter": {},
    "slideshow": {
     "slide_type": "slide"
    },
    "tags": []
   },
   "outputs": [
    {
     "name": "stdout",
     "output_type": "stream",
     "text": [
      "2\n",
      "1\n"
     ]
    }
   ],
   "source": [
    "#在 def/class/lambda内进行赋值，就变成了其局部的作用域，局部作用域会覆盖全局作用域，但不会影响全局作用域\n",
    "a = 1  #全局的\n",
    "def printinfo():\n",
    "    a = 2 #局部的\n",
    "    return a\n",
    "\n",
    "print(printinfo())\n",
    "print(a)"
   ]
  },
  {
   "cell_type": "markdown",
   "metadata": {
    "id": "2E4F27D442BA46E58C56FCAB80A34BC6",
    "jupyter": {},
    "mdEditEnable": true,
    "slideshow": {
     "slide_type": "slide"
    },
    "tags": []
   },
   "source": [
    "END"
   ]
  }
 ],
 "metadata": {
  "kernelspec": {
   "display_name": "Python 3",
   "language": "python",
   "name": "python3"
  },
  "language_info": {
   "codemirror_mode": {
    "name": "ipython",
    "version": 3
   },
   "file_extension": ".py",
   "mimetype": "text/x-python",
   "name": "python",
   "nbconvert_exporter": "python",
   "pygments_lexer": "ipython3",
   "version": "3.6.5"
  },
  "tianchi_metadata": {
   "competitions": [],
   "datasets": [
    {
     "id": "90788",
     "title": "上交训练营数据集"
    }
   ],
   "description": "",
   "notebookId": "182378",
   "source": "dsw"
  }
 },
 "nbformat": 4,
 "nbformat_minor": 4
}
