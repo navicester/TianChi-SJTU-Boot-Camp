{
 "cells": [
  {
   "cell_type": "markdown",
   "metadata": {
    "id": "473A0974AB35406783CB6756B647CDB3",
    "jupyter": {},
    "mdEditEnable": true,
    "slideshow": {
     "slide_type": "slide"
    },
    "tags": []
   },
   "source": [
    "# 1.4 流程控制语句"
   ]
  },
  {
   "cell_type": "markdown",
   "metadata": {
    "id": "BCA4899CA5724FD5864117A5A2AC2BEC",
    "jupyter": {},
    "mdEditEnable": true,
    "slideshow": {
     "slide_type": "slide"
    },
    "tags": []
   },
   "source": [
    "#### Python中流程控制语句主要有三种if-else,while,for"
   ]
  },
  {
   "cell_type": "markdown",
   "metadata": {
    "id": "ED6C733ED35E40AA856CB335FA49F951",
    "jupyter": {},
    "mdEditEnable": true,
    "slideshow": {
     "slide_type": "slide"
    },
    "tags": []
   },
   "source": [
    "## 1. if-else语句用于控制程序执行\n",
    "#### 基本形式：\n",
    "\n",
    "if 判断条件：\n",
    "\t\t执行语句\n",
    "else:\n",
    "\t\t执行语句"
   ]
  },
  {
   "cell_type": "markdown",
   "metadata": {
    "id": "72BF3329C90545F68635E1A91DD9C688",
    "jupyter": {},
    "mdEditEnable": true,
    "slideshow": {
     "slide_type": "slide"
    },
    "tags": []
   },
   "source": [
    "#### if 语句判断条件可以用>,<,==,>=,<=来判断其关系\n",
    "#### 当判断条件为多个值时，可以采用以下语句：\n",
    "if 判断条件1：\n",
    "\t\t执行语句1\n",
    "elif 判断条件2:\n",
    "\t\t执行语句2...\n",
    "elif 判断条件3:\n",
    "\t\t执行语句3...\n",
    "else:\n",
    "\t\t执行语句4...\n"
   ]
  },
  {
   "cell_type": "code",
   "execution_count": 1,
   "metadata": {
    "id": "0805F7E0CC9047398C8198FE021AEF7B",
    "jupyter": {},
    "slideshow": {
     "slide_type": "slide"
    },
    "tags": []
   },
   "outputs": [
    {
     "name": "stdout",
     "output_type": "stream",
     "text": [
      "Welcome to study Financial course！\n"
     ]
    }
   ],
   "source": [
    "#判读输入学校名字是否是Shanghai Jiao Tong University，如果是就输出欢迎学习Financial course！，如果不是就输出oops\n",
    "University= 'Shanghai Jiao Tong University'\n",
    "if University == 'Shanghai Jiao Tong University':         # 判断变量是否为 Shanghai Jiao Tong University\n",
    "    print ('Welcome to study Financial course！')     # 并输出欢迎信息\n",
    "else:\n",
    "    print ('oops!')               # 条件不成立时输出其他信息"
   ]
  },
  {
   "cell_type": "code",
   "execution_count": 3,
   "metadata": {
    "id": "364FC762EFB648C4ACB1C7965EB5EFA0",
    "jupyter": {},
    "scrolled": true,
    "slideshow": {
     "slide_type": "slide"
    },
    "tags": []
   },
   "outputs": [
    {
     "name": "stdout",
     "output_type": "stream",
     "text": [
      "猜猜贵州茅台2021年1月29日股票最高价格（精确到整数即可）\n"
     ]
    },
    {
     "name": "stdin",
     "output_type": "stream",
     "text": [
      " 1500\n"
     ]
    },
    {
     "name": "stdout",
     "output_type": "stream",
     "text": [
      "Sorry,change a big one\n"
     ]
    }
   ],
   "source": [
    "#多条件if-else实现猜股票价格游戏\n",
    "print ('猜猜贵州茅台2021年1月29日股票最高价格（精确到整数即可）')  \n",
    "num =int(input())       #iinput()Python中控制输入语句，读入字符串，由于要猜整数价格，所以转化成int类型\n",
    "if num == 2149:            # 判断num的值\n",
    "    print ('bingo')    \n",
    "elif num >2149:           # 值大于2149时提示\n",
    "    print ('Sorry, change a small one')\n",
    "elif num < 2149:           # 值小于2149时提示\n",
    "    print ('Sorry,change a big one')\n",
    "else:\n",
    "    print ('wrong input')     # 条件均不成立时输出"
   ]
  },
  {
   "cell_type": "code",
   "execution_count": null,
   "metadata": {
    "id": "EF36B7861D9644A9BB828149E7D92A0D",
    "jupyter": {},
    "slideshow": {
     "slide_type": "slide"
    },
    "tags": []
   },
   "outputs": [],
   "source": [
    "num =int(input())\n",
    "# 判断值是否在0~5或者10~15之间\n",
    "if (num >= 0 and num <= 5) or (num >= 10 and num <= 15):    \n",
    "    print ('Yes')\n",
    "else:\n",
    "    print ('No')"
   ]
  },
  {
   "cell_type": "markdown",
   "metadata": {
    "id": "48DAD2BAF2C84CACB584520254DBDF14",
    "jupyter": {},
    "mdEditEnable": true,
    "slideshow": {
     "slide_type": "slide"
    },
    "tags": []
   },
   "source": [
    "## 2.while 语句"
   ]
  },
  {
   "cell_type": "markdown",
   "metadata": {
    "id": "C6DF1B19A44649AE95F41A1EAE6A6E76",
    "jupyter": {},
    "mdEditEnable": true,
    "slideshow": {
     "slide_type": "slide"
    },
    "tags": []
   },
   "source": [
    "#### 基本形式：\n",
    "\n",
    "while 判断条件：\n",
    "\t\t执行语句…"
   ]
  },
  {
   "cell_type": "markdown",
   "metadata": {
    "id": "DADE71A84E1E4B6BA8F6DE6BAD3CC817",
    "jupyter": {},
    "mdEditEnable": true,
    "slideshow": {
     "slide_type": "slide"
    },
    "tags": []
   },
   "source": [
    "#### while中判断条件可以是任何表达式，任何非零、或非空（null）的值均为true\n",
    "#### 执行语句可以是单个语句或语句块"
   ]
  },
  {
   "cell_type": "code",
   "execution_count": null,
   "metadata": {
    "id": "0EC8AFFD339C48B18A4D925C3BEB0E8A",
    "jupyter": {},
    "slideshow": {
     "slide_type": "slide"
    },
    "tags": []
   },
   "outputs": [],
   "source": [
    "#用while语句控制打印1-10的数字\n",
    "a=1\n",
    "while a<=10:\n",
    "    print(a)\n",
    "    a+=1"
   ]
  },
  {
   "cell_type": "markdown",
   "metadata": {
    "id": "A984277C4C0049BE8252CB2127E10905",
    "jupyter": {},
    "mdEditEnable": true,
    "slideshow": {
     "slide_type": "slide"
    },
    "tags": []
   },
   "source": [
    "#### break和continue的用法：\n",
    "- break 用于退出循环，一旦遇到break就直接退出循环\n",
    "- continue 用于跳过该次循环，继续执行接下来的语句\n"
   ]
  },
  {
   "cell_type": "code",
   "execution_count": null,
   "metadata": {
    "id": "2055073C2C5045BD8EAB71B790483AC6",
    "jupyter": {},
    "slideshow": {
     "slide_type": "slide"
    },
    "tags": []
   },
   "outputs": [],
   "source": [
    "a = 1\n",
    "while a < 13: \n",
    "    a += 1\n",
    "    if a%2 == 0:     # 双数时跳过输出\n",
    "        continue\n",
    "    print(a)         # 输出单数3,5,7,9"
   ]
  },
  {
   "cell_type": "markdown",
   "metadata": {
    "id": "3F7178B48389476BB2740F17450CA5A9",
    "jupyter": {},
    "mdEditEnable": true,
    "slideshow": {
     "slide_type": "slide"
    },
    "tags": []
   },
   "source": [
    "#### \"判断条件\"是个常值的用法：表示循环必定成立"
   ]
  },
  {
   "cell_type": "code",
   "execution_count": null,
   "metadata": {
    "id": "B137ADDFE7C44399A27FF0738743D8E8",
    "jupyter": {},
    "slideshow": {
     "slide_type": "slide"
    },
    "tags": []
   },
   "outputs": [],
   "source": [
    "a = 1\n",
    "while 1:            # 当循环条件为常数时必定成立\n",
    "    print(a)         # 输出1~10\n",
    "    a += 1\n",
    "    if a > 10:     # 当i大于10时跳出循环\n",
    "        break"
   ]
  },
  {
   "cell_type": "markdown",
   "metadata": {
    "id": "2E1C74366FBE4660BB2B11D187CF9513",
    "jupyter": {},
    "mdEditEnable": true,
    "slideshow": {
     "slide_type": "slide"
    },
    "tags": []
   },
   "source": [
    "## 3. for 语句"
   ]
  },
  {
   "cell_type": "markdown",
   "metadata": {
    "id": "E66E12F0E3B5478F981F5FCD39F8FCD2",
    "jupyter": {},
    "mdEditEnable": true,
    "slideshow": {
     "slide_type": "slide"
    },
    "tags": []
   },
   "source": [
    "#### 在Python中，for语句用的非常频繁，同时for语句变式也很多，需要重点进行实践, for循环可以遍历任何序列的项目，如一个列表或者一个字符串\n",
    "#### 基本形式：\n",
    "for iterating_var in sequence:\n",
    "\t\t\tprint（iterating_var）"
   ]
  },
  {
   "cell_type": "code",
   "execution_count": null,
   "metadata": {
    "id": "F48A3D9F3EA74ABEA1CD9B049E51713A",
    "jupyter": {},
    "slideshow": {
     "slide_type": "slide"
    },
    "tags": []
   },
   "outputs": [],
   "source": [
    "#遍历一个列表\n",
    "l=[1,2,5,7,12,34]\n",
    "for i in l:\n",
    "    print(i)"
   ]
  },
  {
   "cell_type": "code",
   "execution_count": null,
   "metadata": {
    "id": "74A482D3F6554751808017337C3872EC",
    "jupyter": {},
    "slideshow": {
     "slide_type": "slide"
    },
    "tags": []
   },
   "outputs": [],
   "source": [
    "#遍历一个字符串\n",
    "s='Shanghai'\n",
    "for i in s:\n",
    "    print(i)"
   ]
  },
  {
   "cell_type": "code",
   "execution_count": null,
   "metadata": {
    "id": "829DAAA7801546CA81168E3A5DEC04F2",
    "jupyter": {},
    "slideshow": {
     "slide_type": "slide"
    },
    "tags": []
   },
   "outputs": [],
   "source": [
    "#通过序列索引迭代\n",
    "s = ['Shanghai', 'Jiao', 'Tong', 'University']\n",
    "for i in range(len(s)):\n",
    "    print(s[i])"
   ]
  },
  {
   "cell_type": "markdown",
   "metadata": {
    "id": "E63B0EB0A7AF417B99F43CE68A912A50",
    "jupyter": {},
    "mdEditEnable": false,
    "notebookId": "5fd5c8eb1a34b90030b8f163",
    "slideshow": {
     "slide_type": "slide"
    },
    "tags": []
   },
   "source": [
    "END"
   ]
  }
 ],
 "metadata": {
  "kernelspec": {
   "display_name": "Python 3",
   "language": "python",
   "name": "python3"
  },
  "language_info": {
   "codemirror_mode": {
    "name": "ipython",
    "version": 3
   },
   "file_extension": ".py",
   "mimetype": "text/x-python",
   "name": "python",
   "nbconvert_exporter": "python",
   "pygments_lexer": "ipython3",
   "version": "3.6.5"
  },
  "tianchi_metadata": {
   "competitions": [],
   "datasets": [
    {
     "id": "90788",
     "title": "上交训练营数据集"
    }
   ],
   "description": "",
   "notebookId": "182376",
   "source": "dsw"
  }
 },
 "nbformat": 4,
 "nbformat_minor": 4
}
