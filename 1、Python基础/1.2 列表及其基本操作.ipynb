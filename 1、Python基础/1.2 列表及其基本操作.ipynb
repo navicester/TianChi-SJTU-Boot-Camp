{
 "cells": [
  {
   "cell_type": "markdown",
   "metadata": {
    "id": "CDCD00E0EC9B47D3A653C255C38C52BE",
    "jupyter": {},
    "mdEditEnable": false,
    "slideshow": {
     "slide_type": "slide"
    },
    "tags": []
   },
   "source": [
    "# 1.2 列表及其基本操作"
   ]
  },
  {
   "cell_type": "markdown",
   "metadata": {
    "id": "052A6216276240138F275CC79F0791D4",
    "jupyter": {},
    "mdEditEnable": true,
    "slideshow": {
     "slide_type": "slide"
    },
    "tags": []
   },
   "source": [
    "## 1. 列表介绍\n",
    "- 列表是Python中最常用的数据类型，列表中每个元素都有一个索引，起始索引为0\n",
    "- 列表是一种有序集合，可以添加和删除其中的元素"
   ]
  },
  {
   "cell_type": "markdown",
   "metadata": {
    "id": "790774EE0B144673827491E670488C41",
    "jupyter": {},
    "mdEditEnable": true,
    "slideshow": {
     "slide_type": "slide"
    },
    "tags": []
   },
   "source": [
    "## 2. 列表基本操作"
   ]
  },
  {
   "cell_type": "code",
   "execution_count": 1,
   "metadata": {
    "id": "68F1075D1B41445B888E3E6E537AEB94",
    "jupyter": {},
    "slideshow": {
     "slide_type": "slide"
    },
    "tags": []
   },
   "outputs": [
    {
     "name": "stdout",
     "output_type": "stream",
     "text": [
      "[1, 2, 3]\n",
      "[1.11, 2.22, 3.33]\n",
      "['Shanghai', 'Jiao', 'Tong', 'University']\n"
     ]
    }
   ],
   "source": [
    "#创建列表,用[]创建\n",
    "a=[1,2,3]\n",
    "b=[1.11,2.22,3.33]\n",
    "c=['Shanghai', 'Jiao', 'Tong', 'University']\n",
    "print(a)\n",
    "print(b)\n",
    "print(c)"
   ]
  },
  {
   "cell_type": "code",
   "execution_count": 2,
   "metadata": {
    "id": "05CF70E9899948E6B6C954FAD4B98D54",
    "jupyter": {},
    "slideshow": {
     "slide_type": "slide"
    },
    "tags": []
   },
   "outputs": [
    {
     "name": "stdout",
     "output_type": "stream",
     "text": [
      "University\n",
      "['Shanghai', 'Jiao']\n",
      "['Jiao', 'Tong', 'University']\n"
     ]
    }
   ],
   "source": [
    "#取列表中的元素\n",
    "print(c[-1])   #取列表中最后一个元素\n",
    "print(c[:2])   #取列表前两个元素，索引为2的元素不包括\n",
    "print(c[1:])   #取列表中索引为1的元素开始到后面所有的元素"
   ]
  },
  {
   "cell_type": "code",
   "execution_count": 3,
   "metadata": {
    "id": "E64ADC7D459F4B158ADD78086E26B17C",
    "jupyter": {},
    "slideshow": {
     "slide_type": "slide"
    },
    "tags": []
   },
   "outputs": [
    {
     "name": "stdout",
     "output_type": "stream",
     "text": [
      "6\n"
     ]
    }
   ],
   "source": [
    "# 求列表长度\n",
    "d=[1,3,4,5,6,7]\n",
    "print(len(d))"
   ]
  },
  {
   "cell_type": "code",
   "execution_count": 4,
   "metadata": {
    "id": "EBF037F5CB044074899B4AA221A4779D",
    "jupyter": {},
    "slideshow": {
     "slide_type": "slide"
    },
    "tags": []
   },
   "outputs": [
    {
     "name": "stdout",
     "output_type": "stream",
     "text": [
      "[1, 3, 4, 5, 6, 7, 8]\n",
      "[1, 2, 3, 4, 5, 6, 7, 8]\n",
      "['Shanghai', 'Jiao', 'Tong', 'University', 'is', 'a', 'good', 'University']\n"
     ]
    }
   ],
   "source": [
    "#添加新的元素\n",
    "#方法一：append添加（直接添加至最后一个位置）\n",
    "d.append(8)\n",
    "print(d)\n",
    "#方法二：insert添加（指定位置插入元素）\n",
    "d.insert(1,2)   #前一个参数是插入位置的索引，后一个参数是插入的元素\n",
    "print(d)\n",
    "#方法三：扩展列表（添加多个值或者序列）\n",
    "ex=['is','a','good','University']\n",
    "c.extend(ex)\n",
    "print(c)"
   ]
  },
  {
   "cell_type": "code",
   "execution_count": 5,
   "metadata": {
    "id": "5DAF203B8337485BA2DCD724C0DB6244",
    "jupyter": {},
    "slideshow": {
     "slide_type": "slide"
    },
    "tags": []
   },
   "outputs": [
    {
     "name": "stdout",
     "output_type": "stream",
     "text": [
      "[1, 8, 3]\n"
     ]
    }
   ],
   "source": [
    "#替换列表中的元素\n",
    "a[1]=8  #把原来索引为1位置的元素替换成8\n",
    "print(a)"
   ]
  },
  {
   "cell_type": "code",
   "execution_count": 6,
   "metadata": {
    "id": "B1F1ACF368644F9080A002D8CF06D0F9",
    "jupyter": {},
    "slideshow": {
     "slide_type": "slide"
    },
    "tags": []
   },
   "outputs": [
    {
     "name": "stdout",
     "output_type": "stream",
     "text": [
      "[1, 3]\n",
      "[1.11, 2.22]\n"
     ]
    },
    {
     "ename": "NameError",
     "evalue": "name 'c' is not defined",
     "output_type": "error",
     "traceback": [
      "\u001b[0;31m---------------------------------------------------------------------------\u001b[0m",
      "\u001b[0;31mNameError\u001b[0m                                 Traceback (most recent call last)",
      "\u001b[0;32m<ipython-input-6-59b81de4a5ef>\u001b[0m in \u001b[0;36m<module>\u001b[0;34m\u001b[0m\n\u001b[1;32m      5\u001b[0m \u001b[0mprint\u001b[0m\u001b[0;34m(\u001b[0m\u001b[0mb\u001b[0m\u001b[0;34m)\u001b[0m\u001b[0;34m\u001b[0m\u001b[0m\n\u001b[1;32m      6\u001b[0m \u001b[0;32mdel\u001b[0m \u001b[0mc\u001b[0m           \u001b[0;31m#删除整个列表或指定元素或者列表切片，list删除后无法访问\u001b[0m\u001b[0;34m\u001b[0m\u001b[0m\n\u001b[0;32m----> 7\u001b[0;31m \u001b[0mprint\u001b[0m\u001b[0;34m(\u001b[0m\u001b[0mc\u001b[0m\u001b[0;34m)\u001b[0m\u001b[0;34m\u001b[0m\u001b[0m\n\u001b[0m",
      "\u001b[0;31mNameError\u001b[0m: name 'c' is not defined"
     ]
    }
   ],
   "source": [
    "#删除列表中的元素\n",
    "a.remove(8) #remove函数删除\n",
    "print(a)\n",
    "b.pop(2)  #pop()进行删除，可选参数index删除指定位置的元素 默认为最后一个元素\n",
    "print(b)\n",
    "del c           #删除整个列表或指定元素或者列表切片，list删除后无法访问\n",
    "print(c)"
   ]
  },
  {
   "cell_type": "code",
   "execution_count": 7,
   "metadata": {
    "id": "FAFF85F74B9A4027826C7C50E557B713",
    "jupyter": {},
    "slideshow": {
     "slide_type": "slide"
    },
    "tags": []
   },
   "outputs": [
    {
     "name": "stdout",
     "output_type": "stream",
     "text": [
      "1\n",
      "3\n"
     ]
    }
   ],
   "source": [
    "#变量列表数据\n",
    "for i in a:\n",
    "    print(i)"
   ]
  },
  {
   "cell_type": "code",
   "execution_count": 8,
   "metadata": {
    "id": "2202A72A3C754450B2C5C8EF34656694",
    "jupyter": {},
    "slideshow": {
     "slide_type": "slide"
    },
    "tags": []
   },
   "outputs": [
    {
     "name": "stdout",
     "output_type": "stream",
     "text": [
      "[126, 914, 2015, 2018, 2020]\n",
      "[914, 2015, 2020, 126, 2018]\n",
      "[126, 914, 2015, 2018, 2020]\n",
      "[3, 1]\n"
     ]
    }
   ],
   "source": [
    "#列表的排序和反转操作\n",
    "e=[914,2015,2020,126,2018] \n",
    "print(sorted(e))\n",
    "print(e)\n",
    "e.sort()  #列表按照升序进行排序操作，对本事结构产生影响，倒序则指定排序规则reverse=True，排序方法是Timsort\n",
    "print(e)\n",
    "a.reverse() #列表的反转操作\n",
    "print(a)"
   ]
  },
  {
   "cell_type": "code",
   "execution_count": 12,
   "metadata": {
    "id": "F7B96D1C72F1410B8D038A0D6AA27AA6",
    "jupyter": {},
    "slideshow": {
     "slide_type": "slide"
    },
    "tags": []
   },
   "outputs": [
    {
     "name": "stdout",
     "output_type": "stream",
     "text": [
      "False\n",
      "False\n",
      "True\n"
     ]
    }
   ],
   "source": [
    "#比较两个列表是否一致\n",
    "f=[3,8,1]\n",
    "# print(a,b)\n",
    "m = [3,8,1]\n",
    "print(a==b)\n",
    "print(a==f)\n",
    "print(f==m)"
   ]
  },
  {
   "cell_type": "markdown",
   "metadata": {
    "id": "3553D716D610479580A23C9BF2D17147",
    "jupyter": {},
    "mdEditEnable": false,
    "notebookId": "5fd5c8eb1a34b90030b8f15d",
    "slideshow": {
     "slide_type": "slide"
    },
    "tags": []
   },
   "source": [
    "END"
   ]
  }
 ],
 "metadata": {
  "kernelspec": {
   "display_name": "Python 3",
   "language": "python",
   "name": "python3"
  },
  "language_info": {
   "codemirror_mode": {
    "name": "ipython",
    "version": 3
   },
   "file_extension": ".py",
   "mimetype": "text/x-python",
   "name": "python",
   "nbconvert_exporter": "python",
   "pygments_lexer": "ipython3",
   "version": "3.6.5"
  },
  "tianchi_metadata": {
   "competitions": [],
   "datasets": [
    {
     "id": "90788",
     "title": "上交训练营数据集"
    }
   ],
   "description": "",
   "notebookId": "182363",
   "source": "dsw"
  }
 },
 "nbformat": 4,
 "nbformat_minor": 4
}
