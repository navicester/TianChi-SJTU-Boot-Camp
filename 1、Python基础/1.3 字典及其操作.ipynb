{
 "cells": [
  {
   "cell_type": "markdown",
   "metadata": {
    "id": "EA3D53A87DD6401984DB8E3828A7865E",
    "jupyter": {},
    "mdEditEnable": false,
    "slideshow": {
     "slide_type": "slide"
    },
    "tags": []
   },
   "source": [
    "## 字典及其操作"
   ]
  },
  {
   "cell_type": "markdown",
   "metadata": {
    "id": "2012B35EABE7433E831A5CB9E9DA68BB",
    "jupyter": {},
    "mdEditEnable": true,
    "slideshow": {
     "slide_type": "slide"
    },
    "tags": []
   },
   "source": [
    "## 1. Python字典"
   ]
  },
  {
   "cell_type": "markdown",
   "metadata": {
    "id": "F86B06837C5D47D5855C14237DFEFE6A",
    "jupyter": {},
    "mdEditEnable": false,
    "slideshow": {
     "slide_type": "slide"
    },
    "tags": []
   },
   "source": [
    "- 字典是Python中比较常用并且非常重要的基本数据类型，字典是无序用大括号{}来表示，字典中的元素用逗号（,）分隔\n",
    "- 字典中存储的是按“key-value”即“键-值”对存放的，键和值之间用冒号（:）分隔\n",
    "- 字典中的键（key）是不能重复出现的。"
   ]
  },
  {
   "cell_type": "markdown",
   "metadata": {
    "id": "0E5C4A13EB2847A88455D6860D27D195",
    "jupyter": {},
    "mdEditEnable": true,
    "slideshow": {
     "slide_type": "slide"
    },
    "tags": []
   },
   "source": [
    "## 2. 字典常用操作"
   ]
  },
  {
   "cell_type": "code",
   "execution_count": 1,
   "metadata": {
    "id": "127AAA967B624CB5A1520B26933788B8",
    "jupyter": {},
    "slideshow": {
     "slide_type": "slide"
    },
    "tags": []
   },
   "outputs": [
    {
     "name": "stdout",
     "output_type": "stream",
     "text": [
      "{'Shanghai': 1, 'Jiao': 2, 'Tong': 3, 'University': 4}\n",
      "{'No1': 'Tom', 'No2': 'Jimmy', 'No3': 'Tim'}\n"
     ]
    }
   ],
   "source": [
    "#创建字典\n",
    "a= {}\n",
    "a['Shanghai'] = 1\n",
    "a['Jiao']= 2\n",
    "a['Tong']=3\n",
    "a['University']=4\n",
    "#第二种方式创建\n",
    "b = {\n",
    "'No1': \"Tom\",\n",
    "'No2': \"Jimmy\",\n",
    "'No3': \"Tim\",\n",
    "}\n",
    "print(a)\n",
    "print(b)"
   ]
  },
  {
   "cell_type": "code",
   "execution_count": 2,
   "metadata": {
    "id": "E8766B2B25994FD79F769EEB9E3FF6E8",
    "jupyter": {},
    "slideshow": {
     "slide_type": "slide"
    },
    "tags": []
   },
   "outputs": [
    {
     "data": {
      "text/plain": [
       "4"
      ]
     },
     "execution_count": 2,
     "metadata": {},
     "output_type": "execute_result"
    }
   ],
   "source": [
    "#字典中元素个数\n",
    "len(a)"
   ]
  },
  {
   "cell_type": "code",
   "execution_count": 3,
   "metadata": {
    "id": "5CD478EBFAF6474788153F5F7737B977",
    "jupyter": {},
    "slideshow": {
     "slide_type": "slide"
    },
    "tags": []
   },
   "outputs": [
    {
     "name": "stdout",
     "output_type": "stream",
     "text": [
      "dict_keys(['Shanghai', 'Jiao', 'Tong', 'University'])\n",
      "dict_values([1, 2, 3, 4])\n",
      "dict_items([('Shanghai', 1), ('Jiao', 2), ('Tong', 3), ('University', 4)])\n"
     ]
    }
   ],
   "source": [
    "#取得字典中所有key\n",
    "print(a.keys())\n",
    "#取得字典所有value\n",
    "print(a.values())\n",
    "#取得字典的键值列表，常用于遍历字典中\n",
    "print(a.items())"
   ]
  },
  {
   "cell_type": "code",
   "execution_count": 4,
   "metadata": {
    "id": "21A592813E9447B38273F7663B4FFAC6",
    "jupyter": {},
    "slideshow": {
     "slide_type": "slide"
    },
    "tags": []
   },
   "outputs": [
    {
     "name": "stdout",
     "output_type": "stream",
     "text": [
      "3\n",
      "{'Shanghai': 1, 'Jiao': 2, 'Tong': 8, 'University': 4}\n"
     ]
    }
   ],
   "source": [
    "print(a['Tong']) # 通过key取字典的值\n",
    "a['Tong'] = 8 # 修改键对应的值\n",
    "print(a)"
   ]
  },
  {
   "cell_type": "code",
   "execution_count": 5,
   "metadata": {
    "id": "554CA27CAC084DF899536151C9DC4579",
    "jupyter": {},
    "slideshow": {
     "slide_type": "slide"
    },
    "tags": []
   },
   "outputs": [
    {
     "name": "stdout",
     "output_type": "stream",
     "text": [
      "True\n"
     ]
    }
   ],
   "source": [
    "#判断元素是否在字典中\n",
    "print('Tong' in a)"
   ]
  },
  {
   "cell_type": "code",
   "execution_count": 6,
   "metadata": {
    "id": "052B4ADD846B47AA8C3FF4814B648DE5",
    "jupyter": {},
    "slideshow": {
     "slide_type": "slide"
    },
    "tags": []
   },
   "outputs": [
    {
     "name": "stdout",
     "output_type": "stream",
     "text": [
      "8\n"
     ]
    }
   ],
   "source": [
    "#查找字典中的元素\n",
    "print(a.get('Tong')) # 使用字典的get()方法查找，如果未找到就返回None，有则返回键对应的值。"
   ]
  },
  {
   "cell_type": "code",
   "execution_count": 7,
   "metadata": {
    "id": "C2362CCCB8984A8F86AEB32712721738",
    "jupyter": {},
    "slideshow": {
     "slide_type": "slide"
    },
    "tags": []
   },
   "outputs": [
    {
     "data": {
      "text/plain": [
       "{'Shanghai': 1, 'Jiao': 2, 'University': 4}"
      ]
     },
     "execution_count": 7,
     "metadata": {},
     "output_type": "execute_result"
    }
   ],
   "source": [
    "#删除字典元素\n",
    "a.pop('Tong') # 删除键chongqing对应的值,返回值是被删除的值\n",
    "a"
   ]
  },
  {
   "cell_type": "code",
   "execution_count": 8,
   "metadata": {
    "id": "23754ABDC3C243BD9A774841D9B8F5D6",
    "jupyter": {},
    "slideshow": {
     "slide_type": "slide"
    },
    "tags": []
   },
   "outputs": [
    {
     "name": "stdout",
     "output_type": "stream",
     "text": [
      "Shanghai 1\n",
      "Jiao 2\n",
      "University 4\n"
     ]
    }
   ],
   "source": [
    "# 字典的循环\n",
    "for i in a:\n",
    "    print(i, a[i]) # 循环的是字典的key，当字典很大时，效率比较高"
   ]
  },
  {
   "cell_type": "code",
   "execution_count": 9,
   "metadata": {
    "id": "758647BBF7584C5CA460A64C7A08C53B",
    "jupyter": {},
    "slideshow": {
     "slide_type": "slide"
    },
    "tags": []
   },
   "outputs": [
    {
     "name": "stdout",
     "output_type": "stream",
     "text": [
      "Shanghai 1\n",
      "Jiao 2\n",
      "University 4\n"
     ]
    }
   ],
   "source": [
    "for k,v in a.items():\n",
    "    print(k,v) # 输出的结果与上面的for循环输出的结果相同，字典很大时效率比较低"
   ]
  },
  {
   "cell_type": "code",
   "execution_count": 10,
   "metadata": {
    "id": "A6680BD8F5AE46099104FC6B7A6C81F6",
    "jupyter": {},
    "slideshow": {
     "slide_type": "slide"
    },
    "tags": []
   },
   "outputs": [],
   "source": [
    "#清除字典中所有元素\n",
    "a.clear()"
   ]
  },
  {
   "cell_type": "code",
   "execution_count": 11,
   "metadata": {
    "id": "D1B7DA6035934F518DCC5F5248CB9123",
    "jupyter": {},
    "slideshow": {
     "slide_type": "slide"
    },
    "tags": []
   },
   "outputs": [
    {
     "name": "stdout",
     "output_type": "stream",
     "text": [
      "{}\n"
     ]
    }
   ],
   "source": [
    "print(a)"
   ]
  },
  {
   "cell_type": "markdown",
   "metadata": {
    "id": "600248EEEB1149378CD94DA7C36CBA22",
    "jupyter": {},
    "mdEditEnable": true,
    "slideshow": {
     "slide_type": "slide"
    },
    "tags": []
   },
   "source": [
    "END"
   ]
  }
 ],
 "metadata": {
  "kernelspec": {
   "display_name": "Python 3",
   "language": "python",
   "name": "python3"
  },
  "language_info": {
   "codemirror_mode": {
    "name": "ipython",
    "version": 3
   },
   "file_extension": ".py",
   "mimetype": "text/x-python",
   "name": "python",
   "nbconvert_exporter": "python",
   "pygments_lexer": "ipython3",
   "version": "3.6.5"
  },
  "tianchi_metadata": {
   "competitions": [],
   "datasets": [
    {
     "id": "90788",
     "title": "上交训练营数据集"
    }
   ],
   "description": "",
   "notebookId": "182375",
   "source": "dsw"
  }
 },
 "nbformat": 4,
 "nbformat_minor": 4
}
