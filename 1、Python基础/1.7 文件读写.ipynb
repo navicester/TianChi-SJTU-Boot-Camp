{
 "cells": [
  {
   "cell_type": "markdown",
   "metadata": {
    "id": "4EF1032642444CEF8E8BAD119881630A",
    "jupyter": {},
    "mdEditEnable": true,
    "slideshow": {
     "slide_type": "slide"
    },
    "tags": []
   },
   "source": [
    "# 1.7 文件读写"
   ]
  },
  {
   "cell_type": "markdown",
   "metadata": {
    "id": "F042F6B466644AC38C89213B3200306E",
    "jupyter": {},
    "mdEditEnable": true,
    "slideshow": {
     "slide_type": "slide"
    },
    "tags": []
   },
   "source": [
    "### 在进行实战之前，我们首先要了解一下不同模式打开文件的类型，如下是完整的模式：\n",
    "\n",
    "r: 以只读方式打开文件。文件的指针将会放在文件的开头。这是默认模式。\n",
    "rb: 以二进制格式打开一个文件用于只读。文件指针将会放在文件的开头。这是默认模式。\n",
    "r+: 打开一个文件用于读写。文件指针将会放在文件的开头。\n",
    "rb+:以二进制格式打开一个文件用于读写。文件指针将会放在文件的开头。\n",
    "\n",
    "**w:  打开一个文件只用于写入。如果该文件已存在则将其覆盖。如果该文件不存在，创建新文件。\n",
    "wb:\t以二进制格式打开一个文件只用于写入。如果该文件已存在则将其覆盖。如果该文件不存在，创建新文件。**\n",
    "w+:\t打开一个文件用于读写。如果该文件已存在则将其覆盖。如果该文件不存在，创建新文件。\n",
    "wb+:以二进制格式打开一个文件用于读写。如果该文件已存在则将其覆盖。如果该文件不存在，创建新文件。\n",
    "\n",
    "**a:\t打开一个文件用于追加。如果该文件已存在，文件指针将会放在文件的结尾。也就是说，新的内容将会被写入到已有内容之后。如果该文件不存在，创建新文件进行写入**。\n",
    "ab:\t以二进制格式打开一个文件用于追加。如果该文件已存在，文件指针将会放在文件的结尾。也就是说，新的内容将会被写入到已有内容之后。如果该文件不存在，创建新文件进行写入。\n",
    "a+:\t打开一个文件用于读写。如果该文件已存在，文件指针将会放在文件的结尾。文件打开时会是追加模式。如果该文件不存在，创建新文件用于读写。\n",
    "ab+:以二进制格式打开一个文件用于追加。如果该文件已存在，文件指针将会放在文件的结尾。如果该文件不存在，创建新文件用于读写。\n"
   ]
  },
  {
   "cell_type": "markdown",
   "metadata": {
    "id": "FCB650BB279446E4AC52061DDC4D2E55",
    "jupyter": {},
    "mdEditEnable": false,
    "slideshow": {
     "slide_type": "slide"
    },
    "tags": []
   },
   "source": [
    "1）文件写入"
   ]
  },
  {
   "cell_type": "code",
   "execution_count": 1,
   "metadata": {
    "id": "6859CF1853574FC38FE927EBAE1551C2",
    "jupyter": {},
    "slideshow": {
     "slide_type": "slide"
    },
    "tags": []
   },
   "outputs": [],
   "source": [
    "#文件写入的常规写法：\n",
    "a=open(\"Shanghai_Jiao_1.txt\", \"w\")# 打开一个文件并制定写入模式，如果写入二进制文件，比如图片、视频等等，用'wb'模式打开文件即可\n",
    "a.write(\"Shanghai Jiao Tong University \\n Shanghai Jiao Tong University\"); #写入的内容\n",
    "a.close()# 关闭打开的文件，文件使用完毕后必须关闭，因为文件对象会占用操作系统的资源，并且操作系统同一时间能打开的文件数量也是有限的"
   ]
  },
  {
   "cell_type": "code",
   "execution_count": 2,
   "metadata": {
    "id": "1446AEEF121548DB8489A482D596C107",
    "jupyter": {},
    "slideshow": {
     "slide_type": "slide"
    },
    "tags": []
   },
   "outputs": [],
   "source": [
    "#文件写入的简洁写法(一般我们都是采用这种形式)\n",
    "filenames = 'Shanghai_Jiao_2.txt' #创建文件名\n",
    "with open(filenames,'w') as f: #Python中利用with来帮助我们省去每次都要写close的麻烦\n",
    "    f.write(\"I'm a student of Shanghai Jiao Tong University.\\n\") #文件对象方法write（）将一个字符串写入文件"
   ]
  },
  {
   "cell_type": "markdown",
   "metadata": {
    "id": "52AC12EE221048AA8E569AEB47DF0C2B",
    "jupyter": {},
    "mdEditEnable": false,
    "slideshow": {
     "slide_type": "slide"
    },
    "tags": []
   },
   "source": [
    "2）文件读取"
   ]
  },
  {
   "cell_type": "code",
   "execution_count": 3,
   "metadata": {
    "id": "2EA7581AA37F48038DC1BC498C45B74D",
    "jupyter": {},
    "slideshow": {
     "slide_type": "slide"
    },
    "tags": []
   },
   "outputs": [
    {
     "name": "stdout",
     "output_type": "stream",
     "text": [
      "Shanghai Jiao Tong University \n",
      " Shanghai Jiao Tong University\n"
     ]
    }
   ],
   "source": [
    "#文件读取的常规写法：\n",
    "b=open(\"Shanghai_Jiao_1.txt\", \"r\") #标示符'r'表示读取，如果读取二进制文件，比如图片、视频等等，用'rb'模式打开文件即可\n",
    "content=b.read() #用read方法就把文件读取到内存中,默认读取的是一个string对象\n",
    "print(content)\n",
    "b.close()#关闭打开的文件"
   ]
  },
  {
   "cell_type": "code",
   "execution_count": 4,
   "metadata": {
    "id": "30637CB5C4EF43F78E06E3E72DE90632",
    "jupyter": {},
    "slideshow": {
     "slide_type": "slide"
    },
    "tags": []
   },
   "outputs": [
    {
     "name": "stdout",
     "output_type": "stream",
     "text": [
      "I'm a student of Shanghai Jiao Tong University.\n",
      "\n"
     ]
    }
   ],
   "source": [
    "#相对应的简洁的写法（常用的写法）\n",
    "filenames='Shanghai_Jiao_2.txt' #创建文件名\n",
    "with open(filenames,'r') as f: #同样的利用with来帮助我们省去每次都要写close的麻烦\n",
    "    print(f.read()) #文件对象方法read（）读取一个文件并打印出来"
   ]
  },
  {
   "cell_type": "markdown",
   "metadata": {
    "id": "93F8BFC86195456A89AA38572A1AE18D",
    "jupyter": {},
    "mdEditEnable": false,
    "slideshow": {
     "slide_type": "slide"
    },
    "tags": []
   },
   "source": [
    "调用read只能全部读取文件中的内容，如果文件太大的话用read显然会导致内存溢出，这样的话我们其实可以使用另外一个比较保险的方法read(size),另外用readlines()则是一次性读取并返回list，readline()每次只读取一行，通常比readlines()慢得多。仅当没有足够内存可以一次读取整个文件时，才应该使用.readline()。  "
   ]
  },
  {
   "cell_type": "code",
   "execution_count": 5,
   "metadata": {
    "id": "97114D5056D64375943EFD033FE81261",
    "jupyter": {},
    "slideshow": {
     "slide_type": "slide"
    },
    "tags": []
   },
   "outputs": [
    {
     "name": "stdout",
     "output_type": "stream",
     "text": [
      "Shanghai Jiao Tong University \n",
      "\n",
      " Shanghai Jiao Tong University\n"
     ]
    }
   ],
   "source": [
    "b=\"Shanghai_Jiao_1.txt\"\n",
    "with open(b,'r') as f:\n",
    "    for line in f:\n",
    "        print(line) #对文件内容逐行读取"
   ]
  },
  {
   "cell_type": "code",
   "execution_count": 6,
   "metadata": {
    "id": "07B460FECF054E6D8F9AE02F655A03A8",
    "jupyter": {},
    "slideshow": {
     "slide_type": "slide"
    },
    "tags": []
   },
   "outputs": [
    {
     "name": "stdout",
     "output_type": "stream",
     "text": [
      "Shanghai Jiao Tong University\n",
      "Shanghai Jiao Tong University\n"
     ]
    }
   ],
   "source": [
    "b=\"Shanghai_Jiao_1.txt\"\n",
    "with open(b,'r') as f:\n",
    "    for line in f.readlines(): #一次性读取并返回list\n",
    "        print(line.strip()) # 把末尾的'\\n'删掉"
   ]
  },
  {
   "cell_type": "markdown",
   "metadata": {
    "id": "7FA29CB014B345788F3738A885D985A8",
    "jupyter": {},
    "mdEditEnable": true,
    "notebookId": "60161e1aac79f40016b7e439",
    "slideshow": {
     "slide_type": "slide"
    },
    "tags": []
   },
   "source": [
    "END"
   ]
  }
 ],
 "metadata": {
  "kernelspec": {
   "display_name": "Python 3",
   "language": "python",
   "name": "python3"
  },
  "language_info": {
   "codemirror_mode": {
    "name": "ipython",
    "version": 3
   },
   "file_extension": ".py",
   "mimetype": "text/x-python",
   "name": "python",
   "nbconvert_exporter": "python",
   "pygments_lexer": "ipython3",
   "version": "3.6.5"
  },
  "tianchi_metadata": {
   "competitions": [],
   "datasets": [
    {
     "id": "90788",
     "title": "上交训练营数据集"
    }
   ],
   "description": "",
   "notebookId": "182381",
   "source": "dsw"
  }
 },
 "nbformat": 4,
 "nbformat_minor": 4
}
