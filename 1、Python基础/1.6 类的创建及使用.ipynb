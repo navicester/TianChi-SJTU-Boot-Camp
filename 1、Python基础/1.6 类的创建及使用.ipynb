{
 "cells": [
  {
   "cell_type": "markdown",
   "metadata": {
    "id": "0F61E2C288E649B6A5A35B6398BD6442",
    "jupyter": {},
    "mdEditEnable": true,
    "slideshow": {
     "slide_type": "slide"
    },
    "tags": []
   },
   "source": [
    "# 1.6 类的创建及使用"
   ]
  },
  {
   "cell_type": "markdown",
   "metadata": {
    "id": "F58D922ACE304D0FA78A878696529B37",
    "jupyter": {},
    "mdEditEnable": true,
    "slideshow": {
     "slide_type": "slide"
    },
    "tags": []
   },
   "source": [
    "### 面向对象技术简介\n",
    "类(Class): 用来描述具有相同的属性和方法的对象的集合。它定义了该集合中每个对象所共有的属性和方法。对象是类的实例。\n",
    "- 类变量：类变量在整个实例化的对象中是公用的。类变量定义在类中且在函数体之外。类变量通常不作为实例变量使用。\n",
    "- 数据成员：类变量或者实例变量, 用于处理类及其实例对象的相关的数据。\n",
    "- 方法重写：如果从父类继承的方法不能满足子类的需求，可以对其进行改写，这个过程叫方法的覆盖（override），也称为方法的重写。\n",
    "- 局部变量：定义在方法中的变量，只作用于当前实例的类。\n",
    "- 实例变量：在类的声明中，属性是用变量来表示的。这种变量就称为实例变量，是在类声明的内部但是在类的其他成员方法之外声明的。\n",
    "- 继承：即一个派生类（derived class）继承基类（base class）的字段和方法。继承也允许把一个派生类的对象作为一个基类对象对待。例如，有这样一个设计：一个Dog类型的对象派生自Animal类，这是模拟\"是一个（is-a）\"关系（例图，Dog是一个Animal）。\n",
    "- 实例化：创建一个类的实例，类的具体对象。\n",
    "- 方法：类中定义的函数。\n",
    "- 对象：通过类定义的数据结构实例。对象包括两个数据成员（类变量和实例变量）和方法。"
   ]
  },
  {
   "cell_type": "markdown",
   "metadata": {
    "id": "B24B35EB1EA944DE823EFF1D8B953ED9",
    "jupyter": {},
    "mdEditEnable": true,
    "slideshow": {
     "slide_type": "slide"
    },
    "tags": []
   },
   "source": [
    "## 1. 创建类\n",
    "使用 class 语句来创建一个新类，class 之后为类的名称并以冒号结尾:\n",
    "基本形式：\n",
    "ClassName:\n",
    "\t\tclass_suite  #类体,class_suite 由类成员，方法，数据属性组成"
   ]
  },
  {
   "cell_type": "code",
   "execution_count": 1,
   "metadata": {
    "id": "580DC3096571427D82976DF7AE2DB1B7",
    "jupyter": {},
    "slideshow": {
     "slide_type": "slide"
    },
    "tags": []
   },
   "outputs": [],
   "source": [
    "#类的帮助信息可以通过ClassName.__doc__查看\n",
    "#创建一个基本的学生类\n",
    "class Student:  #定义学生基类\n",
    "   def __init__(self, name, age):  #__init__()方法是一种特殊的方法，被称为类的构造函数或初始化方法\n",
    "      self.name = name             #当创建了这个类的实例时就会调用该方法,self 代表类的实例，self 在定义类的方法时是必须有的，虽然在调用时不必传入相应的参数\n",
    "      self.age = age            \n",
    "      \n",
    " \n",
    "   def printInfo(self):\n",
    "      print( \"Name : \", self.name, \", Age:\", self.age)"
   ]
  },
  {
   "cell_type": "markdown",
   "metadata": {
    "id": "FFDD1E83B5CA485E9D791E4C9557F6A4",
    "jupyter": {},
    "mdEditEnable": true,
    "slideshow": {
     "slide_type": "slide"
    },
    "tags": []
   },
   "source": [
    "## 2. 创建实例对象\n",
    "实例化类其他编程语言中一般用关键字 new，但是在 Python 中并没有这个关键字，类的实例化类似函数调用方式。\n",
    "以下使用类的名称 Student 来实例化，并通过 __init__ 方法接收参数"
   ]
  },
  {
   "cell_type": "code",
   "execution_count": 2,
   "metadata": {
    "id": "28D999861D434D0396B6D2B08CF895AD",
    "jupyter": {},
    "slideshow": {
     "slide_type": "slide"
    },
    "tags": []
   },
   "outputs": [],
   "source": [
    "\"创建 Employee 类的第一个对象\"\n",
    "stu1 = Student(\"Tom\", 21)"
   ]
  },
  {
   "cell_type": "markdown",
   "metadata": {
    "id": "0C63A2BAE2AF41029CC8ADC289B855E5",
    "jupyter": {},
    "mdEditEnable": true,
    "slideshow": {
     "slide_type": "slide"
    },
    "tags": []
   },
   "source": [
    "## 2.1 访问属性\n",
    "可以使用点号 . 来访问对象的属性。使用如下类的名称访问类变量"
   ]
  },
  {
   "cell_type": "code",
   "execution_count": 3,
   "metadata": {
    "id": "3DA0A324520B4A9C812FF07C5059CD1C",
    "jupyter": {},
    "slideshow": {
     "slide_type": "slide"
    },
    "tags": []
   },
   "outputs": [
    {
     "name": "stdout",
     "output_type": "stream",
     "text": [
      "Name :  Tom , Age: 21\n"
     ]
    }
   ],
   "source": [
    "stu1.printInfo()"
   ]
  },
  {
   "cell_type": "markdown",
   "metadata": {
    "id": "DFA522A5DDCB45648D9A9AE1925646DF",
    "jupyter": {},
    "mdEditEnable": true,
    "slideshow": {
     "slide_type": "slide"
    },
    "tags": []
   },
   "source": [
    "## 2.2 添加，删除，修改类的属性"
   ]
  },
  {
   "cell_type": "code",
   "execution_count": 4,
   "metadata": {
    "id": "877C51E5BAED4FBF86F7527DE0231B56",
    "jupyter": {},
    "slideshow": {
     "slide_type": "slide"
    },
    "tags": []
   },
   "outputs": [
    {
     "name": "stdout",
     "output_type": "stream",
     "text": [
      "81\n"
     ]
    }
   ],
   "source": [
    "stu1.score = 71  # 添加一个 'score' 属性\n",
    "stu1.score = 81  # 修改 'score' 属性\n",
    "print(stu1.score)\n",
    "del stu1.score  # 删除 'score' 属性"
   ]
  },
  {
   "cell_type": "markdown",
   "metadata": {
    "id": "8769C4EDB3A942ABBB7557DA467E990B",
    "jupyter": {},
    "mdEditEnable": true,
    "slideshow": {
     "slide_type": "slide"
    },
    "tags": []
   },
   "source": [
    "## 2.3 Python内置类属性\n",
    "```\n",
    "\t\t__dict__ : 类的属性（包含一个字典，由类的数据属性组成）\n",
    "\t\t__doc__ :类的文档字符串\n",
    "\t\t__name__: 类名\n",
    "\t\t__module__: 类定义所在的模块（类的全名是'__main__.className'，如果类位于一个导入模块mymod中，那么className.__module__ 等于 mymod）\n",
    "\t\t__bases__ : 类的所有父类构成元素（包含了一个由所有父类组成的元组）\n",
    "```"
   ]
  },
  {
   "cell_type": "code",
   "execution_count": 5,
   "metadata": {
    "id": "C13CB3730B5B4B7F8AA8D8CF6228CBA4",
    "jupyter": {},
    "slideshow": {
     "slide_type": "slide"
    },
    "tags": []
   },
   "outputs": [
    {
     "name": "stdout",
     "output_type": "stream",
     "text": [
      "Student.__doc__: None\n",
      "Student.__name__: Student\n",
      "Student.__module__: __main__\n",
      "Student.__bases__: (<class 'object'>,)\n",
      "Student.__dict__: {'__module__': '__main__', '__init__': <function Student.__init__ at 0x7f125036c950>, 'printInfo': <function Student.printInfo at 0x7f125036cbf8>, '__dict__': <attribute '__dict__' of 'Student' objects>, '__weakref__': <attribute '__weakref__' of 'Student' objects>, '__doc__': None}\n"
     ]
    }
   ],
   "source": [
    "print(\"Student.__doc__:\", Student.__doc__) \n",
    "print(\"Student.__name__:\", Student.__name__)\n",
    "print (\"Student.__module__:\", Student.__module__)\n",
    "print (\"Student.__bases__:\", Student.__bases__)\n",
    "print (\"Student.__dict__:\", Student.__dict__)"
   ]
  },
  {
   "cell_type": "markdown",
   "metadata": {
    "id": "6A84DB514E27417495FD4BD6ED013FE3",
    "jupyter": {},
    "mdEditEnable": true,
    "slideshow": {
     "slide_type": "slide"
    },
    "tags": []
   },
   "source": [
    "## 2.4 类的继承\n",
    "面向对象的编程带来的主要好处之一是代码的重用，实现这种重用的方法之一是通过继承机制。\n",
    "通过继承创建的新类称为子类或派生类，被继承的类称为基类、父类或超类\n",
    "在python中继承中的一些特点：\n",
    "1、如果在子类中需要父类的构造方法就需要显示的调用父类的构造方法，或者不重写父类的构造方法。详细说明可查看：python 子类继承父类构造函数说明。\n",
    "2、在调用基类的方法时，需要加上基类的类名前缀，且需要带上 self 参数变量。区别在于类中调用普通函数时并不需要带上 self 参数\n",
    "3、Python 总是首先查找对应类型的方法，如果它不能在派生类中找到对应的方法，它才开始到基类中逐个查找。（先在本类中查找调用的方法，找不到才去基类中找）。"
   ]
  },
  {
   "cell_type": "markdown",
   "metadata": {
    "id": "E1B6409569B34332859E054D9006EBAA",
    "jupyter": {},
    "mdEditEnable": false,
    "slideshow": {
     "slide_type": "slide"
    },
    "tags": []
   },
   "source": [
    "> \n",
    "class 派生类名(基类名)\n",
    "    ...\n",
    "> \n",
    "\n"
   ]
  },
  {
   "cell_type": "code",
   "execution_count": 6,
   "metadata": {
    "id": "9A57A8EBC6504711B4497685362508D7",
    "jupyter": {},
    "slideshow": {
     "slide_type": "slide"
    },
    "tags": []
   },
   "outputs": [
    {
     "name": "stdout",
     "output_type": "stream",
     "text": [
      "调用子类构造方法\n",
      "调用子类方法\n",
      "调用父类方法\n",
      "父类属性 : 100\n"
     ]
    }
   ],
   "source": [
    "class Parent:        # 定义父类\n",
    "   parentVal = 123\n",
    "   def __init__(self):\n",
    "      print ('调用父类构造函数')\n",
    " \n",
    "   def parentMethod(self):\n",
    "      print ('调用父类方法')\n",
    " \n",
    "   def setVal(self, val):\n",
    "      Parent.parentVal = val\n",
    " \n",
    "   def getVal(self):\n",
    "      print ('父类属性 :', Parent.parentVal)\n",
    " \n",
    "class Child(Parent): # 定义子类\n",
    "   def __init__(self):\n",
    "      print ('调用子类构造方法')\n",
    " \n",
    "   def childMethod(self):\n",
    "      print ('调用子类方法')\n",
    " \n",
    "c = Child()          # 实例化子类\n",
    "c.childMethod()      # 调用子类的方法\n",
    "c.parentMethod()     # 调用父类方法\n",
    "c.setVal(100)       # 再次调用父类的方法 - 设置属性值\n",
    "c.getVal()          # 再次调用父类的方法 - 获取属性值"
   ]
  },
  {
   "cell_type": "markdown",
   "metadata": {
    "id": "0AD1CBE2F4EA4C83BCDFCD28502140FF",
    "jupyter": {},
    "mdEditEnable": true,
    "slideshow": {
     "slide_type": "slide"
    },
    "tags": []
   },
   "source": [
    "## 2.5 方法重写\n",
    "如果父类方法的功能不能满足你的需求，可以在子类重写父类的方法"
   ]
  },
  {
   "cell_type": "code",
   "execution_count": 7,
   "metadata": {
    "id": "D6B748785A4241A5AAF5A753F5133211",
    "jupyter": {},
    "slideshow": {
     "slide_type": "slide"
    },
    "tags": []
   },
   "outputs": [
    {
     "name": "stdout",
     "output_type": "stream",
     "text": [
      "调用子类方法\n"
     ]
    }
   ],
   "source": [
    "class Parent:        # 定义父类\n",
    "   def Method(self):\n",
    "      print ('调用父类方法')\n",
    " \n",
    "class Child(Parent): # 定义子类\n",
    "   def Method(self):\n",
    "      print('调用子类方法') \n",
    " \n",
    "c = Child()          # 子类实例\n",
    "c.Method()         # 子类调用重写方法"
   ]
  },
  {
   "cell_type": "markdown",
   "metadata": {
    "id": "2CF12D5599AD4380A5FD5E2271990E19",
    "jupyter": {},
    "mdEditEnable": true,
    "slideshow": {
     "slide_type": "slide"
    },
    "tags": []
   },
   "source": [
    "## 3. 类属性与方法\n",
    "### 类的私有属性\n",
    "```\n",
    "__private_attrs：两个下划线开头，声明该属性为私有，不能在类的外部被使用或直接访问。在类内部的方法中使用时 self.__private_attrs。\n",
    "```\n",
    "### 类的方法\n",
    "```\n",
    "在类的内部，使用 def 关键字可以为类定义一个方法，与一般函数定义不同，类方法必须包含参数 self,且为第一个参数\n",
    "```\n",
    "### 类的私有方法\n",
    "```\n",
    "__private_method：两个下划线开头，声明该方法为私有方法，不能在类的外部调用。在类的内部调用 self.__private_methods\n",
    "```"
   ]
  },
  {
   "cell_type": "code",
   "execution_count": 8,
   "metadata": {
    "id": "C2CFAC63328E40F680639F2DEBA6BEF6",
    "jupyter": {},
    "slideshow": {
     "slide_type": "slide"
    },
    "tags": []
   },
   "outputs": [
    {
     "ename": "SyntaxError",
     "evalue": "Missing parentheses in call to 'print'. Did you mean print(counter.__secretCount  # 报错，实例不能访问私有变量)? (<ipython-input-8-3244e0e2ee41>, line 14)",
     "output_type": "error",
     "traceback": [
      "\u001b[0;36m  File \u001b[0;32m\"<ipython-input-8-3244e0e2ee41>\"\u001b[0;36m, line \u001b[0;32m14\u001b[0m\n\u001b[0;31m    print counter.__secretCount  # 报错，实例不能访问私有变量\u001b[0m\n\u001b[0m                ^\u001b[0m\n\u001b[0;31mSyntaxError\u001b[0m\u001b[0;31m:\u001b[0m Missing parentheses in call to 'print'. Did you mean print(counter.__secretCount  # 报错，实例不能访问私有变量)?\n"
     ]
    }
   ],
   "source": [
    "class JustCounter:\n",
    "    __secretCount = 0  # 私有变量\n",
    "    publicCount = 0    # 公开变量\n",
    " \n",
    "    def count(self):\n",
    "        self.__secretCount += 1\n",
    "        self.publicCount += 1\n",
    "        print (self.__secretCount)\n",
    " \n",
    "counter = JustCounter()\n",
    "counter.count()\n",
    "counter.count()\n",
    "print (counter.publicCount)\n",
    "print counter.__secretCount  # 报错，实例不能访问私有变量"
   ]
  },
  {
   "cell_type": "markdown",
   "metadata": {
    "id": "62151260C5FC4BB18222B1502E02925E",
    "jupyter": {},
    "mdEditEnable": true,
    "slideshow": {
     "slide_type": "slide"
    },
    "tags": []
   },
   "source": [
    "补充：\n",
    "### 单下划线、双下划线、头尾双下划线说明\n",
    "```\n",
    "__foo__: 定义的是特殊方法，一般是系统定义名字 ，类似 __init__() 之类的。\n",
    "\n",
    "_foo: 以单下划线开头的表示的是 protected 类型的变量，即保护类型只能允许其本身与子类进行访问，不能用于 from module import *\n",
    "\n",
    "__foo: 双下划线的表示的是私有类型(private)的变量, 只能是允许这个类本身进行访问了。\n",
    "```\n"
   ]
  },
  {
   "cell_type": "markdown",
   "metadata": {
    "id": "2F71C11AEADE40DD8ED7881FD8A9C720",
    "jupyter": {},
    "mdEditEnable": true,
    "notebookId": "60161830ac79f40016b7c219",
    "slideshow": {
     "slide_type": "slide"
    },
    "tags": []
   },
   "source": [
    "END"
   ]
  }
 ],
 "metadata": {
  "kernelspec": {
   "display_name": "Python 3",
   "language": "python",
   "name": "python3"
  },
  "language_info": {
   "codemirror_mode": {
    "name": "ipython",
    "version": 3
   },
   "file_extension": ".py",
   "mimetype": "text/x-python",
   "name": "python",
   "nbconvert_exporter": "python",
   "pygments_lexer": "ipython3",
   "version": "3.6.5"
  },
  "tianchi_metadata": {
   "competitions": [],
   "datasets": [
    {
     "id": "90788",
     "title": "上交训练营数据集"
    }
   ],
   "description": "",
   "notebookId": "182379",
   "source": "dsw"
  }
 },
 "nbformat": 4,
 "nbformat_minor": 4
}
