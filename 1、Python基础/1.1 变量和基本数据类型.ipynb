{
 "cells": [
  {
   "cell_type": "markdown",
   "metadata": {
    "id": "E27B0EF6DA9A46DE8C5F4340E2254687",
    "jupyter": {},
    "mdEditEnable": true,
    "slideshow": {
     "slide_type": "slide"
    },
    "tags": []
   },
   "source": [
    "# 1.1 变量和基本数据类型"
   ]
  },
  {
   "cell_type": "markdown",
   "metadata": {
    "id": "4562D1300ECC4BDB8A378E4FDECC02B9",
    "jupyter": {},
    "mdEditEnable": true,
    "slideshow": {
     "slide_type": "slide"
    },
    "tags": []
   },
   "source": [
    "## 引言： \n",
    "#### Python是现在最热门，最实用的编程语言，也是一种解释型、面向对象、动态数据类型的高级程序设计语言（本次课程所有的教学都是基于Python3）\n",
    "\n",
    "**推荐学习资料：**\n",
    "第一个推荐的当然是Python3的官方文档（以3.7版本为例）：https://docs.python.org/zh-cn/3.7/\n"
   ]
  },
  {
   "cell_type": "markdown",
   "metadata": {
    "id": "F32EE446A97641C089404A722D0C6A8D",
    "jupyter": {},
    "mdEditEnable": true,
    "slideshow": {
     "slide_type": "slide"
    },
    "tags": []
   },
   "source": [
    "## 1. Python中变量\n",
    "- 每个变量都是在内存中被创建\n",
    "- 在python中，变量赋值就是一个“打标签”的过程，不需要声明任何数据类型\n",
    "- 每个变量在使用前都必须赋值，变量赋值以后该变量才会被创建，一般利用“=”来进行赋值操作\n",
    "- 多个变量可以同时赋值"
   ]
  },
  {
   "cell_type": "markdown",
   "metadata": {
    "id": "061A437A6BEE44F6B307382793096D14",
    "jupyter": {},
    "mdEditEnable": true,
    "slideshow": {
     "slide_type": "slide"
    },
    "tags": []
   },
   "source": [
    "## 1.1 变量的定义规范\n",
    "- 变量只能由数字，字母，下划线任意组合。\n",
    "- 不能以数字开头。\n",
    "- 不能是python中的关键字。比如下面的关键字\n",
    "['and', 'as', 'assert', 'break', 'class', 'continue',\n",
    " 'def', 'del', 'elif', 'else', 'except', 'exec']\n",
    "- 变量要有描述性。name = 'Roy'\n",
    "- 变量不能使用中文。\n",
    "- 变量不能过长。错误的例子：ssssssssssss = 'Financial'\n",
    "- 官方推荐使用：\n",
    "1.驼峰体(SchoolName='Financial') \n",
    "2.下划线(school_name='Financial')"
   ]
  },
  {
   "cell_type": "code",
   "execution_count": 1,
   "metadata": {
    "id": "5E8B02F6B2F44726B1FF9BC2B783E6B1",
    "jupyter": {},
    "slideshow": {
     "slide_type": "slide"
    },
    "tags": []
   },
   "outputs": [
    {
     "name": "stdout",
     "output_type": "stream",
     "text": [
      "a=11\n",
      "b=22.2\n",
      "c=Shanghai Jiao Tong University Financial data analysis\n",
      "True\n"
     ]
    }
   ],
   "source": [
    "#对变量进行单一赋值\n",
    "a=11\n",
    "b=22.2\n",
    "c='Shanghai Jiao Tong University Financial data analysis'\n",
    "d=True\n",
    "print('a=%d'%a) # 输出整数\n",
    "print('b=%.1f'%b) # 输出小数，且保留一位小数\n",
    "print('c=%s'%c) # 输出字符串\n",
    "print(d)"
   ]
  },
  {
   "cell_type": "code",
   "execution_count": 2,
   "metadata": {
    "id": "B5A981CD8ABC4BF29A7AD2A01BC09D23",
    "jupyter": {},
    "slideshow": {
     "slide_type": "slide"
    },
    "tags": []
   },
   "outputs": [
    {
     "name": "stdout",
     "output_type": "stream",
     "text": [
      "1\n",
      "1\n",
      "1\n"
     ]
    }
   ],
   "source": [
    "#多个变量进行赋值\n",
    "a=b=c=1\n",
    "print(a)\n",
    "print(b)\n",
    "print(c)"
   ]
  },
  {
   "cell_type": "code",
   "execution_count": 3,
   "metadata": {
    "id": "097924AED82348C0932C950C87FC156C",
    "jupyter": {},
    "slideshow": {
     "slide_type": "slide"
    },
    "tags": []
   },
   "outputs": [
    {
     "name": "stdout",
     "output_type": "stream",
     "text": [
      "1\n",
      "1\n",
      "Shanghai Jiao Tong University Financial data analysis\n"
     ]
    }
   ],
   "source": [
    "#多变量赋值的另外一种形式\n",
    "a, b, c = 1, 1, 'Shanghai Jiao Tong University Financial data analysis'\n",
    "print(a)\n",
    "print(b)\n",
    "print(c)"
   ]
  },
  {
   "cell_type": "markdown",
   "metadata": {
    "id": "19CCDCB7A7C1402090DA8FDDFF233251",
    "jupyter": {},
    "mdEditEnable": true,
    "slideshow": {
     "slide_type": "slide"
    },
    "tags": []
   },
   "source": [
    "## 2. Python中变量和基本数据类型\n",
    "- 数值（Number）。数据类型用于存储数值,在python3中包括整型、浮点型、复数、布尔型等。\n",
    "- 字符串（String）。字符串是由数字、字母、下划线组成的一串字符。\n",
    "- 列表（List）。列表用[]标识，是python最常用的也是最通用的复合数据类型。\n",
    "- 元组（Tuple）。元组用()标识，类似于列表，其中最大的区别就是元组不能二次赋值，相当与只读列表。\n",
    "- 集合（Set）。集合可以使用{}和set()来标识，但是注意创建空集合必须用set()来表示,set()中的元素还可以进行集合运算。\n",
    "- 字典（Dictionary）。字典用{ }标识，由索引(key)和它对应的值value组成字典是无序对象集合。字典的形式非常的灵活，比如字典中的键可以对应多个值。\n",
    "\n",
    "其中**列表，元组和字典**属于集合类型。\n",
    "同时**数值，字符串，元组**属于不可变数据类型，**列表，字典和集合**属于可变数据类型。\n"
   ]
  },
  {
   "cell_type": "markdown",
   "metadata": {
    "id": "BE27BEA6BCD842E9B97CFB7CF08D88C6",
    "jupyter": {},
    "mdEditEnable": true,
    "slideshow": {
     "slide_type": "slide"
    },
    "tags": []
   },
   "source": [
    "## 2.1 数值"
   ]
  },
  {
   "cell_type": "code",
   "execution_count": 4,
   "metadata": {
    "id": "DB778A953715422984ECBF7D7BF84ECA",
    "jupyter": {},
    "mdEditEnable": false,
    "slideshow": {
     "slide_type": "slide"
    },
    "tags": []
   },
   "outputs": [
    {
     "name": "stdout",
     "output_type": "stream",
     "text": [
      "<class 'int'> <class 'float'> <class 'bool'> <class 'complex'>\n"
     ]
    }
   ],
   "source": [
    "#Python3 支持 int、float、bool、complex（复数）\n",
    "a, b, c, d = 14, 9.14, True, 4+5j\n",
    "print(type(a), type(b), type(c), type(d))"
   ]
  },
  {
   "cell_type": "code",
   "execution_count": 5,
   "metadata": {
    "id": "BE7EA9433F6D48CC9D636DC287BF8C71",
    "jupyter": {},
    "slideshow": {
     "slide_type": "slide"
    },
    "tags": []
   },
   "outputs": [
    {
     "data": {
      "text/plain": [
       "7"
      ]
     },
     "execution_count": 5,
     "metadata": {},
     "output_type": "execute_result"
    }
   ],
   "source": [
    "5+2 #加法运算"
   ]
  },
  {
   "cell_type": "code",
   "execution_count": 6,
   "metadata": {
    "id": "49185ADDF5E940108E7F0ACC19E61465",
    "jupyter": {},
    "slideshow": {
     "slide_type": "slide"
    },
    "tags": []
   },
   "outputs": [
    {
     "data": {
      "text/plain": [
       "1"
      ]
     },
     "execution_count": 6,
     "metadata": {},
     "output_type": "execute_result"
    }
   ],
   "source": [
    "4-3 #减法运算"
   ]
  },
  {
   "cell_type": "code",
   "execution_count": 7,
   "metadata": {
    "id": "5556C0E29D9D430F88D2213F2639AE80",
    "jupyter": {},
    "slideshow": {
     "slide_type": "slide"
    },
    "tags": []
   },
   "outputs": [
    {
     "data": {
      "text/plain": [
       "12"
      ]
     },
     "execution_count": 7,
     "metadata": {},
     "output_type": "execute_result"
    }
   ],
   "source": [
    "3*4 #乘法运算"
   ]
  },
  {
   "cell_type": "code",
   "execution_count": 8,
   "metadata": {
    "id": "5F06651A98414C68A235AE1C5CCDA398",
    "jupyter": {},
    "slideshow": {
     "slide_type": "slide"
    },
    "tags": []
   },
   "outputs": [
    {
     "data": {
      "text/plain": [
       "1.3333333333333333"
      ]
     },
     "execution_count": 8,
     "metadata": {},
     "output_type": "execute_result"
    }
   ],
   "source": [
    "4/3 #除法运算，输出浮点数（python2中取整）"
   ]
  },
  {
   "cell_type": "code",
   "execution_count": 10,
   "metadata": {
    "id": "2360AE4BCE404F9DB43E6160D60D04A7",
    "jupyter": {},
    "slideshow": {
     "slide_type": "slide"
    },
    "tags": []
   },
   "outputs": [
    {
     "data": {
      "text/plain": [
       "2"
      ]
     },
     "execution_count": 10,
     "metadata": {},
     "output_type": "execute_result"
    }
   ],
   "source": [
    "5//2 #除法运算，输出整数部分"
   ]
  },
  {
   "cell_type": "code",
   "execution_count": 11,
   "metadata": {
    "id": "8A1CBBCB3BFA48628A7A9B5CDE8AB465",
    "jupyter": {},
    "slideshow": {
     "slide_type": "slide"
    },
    "tags": []
   },
   "outputs": [
    {
     "data": {
      "text/plain": [
       "216"
      ]
     },
     "execution_count": 11,
     "metadata": {},
     "output_type": "execute_result"
    }
   ],
   "source": [
    "6**3  #乘方运算"
   ]
  },
  {
   "cell_type": "code",
   "execution_count": 12,
   "metadata": {
    "id": "B50FCD82C6244F1D8E5FD7BCD92A0D49",
    "jupyter": {},
    "slideshow": {
     "slide_type": "slide"
    },
    "tags": []
   },
   "outputs": [
    {
     "data": {
      "text/plain": [
       "3"
      ]
     },
     "execution_count": 12,
     "metadata": {},
     "output_type": "execute_result"
    }
   ],
   "source": [
    "7%4  #取余预算"
   ]
  },
  {
   "cell_type": "markdown",
   "metadata": {
    "id": "656B6C565A504D08BBB1F35D7A449E02",
    "jupyter": {},
    "mdEditEnable": true,
    "slideshow": {
     "slide_type": "slide"
    },
    "tags": []
   },
   "source": [
    "## 2.2 字符串"
   ]
  },
  {
   "cell_type": "code",
   "execution_count": 13,
   "metadata": {
    "id": "EEA0FDB0063C4CA597566C0E048EFF2A",
    "jupyter": {},
    "slideshow": {
     "slide_type": "slide"
    },
    "tags": []
   },
   "outputs": [
    {
     "name": "stdout",
     "output_type": "stream",
     "text": [
      "Shanghai Jiao Tong University Financial data analysis\n"
     ]
    }
   ],
   "source": [
    "s = 'Shanghai Jiao Tong University Financial data analysis'\n",
    "print(s)"
   ]
  },
  {
   "cell_type": "markdown",
   "metadata": {
    "id": "F90DB51186CF4834AD6E7F63FDDC2E1A",
    "jupyter": {},
    "mdEditEnable": false,
    "slideshow": {
     "slide_type": "slide"
    },
    "tags": []
   },
   "source": [
    "- 字符串还可以进行切片操作，方便提取想要的字符\n",
    "- 规则是[头下标:尾下标] 获取的子字符串包含头下标的字符，但不包含尾下标的字符"
   ]
  },
  {
   "cell_type": "code",
   "execution_count": 14,
   "metadata": {
    "id": "AD3670F773B34A61BACE86290D9F960F",
    "jupyter": {},
    "slideshow": {
     "slide_type": "slide"
    },
    "tags": []
   },
   "outputs": [
    {
     "name": "stdout",
     "output_type": "stream",
     "text": [
      "Shangh\n"
     ]
    }
   ],
   "source": [
    "#比如取字符串的Shangh\n",
    "print(s[0:6])"
   ]
  },
  {
   "cell_type": "markdown",
   "metadata": {
    "id": "F3EFDB83A63D43F99015A8BEDD564638",
    "jupyter": {},
    "mdEditEnable": true,
    "slideshow": {
     "slide_type": "slide"
    },
    "tags": []
   },
   "source": [
    "## 2.3 列表"
   ]
  },
  {
   "cell_type": "code",
   "execution_count": 15,
   "metadata": {
    "id": "81CAE9EA9D7F46038C279ED39035B528",
    "jupyter": {},
    "slideshow": {
     "slide_type": "slide"
    },
    "tags": []
   },
   "outputs": [
    {
     "name": "stdout",
     "output_type": "stream",
     "text": [
      "Shanghai 2020\n",
      "[9.14, 'Jiao', 'Tong', 2015, 2020]\n",
      "['Shanghai', 9.14, 'Jiao', 'Tong']\n"
     ]
    }
   ],
   "source": [
    "# 索引值以 0 为开始值，-1 为从末尾的开始位置\n",
    "test_list = [ 'Shanghai',  9.14, 'Jiao', 'Tong', 2015 ,2020 ]\n",
    "print(test_list[0],test_list[-1]) #第一个元素和最后一个元素\n",
    "print(test_list[1:])  #第二个元素到最后一个元素\n",
    "print(test_list[:4]) #第一个到第四个元素"
   ]
  },
  {
   "cell_type": "markdown",
   "metadata": {
    "id": "9D1F2188820E4044A79E2B47035526B2",
    "jupyter": {},
    "mdEditEnable": true,
    "slideshow": {
     "slide_type": "slide"
    },
    "tags": []
   },
   "source": [
    "## 2.4 元组"
   ]
  },
  {
   "cell_type": "code",
   "execution_count": 16,
   "metadata": {
    "id": "46788080687D49A0AE5388F9BD18ED1A",
    "jupyter": {},
    "slideshow": {
     "slide_type": "slide"
    },
    "tags": []
   },
   "outputs": [
    {
     "name": "stdout",
     "output_type": "stream",
     "text": [
      "Shanghai 2020\n",
      "(9.14, 'Jiao', 'Tong', 2015, 2020)\n",
      "('Shanghai', 9.14, 'Jiao')\n"
     ]
    }
   ],
   "source": [
    "test_tuple = ('Shanghai',  9.14, 'Jiao', 'Tong', 2015 ,2020)\n",
    "print(test_tuple[0],test_tuple[-1]) #第一个元素和最后一个元素\n",
    "print(test_tuple[1:])  #第二个元素到最后一个元素\n",
    "print(test_tuple[:3]) #第一个到第三个元素"
   ]
  },
  {
   "cell_type": "markdown",
   "metadata": {
    "id": "7ADED09B8405460196B03DD94E4F148F",
    "jupyter": {},
    "mdEditEnable": true,
    "slideshow": {
     "slide_type": "slide"
    },
    "tags": []
   },
   "source": [
    "## 2.5 集合"
   ]
  },
  {
   "cell_type": "code",
   "execution_count": 17,
   "metadata": {},
   "outputs": [
    {
     "name": "stdout",
     "output_type": "stream",
     "text": [
      "{'Jiao', 2020, 9.14, 'Tong', 'Shanghai', 2015}\n"
     ]
    }
   ],
   "source": [
    "test_set = {'Shanghai', 'Jiao', 9.14, 'Tong', 'Tong',2015 ,2020}  #去掉重复的元素\n",
    "print(test_set)"
   ]
  },
  {
   "cell_type": "code",
   "execution_count": 18,
   "metadata": {
    "id": "DDFC60524F3445E19082BAE1BA9B6A9E",
    "jupyter": {},
    "slideshow": {
     "slide_type": "slide"
    },
    "tags": []
   },
   "outputs": [
    {
     "name": "stdout",
     "output_type": "stream",
     "text": [
      "{'n', 'i', 'g', 'h', 'S', 'a'}\n",
      "{'a', 'o', 'i', 'J'}\n",
      "{'h', 'n', 'S', 'g'}\n",
      "{'J', 'n', 'i', 'h', 'g', 'S', 'o', 'a'}\n",
      "{'i', 'a'}\n",
      "{'J', 'n', 'g', 'h', 'S', 'o'}\n"
     ]
    }
   ],
   "source": [
    "#集合运算\n",
    "a = set('Shanghai')\n",
    "b = set('Jiao')\n",
    "print(a) #去掉重复的字母\n",
    "print(b) \n",
    "print(a - b)     # a 和 b 的差集\n",
    "print(a | b)     # a 和 b 的并集\n",
    "print(a & b)     # a 和 b 的交集\n",
    "print(a ^ b)     # a 和 b 中不同时存在的元素"
   ]
  },
  {
   "cell_type": "markdown",
   "metadata": {
    "id": "997B76BB0AFA410C8AB3308DAD546D0F",
    "jupyter": {},
    "mdEditEnable": true,
    "slideshow": {
     "slide_type": "slide"
    },
    "tags": []
   },
   "source": [
    "## 2.6 字典"
   ]
  },
  {
   "cell_type": "code",
   "execution_count": 19,
   "metadata": {
    "id": "611CA0B92FD046E5A5F3E3851BEF0748",
    "jupyter": {},
    "slideshow": {
     "slide_type": "slide"
    },
    "tags": []
   },
   "outputs": [
    {
     "name": "stdout",
     "output_type": "stream",
     "text": [
      "{'Shanghai': 1, 'Jiao': 2}\n"
     ]
    }
   ],
   "source": [
    "#创建字典\n",
    "dict = {}\n",
    "dict['Shanghai'] = 1\n",
    "dict['Jiao']= 2\n",
    "print(dict)"
   ]
  },
  {
   "cell_type": "code",
   "execution_count": 20,
   "metadata": {
    "id": "4197CE8077ED4ECDB3EE47D44AFBBE66",
    "jupyter": {},
    "slideshow": {
     "slide_type": "slide"
    },
    "tags": []
   },
   "outputs": [
    {
     "name": "stdout",
     "output_type": "stream",
     "text": [
      "{'Shanghai': [1, 2, 3], 'Jiao': [3, 4], 'Tong': [5, 6]}\n",
      "{'Shanghai': {1, 2}, 'Jiao': {1, 3, 4}, 'Tong': {5, 6}}\n"
     ]
    }
   ],
   "source": [
    "#创建一个key对应多个值映射\n",
    "dict1={'Shanghai':[1,2,3],\n",
    "        'Jiao':[3,4],\n",
    "        'Tong':[5,6]}\n",
    "dict2={'Shanghai':{1,2},\n",
    "        'Jiao':{1,3,4},\n",
    "        'Tong':{5,6}}\n",
    "print(dict1)\n",
    "print(dict2)"
   ]
  },
  {
   "cell_type": "code",
   "execution_count": 21,
   "metadata": {
    "id": "DB87AC89958F48F0B0D160DA93CC1EAE",
    "jupyter": {},
    "slideshow": {
     "slide_type": "slide"
    },
    "tags": []
   },
   "outputs": [
    {
     "name": "stdout",
     "output_type": "stream",
     "text": [
      "Shanghai\n",
      "Jiao\n"
     ]
    }
   ],
   "source": [
    "#遍历字典的元素\n",
    "for item in dict:\n",
    "    print(item)  #仅仅遍历到了key值"
   ]
  },
  {
   "cell_type": "code",
   "execution_count": 22,
   "metadata": {
    "id": "C758388C56664F6E8AF8DD50E6AA55D7",
    "jupyter": {},
    "slideshow": {
     "slide_type": "slide"
    },
    "tags": []
   },
   "outputs": [
    {
     "name": "stdout",
     "output_type": "stream",
     "text": [
      "('Shanghai', 1)\n",
      "('Jiao', 2)\n"
     ]
    }
   ],
   "source": [
    "for item in dict.items():\n",
    "    print(item)  #遍历到了每个key和相对应的value"
   ]
  },
  {
   "cell_type": "code",
   "execution_count": 23,
   "metadata": {
    "id": "EF0EA2C8206D4D78BF50EE5D92721553",
    "jupyter": {},
    "slideshow": {
     "slide_type": "slide"
    },
    "tags": []
   },
   "outputs": [
    {
     "name": "stdout",
     "output_type": "stream",
     "text": [
      "1\n",
      "2\n"
     ]
    }
   ],
   "source": [
    "for item in dict.values():\n",
    "    print(item)  #遍历到每个元素的value"
   ]
  },
  {
   "cell_type": "code",
   "execution_count": 24,
   "metadata": {
    "id": "7AD708943C7243C38EF1BA1658AFB9E8",
    "jupyter": {},
    "slideshow": {
     "slide_type": "slide"
    },
    "tags": []
   },
   "outputs": [
    {
     "name": "stdout",
     "output_type": "stream",
     "text": [
      "[('a', 914), ('c', 2015), ('b', 2020)]\n"
     ]
    }
   ],
   "source": [
    "#对字典中的元素按照value进行排序\n",
    "dict={'a':914,'c':2015,'b':2020}\n",
    "dict=sorted(dict.items(),key=lambda x:x[1]) \n",
    "print(dict)"
   ]
  },
  {
   "cell_type": "code",
   "execution_count": 25,
   "metadata": {
    "id": "48BD5D386E1D4C2E896EB57D80BD5192",
    "jupyter": {},
    "slideshow": {
     "slide_type": "slide"
    },
    "tags": []
   },
   "outputs": [
    {
     "name": "stdout",
     "output_type": "stream",
     "text": [
      "[('a', 914), ('b', 2020), ('c', 2015)]\n"
     ]
    }
   ],
   "source": [
    "#对字典中的元素按照key进行排序\n",
    "dict={'a':914,'c':2015,'b':2020}\n",
    "dict=sorted(dict.items(),key=lambda x:x[0]) \n",
    "print(dict)"
   ]
  },
  {
   "cell_type": "markdown",
   "metadata": {
    "id": "2764F7281C7449A49AF390270FE3E96F",
    "jupyter": {},
    "mdEditEnable": false,
    "notebookId": "5fd5c8eb1a34b90030b8f157",
    "slideshow": {
     "slide_type": "slide"
    },
    "tags": []
   },
   "source": [
    "END"
   ]
  }
 ],
 "metadata": {
  "kernelspec": {
   "display_name": "Python 3",
   "language": "python",
   "name": "python3"
  },
  "language_info": {
   "codemirror_mode": {
    "name": "ipython",
    "version": 3
   },
   "file_extension": ".py",
   "mimetype": "text/x-python",
   "name": "python",
   "nbconvert_exporter": "python",
   "pygments_lexer": "ipython3",
   "version": "3.6.5"
  },
  "tianchi_metadata": {
   "competitions": [],
   "datasets": [
    {
     "id": "90788",
     "title": "上交训练营数据集"
    }
   ],
   "description": "",
   "notebookId": "182354",
   "source": "dsw"
  }
 },
 "nbformat": 4,
 "nbformat_minor": 4
}
