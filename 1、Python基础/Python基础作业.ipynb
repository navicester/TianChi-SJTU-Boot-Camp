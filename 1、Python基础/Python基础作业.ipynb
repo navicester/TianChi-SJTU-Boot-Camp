{
 "cells": [
  {
   "cell_type": "markdown",
   "metadata": {},
   "source": [
    "## Python基础作业"
   ]
  },
  {
   "cell_type": "markdown",
   "metadata": {},
   "source": [
    "#### 提交作业方式请参考此链接：[<u>如何提交作业<u/>](https://tianchi.aliyun.com/notebook-ai/detail?postId=182576)"
   ]
  },
  {
   "cell_type": "markdown",
   "metadata": {
    "id": "1DEF5553B85B422A9B0882BFA5711813",
    "jupyter": {},
    "mdEditEnable": true,
    "notebookId": "601629b5ac79f40016b815d6",
    "slideshow": {
     "slide_type": "slide"
    },
    "tags": []
   },
   "source": [
    "## 1. 判断下列命名方式的正确与否"
   ]
  },
  {
   "cell_type": "code",
   "execution_count": null,
   "metadata": {
    "id": "3D8FC5B063BC4B848361E7448C201365",
    "jupyter": {},
    "slideshow": {
     "slide_type": "slide"
    },
    "tags": []
   },
   "outputs": [],
   "source": [
    "1stock = '股票的价格'\n",
    "a_ = 535  \n",
    "_ = 12.5  \n",
    "_$ = 453.4   \n",
    "__ = '股票的价格'  \n",
    "123 = 600519  \n",
    "a1b = 600519   \n"
   ]
  },
  {
   "cell_type": "markdown",
   "metadata": {},
   "source": [
    "## 参考下面规范\n",
    "- 变量只能由数字，字母，下划线任意组合。\n",
    "- 不能以数字开头。\n",
    "- 不能是python中的关键字。比如下面的关键字 ['and', 'as', 'assert', 'break', 'class', 'continue', 'def', 'del', 'elif', 'else', 'except', 'exec']\n",
    "- 变量要有描述性\n",
    "- 变量不能使用中文。\n",
    "- 变量不能过长\n",
    "- 官方推荐使用： 1.驼峰体(SchoolName='Financial') 2.下划线(school_name='Financial')"
   ]
  },
  {
   "cell_type": "code",
   "execution_count": 21,
   "metadata": {},
   "outputs": [
    {
     "ename": "SyntaxError",
     "evalue": "invalid syntax (<ipython-input-21-94f8202d182e>, line 1)",
     "output_type": "error",
     "traceback": [
      "\u001b[0;36m  File \u001b[0;32m\"<ipython-input-21-94f8202d182e>\"\u001b[0;36m, line \u001b[0;32m1\u001b[0m\n\u001b[0;31m    1stock = '股票的价格'\u001b[0m\n\u001b[0m         ^\u001b[0m\n\u001b[0;31mSyntaxError\u001b[0m\u001b[0;31m:\u001b[0m invalid syntax\n"
     ]
    }
   ],
   "source": [
    "1stock = '股票的价格'\n",
    "# 不正确，不能以数字开头"
   ]
  },
  {
   "cell_type": "code",
   "execution_count": 22,
   "metadata": {},
   "outputs": [],
   "source": [
    "a_ = 535  "
   ]
  },
  {
   "cell_type": "code",
   "execution_count": 23,
   "metadata": {},
   "outputs": [],
   "source": [
    "_ = 12.5  "
   ]
  },
  {
   "cell_type": "code",
   "execution_count": 26,
   "metadata": {},
   "outputs": [
    {
     "ename": "SyntaxError",
     "evalue": "invalid syntax (<ipython-input-26-8c2d190dfec2>, line 1)",
     "output_type": "error",
     "traceback": [
      "\u001b[0;36m  File \u001b[0;32m\"<ipython-input-26-8c2d190dfec2>\"\u001b[0;36m, line \u001b[0;32m1\u001b[0m\n\u001b[0;31m    _$ = 453.4   # 不正确，$不能用于变量\u001b[0m\n\u001b[0m     ^\u001b[0m\n\u001b[0;31mSyntaxError\u001b[0m\u001b[0;31m:\u001b[0m invalid syntax\n"
     ]
    }
   ],
   "source": [
    "_$ = 453.4   # 不正确，$不能用于变量"
   ]
  },
  {
   "cell_type": "code",
   "execution_count": 25,
   "metadata": {},
   "outputs": [],
   "source": [
    "__ = '股票的价格'  "
   ]
  },
  {
   "cell_type": "code",
   "execution_count": 28,
   "metadata": {},
   "outputs": [
    {
     "ename": "SyntaxError",
     "evalue": "can't assign to literal (<ipython-input-28-daee55f4fb98>, line 1)",
     "output_type": "error",
     "traceback": [
      "\u001b[0;36m  File \u001b[0;32m\"<ipython-input-28-daee55f4fb98>\"\u001b[0;36m, line \u001b[0;32m1\u001b[0m\n\u001b[0;31m    123 = 600519  # 不正确，不能以数字开头，也不能全是数字\u001b[0m\n\u001b[0m                                       ^\u001b[0m\n\u001b[0;31mSyntaxError\u001b[0m\u001b[0;31m:\u001b[0m can't assign to literal\n"
     ]
    }
   ],
   "source": [
    "123 = 600519  # 不正确，不能以数字开头，也不能全是数字"
   ]
  },
  {
   "cell_type": "code",
   "execution_count": 29,
   "metadata": {},
   "outputs": [],
   "source": [
    "a1b = 600519   "
   ]
  },
  {
   "cell_type": "markdown",
   "metadata": {
    "id": "323CE77FE8184062AD4A18DE94701EC7",
    "jupyter": {},
    "mdEditEnable": true,
    "notebookId": "601629b5ac79f40016b815d6",
    "slideshow": {
     "slide_type": "slide"
    },
    "tags": []
   },
   "source": [
    "## 2. 列表操作\n",
    "选择5个股票的名称形成列表"
   ]
  },
  {
   "cell_type": "markdown",
   "metadata": {
    "id": "D08500B3F98E4E74841F45BEC5DD3D5D",
    "jupyter": {},
    "mdEditEnable": true,
    "slideshow": {
     "slide_type": "slide"
    },
    "tags": []
   },
   "source": [
    "1. 计算列表的长度并输出\n",
    "1. 列表中追加元素（追加一个股票），并输出添加后的列表\n",
    "1. 请在列表的第1个位置插入元素（插入一个股票名称）,并输出添加后的列表\n",
    "1. 请删除列表中的元素（删除最后一个股票名称）,并输出添加后的列表\n",
    "1. 请删除列表中的第4个元素，并输出删除的元素和删除元素后的列表\n",
    "1. 请删除列表中的第1至3个元素，并输出删除元素后的列表\n",
    "1. 请将列表所有得元素反转，并输出反转后的列表"
   ]
  },
  {
   "cell_type": "code",
   "execution_count": 6,
   "metadata": {},
   "outputs": [
    {
     "name": "stdout",
     "output_type": "stream",
     "text": [
      "5\n"
     ]
    }
   ],
   "source": [
    "stocks = [\"NIO\", \"ZM\", \"GME\", \"NXPI\", \"DELL\"]\n",
    "\n",
    "# 1. 计算列表的长度并输出\n",
    "print(len(stocks))"
   ]
  },
  {
   "cell_type": "code",
   "execution_count": 7,
   "metadata": {},
   "outputs": [
    {
     "name": "stdout",
     "output_type": "stream",
     "text": [
      "['NIO', 'ZM', 'GME', 'NXPI', 'DELL', 'GOOGLE']\n"
     ]
    }
   ],
   "source": [
    "# 2. 列表中追加元素（追加一个股票），并输出添加后的列表\n",
    "stocks.append(\"GOOGLE\")\n",
    "print(stocks)"
   ]
  },
  {
   "cell_type": "code",
   "execution_count": 8,
   "metadata": {},
   "outputs": [
    {
     "name": "stdout",
     "output_type": "stream",
     "text": [
      "['AMZN', 'NIO', 'ZM', 'GME', 'NXPI', 'DELL', 'GOOGLE']\n"
     ]
    }
   ],
   "source": [
    "# 3. 请在列表的第1个位置插入元素（插入一个股票名称）,并输出添加后的列表\n",
    "stocks.insert(0,\"AMZN\")\n",
    "print(stocks)"
   ]
  },
  {
   "cell_type": "code",
   "execution_count": 9,
   "metadata": {},
   "outputs": [
    {
     "name": "stdout",
     "output_type": "stream",
     "text": [
      "['AMZN', 'NIO', 'ZM', 'GME', 'NXPI', 'DELL']\n"
     ]
    }
   ],
   "source": [
    "# 4. 请删除列表中的元素（删除最后一个股票名称）,并输出添加后的列表\n",
    "stocks.pop()\n",
    "print(stocks)"
   ]
  },
  {
   "cell_type": "code",
   "execution_count": 10,
   "metadata": {},
   "outputs": [
    {
     "name": "stdout",
     "output_type": "stream",
     "text": [
      "GME ['AMZN', 'NIO', 'ZM', 'NXPI', 'DELL']\n"
     ]
    }
   ],
   "source": [
    "# 5. 请删除列表中的第4个元素，并输出删除的元素和删除元素后的列表\n",
    "elm = stocks.pop(3)\n",
    "print(elm, stocks)"
   ]
  },
  {
   "cell_type": "code",
   "execution_count": 12,
   "metadata": {},
   "outputs": [
    {
     "name": "stdout",
     "output_type": "stream",
     "text": [
      "['NXPI', 'DELL']\n"
     ]
    }
   ],
   "source": [
    "# 6. 请删除列表中的第1至3个元素，并输出删除元素后的列表\n",
    "del stocks[0:3]\n",
    "print(stocks)"
   ]
  },
  {
   "cell_type": "code",
   "execution_count": 13,
   "metadata": {},
   "outputs": [
    {
     "name": "stdout",
     "output_type": "stream",
     "text": [
      "['DELL', 'NXPI']\n"
     ]
    }
   ],
   "source": [
    "# 7. 请将列表所有得元素反转，并输出反转后的列表\n",
    "stocks.reverse()\n",
    "print(stocks)"
   ]
  },
  {
   "cell_type": "markdown",
   "metadata": {
    "id": "81EAF3D3DC9E47078101E80586F2BE3E",
    "jupyter": {},
    "mdEditEnable": true,
    "slideshow": {
     "slide_type": "slide"
    },
    "tags": []
   },
   "source": [
    "## 3. 创建股票信息字典\n",
    "需包含 3支股票名称、代码、某一天的开盘价"
   ]
  },
  {
   "cell_type": "code",
   "execution_count": 14,
   "metadata": {},
   "outputs": [
    {
     "name": "stdout",
     "output_type": "stream",
     "text": [
      "{'招商银行': ['600036.SS', 50.95], '兴业银行': ['601166.SS', 23.38], '隆基股份': ['601012.SS', 88.89]}\n"
     ]
    }
   ],
   "source": [
    "stocks_dict = {\"招商银行\":[\"600036.SS\", 50.95], \"兴业银行\":[\"601166.SS\",23.38], \"隆基股份\": [\"601012.SS\",88.89]}\n",
    "print(stocks_dict)"
   ]
  },
  {
   "cell_type": "markdown",
   "metadata": {
    "id": "7589B304C2174EAE84C0710C7ECD12D7",
    "jupyter": {},
    "mdEditEnable": true,
    "slideshow": {
     "slide_type": "slide"
    },
    "tags": []
   },
   "source": [
    "## 4. 定义一个函数来计算单利债券本利和\n",
    "\n",
    "```\n",
    "def **:  #定义单利债券计算本利和函数  # **为需要补充代码的部分\n",
    "    return **    \n",
    "v = 120\n",
    "r = 0.15\n",
    "t = 12\n",
    "print(\"债券面值 =\", v, \" 年利率 =\", r, \" 期限 =\", t ,\"单利本利和\", **)\n",
    "```"
   ]
  },
  {
   "cell_type": "code",
   "execution_count": 15,
   "metadata": {},
   "outputs": [
    {
     "name": "stdout",
     "output_type": "stream",
     "text": [
      "债券面值 = 120  年利率 = 0.15  期限 = 12 单利本利和 642.0300126568447\n"
     ]
    }
   ],
   "source": [
    "def CalSumPrincipalInterest(FaceValue, AnnualInterestRate, TimeLimit):\n",
    "    return FaceValue*((1+AnnualInterestRate)**TimeLimit)\n",
    "v = 120\n",
    "r = 0.15\n",
    "t = 12\n",
    "print(\"债券面值 =\", v, \" 年利率 =\", r, \" 期限 =\", t ,\"单利本利和\", CalSumPrincipalInterest(v,r,t))"
   ]
  },
  {
   "cell_type": "markdown",
   "metadata": {
    "id": "22DBE65B618E4408959EEB049852C966",
    "jupyter": {},
    "mdEditEnable": true,
    "notebookId": "601629b5ac79f40016b815d6",
    "slideshow": {
     "slide_type": "slide"
    },
    "tags": []
   },
   "source": [
    "## 5. 定义一个股票类\n",
    "定义股票数据中，股票的开盘价、收盘价、股票名称、代码为类属性"
   ]
  },
  {
   "cell_type": "code",
   "execution_count": 20,
   "metadata": {},
   "outputs": [],
   "source": [
    "class stock:\n",
    "    # 类属性\n",
    "    open = 0.0\n",
    "    close = 0.0\n",
    "    name = 'stock'\n",
    "    code = \"000000\"\n",
    "    \n",
    "    def __init__(self, open, close, name, code):\n",
    "        self.open = open\n",
    "        self.close = close\n",
    "        self.name = name\n",
    "        self.code = code\n",
    "    "
   ]
  },
  {
   "cell_type": "markdown",
   "metadata": {
    "id": "A09EC008B19F4FE487E2E5AA027EB17C",
    "jupyter": {},
    "mdEditEnable": true,
    "notebookId": "601629b5ac79f40016b815d6",
    "slideshow": {
     "slide_type": "slide"
    },
    "tags": []
   },
   "source": [
    "END"
   ]
  }
 ],
 "metadata": {
  "kernelspec": {
   "display_name": "Python 3",
   "language": "python",
   "name": "python3"
  },
  "language_info": {
   "codemirror_mode": {
    "name": "ipython",
    "version": 3
   },
   "file_extension": ".py",
   "mimetype": "text/x-python",
   "name": "python",
   "nbconvert_exporter": "python",
   "pygments_lexer": "ipython3",
   "version": "3.6.5"
  },
  "tianchi_metadata": {
   "competitions": [],
   "datasets": [
    {
     "id": "90788",
     "title": "上交训练营数据集"
    }
   ],
   "description": "",
   "notebookId": "182382",
   "source": "dsw"
  }
 },
 "nbformat": 4,
 "nbformat_minor": 4
}
