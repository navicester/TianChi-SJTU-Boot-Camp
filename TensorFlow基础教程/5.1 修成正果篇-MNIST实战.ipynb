{
 "cells": [
  {
   "cell_type": "markdown",
   "metadata": {},
   "source": [
    "# 📚5.1修成正果篇-MNIST实战"
   ]
  },
  {
   "cell_type": "markdown",
   "metadata": {},
   "source": [
    "🔲能今天做好的事就不要等到明天。以梦为马，学习趁年华。  \n",
    "\n",
    "--------------------------------------------------------"
   ]
  },
  {
   "cell_type": "markdown",
   "metadata": {},
   "source": [
    "MNIST手写字体数据识别是深度学习界的“hello world”，麻雀虽小五脏俱全，本教程将从卷积神经网络入手，通过合理的设计网络与训练网络，实现手写体识别。   \t\t\t\t\t\t\t\t\t\t\t\tCNNs目前在很多很多研究领域取得了巨大的成功，例如: 语音识别，图像识别，图像分割，自然语言处理等。我们已经知道使用全连接网络会出现参数非常大的 缺陷 ，为了解决这个缺陷，我们引入了卷积神经网络。"
   ]
  },
  {
   "cell_type": "markdown",
   "metadata": {},
   "source": [
    "## 一、本节目标\n",
    "        本节将详述概述卷积神经网络处理实际问题的全过程，包括数据读取与处理、卷积网络的搭建预训练、模型测试"
   ]
  },
  {
   "cell_type": "markdown",
   "metadata": {},
   "source": [
    "## 二、 数据集准备\n",
    "MNIST（Modified National Institute of Standards and Technology database）是一个标准的手写数字识别数据集。其包含了60000张训练图片和10000张测试图片，每张图片的大小为28*28。Tensorflow2中压缩集成了MNIST数据集，解析其只需要使用Keras提供的接口即可。  \n",
    "首先进行数据集挂载，步骤如下：  \n",
    "\n",
    "（1）点击左侧的【天池】按钮;    \n",
    "\n",
    "<img src=\"https://img.alicdn.com/imgextra/i4/O1CN01zsetgx1zaOBQbSDLs_!!6000000006730-2-tps-616-589.png\"/>   \n",
    "\n",
    "(2) 搜索数据集“tensorflow_course_image_data”，然后点击下载按钮；\n",
    "\n",
    "数据集下载成功后，⻚⾯右上⻆会提示数据集下载成功，也会说名数据集存储位置，默认在 <b>download</b>⽬录下，其名称为：mnist.zip。"
   ]
  },
  {
   "cell_type": "code",
   "execution_count": 2,
   "metadata": {},
   "outputs": [],
   "source": [
    "### 2.1 数据读取"
   ]
  },
  {
   "cell_type": "code",
   "execution_count": 3,
   "metadata": {},
   "outputs": [
    {
     "ename": "ModuleNotFoundError",
     "evalue": "No module named 'tensorflow'",
     "output_type": "error",
     "traceback": [
      "\u001b[1;31m---------------------------------------------------------------------------\u001b[0m",
      "\u001b[1;31mModuleNotFoundError\u001b[0m                       Traceback (most recent call last)",
      "\u001b[1;32m<ipython-input-3-a10bdb065d84>\u001b[0m in \u001b[0;36m<module>\u001b[1;34m\u001b[0m\n\u001b[0;32m      1\u001b[0m \u001b[1;31m#导入库\u001b[0m\u001b[1;33m\u001b[0m\u001b[1;33m\u001b[0m\u001b[1;33m\u001b[0m\u001b[0m\n\u001b[1;32m----> 2\u001b[1;33m \u001b[1;32mimport\u001b[0m \u001b[0mtensorflow\u001b[0m  \u001b[1;32mas\u001b[0m \u001b[0mtf\u001b[0m\u001b[1;33m\u001b[0m\u001b[1;33m\u001b[0m\u001b[0m\n\u001b[0m\u001b[0;32m      3\u001b[0m \u001b[1;32mfrom\u001b[0m \u001b[0mtensorflow\u001b[0m \u001b[1;32mimport\u001b[0m \u001b[0mkeras\u001b[0m\u001b[1;33m\u001b[0m\u001b[1;33m\u001b[0m\u001b[0m\n\u001b[0;32m      4\u001b[0m \u001b[1;32mimport\u001b[0m \u001b[0mnumpy\u001b[0m \u001b[1;32mas\u001b[0m \u001b[0mnp\u001b[0m\u001b[1;33m\u001b[0m\u001b[1;33m\u001b[0m\u001b[0m\n\u001b[0;32m      5\u001b[0m \u001b[1;32mimport\u001b[0m \u001b[0mmatplotlib\u001b[0m\u001b[1;33m.\u001b[0m\u001b[0mpyplot\u001b[0m \u001b[1;32mas\u001b[0m \u001b[0mplt\u001b[0m\u001b[1;33m\u001b[0m\u001b[1;33m\u001b[0m\u001b[0m\n",
      "\u001b[1;31mModuleNotFoundError\u001b[0m: No module named 'tensorflow'"
     ]
    }
   ],
   "source": [
    "#导入库  \n",
    "import tensorflow  as tf\n",
    "from tensorflow import keras\n",
    "import numpy as np\n",
    "import matplotlib.pyplot as plt"
   ]
  },
  {
   "cell_type": "markdown",
   "metadata": {},
   "source": [
    "提取数据集"
   ]
  },
  {
   "cell_type": "code",
   "execution_count": 15,
   "metadata": {},
   "outputs": [],
   "source": [
    "#训练集与测试集分类加载\n",
    "mnist= np.load('../data/mnist.zip')\n",
    "train_images, train_labels = mnist['x_train'],mnist['y_train']\n",
    "test_images, test_labels = mnist['x_test'], mnist['y_test']"
   ]
  },
  {
   "cell_type": "markdown",
   "metadata": {},
   "source": [
    "### 2.1 数据查验\n",
    "加载数据集后需要了解一下数据集的基本属性，包括：数据的尺寸，数据集中图像的数量；"
   ]
  },
  {
   "cell_type": "code",
   "execution_count": 16,
   "metadata": {},
   "outputs": [],
   "source": [
    "#获取数据集属性函数\n",
    "def get_data_info(mnist_images,mnist_labels):\n",
    "    image_shape=mnist_images.shape\n",
    "    labels_shape=mnist_labels.shape\n",
    "    image_len=len(mnist_images)\n",
    "    labels_len=len(mnist_labels)\n",
    "    first_data=mnist_images[0]\n",
    "    first_lable=mnist_labels[0]\n",
    "    return image_shape,labels_shape,image_len,labels_len,first_data,first_lable"
   ]
  },
  {
   "cell_type": "markdown",
   "metadata": {},
   "source": [
    "返回值：  \n",
    "image_shape：数据尺寸  \n",
    "labels_shape：标签尺寸  \n",
    "image_len：图像数量  \n",
    "labels_len：标签数量  \n",
    "first_data：第一张图像  \n",
    "first_lable：第一个标签  "
   ]
  },
  {
   "cell_type": "markdown",
   "metadata": {},
   "source": [
    "分别获取训练集与测试集的数据信息。"
   ]
  },
  {
   "cell_type": "code",
   "execution_count": 17,
   "metadata": {},
   "outputs": [
    {
     "name": "stdout",
     "output_type": "stream",
     "text": [
      "训练图像数据集的尺寸：(60000, 28, 28)\n",
      "训练图像标签尺寸：(60000,)\n",
      "训练图像数量：60000\n",
      "训练图像标签数量：60000\n",
      "第一个训练图像数据：[[  0   0   0   0   0   0   0   0   0   0   0   0   0   0   0   0   0   0\n",
      "    0   0   0   0   0   0   0   0   0   0]\n",
      " [  0   0   0   0   0   0   0   0   0   0   0   0   0   0   0   0   0   0\n",
      "    0   0   0   0   0   0   0   0   0   0]\n",
      " [  0   0   0   0   0   0   0   0   0   0   0   0   0   0   0   0   0   0\n",
      "    0   0   0   0   0   0   0   0   0   0]\n",
      " [  0   0   0   0   0   0   0   0   0   0   0   0   0   0   0   0   0   0\n",
      "    0   0   0   0   0   0   0   0   0   0]\n",
      " [  0   0   0   0   0   0   0   0   0   0   0   0   0   0   0   0   0   0\n",
      "    0   0   0   0   0   0   0   0   0   0]\n",
      " [  0   0   0   0   0   0   0   0   0   0   0   0   3  18  18  18 126 136\n",
      "  175  26 166 255 247 127   0   0   0   0]\n",
      " [  0   0   0   0   0   0   0   0  30  36  94 154 170 253 253 253 253 253\n",
      "  225 172 253 242 195  64   0   0   0   0]\n",
      " [  0   0   0   0   0   0   0  49 238 253 253 253 253 253 253 253 253 251\n",
      "   93  82  82  56  39   0   0   0   0   0]\n",
      " [  0   0   0   0   0   0   0  18 219 253 253 253 253 253 198 182 247 241\n",
      "    0   0   0   0   0   0   0   0   0   0]\n",
      " [  0   0   0   0   0   0   0   0  80 156 107 253 253 205  11   0  43 154\n",
      "    0   0   0   0   0   0   0   0   0   0]\n",
      " [  0   0   0   0   0   0   0   0   0  14   1 154 253  90   0   0   0   0\n",
      "    0   0   0   0   0   0   0   0   0   0]\n",
      " [  0   0   0   0   0   0   0   0   0   0   0 139 253 190   2   0   0   0\n",
      "    0   0   0   0   0   0   0   0   0   0]\n",
      " [  0   0   0   0   0   0   0   0   0   0   0  11 190 253  70   0   0   0\n",
      "    0   0   0   0   0   0   0   0   0   0]\n",
      " [  0   0   0   0   0   0   0   0   0   0   0   0  35 241 225 160 108   1\n",
      "    0   0   0   0   0   0   0   0   0   0]\n",
      " [  0   0   0   0   0   0   0   0   0   0   0   0   0  81 240 253 253 119\n",
      "   25   0   0   0   0   0   0   0   0   0]\n",
      " [  0   0   0   0   0   0   0   0   0   0   0   0   0   0  45 186 253 253\n",
      "  150  27   0   0   0   0   0   0   0   0]\n",
      " [  0   0   0   0   0   0   0   0   0   0   0   0   0   0   0  16  93 252\n",
      "  253 187   0   0   0   0   0   0   0   0]\n",
      " [  0   0   0   0   0   0   0   0   0   0   0   0   0   0   0   0   0 249\n",
      "  253 249  64   0   0   0   0   0   0   0]\n",
      " [  0   0   0   0   0   0   0   0   0   0   0   0   0   0  46 130 183 253\n",
      "  253 207   2   0   0   0   0   0   0   0]\n",
      " [  0   0   0   0   0   0   0   0   0   0   0   0  39 148 229 253 253 253\n",
      "  250 182   0   0   0   0   0   0   0   0]\n",
      " [  0   0   0   0   0   0   0   0   0   0  24 114 221 253 253 253 253 201\n",
      "   78   0   0   0   0   0   0   0   0   0]\n",
      " [  0   0   0   0   0   0   0   0  23  66 213 253 253 253 253 198  81   2\n",
      "    0   0   0   0   0   0   0   0   0   0]\n",
      " [  0   0   0   0   0   0  18 171 219 253 253 253 253 195  80   9   0   0\n",
      "    0   0   0   0   0   0   0   0   0   0]\n",
      " [  0   0   0   0  55 172 226 253 253 253 253 244 133  11   0   0   0   0\n",
      "    0   0   0   0   0   0   0   0   0   0]\n",
      " [  0   0   0   0 136 253 253 253 212 135 132  16   0   0   0   0   0   0\n",
      "    0   0   0   0   0   0   0   0   0   0]\n",
      " [  0   0   0   0   0   0   0   0   0   0   0   0   0   0   0   0   0   0\n",
      "    0   0   0   0   0   0   0   0   0   0]\n",
      " [  0   0   0   0   0   0   0   0   0   0   0   0   0   0   0   0   0   0\n",
      "    0   0   0   0   0   0   0   0   0   0]\n",
      " [  0   0   0   0   0   0   0   0   0   0   0   0   0   0   0   0   0   0\n",
      "    0   0   0   0   0   0   0   0   0   0]]\n",
      "第一个训练图像标签数据：5\n"
     ]
    },
    {
     "data": {
      "image/png": "[encoded data removed]",
      "text/plain": [
       "<Figure size 144x144 with 4 Axes>"
      ]
     },
     "metadata": {
      "needs_background": "light"
     },
     "output_type": "display_data"
    }
   ],
   "source": [
    "#训练数据集\n",
    "tr_image_shape,tr_label_shape,tr_image_len,tr_label_len,tr_image_data,tr_label_data=get_data_info(train_images,train_labels)\n",
    "#打印训练数据信息\n",
    "print(\"训练图像数据集的尺寸：{}\".format(tr_image_shape))\n",
    "print(\"训练图像标签尺寸：{}\".format(tr_label_shape))\n",
    "print(\"训练图像数量：{}\".format(tr_image_len))\n",
    "print(\"训练图像标签数量：{}\".format(tr_label_len))\n",
    "print(\"第一个训练图像数据：{}\".format(tr_image_data))\n",
    "print(\"第一个训练图像标签数据：{}\".format(tr_label_data))\n",
    "#显示示例图像\n",
    "plt.figure(figsize=(2,2))\n",
    "for i in range(4):\n",
    "    train_data=train_images[i]\n",
    "    train_label=train_labels[i]\n",
    "    plt.subplot(2,2,i+1)\n",
    "    plt.subplots_adjust(wspace=0.5,hspace=0.8)\n",
    "    plt.imshow(train_data)\n",
    "    plt.title(\"label {}\".format(train_label),)\n",
    "    \n",
    "plt.show()"
   ]
  },
  {
   "cell_type": "code",
   "execution_count": 18,
   "metadata": {},
   "outputs": [
    {
     "name": "stdout",
     "output_type": "stream",
     "text": [
      "测试图像数据集的尺寸：(10000, 28, 28)\n",
      "测试图像标签尺寸：(10000,)\n",
      "测试图像数量：10000\n",
      "测试图像标签数量：10000\n",
      "第一个测试图像数据：[[  0   0   0   0   0   0   0   0   0   0   0   0   0   0   0   0   0   0\n",
      "    0   0   0   0   0   0   0   0   0   0]\n",
      " [  0   0   0   0   0   0   0   0   0   0   0   0   0   0   0   0   0   0\n",
      "    0   0   0   0   0   0   0   0   0   0]\n",
      " [  0   0   0   0   0   0   0   0   0   0   0   0   0   0   0   0   0   0\n",
      "    0   0   0   0   0   0   0   0   0   0]\n",
      " [  0   0   0   0   0   0   0   0   0   0   0   0   0   0   0   0   0   0\n",
      "    0   0   0   0   0   0   0   0   0   0]\n",
      " [  0   0   0   0   0   0   0   0   0   0   0   0   0   0   0   0   0   0\n",
      "    0   0   0   0   0   0   0   0   0   0]\n",
      " [  0   0   0   0   0   0   0   0   0   0   0   0   0   0   0   0   0   0\n",
      "    0   0   0   0   0   0   0   0   0   0]\n",
      " [  0   0   0   0   0   0   0   0   0   0   0   0   0   0   0   0   0   0\n",
      "    0   0   0   0   0   0   0   0   0   0]\n",
      " [  0   0   0   0   0   0  84 185 159 151  60  36   0   0   0   0   0   0\n",
      "    0   0   0   0   0   0   0   0   0   0]\n",
      " [  0   0   0   0   0   0 222 254 254 254 254 241 198 198 198 198 198 198\n",
      "  198 198 170  52   0   0   0   0   0   0]\n",
      " [  0   0   0   0   0   0  67 114  72 114 163 227 254 225 254 254 254 250\n",
      "  229 254 254 140   0   0   0   0   0   0]\n",
      " [  0   0   0   0   0   0   0   0   0   0   0  17  66  14  67  67  67  59\n",
      "   21 236 254 106   0   0   0   0   0   0]\n",
      " [  0   0   0   0   0   0   0   0   0   0   0   0   0   0   0   0   0   0\n",
      "   83 253 209  18   0   0   0   0   0   0]\n",
      " [  0   0   0   0   0   0   0   0   0   0   0   0   0   0   0   0   0  22\n",
      "  233 255  83   0   0   0   0   0   0   0]\n",
      " [  0   0   0   0   0   0   0   0   0   0   0   0   0   0   0   0   0 129\n",
      "  254 238  44   0   0   0   0   0   0   0]\n",
      " [  0   0   0   0   0   0   0   0   0   0   0   0   0   0   0   0  59 249\n",
      "  254  62   0   0   0   0   0   0   0   0]\n",
      " [  0   0   0   0   0   0   0   0   0   0   0   0   0   0   0   0 133 254\n",
      "  187   5   0   0   0   0   0   0   0   0]\n",
      " [  0   0   0   0   0   0   0   0   0   0   0   0   0   0   0   9 205 248\n",
      "   58   0   0   0   0   0   0   0   0   0]\n",
      " [  0   0   0   0   0   0   0   0   0   0   0   0   0   0   0 126 254 182\n",
      "    0   0   0   0   0   0   0   0   0   0]\n",
      " [  0   0   0   0   0   0   0   0   0   0   0   0   0   0  75 251 240  57\n",
      "    0   0   0   0   0   0   0   0   0   0]\n",
      " [  0   0   0   0   0   0   0   0   0   0   0   0   0  19 221 254 166   0\n",
      "    0   0   0   0   0   0   0   0   0   0]\n",
      " [  0   0   0   0   0   0   0   0   0   0   0   0   3 203 254 219  35   0\n",
      "    0   0   0   0   0   0   0   0   0   0]\n",
      " [  0   0   0   0   0   0   0   0   0   0   0   0  38 254 254  77   0   0\n",
      "    0   0   0   0   0   0   0   0   0   0]\n",
      " [  0   0   0   0   0   0   0   0   0   0   0  31 224 254 115   1   0   0\n",
      "    0   0   0   0   0   0   0   0   0   0]\n",
      " [  0   0   0   0   0   0   0   0   0   0   0 133 254 254  52   0   0   0\n",
      "    0   0   0   0   0   0   0   0   0   0]\n",
      " [  0   0   0   0   0   0   0   0   0   0  61 242 254 254  52   0   0   0\n",
      "    0   0   0   0   0   0   0   0   0   0]\n",
      " [  0   0   0   0   0   0   0   0   0   0 121 254 254 219  40   0   0   0\n",
      "    0   0   0   0   0   0   0   0   0   0]\n",
      " [  0   0   0   0   0   0   0   0   0   0 121 254 207  18   0   0   0   0\n",
      "    0   0   0   0   0   0   0   0   0   0]\n",
      " [  0   0   0   0   0   0   0   0   0   0   0   0   0   0   0   0   0   0\n",
      "    0   0   0   0   0   0   0   0   0   0]]\n",
      "第一个测试图像标签数据：7\n"
     ]
    },
    {
     "data": {
      "image/png": "[encoded data removed]",
      "text/plain": [
       "<Figure size 144x144 with 4 Axes>"
      ]
     },
     "metadata": {
      "needs_background": "light"
     },
     "output_type": "display_data"
    }
   ],
   "source": [
    "#测试数据集\n",
    "test_image_shape,test_label_shape,test_image_len,test_label_len,test_image_data,test_label_data=get_data_info(test_images,test_labels)\n",
    "#打印测试集信息\n",
    "print(\"测试图像数据集的尺寸：{}\".format(test_image_shape))\n",
    "print(\"测试图像标签尺寸：{}\".format(test_label_shape))\n",
    "print(\"测试图像数量：{}\".format(test_image_len))\n",
    "print(\"测试图像标签数量：{}\".format(test_label_len))\n",
    "print(\"第一个测试图像数据：{}\".format(test_image_data))\n",
    "print(\"第一个测试图像标签数据：{}\".format(test_label_data))\n",
    "#显示示例图像\n",
    "plt.figure(figsize=(2,2))\n",
    "for i in range(4):\n",
    "    test_data=test_images[i]\n",
    "    test_label=test_labels[i]\n",
    "    plt.subplot(2,2,i+1)\n",
    "    plt.subplots_adjust(wspace=0.5,hspace=0.8)\n",
    "    plt.imshow(test_data)\n",
    "    plt.title(\"label {}\".format(test_label),)\n",
    "plt.show()"
   ]
  },
  {
   "cell_type": "markdown",
   "metadata": {},
   "source": [
    "## 三、卷积网络搭建"
   ]
  },
  {
   "cell_type": "markdown",
   "metadata": {},
   "source": [
    "### 3.1 卷积网络结构\n",
    "在 TensorFlow 中，既可以通过自定义权值的底层实现方式搭建神经网络，也可以直接\n",
    "调用现成的卷积层类的高层方式快速搭建复杂网络。我们主要以 2D 卷积为例"
   ]
  },
  {
   "cell_type": "markdown",
   "metadata": {},
   "source": [
    "#### 3.1.1 网络结构"
   ]
  },
  {
   "cell_type": "code",
   "execution_count": 6,
   "metadata": {},
   "outputs": [
    {
     "data": {
      "text/plain": [
       "<tf.Tensor: shape=(2, 3, 3, 4), dtype=float32, numpy=\n",
       "array([[[[ 5.4885435 ,  0.90228355, -6.2709703 ,  3.9693105 ],\n",
       "         [ 4.8078513 ,  3.5669653 ,  0.16551386, -1.0962759 ],\n",
       "         [ 3.9926322 ,  2.1033695 ,  2.953032  ,  0.9203242 ]],\n",
       "\n",
       "        [[ 9.822297  , -3.0074918 ,  5.4218726 , -7.468412  ],\n",
       "         [-5.150541  , -6.4236207 ,  0.46784642,  8.21922   ],\n",
       "         [-0.43736246,  7.3791213 ,  0.31452167, -1.3782297 ]],\n",
       "\n",
       "        [[-4.530431  , -3.1141782 , -3.4953809 , -2.747449  ],\n",
       "         [ 2.0588088 ,  4.706859  , -2.4147637 , -3.1294575 ],\n",
       "         [ 3.4048908 ,  0.9969671 ,  7.1475782 ,  8.558765  ]]],\n",
       "\n",
       "\n",
       "       [[[-3.9725208 , -2.4495153 ,  6.6767287 ,  5.18695   ],\n",
       "         [-6.1942177 ,  0.859389  , -1.7965742 ,  3.7790694 ],\n",
       "         [-0.9641926 , -3.094137  , -0.04683375, -1.72311   ]],\n",
       "\n",
       "        [[ 3.5896904 , -3.6610699 , -1.9830961 ,  5.926976  ],\n",
       "         [ 9.207965  , -2.0757053 , -3.51452   , -5.9555707 ],\n",
       "         [-2.1919165 ,  1.8030121 , -3.2687736 ,  4.929895  ]],\n",
       "\n",
       "        [[ 1.6570172 ,  0.32945025, -0.33944255, -2.885501  ],\n",
       "         [-8.034461  , -4.5043607 , -0.05339125,  5.791904  ],\n",
       "         [-5.6931295 , -2.2445984 , -3.4504614 , -3.3302848 ]]]],\n",
       "      dtype=float32)>"
      ]
     },
     "execution_count": 6,
     "metadata": {},
     "output_type": "execute_result"
    }
   ],
   "source": [
    "x = tf.random.normal([2,5,5,3]) # 模拟输入，3通道，高宽为5\n",
    "w = tf.random.normal([3,3,3,4]) # 需要根据[k,k,cin,cout]格式创建，4个3x3大小卷积核\n",
    "out = tf.nn.conv2d(x,w,strides=1,padding=[[0,0],[0,0],[0,0],[0,0]]) # 步长为1, padding为0,\n",
    "out"
   ]
  },
  {
   "cell_type": "markdown",
   "metadata": {},
   "source": [
    "#### 3.1.2 网络搭建\n",
    "卷积分类网络借鉴最常用的VGG16，采用了五组卷积核三个全连接层的结构，VGG中使用的卷积核都是3*3的，网络结构如图所示："
   ]
  },
  {
   "cell_type": "markdown",
   "metadata": {},
   "source": [
    "<img src=\"https://tianchi-public.oss-cn-hangzhou.aliyuncs.com/public/files/forum/161599077735691721615990776296.png\"/>"
   ]
  },
  {
   "cell_type": "markdown",
   "metadata": {},
   "source": []
  },
  {
   "cell_type": "markdown",
   "metadata": {},
   "source": [
    "注：原生态的VGG16最后一个全连接层输出为1000，代表1000个类别，在本案例中只有10个类别0~9，所以将其改为10."
   ]
  },
  {
   "cell_type": "code",
   "execution_count": 7,
   "metadata": {},
   "outputs": [],
   "source": [
    "#导入必要的库\n",
    "from tensorflow.keras import models\n",
    "from tensorflow.keras import layers\n",
    "from tensorflow.keras import regularizers\n",
    "from datetime import datetime\n",
    "import  os"
   ]
  },
  {
   "cell_type": "markdown",
   "metadata": {},
   "source": [
    "搭建网络：为了增加读者的知识面，在网络中加入了正则化的选项，关于正则化请读者自行查阅资料学习。"
   ]
  },
  {
   "cell_type": "code",
   "execution_count": 8,
   "metadata": {},
   "outputs": [],
   "source": [
    "def VGG16():\n",
    "    weight_decay = 5e-4\n",
    "    model = models.Sequential()\n",
    "    model.add(layers.Conv2D(64, (3, 3), activation='relu', padding='same', input_shape=(28, 28, 1), kernel_regularizer=regularizers.l2(weight_decay)))\n",
    "    model.add(layers.Conv2D(64, (3, 3), activation='relu', padding='same', kernel_regularizer=regularizers.l2(weight_decay)))\n",
    "    model.add(layers.MaxPooling2D((2, 2)))\n",
    "\n",
    "    model.add(layers.Conv2D(128, (3, 3), activation='relu', padding='same', kernel_regularizer=regularizers.l2(weight_decay)))\n",
    "    model.add(layers.Conv2D(128, (3, 3), activation='relu', padding='same', kernel_regularizer=regularizers.l2(weight_decay)))\n",
    "    model.add(layers.MaxPooling2D((2, 2)))\n",
    "\n",
    "    model.add(layers.Conv2D(256, (3, 3), activation='relu', padding='same', kernel_regularizer=regularizers.l2(weight_decay)))\n",
    "    model.add(layers.Conv2D(256, (3, 3), activation='relu', padding='same', kernel_regularizer=regularizers.l2(weight_decay)))\n",
    "    model.add(layers.Conv2D(256, (3, 3), activation='relu', padding='same', kernel_regularizer=regularizers.l2(weight_decay)))\n",
    "    model.add(layers.MaxPooling2D((2, 2)))\n",
    "\n",
    "    model.add(layers.Conv2D(512, (3, 3), activation='relu', padding='same', kernel_regularizer=regularizers.l2(weight_decay)))\n",
    "    model.add(layers.Conv2D(512, (3, 3), activation='relu', padding='same', kernel_regularizer=regularizers.l2(weight_decay)))\n",
    "    model.add(layers.Conv2D(512, (3, 3), activation='relu', padding='same', kernel_regularizer=regularizers.l2(weight_decay)))\n",
    "    model.add(layers.MaxPooling2D((2, 2)))\n",
    "\n",
    "    model.add(layers.Conv2D(512, (3, 3), activation='relu', padding='same', kernel_regularizer=regularizers.l2(weight_decay)))\n",
    "    model.add(layers.Conv2D(512, (3, 3), activation='relu', padding='same', kernel_regularizer=regularizers.l2(weight_decay)))\n",
    "    model.add(layers.Conv2D(512, (3, 3), activation='relu', padding='same', kernel_regularizer=regularizers.l2(weight_decay)))\n",
    "\n",
    "    model.add(layers.Flatten())  # 2*2*512\n",
    "    model.add(layers.Dense(4096, activation='relu'))\n",
    "    model.add(layers.Dropout(0.5))\n",
    "    model.add(layers.Dense(4096, activation='relu'))\n",
    "    model.add(layers.Dropout(0.5))\n",
    "    model.add(layers.Dense(10, activation='softmax'))\n",
    "    compile_model(model)\n",
    "\n",
    "    return model"
   ]
  },
  {
   "cell_type": "markdown",
   "metadata": {},
   "source": [
    "要想训练所创建的网络需要配备合适的损失函数和优化函数，在此使用常用的Adam优化器和交叉熵损失函数。"
   ]
  },
  {
   "cell_type": "code",
   "execution_count": 9,
   "metadata": {},
   "outputs": [],
   "source": [
    "def compile_model(model):\n",
    "    model.compile(\n",
    "    optimizer=tf.keras.optimizers.Adam(learning_rate=0.001),\n",
    "    loss=tf.keras.losses.SparseCategoricalCrossentropy(from_logits=True),\n",
    "    metrics=[\"accuracy\"])"
   ]
  },
  {
   "cell_type": "markdown",
   "metadata": {},
   "source": [
    "### 3.2 卷积网络训练"
   ]
  },
  {
   "cell_type": "markdown",
   "metadata": {},
   "source": [
    "#### 3.2.1 数据预处理\n",
    "在本案例中需要将数据集转换为【C，H，W】的格式，即28*28*1的图像数据。在此处读者可以自行加入适当的图像增强和变换相关的预处理。"
   ]
  },
  {
   "cell_type": "code",
   "execution_count": 10,
   "metadata": {},
   "outputs": [],
   "source": [
    "#训练集预处理\n",
    "train_images=train_images[:1000].reshape(-1,28,28,1)/255.0\n",
    "train_label=train_labels[:1000]\n",
    "#测试集预处理\n",
    "test_imagees=test_images[:100].reshape(-1,28,28,1)/255.0\n",
    "test_labels=test_labels[:100]"
   ]
  },
  {
   "cell_type": "markdown",
   "metadata": {},
   "source": [
    "#### 3.2.2 训练网络函数"
   ]
  },
  {
   "cell_type": "code",
   "execution_count": 11,
   "metadata": {},
   "outputs": [],
   "source": [
    "def train_modell(model, inputs, outputs, model_path):\n",
    "    history = model.fit(\n",
    "            inputs,\n",
    "            outputs,\n",
    "            epochs=20,\n",
    "            verbose=1\n",
    "            )\n",
    "    # 保存参数\n",
    "    model.save(model_path)"
   ]
  },
  {
   "cell_type": "markdown",
   "metadata": {},
   "source": [
    "#### 3.1.2 网络训练\n",
    "网络训练需要设置模型保存路径，此处需要特别注意！"
   ]
  },
  {
   "cell_type": "code",
   "execution_count": null,
   "metadata": {},
   "outputs": [
    {
     "name": "stdout",
     "output_type": "stream",
     "text": [
      "Model: \"sequential\"\n",
      "_________________________________________________________________\n",
      "Layer (type)                 Output Shape              Param #   \n",
      "=================================================================\n",
      "conv2d (Conv2D)              (None, 28, 28, 64)        640       \n",
      "_________________________________________________________________\n",
      "conv2d_1 (Conv2D)            (None, 28, 28, 64)        36928     \n",
      "_________________________________________________________________\n",
      "max_pooling2d (MaxPooling2D) (None, 14, 14, 64)        0         \n",
      "_________________________________________________________________\n",
      "conv2d_2 (Conv2D)            (None, 14, 14, 128)       73856     \n",
      "_________________________________________________________________\n",
      "conv2d_3 (Conv2D)            (None, 14, 14, 128)       147584    \n",
      "_________________________________________________________________\n",
      "max_pooling2d_1 (MaxPooling2 (None, 7, 7, 128)         0         \n",
      "_________________________________________________________________\n",
      "conv2d_4 (Conv2D)            (None, 7, 7, 256)         295168    \n",
      "_________________________________________________________________\n",
      "conv2d_5 (Conv2D)            (None, 7, 7, 256)         590080    \n",
      "_________________________________________________________________\n",
      "conv2d_6 (Conv2D)            (None, 7, 7, 256)         590080    \n",
      "_________________________________________________________________\n",
      "max_pooling2d_2 (MaxPooling2 (None, 3, 3, 256)         0         \n",
      "_________________________________________________________________\n",
      "conv2d_7 (Conv2D)            (None, 3, 3, 512)         1180160   \n",
      "_________________________________________________________________\n",
      "conv2d_8 (Conv2D)            (None, 3, 3, 512)         2359808   \n",
      "_________________________________________________________________\n",
      "conv2d_9 (Conv2D)            (None, 3, 3, 512)         2359808   \n",
      "_________________________________________________________________\n",
      "max_pooling2d_3 (MaxPooling2 (None, 1, 1, 512)         0         \n",
      "_________________________________________________________________\n",
      "conv2d_10 (Conv2D)           (None, 1, 1, 512)         2359808   \n",
      "_________________________________________________________________\n",
      "conv2d_11 (Conv2D)           (None, 1, 1, 512)         2359808   \n",
      "_________________________________________________________________\n",
      "conv2d_12 (Conv2D)           (None, 1, 1, 512)         2359808   \n",
      "_________________________________________________________________\n",
      "flatten (Flatten)            (None, 512)               0         \n",
      "_________________________________________________________________\n",
      "dense (Dense)                (None, 4096)              2101248   \n",
      "_________________________________________________________________\n",
      "dropout (Dropout)            (None, 4096)              0         \n",
      "_________________________________________________________________\n",
      "dense_1 (Dense)              (None, 4096)              16781312  \n",
      "_________________________________________________________________\n",
      "dropout_1 (Dropout)          (None, 4096)              0         \n",
      "_________________________________________________________________\n",
      "dense_2 (Dense)              (None, 10)                40970     \n",
      "=================================================================\n",
      "Total params: 33,637,066\n",
      "Trainable params: 33,637,066\n",
      "Non-trainable params: 0\n",
      "_________________________________________________________________\n",
      "20210323_09_01_52\n",
      "mnist_cnn20210323_09_01_52.h5\n",
      "Epoch 1/20\n",
      "32/32 [==============================] - 59s 2s/step - loss: 3.3464 - accuracy: 0.1089\n",
      "Epoch 2/20\n",
      "32/32 [==============================] - 58s 2s/step - loss: 2.3282 - accuracy: 0.1083\n",
      "Epoch 3/20\n",
      "32/32 [==============================] - 57s 2s/step - loss: 2.3049 - accuracy: 0.1076\n",
      "Epoch 4/20\n",
      "32/32 [==============================] - 57s 2s/step - loss: 2.3012 - accuracy: 0.1025\n",
      "Epoch 5/20\n",
      "32/32 [==============================] - 56s 2s/step - loss: 2.3004 - accuracy: 0.1222\n",
      "Epoch 6/20\n",
      "32/32 [==============================] - 56s 2s/step - loss: 2.2970 - accuracy: 0.1141\n",
      "Epoch 7/20\n",
      "32/32 [==============================] - 56s 2s/step - loss: 2.3012 - accuracy: 0.1182\n",
      "Epoch 8/20\n",
      "32/32 [==============================] - 57s 2s/step - loss: 2.3003 - accuracy: 0.1036\n",
      "Epoch 9/20\n",
      "32/32 [==============================] - 58s 2s/step - loss: 2.3011 - accuracy: 0.0963\n",
      "Epoch 10/20\n",
      "32/32 [==============================] - 57s 2s/step - loss: 2.2979 - accuracy: 0.1278\n",
      "Epoch 11/20\n",
      "32/32 [==============================] - 58s 2s/step - loss: 2.3019 - accuracy: 0.1088\n",
      "Epoch 12/20\n",
      "32/32 [==============================] - 58s 2s/step - loss: 2.2996 - accuracy: 0.0840\n",
      "Epoch 13/20\n",
      "31/32 [============================>.] - ETA: 1s - loss: 2.2991 - accuracy: 0.1059Epoch 14/20\n",
      "32/32 [==============================] - 58s 2s/step - loss: 2.2948 - accuracy: 0.1352\n",
      "Epoch 15/20\n",
      "32/32 [==============================] - 57s 2s/step - loss: 2.2984 - accuracy: 0.1220\n",
      "Epoch 16/20\n",
      "32/32 [==============================] - 58s 2s/step - loss: 2.3007 - accuracy: 0.1186\n",
      "Epoch 17/20\n",
      "32/32 [==============================] - 58s 2s/step - loss: 2.2975 - accuracy: 0.1259\n",
      "Epoch 18/20\n",
      "32/32 [==============================] - 57s 2s/step - loss: 2.3007 - accuracy: 0.1167\n",
      "Epoch 19/20\n",
      "32/32 [==============================] - 57s 2s/step - loss: 2.3020 - accuracy: 0.1089\n",
      "Epoch 20/20\n",
      "32/32 [==============================] - 57s 2s/step - loss: 2.2971 - accuracy: 0.1129\n"
     ]
    }
   ],
   "source": [
    "model=VGG16()#创建网络\n",
    "model.summary()\n",
    "base_name=str(datetime.now().strftime(\"%Y%m%d_%H_%M_%S\"))\n",
    "print(base_name)\n",
    "#模型保存路径\n",
    "model_path1 = \"mnist_cnn\"+base_name+\".h5\"\n",
    "print(model_path1)\n",
    "#启动训练\n",
    "train_modell(model,train_images,train_label,model_path1)"
   ]
  },
  {
   "cell_type": "markdown",
   "metadata": {},
   "source": [
    "运行结束在模型文件下保存有生成的模型文件。"
   ]
  },
  {
   "cell_type": "markdown",
   "metadata": {},
   "source": [
    "<img src=\"https://tianchi-public.oss-cn-hangzhou.aliyuncs.com/public/files/forum/161599113747261901615991136442.png\"/>"
   ]
  },
  {
   "cell_type": "markdown",
   "metadata": {},
   "source": [
    "## 四、模型测试"
   ]
  },
  {
   "cell_type": "markdown",
   "metadata": {},
   "source": [
    "### 4.1 模型加载"
   ]
  },
  {
   "cell_type": "code",
   "execution_count": 13,
   "metadata": {},
   "outputs": [],
   "source": [
    "#模型加载函数\n",
    "def load_model(model_save):\n",
    "    model = tf.keras.models.load_model(model_save)\n",
    "    return model"
   ]
  },
  {
   "cell_type": "markdown",
   "metadata": {},
   "source": [
    "### 4.2 模型推理"
   ]
  },
  {
   "cell_type": "code",
   "execution_count": 14,
   "metadata": {},
   "outputs": [
    {
     "name": "stdout",
     "output_type": "stream",
     "text": [
      "prediction:[1]\n"
     ]
    },
    {
     "data": {
      "image/png": "[encoded data removed]",
      "text/plain": [
       "<Figure size 432x288 with 1 Axes>"
      ]
     },
     "metadata": {
      "needs_background": "light"
     },
     "output_type": "display_data"
    }
   ],
   "source": [
    "model=load_model(model_path1)#加载网络\n",
    "test_image = tf.convert_to_tensor([test_imagees[2]])#数据转为tensor\n",
    "pre = model.predict(test_image)#模型预测\n",
    "pre = tf.math.argmax(pre, 1)#获取预测结果  提示one_hot的应用\n",
    "#打印预测结果和标签\n",
    "print(\"prediction:{}\".format(pre))\n",
    "plt.imshow(test_imagees[2])\n",
    "plt.title(\"label {}\".format(test_labels[2]),)\n",
    "plt.show()"
   ]
  },
  {
   "cell_type": "code",
   "execution_count": null,
   "metadata": {},
   "outputs": [],
   "source": []
  }
 ],
 "metadata": {
  "kernelspec": {
   "display_name": "Python 3",
   "language": "python",
   "name": "python3"
  },
  "language_info": {
   "codemirror_mode": {
    "name": "ipython",
    "version": 3
   },
   "file_extension": ".py",
   "mimetype": "text/x-python",
   "name": "python",
   "nbconvert_exporter": "python",
   "pygments_lexer": "ipython3",
   "version": "3.8.10"
  },
  "tianchi_metadata": {
   "competitions": [],
   "datasets": [
    {
     "id": "101545",
     "title": "tensorflow_course_image_data"
    }
   ],
   "description": "",
   "notebookId": "174305",
   "source": "dsw"
  }
 },
 "nbformat": 4,
 "nbformat_minor": 4
}
