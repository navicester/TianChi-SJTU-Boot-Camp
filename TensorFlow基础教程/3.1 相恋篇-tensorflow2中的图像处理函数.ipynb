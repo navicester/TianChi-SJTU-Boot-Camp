{
 "cells": [
  {
   "cell_type": "markdown",
   "metadata": {},
   "source": [
    "# 📚 3.1 相恋篇-tensorflow2中的图像处理函数"
   ]
  },
  {
   "cell_type": "markdown",
   "metadata": {},
   "source": [
    "🔲能今天做好的事就不要等到明天。以梦为马，学习趁年华。"
   ]
  },
  {
   "cell_type": "markdown",
   "metadata": {},
   "source": [
    "tensorflow封装了常见的图像处理函数，主要在tf.image类中，通过简单的调用即可实现对图像的预处理，提高图像预处理的效率。"
   ]
  },
  {
   "cell_type": "markdown",
   "metadata": {},
   "source": [
    "## 一、本节目标\n",
    "        本节将通过罗列函数的形式让读者宏观了解一下tensorflow2中的图像处理函数。"
   ]
  },
  {
   "cell_type": "markdown",
   "metadata": {},
   "source": [
    "## 二、 常用函数列表\n",
    "adjust_brightness(): 调整图像的亮度。  \n",
    "adjust_contrast(): 调整图像的对比度。  \n",
    "adjust_gamma(): 对输入图像执行伽玛校正。  \n",
    "adjust_hue(): 调整RGB图像的色调。  \n",
    "adjust_saturation(): 调整RGB图像的饱和度。   \n",
    "central_crop(): 图像的中心区域裁剪。  \n",
    "convert_image_dtype(): 将图像转换为dtype。  \n",
    "crop_and_resize(): 从输入的图像张量中提取感兴趣区域其进行双线性调整。  \n",
    "crop_to_bounding_box(): 将图像裁剪到指定的边框。  \n",
    "decode_and_crop_jpeg(): 将图像裁剪到指定的边框。  \n",
    "decode_bmp(): 将bmp编码图像的第一帧解码为uint8张量。  \n",
    "decode_gif(): 将gif编码图像的第一帧解码为uint8张量。  \n",
    "decode_image(): bmp、gif、jpeg的解码函数。  \n",
    "decode_jpeg(): 将jpeg编码的图像解码为uint8张量。   \n",
    "decode_png(): 将png编码的图像解码为uint8或uint16张量。  \n",
    "draw_bounding_boxes(): 在一批图像上绘制边框。  \n",
    "encode_jpeg(): 在一幅图像中进行JPEG编码。  \n",
    "encode_png(): 在一幅图像中进行PNG编码。  \n",
    "extract_glimpse(): 从一个输入张量中提取一点点。  \n",
    "extract_jpeg_shape(): 提取jpeg编码图像的形状信息。  \n",
    "flip_left_right(): 水平翻转图像(从左到右)。  \n",
    "flip_up_down(): 垂直翻转图片(上下颠倒)。  \n",
    "grayscale_to_rgb(): 将一个或多个图像从灰度转换为RGB。  \n",
    "hsv_to_rgb(): 将一个或多个图像从HSV转换为RGB。  \n",
    "image_gradients(): 返回每个颜色通道的图像梯度(dy, dx)。  \n",
    "is_jpeg(): 检查'内容'编码的JPEG图像。  \n",
    "non_max_suppression(): 贪婪地选择按得分降序排列的边界框子集。  \n",
    "pad_to_bounding_box(): 用0填充指定高度和宽度的图像。  \n",
    "per_image_standardization(): 线性尺度图像具有零均值和单位范数。  \n",
    "psnr(): 返回a和b之间的峰值信噪比。  \n",
    "random_brightness(): 用一个随机因素调整图像的亮度。  \n",
    "random_contrast(): 用随机因素调整图像的对比度。  \n",
    "random_flip_left_right(): 随机水平翻转图像(从左到右)。  \n",
    "random_flip_up_down(): 随机垂直翻转图像(上下颠倒)。  \n",
    "random_hue(): 通过随机因素调整RGB图像的色调。  \n",
    "random_saturation(): 通过随机因素调整RGB图像的饱和度。  \n",
    "resize_area(): 使用面积插值调整图像的大小。  \n",
    "resize_bicubic(): 使用双三次插值调整图像的大小。  \n",
    "resize_bilinear(): 使用双线性插值调整图像的大小。  \n",
    "resize_image_with_crop_or_pad(): 裁剪和将图像填充到目标宽度和高度。  \n",
    "resize_images(): 调整图像的大小。  \n",
    "resize_nearest_neighbor(): 使用最近邻插值调整图像的大小。  \n",
    "rgb_to_grayscale(): 将图像从RGB颜色空间转换为灰度。  \n",
    "rgb_to_hsv(): 将图像从RGB颜色空间转换为HSV颜色空间。  \n",
    "rgb_to_yiq(): 将图像从RGB颜色空间转换为YIQ颜色空间。  \n",
    "rgb_to_yuv(): 将图像从RGB颜色空间转换为YUV颜色空间。  \n",
    "rot90(): 逆时针旋转图像90度。  \n",
    "sample_distorted_bounding_box(): 为图像生成一个随机扭曲的边框。  \n",
    "sobel_edges(): 返回一个包含索贝尔边映射的张量。  \n",
    "transpose_image(): 转置图像。   \n",
    "yiq_to_rgb(): 将图像从YIQ颜色空间转换为RGB颜色空间。  \n",
    "yuv_to_rgb(): 将图像从YUV颜色空间为RGB颜色空间。  "
   ]
  },
  {
   "cell_type": "code",
   "execution_count": null,
   "metadata": {},
   "outputs": [],
   "source": []
  }
 ],
 "metadata": {
  "kernelspec": {
   "display_name": "Pythontf",
   "language": "python",
   "name": "pythontf"
  },
  "language_info": {
   "codemirror_mode": {
    "name": "ipython",
    "version": 3
   },
   "file_extension": ".py",
   "mimetype": "text/x-python",
   "name": "python",
   "nbconvert_exporter": "python",
   "pygments_lexer": "ipython3",
   "version": "3.7.0"
  }
 },
 "nbformat": 4,
 "nbformat_minor": 4
}
