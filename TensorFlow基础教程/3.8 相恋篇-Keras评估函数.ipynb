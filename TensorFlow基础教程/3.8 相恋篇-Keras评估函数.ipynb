{
 "cells": [
  {
   "cell_type": "markdown",
   "id": "invisible-airfare",
   "metadata": {},
   "source": [
    "# 📚 3.8相恋篇-Keras评估函数\n"
   ]
  },
  {
   "cell_type": "markdown",
   "id": "forced-surname",
   "metadata": {},
   "source": [
    "         ✅希望阳光很暖，微风不燥，时光不老，你我都好\n",
    "\n",
    "----------------------------------------------------------------------------------------------------------------"
   ]
  },
  {
   "cell_type": "markdown",
   "id": "sensitive-stamp",
   "metadata": {},
   "source": [
    "        评估函数是机器学习算法模型，那么损失函数和 评估函数有什么区别呢？有些问题中损失函数可以直接作为评价指标（如回归问题中，均方误差(MSE)既可以用来指导模型构建，又可以在模型完成后评估模型性能）评估指标用于模型构建后，所以它用于评价模型性能。可以看到，他是在模型后，评价预测输出的正确率。"
   ]
  },
  {
   "cell_type": "markdown",
   "id": "other-seattle",
   "metadata": {},
   "source": [
    "<img src=\"https://tianchi-public.oss-cn-hangzhou.aliyuncs.com/public/files/forum/161606768942210991616067688215.png\"/>"
   ]
  },
  {
   "cell_type": "markdown",
   "id": "atlantic-occasion",
   "metadata": {},
   "source": [
    "<img src=\"\"/>"
   ]
  },
  {
   "cell_type": "markdown",
   "id": "european-lunch",
   "metadata": {},
   "source": [
    "# 一、本节目标\n",
    "        知道常用评估函数，知道在哪里可以找到评估函数，会自定义评估函数。"
   ]
  },
  {
   "cell_type": "markdown",
   "id": "activated-extent",
   "metadata": {},
   "source": [
    "# 二、评估函数\n",
    "  "
   ]
  },
  {
   "cell_type": "markdown",
   "id": "regulation-synthetic",
   "metadata": {},
   "source": [
    "    首先我们要知道损失函数在tensorflow2里面哪个位置，可以看到损失函数和评估函数在一起。"
   ]
  },
  {
   "cell_type": "markdown",
   "id": "mineral-shelf",
   "metadata": {},
   "source": [
    "<img src=\"https://tianchi-public.oss-cn-hangzhou.aliyuncs.com/public/files/forum/161606773931066491616067736897.png\"/>"
   ]
  },
  {
   "cell_type": "markdown",
   "id": "stylish-queue",
   "metadata": {},
   "source": [
    "  那么在一个机器学习的过程中激活函数在tensorflow2框架中运用在哪个地方呢，先看一下机器学习的完整下程序。\n",
    "那么损失函数在6.评估模型这里面可以使用，results = model.evaluate(x_test, y_test, batch_size=128)，怎么使用呢？可以直接调用已有的函数，也可以自定义评估函数。"
   ]
  },
  {
   "cell_type": "markdown",
   "id": "incorporate-afternoon",
   "metadata": {},
   "source": [
    "# 三、自定义评估函数"
   ]
  },
  {
   "cell_type": "markdown",
   "id": "legendary-payroll",
   "metadata": {},
   "source": [
    "   自定义评估指标需要继承 tf.keras.metrics.Metric 类，并重写 __init__ 、 update_state 和 result 三个方法。\n",
    "   \n",
    "   __init__(): 所有状态变量都应通过以下方法在此方法中创建self.add_weight()\n",
    "   \n",
    "   \n",
    "   update_state(): 进行所有更新\n",
    "   \n",
    "   result():  返回评估值"
   ]
  },
  {
   "cell_type": "code",
   "execution_count": 1,
   "id": "essential-accreditation",
   "metadata": {},
   "outputs": [],
   "source": [
    "import tensorflow as tf\n",
    "\n",
    "class MM(tf.keras.metrics.Metric): \n",
    "    # 计算正确预测的个数\n",
    "    def __init__(self, name='MM', **kwargs):\n",
    "        super(CatgoricalTP, self).__init__(name=name, **kwargs)\n",
    "        self.MM = self.add_weight(name='MM', initializer='zeros')\n",
    "    def update_state(self, y_true, y_pred, sample_weight=None):\n",
    "        y_pred = tf.argmax(y_pred, axis=-1)\n",
    "        y_true = tf.argmax(y_true, axis=-1)\n",
    "        values = tf.equal(tf.cast(y_pred, 'int32'), tf.cast(y_true, 'int32'))\n",
    "        values = tf.cast(values, 'float32')\n",
    "        if sample_weight is not None:\n",
    "            sample_weights = tf.cast(sample_weight, 'float32')\n",
    "            values = tf.multiply(values, sample_weight)\n",
    " \n",
    "        self.MM.assign_add(tf.reduce_sum(values))\n",
    "    def result(self):\n",
    "        return self.MM\n",
    " \n",
    "    def reset_states(self):\n",
    "        self.MM.assign(0.)"
   ]
  },
  {
   "cell_type": "markdown",
   "id": "recreational-farming",
   "metadata": {},
   "source": [
    "#  四、课后作业"
   ]
  },
  {
   "cell_type": "markdown",
   "id": "copyrighted-animation",
   "metadata": {},
   "source": [
    "      1 知道有哪些评估函数，了解评估函数与损失函数的区别"
   ]
  }
 ],
 "metadata": {
  "kernelspec": {
   "display_name": "Python 3",
   "language": "python",
   "name": "python3"
  },
  "language_info": {
   "codemirror_mode": {
    "name": "ipython",
    "version": 3
   },
   "file_extension": ".py",
   "mimetype": "text/x-python",
   "name": "python",
   "nbconvert_exporter": "python",
   "pygments_lexer": "ipython3",
   "version": "3.7.9"
  }
 },
 "nbformat": 4,
 "nbformat_minor": 5
}
