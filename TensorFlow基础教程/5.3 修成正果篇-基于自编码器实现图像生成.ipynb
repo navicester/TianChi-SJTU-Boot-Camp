{
 "cells": [
  {
   "cell_type": "markdown",
   "metadata": {},
   "source": [
    "# 📚 5.3修成正果篇-基于自编码器实现图像生成"
   ]
  },
  {
   "cell_type": "markdown",
   "metadata": {},
   "source": [
    "自编码器（auto-encoder，AE）是经典的生成模型方法，它的框架图如图所示："
   ]
  },
  {
   "cell_type": "markdown",
   "metadata": {},
   "source": [
    "<img src=\"https://tianchi-public.oss-cn-hangzhou.aliyuncs.com/public/files/forum/161829239860334671618292397960.png\"/>"
   ]
  },
  {
   "cell_type": "markdown",
   "metadata": {},
   "source": [
    "AE 可分为两个网络："
   ]
  },
  {
   "cell_type": "markdown",
   "metadata": {},
   "source": [
    "<h5>编码（encoder）网络，负责从 x 到 z，可称为 E；</h5>\n",
    "\n",
    "<h5>解码（decoder）网络，负责从 z 到 x，可称为 G，因为它和 GAN 中的生成网络都是从 z 到 x。</h5>"
   ]
  },
  {
   "cell_type": "markdown",
   "metadata": {},
   "source": [
    "可以从 x 到 z 看成是压缩信息的过程，从 z 到 x 看成是解压缩的过程。例如，如果 x 是 64*64 的彩色图像，那么它有 3*64*64=12288 维，reshape成一行，然后经过E的过程。得到z，而 z 往往只有 50 到 200 维。"
   ]
  },
  {
   "cell_type": "markdown",
   "metadata": {},
   "source": [
    "# 一、本节目标"
   ]
  },
  {
   "cell_type": "markdown",
   "metadata": {},
   "source": [
    "了解AE框架，编写AE代码，能在自己的数据集上训练自己的图片。"
   ]
  },
  {
   "cell_type": "markdown",
   "metadata": {},
   "source": [
    "# 二、 实战"
   ]
  },
  {
   "cell_type": "markdown",
   "metadata": {},
   "source": [
    "本节设置的模型如下图所示，最后重建的结果在左边download/AEimage中可查看。"
   ]
  },
  {
   "cell_type": "markdown",
   "metadata": {},
   "source": [
    "<img src=\"https://tianchi-public.oss-cn-hangzhou.aliyuncs.com/public/files/forum/161829251945288421618292517960.png\"/>"
   ]
  },
  {
   "cell_type": "markdown",
   "metadata": {},
   "source": [
    "## 2.1 数据集"
   ]
  },
  {
   "cell_type": "markdown",
   "metadata": {},
   "source": [
    "我们使用了Fashion MNIST数据集，包含了 10 类不同类型的衣服、鞋子、包等灰度图片，图片大小为 28x28，共 70000 张图片，其中 60000 张用于训练集，10000 张用于测试集，每行为一种类别图片。可以看到，Fashion MNIST 除了图片内容与 MNIST 不一样，其 它设定都相同，大部分情况可以直接替换掉原来基于 MNIST 训练的算法代码，而不需要 额外修改。由于 Fashion MNIST 图片识别相对于 MNIST 图片更难，因此可以用于测试稍复杂的算法性能。"
   ]
  },
  {
   "cell_type": "code",
   "execution_count": 1,
   "metadata": {},
   "outputs": [
    {
     "name": "stdout",
     "output_type": "stream",
     "text": [
      "2.4.0\n"
     ]
    }
   ],
   "source": [
    "import tensorflow as tf\n",
    "import tensorflow.keras as keras\n",
    "import tensorflow.keras.layers as layers\n",
    "from IPython.display import SVG\n",
    "print(tf.__version__)"
   ]
  },
  {
   "cell_type": "code",
   "execution_count": 12,
   "metadata": {},
   "outputs": [
    {
     "name": "stdout",
     "output_type": "stream",
     "text": [
      "(5000, 28, 28) (5000,)\n",
      "(55000, 28, 28) (55000,)\n",
      "(10000, 28, 28) (10000,)\n",
      "2.4.0\n",
      "sys.version_info(major=3, minor=6, micro=5, releaselevel='final', serial=0)\n",
      "matplotlib 3.3.3\n",
      "numpy 1.19.4\n",
      "pandas 1.1.5\n",
      "sklearn 0.24.1\n",
      "tensorflow 2.4.0\n",
      "tensorflow.keras 2.4.0\n"
     ]
    },
    {
     "data": {
      "image/png": "[encoded data removed]",
      "text/plain": [
       "<Figure size 504x345.6 with 15 Axes>"
      ]
     },
     "metadata": {
      "needs_background": "light"
     },
     "output_type": "display_data"
    }
   ],
   "source": [
    "import matplotlib as mpl\n",
    "import matplotlib.pyplot as plt \n",
    "%matplotlib inline    \n",
    "#为了能在notebook中显示图像\n",
    "import numpy as np\n",
    "import sklearn   \n",
    "import pandas as pd \n",
    "import os \n",
    "import sys \n",
    "import time \n",
    "import tensorflow as tf \n",
    "\n",
    "from tensorflow import keras \n",
    "fashion_mnist = keras.datasets.fashion_mnist  #加载TensorFlow中自带的数据集\n",
    "\n",
    "#拆分数据集，加载数据集后返回训练集以及测试集\n",
    "(x_train_all, y_train_all), (x_test, y_test) = fashion_mnist.load_data() \n",
    "\n",
    "#将训练集进行一次拆分为验证集和训练集\n",
    "x_valid, x_train = x_train_all[:5000], x_train_all[5000:] \n",
    "y_valid, y_train = y_train_all[:5000], y_train_all[5000:]\n",
    "\n",
    "print(x_valid.shape, y_valid.shape)\n",
    "print(x_train.shape, y_train.shape)\n",
    "print(x_test.shape, y_test.shape)\n",
    "\n",
    "print(tf.__version__)\n",
    "print(sys.version_info)\n",
    "for module in mpl, np, pd, sklearn, tf, keras:\n",
    "    print(module.__name__, module.__version__)\n",
    "\n",
    "def show_imgs(n_rows, n_cols, x_data, y_data, class_names):\n",
    "    assert len(x_data) == len(y_data)\n",
    "    assert n_rows * n_cols < len(x_data)\n",
    "    plt.figure(figsize = (n_cols * 1.4, n_rows * 1.6))   #设置图片大小\n",
    "    #循环显示图片\n",
    "    for row in range(n_rows):\n",
    "        for col in range(n_cols):\n",
    "            index = n_cols * row + col \n",
    "            plt.subplot(n_rows, n_cols, index+1)     #subplot绘制子图\n",
    "            plt.imshow(x_data[index], cmap=\"binary\", interpolation=\"nearest\")\n",
    "            plt.axis('off')             #坐标轴不可见 \n",
    "            plt.title(class_names[y_data[index]])\n",
    "    plt.show()\n",
    "    \n",
    "class_names = ['T-shirt', 'Trouser', 'Pullover', 'Dress', 'Coat', 'Sandal', 'Shirt', 'Sneaker', 'Bag', 'Ankele boot']\n",
    "show_imgs(3, 5, x_train, y_train, class_names)\n"
   ]
  },
  {
   "cell_type": "markdown",
   "metadata": {},
   "source": [
    "## 2.2 模型搭建"
   ]
  },
  {
   "cell_type": "markdown",
   "metadata": {},
   "source": [
    "### 2.2.1 编码器的搭建"
   ]
  },
  {
   "cell_type": "markdown",
   "metadata": {},
   "source": [
    "利用编码器 将输入图片x（24*24） flatten拉成784向量，经过编码器降维到20的向量里面。"
   ]
  },
  {
   "cell_type": "raw",
   "metadata": {},
   "source": [
    "#这只是一个编码器里面的思路，具体的代码在主框架中可看到\n",
    "# 784-----256----128---20\n",
    "self.encoder = Sequential([\n",
    "layers.Dense(256, activation=tf.nn.relu),\n",
    "layers.Dense(128, activation=tf.nn.relu), \n",
    "layers.Dense(h_dim)\n",
    "])"
   ]
  },
  {
   "cell_type": "markdown",
   "metadata": {},
   "source": [
    "### 2.2.2 解码器的搭建"
   ]
  },
  {
   "cell_type": "markdown",
   "metadata": {},
   "source": [
    "由20个向量升维到原始图像大小，20-----128------256-----784"
   ]
  },
  {
   "cell_type": "raw",
   "metadata": {},
   "source": [
    "#这只是一个解码器里面的思路，这只是一个编码器里面的思路，具体的代码在主框架中可看到\n",
    "# 创建Decoders网络 \n",
    "self.decoder = Sequential([\n",
    "layers.Dense(128, activation=tf.nn.relu), layers.Dense(256, activation=tf.nn.relu), layers.Dense(784)\n",
    "])"
   ]
  },
  {
   "cell_type": "markdown",
   "metadata": {},
   "source": [
    "### 2.2.3整体框架"
   ]
  },
  {
   "cell_type": "code",
   "execution_count": 20,
   "metadata": {},
   "outputs": [],
   "source": [
    "import os\n",
    "import numpy as np\n",
    "import tensorflow as tf\n",
    "from tensorflow import keras\n",
    "from tensorflow.keras import layers, losses, optimizers, Model, Sequential\n",
    "from PIL import Image\n",
    "import matplotlib.pyplot as plt\n",
    "h_dim = 20 \n",
    "class AE(Model):\n",
    "    # 自编码器模型类，包含了Encoder 和Decoder2 个子网络\n",
    "    def __init__(self):\n",
    "        super(AE, self).__init__()\n",
    "        # 创建Encoders 网络\n",
    "        self.encoder = Sequential([\n",
    "            layers.Dense(256, activation=tf.nn.relu),\n",
    "            layers.Dense(128, activation=tf.nn.relu),\n",
    "            layers.Dense(h_dim)])\n",
    "        # 创建Decoders 网络\n",
    "        self.decoder = Sequential([\n",
    "            layers.Dense(128, activation=tf.nn.relu),\n",
    "            layers.Dense(256, activation=tf.nn.relu),\n",
    "            layers.Dense(784)])\n",
    "\n",
    "    def call(self, inputs, training=None):\n",
    "        #  前向传播函数\n",
    "        #  编码获得隐藏向量h,[b, 784] => [b, 20]\n",
    "        h = self.encoder(inputs)\n",
    "        # 解码获得重建图片，[b, 20] => [b, 784]\n",
    "        x_hat = self.decoder(h)\n",
    "        return x_hat\n"
   ]
  },
  {
   "cell_type": "markdown",
   "metadata": {},
   "source": [
    "## 2.3网络的训练"
   ]
  },
  {
   "cell_type": "markdown",
   "metadata": {},
   "source": [
    "我们固定100个当作epoch"
   ]
  },
  {
   "cell_type": "code",
   "execution_count": null,
   "metadata": {},
   "outputs": [
    {
     "name": "stdout",
     "output_type": "stream",
     "text": [
      "x_train shape: (60000, 28, 28) tf.Tensor(9, shape=(), dtype=uint8) tf.Tensor(0, shape=(), dtype=uint8)\n",
      "x_test shape: (10000, 28, 28)\n",
      "Model: \"ae_6\"\n",
      "_________________________________________________________________\n",
      "Layer (type)                 Output Shape              Param #   \n",
      "=================================================================\n",
      "sequential_9 (Sequential)    (None, 20)                236436    \n",
      "_________________________________________________________________\n",
      "sequential_10 (Sequential)   (None, 784)               237200    \n",
      "=================================================================\n",
      "Total params: 473,636\n",
      "Trainable params: 473,636\n",
      "Non-trainable params: 0\n",
      "_________________________________________________________________\n",
      "0 0 0.6948649883270264\n",
      "0 100 0.34502217173576355\n",
      "0 200 0.3153379559516907\n",
      "0 300 0.3157147467136383\n",
      "0 400 0.29280951619148254\n",
      "1 0 0.29101985692977905\n",
      "1 100 0.29611092805862427\n",
      "1 200 0.2944994270801544\n",
      "1 300 0.3065933585166931\n",
      "1 400 0.29173898696899414\n",
      "2 0 0.2692664861679077\n",
      "2 100 0.2937150001525879\n",
      "2 200 0.2812938392162323\n",
      "2 300 0.28207677602767944\n",
      "2 400 0.2823846638202667\n",
      "3 0 0.27055445313453674\n",
      "3 100 0.2869582772254944\n",
      "3 200 0.28663918375968933\n",
      "3 300 0.2846596837043762\n",
      "3 400 0.2864776849746704\n",
      "4 0 0.2859525978565216\n",
      "4 100 0.25689250230789185\n",
      "4 200 0.29352298378944397\n",
      "4 300 0.2794911861419678\n",
      "4 400 0.2689788341522217\n",
      "5 0 0.2784302830696106\n",
      "5 100 0.2741601765155792\n",
      "5 200 0.2769069969654083\n",
      "5 300 0.2731746733188629\n",
      "5 400 0.29846301674842834\n",
      "6 0 0.28138425946235657\n",
      "6 100 0.2773677110671997\n",
      "6 200 0.2876132130622864\n",
      "6 300 0.2839299738407135\n",
      "6 400 0.2892859876155853\n",
      "7 0 0.2754710912704468\n",
      "7 100 0.28147178888320923\n",
      "7 300 0.2816372811794281\n",
      "8 0 0.2730117738246918\n",
      "8 100 0.268770307302475\n",
      "8 200 0.26589736342430115\n",
      "8 300 0.28282710909843445\n",
      "8 400 0.27402982115745544\n",
      "9 0 0.2727746069431305\n",
      "9 100 0.2795080542564392\n",
      "9 200 0.2769562602043152\n",
      "9 300 0.2733161747455597\n",
      "9 400 0.27531805634498596\n",
      "10 0 0.2878250479698181\n",
      "10 100 0.27678918838500977\n",
      "10 200 0.27520450949668884\n",
      "10 300 0.2746507227420807\n",
      "11 0 0.27489763498306274\n",
      "11 100 0.2877401113510132\n",
      "11 200 0.2636716663837433\n",
      "11 300 0.25893741846084595\n",
      "11 400 0.2661333978176117\n",
      "12 0 0.26214972138404846\n",
      "12 100 0.28380653262138367\n",
      "12 200 0.2717079520225525\n",
      "12 300 0.2843090891838074\n",
      "12 400 0.2757541239261627\n",
      "13 0 0.27734389901161194\n",
      "13 100 0.27034229040145874\n",
      "13 200 0.27332690358161926\n",
      "13 300 0.2694149911403656\n",
      "13 400 0.2760120630264282\n",
      "14 0 0.26894623041152954\n",
      "14 100 0.2805821895599365\n",
      "14 200 0.2691664695739746\n",
      "14 400 0.26527342200279236\n",
      "15 0 0.27113860845565796\n",
      "15 100 0.2766290009021759\n",
      "15 200 0.2710541784763336\n",
      "15 300 0.269555002450943\n",
      "15 400 0.25955501198768616\n",
      "16 0 0.2642630338668823\n",
      "16 100 0.27557292580604553\n",
      "16 200 0.25671786069869995\n",
      "16 400 0.27024132013320923\n",
      "17 0 0.2664238214492798\n",
      "17 100 0.2652036249637604\n",
      "17 200 0.2812349796295166\n",
      "17 300 0.2694605886936188\n",
      "17 400 0.27633917331695557\n",
      "18 0 0.2717397212982178\n",
      "18 100 0.2593885064125061\n",
      "18 200 0.268731951713562\n",
      "18 300 0.2551397979259491\n",
      "18 400 0.28033921122550964\n",
      "19 0 0.27142134308815\n",
      "19 100 0.26140713691711426\n",
      "19 200 0.25624746084213257\n",
      "19 300 0.2684883177280426\n",
      "19 400 0.27627724409103394\n",
      "20 0 0.2682170569896698\n",
      "20 100 0.2537854015827179\n",
      "20 200 0.27859050035476685\n",
      "20 300 0.2670368254184723\n",
      "20 400 0.27827659249305725\n",
      "21 0 0.2621024549007416\n",
      "21 100 0.27789342403411865\n",
      "21 200 0.2765824794769287\n",
      "21 300 0.26681098341941833\n",
      "22 0 0.27106499671936035\n",
      "22 100 0.287212997674942\n",
      "22 200 0.2729230225086212\n",
      "22 400 0.27505722641944885\n",
      "23 0 0.25817161798477173\n",
      "23 100 0.2594031095504761\n",
      "23 200 0.26640912890434265\n",
      "23 300 0.2633781433105469\n",
      "23 400 0.2701352536678314\n",
      "24 0 0.2859296202659607\n",
      "24 100 0.2527267038822174\n",
      "24 200 0.2837345004081726\n",
      "24 300 0.2631641626358032\n",
      "24 400 0.27420586347579956\n",
      "25 0 0.2719224989414215\n",
      "25 100 0.2802189886569977\n",
      "25 200 0.2625633180141449\n",
      "25 300 0.25916701555252075\n",
      "25 400 0.2627173364162445\n",
      "26 0 0.2659093141555786\n",
      "26 100 0.2722870111465454\n",
      "26 200 0.265949547290802\n",
      "26 300 0.26523810625076294\n",
      "26 400 0.2751428186893463\n",
      "27 0 0.27652981877326965\n",
      "27 100 0.267647385597229\n",
      "27 200 0.26293617486953735\n",
      "27 300 0.2874116599559784\n",
      "27 400 0.2606326937675476\n",
      "28 0 0.2641546428203583\n",
      "28 100 0.27436012029647827\n",
      "28 200 0.27048686146736145\n",
      "28 300 0.26762014627456665\n",
      "28 400 0.25376754999160767\n",
      "29 0 0.2524653971195221\n",
      "29 100 0.2620232105255127\n",
      "29 200 0.28584328293800354\n",
      "29 300 0.2831754982471466\n",
      "29 400 0.26205161213874817\n",
      "30 0 0.27253007888793945\n",
      "30 100 0.2566799223423004\n",
      "30 200 0.2633526921272278\n",
      "30 300 0.27587297558784485\n",
      "30 400 0.2658618092536926\n",
      "31 0 0.2768574655056\n",
      "31 100 0.26588505506515503\n",
      "31 200 0.2551478445529938\n",
      "31 300 0.27152371406555176\n",
      "31 400 0.26382386684417725\n",
      "32 0 0.26186010241508484\n",
      "32 100 0.2672916650772095\n",
      "32 200 0.27173200249671936\n",
      "32 300 0.2740539610385895\n",
      "32 400 0.2763693928718567\n",
      "33 100 0.27013057470321655\n",
      "33 200 0.26998409628868103\n",
      "33 300 0.27658477425575256\n",
      "33 400 0.2639411985874176\n",
      "34 0 0.2554118037223816\n",
      "34 100 0.2723660469055176\n",
      "34 200 0.2678564190864563\n",
      "34 300 0.2624058127403259\n",
      "34 400 0.27226826548576355\n",
      "35 0 0.2648804485797882\n",
      "35 100 0.26692259311676025\n",
      "35 200 0.27263957262039185\n",
      "35 300 0.2622808814048767\n",
      "35 400 0.2817021906375885\n",
      "36 0 0.26745614409446716\n",
      "36 100 0.2752182185649872\n",
      "36 200 0.26694416999816895\n",
      "36 300 0.2644902765750885\n",
      "36 400 0.27472177147865295\n",
      "37 0 0.2660601735115051\n",
      "37 100 0.2640385925769806\n",
      "37 200 0.2677844166755676\n",
      "37 300 0.27058911323547363\n",
      "37 400 0.2636524736881256\n",
      "38 0 0.2603929042816162\n",
      "38 100 0.26524490118026733\n",
      "38 200 0.27548471093177795\n",
      "38 300 0.2618814706802368\n",
      "38 400 0.2948319911956787\n",
      "39 0 0.27565163373947144\n",
      "39 100 0.2728605568408966\n",
      "39 200 0.27505701780319214\n",
      "39 300 0.26613283157348633\n",
      "39 400 0.2606273293495178\n",
      "40 0 0.28022757172584534\n",
      "40 100 0.26395225524902344\n",
      "40 200 0.2711379826068878\n",
      "40 300 0.25837501883506775\n",
      "40 400 0.2589191198348999\n",
      "41 0 0.2565232813358307\n",
      "41 100 0.28128135204315186\n",
      "41 200 0.2859173119068146\n",
      "41 400 0.27587780356407166\n",
      "42 0 0.2570134103298187\n",
      "42 100 0.2845369875431061\n",
      "43 100 0.2647767961025238\n",
      "43 200 0.283243864774704\n",
      "43 400 0.28058111667633057\n",
      "44 0 0.26989245414733887\n",
      "44 100 0.2691325843334198\n",
      "44 200 0.26289376616477966\n",
      "44 300 0.26575613021850586\n",
      "44 400 0.2764950096607208\n",
      "45 0 0.275177538394928\n",
      "45 100 0.2631458342075348\n",
      "45 200 0.2594189941883087\n",
      "45 300 0.2613833546638489\n",
      "45 400 0.27244988083839417\n",
      "46 0 0.2643459439277649\n",
      "46 100 0.27484017610549927\n",
      "46 200 0.27112889289855957\n",
      "46 400 0.2761041820049286\n",
      "47 0 0.2649683356285095\n",
      "47 100 0.2693655490875244\n",
      "47 200 0.27331963181495667\n",
      "47 300 0.25849223136901855\n",
      "47 400 0.2448549121618271\n",
      "48 0 0.26705387234687805\n",
      "48 100 0.26458701491355896\n",
      "48 200 0.2671845555305481\n",
      "48 300 0.25420862436294556\n",
      "49 0 0.2687876522541046\n",
      "49 100 0.267188161611557\n",
      "49 200 0.25855863094329834\n",
      "49 300 0.26463741064071655\n",
      "49 400 0.27244147658348083\n",
      "50 0 0.2653707265853882\n",
      "50 100 0.2556944489479065\n",
      "50 200 0.2744258642196655\n",
      "50 300 0.27208617329597473\n",
      "50 400 0.26958557963371277\n",
      "51 0 0.2675621211528778\n",
      "51 100 0.2776339054107666\n",
      "51 200 0.2679872214794159\n",
      "51 300 0.25990068912506104\n",
      "51 400 0.27029237151145935\n",
      "52 100 0.26849210262298584\n",
      "52 200 0.27096912264823914\n",
      "52 300 0.25328508019447327\n",
      "52 400 0.2688957452774048\n",
      "53 0 0.28157082200050354\n",
      "53 100 0.2655223608016968\n",
      "53 200 0.2585009038448334\n",
      "53 300 0.2716958224773407\n",
      "53 400 0.27177292108535767\n",
      "54 0 0.2696261405944824\n",
      "54 100 0.2582775950431824\n",
      "54 200 0.26756224036216736\n",
      "54 300 0.2640986144542694\n",
      "54 400 0.26435551047325134\n",
      "55 0 0.29148736596107483\n",
      "55 300 0.2545417845249176\n",
      "55 400 0.2733990550041199\n",
      "56 0 0.2830277383327484\n",
      "56 100 0.27845343947410583\n",
      "56 200 0.27055761218070984\n",
      "56 300 0.2574371099472046\n",
      "56 400 0.27100878953933716\n",
      "57 0 0.26651301980018616\n",
      "57 100 0.2631749212741852\n",
      "57 200 0.2720746099948883\n",
      "57 300 0.25976452231407166\n",
      "57 400 0.27430295944213867\n",
      "58 0 0.255965918302536\n",
      "58 100 0.2707851231098175\n",
      "58 200 0.2663082182407379\n",
      "58 400 0.26165223121643066\n"
     ]
    }
   ],
   "source": [
    "import os\n",
    "import numpy as np\n",
    "import tensorflow as tf\n",
    "from tensorflow import keras\n",
    "from tensorflow.keras import layers, losses, optimizers, Model, Sequential\n",
    "from PIL import Image\n",
    "import matplotlib.pyplot as plt\n",
    "\n",
    "batchsz = 128  # 批量大小\n",
    "h_dim = 20  # 中间隐藏层维度\n",
    "lr = 0.001\n",
    "\n",
    "# 加载Fashion MNIST 图片数据集\n",
    "(x_train, y_train), (x_test, y_test) = keras.datasets.fashion_mnist.load_data()\n",
    "print('x_train shape:', x_train.shape, tf.reduce_max(y_train), tf.reduce_min(y_train))\n",
    "# x_train shape: (60000, 28, 28) tf.Tensor(9, shape=(), dtype=uint8) tf.Tensor(0, shape=(), dtype=uint8)\n",
    "print('x_test shape:', x_test.shape)  # x_test shape: (10000, 28, 28)\n",
    "\n",
    "# 归一化\n",
    "x_train, x_test = x_train.astype(np.float32) / 255., x_test.astype(np.float32) / 255.\n",
    "# 只需要通过图片数据即可构建数据集对象，不需要标签\n",
    "train_db = tf.data.Dataset.from_tensor_slices(x_train)\n",
    "train_db = train_db.shuffle(10000).batch(batchsz)\n",
    "# 构建测试集对象\n",
    "test_db = tf.data.Dataset.from_tensor_slices(x_test)\n",
    "test_db = test_db.shuffle(1000).batch(batchsz)\n",
    "\n",
    "\n",
    "class AE(Model):\n",
    "    # 自编码器模型类，包含了Encoder 和Decoder2 个子网络\n",
    "    def __init__(self):\n",
    "        super(AE, self).__init__()\n",
    "        # 创建Encoders 网络\n",
    "        self.encoder = Sequential([\n",
    "            layers.Dense(256, activation=tf.nn.relu),\n",
    "            layers.Dense(128, activation=tf.nn.relu),\n",
    "            layers.Dense(h_dim)])\n",
    "        # 创建Decoders 网络\n",
    "        self.decoder = Sequential([\n",
    "            layers.Dense(128, activation=tf.nn.relu),\n",
    "            layers.Dense(256, activation=tf.nn.relu),\n",
    "            layers.Dense(784)])\n",
    "\n",
    "    def call(self, inputs, training=None):\n",
    "        #  前向传播函数\n",
    "        #  编码获得隐藏向量h,[b, 784] => [b, 20]\n",
    "        h = self.encoder(inputs)\n",
    "        # 解码获得重建图片，[b, 20] => [b, 784]\n",
    "        x_hat = self.decoder(h)\n",
    "        return x_hat\n",
    "\n",
    "\n",
    "def save_images(imgs, name):\n",
    "    # 创建280x280 大小图片阵列\n",
    "    new_im = Image.new('L', (280, 280))\n",
    "    index = 0\n",
    "    for i in range(0, 280, 28):  # 10 行图片阵列\n",
    "        for j in range(0, 280, 28):  # 10 列图片阵列\n",
    "            im = imgs[index]\n",
    "            im = Image.fromarray(im, mode='L')\n",
    "            new_im.paste(im, (i, j))  # 写入对应位置\n",
    "            index += 1\n",
    "    # 保存图片阵列\n",
    "    new_im.save(name)\n",
    "\n",
    "\n",
    "def draw():\n",
    "    plt.figure()\n",
    "    plt.plot(train_tot_loss, 'b', label='train')\n",
    "    plt.plot(test_tot_loss, 'r', label='test')\n",
    "    plt.xlabel('Epoch')\n",
    "    plt.ylabel('ACC')\n",
    "    plt.legend()\n",
    "    plt.savefig('exam10.1_train_test_AE.png')\n",
    "    plt.show()\n",
    "\n",
    "\n",
    "# 创建网络对象\n",
    "model = AE()\n",
    "# 指定输入大小\n",
    "model.build(input_shape=(None, 784))\n",
    "# 打印网络信息\n",
    "model.summary()\n",
    "# 创建优化器，并设置学习率\n",
    "optimizer = optimizers.Adam(lr=lr)\n",
    "# 保存训练和测试过程中的误差情况\n",
    "train_tot_loss = []\n",
    "test_tot_loss = []\n",
    "\n",
    "\n",
    "def main():\n",
    "    for epoch in range(100):  # 训练100 个Epoch\n",
    "\n",
    "        cor, tot = 0, 0\n",
    "        for step, x in enumerate(train_db):  # 遍历训练集\n",
    "            # 打平，[b, 28, 28] => [b, 784]\n",
    "            x = tf.reshape(x, [-1, 784])\n",
    "            # 构建梯度记录器\n",
    "            with tf.GradientTape() as tape:\n",
    "                # 前向计算获得重建的图片\n",
    "                x_rec_logits = model(x)\n",
    "                # 计算重建图片与输入之间的损失函数\n",
    "                rec_loss = tf.nn.sigmoid_cross_entropy_with_logits(labels=x, logits=x_rec_logits)\n",
    "                # 计算均值\n",
    "                rec_loss = tf.reduce_mean(rec_loss)\n",
    "                cor += rec_loss\n",
    "                tot += x.shape[0]\n",
    "                # 自动求导，包含了2 个子网络的梯度\n",
    "                grads = tape.gradient(rec_loss, model.trainable_variables)\n",
    "                # 自动更新，同时更新2 个子网络\n",
    "                optimizer.apply_gradients(zip(grads, model.trainable_variables))\n",
    "            if step % 100 == 0:\n",
    "                # 间隔性打印训练误差\n",
    "                print(epoch, step, float(rec_loss))\n",
    "        train_tot_loss.append(cor / tot)\n",
    "\n",
    "        correct, total = 0, 0\n",
    "        for x in test_db:\n",
    "            x = tf.reshape(x, [-1, 784])\n",
    "            out = model(x)\n",
    "            out_loss = tf.nn.sigmoid_cross_entropy_with_logits(labels=x, logits=out)\n",
    "            # 计算均值\n",
    "            loss = tf.reduce_mean(out_loss)\n",
    "            correct += loss\n",
    "            total += x.shape[0]\n",
    "        test_tot_loss.append(correct / total)\n",
    "\n",
    "        if (epoch == 0) or (epoch == 9) or (epoch == 99):\n",
    "            #  重建图像\n",
    "            # 重建图片，从测试集采样一批图片\n",
    "            x = next(iter(test_db))\n",
    "            out_logits = model(tf.reshape(x, [-1, 784]))  # 打平并送入自编码器\n",
    "            x_hat = tf.sigmoid(out_logits)  # 将输出转换为像素值，使用sigmoid 函数\n",
    "            # 恢复为28x28,[b, 784] => [b, 28, 28]\n",
    "            x_hat = tf.reshape(x_hat, [-1, 28, 28])\n",
    "            # 输入的前50 张+重建的前50 张图片合并，[b, 28, 28] => [2b, 28, 28]\n",
    "            x_concat = tf.concat([x[:50], x_hat[:50]], axis=0)\n",
    "            x_concat = x_concat.numpy() * 255.  # 恢复为0~255 范围\n",
    "            x_concat = x_concat.astype(np.uint8)  # 转换为整型\n",
    "            save_images(x_concat, 'AEimage/rec_epoch_%d.png' % (epoch+1))  # 保存图片\n",
    "\n",
    "\n",
    "if __name__ == '__main__':\n",
    "    main()\n",
    "    draw()"
   ]
  },
  {
   "cell_type": "markdown",
   "metadata": {},
   "source": [
    "## 2.4 图片重建"
   ]
  },
  {
   "cell_type": "markdown",
   "metadata": {},
   "source": [
    "图片重建的效果如下，其中图片的左边 5 列为真实图片，右 边 5 列为对应的重建图片，可以看到，第一个 epoch 时，图片重建效果较差，图片非常模 糊，逼真度较差;随着训练的进行，重建图片边缘越来越清晰，第 100 个 epoch 时，重建 的图片效果已经比较接近真实图片。图片的重建代码在训练的模块中。"
   ]
  },
  {
   "cell_type": "raw",
   "metadata": {},
   "source": [
    " if (epoch == 0) or (epoch == 9) or (epoch == 99):\n",
    "            #  重建图像\n",
    "            # 重建图片，从测试集采样一批图片\n",
    "            x = next(iter(test_db))\n",
    "            out_logits = model(tf.reshape(x, [-1, 784]))  # 打平并送入自编码器\n",
    "            x_hat = tf.sigmoid(out_logits)  # 将输出转换为像素值，使用sigmoid 函数\n",
    "            # 恢复为28x28,[b, 784] => [b, 28, 28]\n",
    "            x_hat = tf.reshape(x_hat, [-1, 28, 28])\n",
    "            # 输入的前50 张+重建的前50 张图片合并，[b, 28, 28] => [2b, 28, 28]\n",
    "            x_concat = tf.concat([x[:50], x_hat[:50]], axis=0)\n",
    "            x_concat = x_concat.numpy() * 255.  # 恢复为0~255 范围\n",
    "            x_concat = x_concat.astype(np.uint8)  # 转换为整型\n",
    "            save_images(x_concat, 'AEimage/rec_epoch_%d.png' % (epoch+1))  # 保存图片"
   ]
  },
  {
   "cell_type": "raw",
   "metadata": {},
   "source": [
    "<img src=\"download/AEimage/rec_epoch_1.png\"/>"
   ]
  },
  {
   "cell_type": "markdown",
   "metadata": {},
   "source": [
    "# 三、课后作业"
   ]
  },
  {
   "cell_type": "markdown",
   "metadata": {},
   "source": [
    "1 自己设置一个深度的AE，完成自己数据集的 重建\n",
    "\n",
    "\n",
    "\n",
    "2 掌握网络的输入输出维度变换"
   ]
  }
 ],
 "metadata": {
  "kernelspec": {
   "display_name": "Python 3",
   "language": "python",
   "name": "python3"
  },
  "language_info": {
   "codemirror_mode": {
    "name": "ipython",
    "version": 3
   },
   "file_extension": ".py",
   "mimetype": "text/x-python",
   "name": "python",
   "nbconvert_exporter": "python",
   "pygments_lexer": "ipython3",
   "version": "3.6.5"
  },
  "tianchi_metadata": {
   "competitions": [],
   "datasets": [],
   "description": "",
   "notebookId": "186715",
   "source": "dsw"
  }
 },
 "nbformat": 4,
 "nbformat_minor": 5
}
