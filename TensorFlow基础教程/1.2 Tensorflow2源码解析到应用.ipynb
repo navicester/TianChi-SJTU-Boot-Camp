{
 "cells": [
  {
   "cell_type": "markdown",
   "metadata": {},
   "source": [
    "# 📚 1.2Tensorflow2源码解析到应用 "
   ]
  },
  {
   "cell_type": "markdown",
   "metadata": {},
   "source": [
    "    🔲世界上的一队小小的漂泊者呀，请留下你们的足印在我的文字里。  ---飞鸟集\n",
    "    ✅O troupe of little vagrants of the world, leave your footprints in my words.\n",
    "\n",
    "----------------------------------------------------------------------------------------------------------------"
   ]
  },
  {
   "cell_type": "markdown",
   "metadata": {},
   "source": [
    "## 一、 本节学习目标"
   ]
  },
  {
   "cell_type": "markdown",
   "metadata": {},
   "source": [
    "     熟悉tensorflow目录说明"
   ]
  },
  {
   "cell_type": "markdown",
   "metadata": {},
   "source": [
    "## 二、 源码编译 "
   ]
  },
  {
   "cell_type": "markdown",
   "metadata": {},
   "source": [
    "     我们在使用tensorflow2时直接可以使用pip install tesnorflow就可以，但是我们有时候需要使用tensorflow移植到其它的平台，这个时候就不能直接进行安装啦。这就需要我们自己动手安装tensorflow源码，自己动手进行编译。\n",
    "     具体的编译过程可参考 tensorflow官网。 https://tensorflow.google.cn/install/source ，tensorflow里面代码功能庞大。\n",
    "     那么它们的主体结构"
   ]
  },
  {
   "cell_type": "markdown",
   "metadata": {},
   "source": [
    "<img src=\"http://tianchi-media.oss-cn-beijing.aliyuncs.com/AIlearning/TensorFlow%E8%AF%BE%E7%A8%8B%E5%9B%BE%E7%89%87/tensorflow2%E6%BA%90%E7%A0%81%E8%A7%A3%E6%9E%90%E5%88%B0%E5%BA%94%E7%94%A8/1.png\"/>"
   ]
  },
  {
   "cell_type": "raw",
   "metadata": {},
   "source": [
    "    从目录可以看出，tensorflow可以支持多语言接口，从上到下可以看到，能支持python,c,cc,java接口，本篇学习笔记主要以python作为主体。  \n",
    "那么怎么来支持多语言来完成模型的训练和推断，这就需要SWIG(Simplified Wrapper and Interface Generator)包装饰器，SWIG想要详细了解可以观看官网文档，http://swig.org/Doc3.0/SWIGDocumentation.htm ，SWIG可以使用 c和c++与其他的各种高级语言进行 连接。在TensorFlow使用bazel编译时，swig会生成两个wrapper文件：\n",
    "           1、pywrap_tensorflow_internal.py      :对接上层Python调用\n",
    "           2、pywrap_tensorflow_internal.cc      :对接底层C API调用"
   ]
  },
  {
   "cell_type": "markdown",
   "metadata": {},
   "source": [
    "<img src=\"http://tianchi-media.oss-cn-beijing.aliyuncs.com/AIlearning/TensorFlow%E8%AF%BE%E7%A8%8B%E5%9B%BE%E7%89%87/tensorflow2%E6%BA%90%E7%A0%81%E8%A7%A3%E6%9E%90%E5%88%B0%E5%BA%94%E7%94%A8/3.png\"/>"
   ]
  },
  {
   "cell_type": "markdown",
   "metadata": {},
   "source": [
    "<img src=\"http://tianchi-media.oss-cn-beijing.aliyuncs.com/AIlearning/TensorFlow%E8%AF%BE%E7%A8%8B%E5%9B%BE%E7%89%87/tensorflow2%E6%BA%90%E7%A0%81%E8%A7%A3%E6%9E%90%E5%88%B0%E5%BA%94%E7%94%A8/2.png\"/>"
   ]
  },
  {
   "cell_type": "markdown",
   "metadata": {},
   "source": [
    "     pywrap_tensorflow_internal.py 模块被导入时，会加载_pywrap_tensorflow_internal.so动态链接库，它里面包含了所有运行时接口的符号。\n",
    "     pywrap_tensorflow_internal.cc，注册了一个函数符号表，实现Python接口和C接口的映射。在运行时，就可以通过映射表，找到Python接口在C层的实现了。"
   ]
  },
  {
   "cell_type": "markdown",
   "metadata": {},
   "source": [
    "# 三、tensorflow模块    "
   ]
  },
  {
   "cell_type": "markdown",
   "metadata": {},
   "source": [
    "    我们找到pip install tensorflow 下载的框架，如下图："
   ]
  },
  {
   "cell_type": "markdown",
   "metadata": {},
   "source": [
    "<img src=\"http://tianchi-media.oss-cn-beijing.aliyuncs.com/AIlearning/TensorFlow%E8%AF%BE%E7%A8%8B%E5%9B%BE%E7%89%87/tensorflow2%E6%BA%90%E7%A0%81%E8%A7%A3%E6%9E%90%E5%88%B0%E5%BA%94%E7%94%A8/4.png\"/>"
   ]
  },
  {
   "cell_type": "markdown",
   "metadata": {},
   "source": [
    "这里面最重要的是keras模块。点开可以看到"
   ]
  },
  {
   "cell_type": "markdown",
   "metadata": {},
   "source": [
    "<img src=\"http://tianchi-media.oss-cn-beijing.aliyuncs.com/AIlearning/TensorFlow%E8%AF%BE%E7%A8%8B%E5%9B%BE%E7%89%87/tensorflow2%E6%BA%90%E7%A0%81%E8%A7%A3%E6%9E%90%E5%88%B0%E5%BA%94%E7%94%A8/5.png\"/>"
   ]
  },
  {
   "cell_type": "markdown",
   "metadata": {},
   "source": [
    "          1 api-keras:可以看到里面有我们最需要的一些模块。"
   ]
  },
  {
   "cell_type": "markdown",
   "metadata": {},
   "source": [
    "<img src=\"http://tianchi-media.oss-cn-beijing.aliyuncs.com/AIlearning/TensorFlow%E8%AF%BE%E7%A8%8B%E5%9B%BE%E7%89%87/tensorflow2%E6%BA%90%E7%A0%81%E8%A7%A3%E6%9E%90%E5%88%B0%E5%BA%94%E7%94%A8/6.png\"/>"
   ]
  },
  {
   "cell_type": "markdown",
   "metadata": {},
   "source": [
    "              1.1 activations ：可以 看到最常用的一些激活函数。"
   ]
  },
  {
   "cell_type": "code",
   "execution_count": 5,
   "metadata": {},
   "outputs": [],
   "source": [
    "import tensorflow \n",
    "from tensorflow.python.keras.activations import deserialize #可以看到他是在tensorflow.python.keras.activations文件夹下导入deserialize这个模块"
   ]
  },
  {
   "cell_type": "markdown",
   "metadata": {},
   "source": [
    "<img src=\"http://tianchi-media.oss-cn-beijing.aliyuncs.com/AIlearning/TensorFlow%E8%AF%BE%E7%A8%8B%E5%9B%BE%E7%89%87/tensorflow2%E6%BA%90%E7%A0%81%E8%A7%A3%E6%9E%90%E5%88%B0%E5%BA%94%E7%94%A8/7.png\"/>"
   ]
  },
  {
   "cell_type": "markdown",
   "metadata": {},
   "source": [
    "              1.2  applications ：可以看到里面放了进几年最常用的模型。"
   ]
  },
  {
   "cell_type": "markdown",
   "metadata": {},
   "source": [
    "<img src=\"http://tianchi-media.oss-cn-beijing.aliyuncs.com/AIlearning/TensorFlow%E8%AF%BE%E7%A8%8B%E5%9B%BE%E7%89%87/tensorflow2%E6%BA%90%E7%A0%81%E8%A7%A3%E6%9E%90%E5%88%B0%E5%BA%94%E7%94%A8/8.png\"/>"
   ]
  },
  {
   "cell_type": "markdown",
   "metadata": {},
   "source": [
    "              1.3 datasets:可以看到里面放了最常用的数据集。"
   ]
  },
  {
   "cell_type": "markdown",
   "metadata": {},
   "source": [
    "<img src=\"http://tianchi-media.oss-cn-beijing.aliyuncs.com/AIlearning/TensorFlow%E8%AF%BE%E7%A8%8B%E5%9B%BE%E7%89%87/tensorflow2%E6%BA%90%E7%A0%81%E8%A7%A3%E6%9E%90%E5%88%B0%E5%BA%94%E7%94%A8/9.png\"/>"
   ]
  },
  {
   "cell_type": "markdown",
   "metadata": {},
   "source": [
    "              1.4 layers：需要用到的一些基础操作 ：Dense，Conv1D，Conv2D等等；\n",
    "                  loss:用到的损失函数:BinaryCrossentropy,MAE等等\n",
    "                  metrics: 用到的最常用的评估函数。AUC，Accuracy等等\n",
    "                  optimizers：最常用的优化器。Adadelta，Adam，SGD\n",
    "                  regularizers：最 常用的正则化：L1，L2  #可自行查看。"
   ]
  },
  {
   "cell_type": "markdown",
   "metadata": {},
   "source": [
    "<img src=\"http://tianchi-media.oss-cn-beijing.aliyuncs.com/AIlearning/TensorFlow%E8%AF%BE%E7%A8%8B%E5%9B%BE%E7%89%87/tensorflow2%E6%BA%90%E7%A0%81%E8%A7%A3%E6%9E%90%E5%88%B0%E5%BA%94%E7%94%A8/10.png\"/>"
   ]
  },
  {
   "cell_type": "markdown",
   "metadata": {},
   "source": [
    "# 四、课后习题\n",
    "    1  自行编译源码，如果只是简单的使用，可以做了解，不用特意编译源码。\n",
    "    2 了解tensorflow2框架里面的结构\n",
    "    3 思考，pip install tensorflow,怎样把自己的代码，上传到环境中，进行pip下载。例如自己写的模块交xxy.那么其他人就可以直接pip install xxy就能下载你写的模块，进行使用。"
   ]
  }
 ],
 "metadata": {
  "kernelspec": {
   "display_name": "Python 3",
   "language": "python",
   "name": "python3"
  },
  "language_info": {
   "codemirror_mode": {
    "name": "ipython",
    "version": 3
   },
   "file_extension": ".py",
   "mimetype": "text/x-python",
   "name": "python",
   "nbconvert_exporter": "python",
   "pygments_lexer": "ipython3",
   "version": "3.6.5"
  },
  "tianchi_metadata": {
   "competitions": [],
   "datasets": [],
   "description": "",
   "notebookId": "174657",
   "source": "dsw"
  }
 },
 "nbformat": 4,
 "nbformat_minor": 5
}
