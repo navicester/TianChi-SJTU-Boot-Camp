{
 "cells": [
  {
   "cell_type": "markdown",
   "metadata": {},
   "source": [
    "# 📚 4.4相爱篇-搭建网络"
   ]
  },
  {
   "cell_type": "markdown",
   "metadata": {},
   "source": [
    "🔲能今天做好的事就不要等到明天。以梦为马，学习趁年华。"
   ]
  },
  {
   "cell_type": "markdown",
   "metadata": {},
   "source": [
    "Tensorflow提供了高度封装的接口，搭建网络非常便捷，下面介绍三种常用的搭建网络的方法。"
   ]
  },
  {
   "cell_type": "markdown",
   "metadata": {},
   "source": [
    "## 一、本节目标\n",
    "        本节将详述概述搭建网络的方法，具体包括顺序模型、函数式模型、子类化模型。"
   ]
  },
  {
   "cell_type": "markdown",
   "metadata": {},
   "source": [
    "## 二、 顺序模型\n",
    "通过Keras提供的搭建神经网络类Sequential.可以搭建具有单一输出的神经网络。其使用方式有两种：Sequential内置序列和Sequential外置序列。"
   ]
  },
  {
   "cell_type": "markdown",
   "metadata": {},
   "source": [
    "### 2.1 Sequential内置序列"
   ]
  },
  {
   "cell_type": "code",
   "execution_count": 1,
   "metadata": {},
   "outputs": [],
   "source": [
    "#引入库文件\n",
    "# 引入Tensorflow框架\n",
    "import tensorflow as tf \n",
    "# 引入keras\n",
    "from tensorflow import keras\n",
    "# 引入keras层结构\n",
    "from tensorflow.keras import layers "
   ]
  },
  {
   "cell_type": "code",
   "execution_count": 2,
   "metadata": {},
   "outputs": [
    {
     "name": "stdout",
     "output_type": "stream",
     "text": [
      "Model: \"sequential\"\n",
      "_________________________________________________________________\n",
      "Layer (type)                 Output Shape              Param #   \n",
      "=================================================================\n",
      "layer1 (Dense)               (None, 10)                20        \n",
      "_________________________________________________________________\n",
      "layer2 (Dense)               (None, 15)                165       \n",
      "_________________________________________________________________\n",
      "outputs (Dense)              (None, 5)                 80        \n",
      "=================================================================\n",
      "Total params: 265\n",
      "Trainable params: 265\n",
      "Non-trainable params: 0\n",
      "_________________________________________________________________\n",
      "('Failed to import pydot. You must `pip install pydot` and install graphviz (https://graphviz.gitlab.io/download/), ', 'for `pydotprint` to work.')\n"
     ]
    }
   ],
   "source": [
    "model = tf.keras.Sequential([\n",
    "        # 隐藏层-1\n",
    "        layers.Dense(10, activation=\"relu\", input_shape=(1,), name=\"layer1\"),\n",
    "        # 隐藏层-2\n",
    "        layers.Dense(15, activation=\"relu\", name=\"layer2\"),\n",
    "        # 输出层\n",
    "        layers.Dense(5, activation=\"softmax\", name=\"outputs\")\n",
    "    ])\n",
    "#model.build(input_shape=(4, 28, 28, 1))\n",
    "    # 展示网络结构\n",
    "model.summary()\n",
    "# 绘制网络流程图\n",
    "keras.utils.plot_model(model, \"line-fit-seq.png\", show_shapes=True)"
   ]
  },
  {
   "cell_type": "markdown",
   "metadata": {},
   "source": [
    "### 2.2 Sequential外置序列\n",
    "在 TensorFlow 中，既可以通过自定义权值的底层实现方式搭建神经网络，也可以直接\n",
    "调用现成的卷积层类的高层方式快速搭建复杂网络。我们主要以 2D 卷积为例。"
   ]
  },
  {
   "cell_type": "code",
   "execution_count": 3,
   "metadata": {},
   "outputs": [
    {
     "name": "stdout",
     "output_type": "stream",
     "text": [
      "Model: \"sequential_1\"\n",
      "_________________________________________________________________\n",
      "Layer (type)                 Output Shape              Param #   \n",
      "=================================================================\n",
      "layer1 (Dense)               (None, 10)                20        \n",
      "_________________________________________________________________\n",
      "layer2 (Dense)               (None, 15)                165       \n",
      "_________________________________________________________________\n",
      "outputs (Dense)              (None, 5)                 80        \n",
      "=================================================================\n",
      "Total params: 265\n",
      "Trainable params: 265\n",
      "Non-trainable params: 0\n",
      "_________________________________________________________________\n",
      "('Failed to import pydot. You must `pip install pydot` and install graphviz (https://graphviz.gitlab.io/download/), ', 'for `pydotprint` to work.')\n"
     ]
    }
   ],
   "source": [
    "# Sequential实例化\n",
    "model = tf.keras.Sequential()\n",
    "# 添加隐藏层-1\n",
    "model.add(layers.Dense(10, activation=tf.nn.relu, input_shape=(1,), name=\"layer1\"))\n",
    "# 添加隐藏层-2\n",
    "model.add(layers.Dense(15, activation=tf.nn.relu, name=\"layer2\"))\n",
    "# 添加输出层\n",
    "model.add(layers.Dense(5, activation=tf.nn.softmax, name=\"outputs\"))\n",
    "# 展示网络结构\n",
    "model.summary()\n",
    "# 绘制网络流程图\n",
    "keras.utils.plot_model(model, \"line-fit-seq-add.png\", show_shapes=True)"
   ]
  },
  {
   "cell_type": "markdown",
   "metadata": {},
   "source": [
    "## 三、函数模型\n",
    "函数式模型是一种创建模型的方法，该模型比tf.keras.Sequential更灵活。函数式模型可以处理具有非线性拓扑的模型，具有共享层的模型以及具有多个输入或输出的模型等等。  \n",
    "函数式模型存在以下优势：  \n",
    "（1）易于搭建多输入多输出模型；  \n",
    "（2）具有共享图层的模型；  \n",
    "（3）具有非顺序数据流的模型。  \n",
    "函数式模型通过Model类来实现的。  "
   ]
  },
  {
   "cell_type": "markdown",
   "metadata": {},
   "source": [
    "### 4.1 模型搭建"
   ]
  },
  {
   "cell_type": "code",
   "execution_count": 4,
   "metadata": {},
   "outputs": [],
   "source": [
    "#导入相关的包\n",
    "import tensorboard\n",
    "import tensorflow as tf\n",
    "from tensorflow.keras import Sequential, layers, losses, optimizers, datasets"
   ]
  },
  {
   "cell_type": "code",
   "execution_count": 5,
   "metadata": {},
   "outputs": [
    {
     "name": "stdout",
     "output_type": "stream",
     "text": [
      "Model: \"model\"\n",
      "_________________________________________________________________\n",
      "Layer (type)                 Output Shape              Param #   \n",
      "=================================================================\n",
      "inputs (InputLayer)          [(None, 1)]               0         \n",
      "_________________________________________________________________\n",
      "layer1 (Dense)               (None, 10)                20        \n",
      "_________________________________________________________________\n",
      "layer2 (Dense)               (None, 15)                165       \n",
      "_________________________________________________________________\n",
      "outputs (Dense)              (None, 5)                 80        \n",
      "=================================================================\n",
      "Total params: 265\n",
      "Trainable params: 265\n",
      "Non-trainable params: 0\n",
      "_________________________________________________________________\n",
      "('Failed to import pydot. You must `pip install pydot` and install graphviz (https://graphviz.gitlab.io/download/), ', 'for `pydotprint` to work.')\n"
     ]
    }
   ],
   "source": [
    "# 输入层\n",
    "inputs = tf.keras.Input(shape=(1,), name=\"inputs\")\n",
    "# 隐藏层-1\n",
    "layer1 = layers.Dense(10, activation=\"relu\", name=\"layer1\")(inputs)\n",
    "# 隐藏层-2\n",
    "layer2 = layers.Dense(15, activation=\"relu\", name=\"layer2\")(layer1)\n",
    "# 输出层\n",
    "outputs = layers.Dense(5, activation=\"softmax\", name=\"outputs\")(layer2)\n",
    "# 实例化\n",
    "model = tf.keras.Model(inputs=inputs, outputs=outputs)\n",
    "# 展示网络结构\n",
    "model.summary()\n",
    "# 绘制网络流程图\n",
    "keras.utils.plot_model(model, \"line-fit-model.png\", show_shapes=True)"
   ]
  },
  {
   "cell_type": "markdown",
   "metadata": {},
   "source": [
    "## 四、子类模型"
   ]
  },
  {
   "cell_type": "markdown",
   "metadata": {},
   "source": [
    "通过子类化tf.keras.Model和定义自己的前向传播模型来构建完全可定制的模型。   \n",
    "和eager execution模式相辅相成。"
   ]
  },
  {
   "cell_type": "code",
   "execution_count": 6,
   "metadata": {},
   "outputs": [],
   "source": [
    "class  MyModel(tf.keras.Model):\n",
    "    \"\"\"类继承方式搭建神经网络\n",
    "    参数:\n",
    "        tf.keras.Model: Model父类\n",
    "    返回:\n",
    "        无\n",
    "    \"\"\"\n",
    "    def __init__(self):\n",
    "        # 继承\n",
    "        super(MyModel, self).__init__()\n",
    "        # 隐藏层-1\n",
    "        self.layer1 = layers.Dense(10, activation=tf.nn.relu, name=\"layer1\")\n",
    "        # 隐藏层-2\n",
    "        self.layer2 = layers.Dense(15, activation=tf.nn.relu, name=\"layer2\")\n",
    "        # 输出层\n",
    "        self.outputs = layers.Dense(5, activation=tf.nn.softmax, name=\"outputs\")\n",
    "    def call(self, inputs):\n",
    "        \"\"\"实例回调接口，类似重载()\n",
    "        参数:\n",
    "            self: 对象\n",
    "            inputs: 输入数据\n",
    "        返回:\n",
    "            输出层张量\n",
    "        \"\"\"\n",
    "        layer1 = self.layer1(inputs)\n",
    "        layer2 = self.layer2(layer1)\n",
    "        return self.outputs(layer2)"
   ]
  },
  {
   "cell_type": "code",
   "execution_count": 7,
   "metadata": {},
   "outputs": [
    {
     "name": "stdout",
     "output_type": "stream",
     "text": [
      "inputs shape:(1, 1)\n",
      "Model: \"my_model\"\n",
      "_________________________________________________________________\n",
      "Layer (type)                 Output Shape              Param #   \n",
      "=================================================================\n",
      "layer1 (Dense)               multiple                  20        \n",
      "_________________________________________________________________\n",
      "layer2 (Dense)               multiple                  165       \n",
      "_________________________________________________________________\n",
      "outputs (Dense)              multiple                  80        \n",
      "=================================================================\n",
      "Total params: 265\n",
      "Trainable params: 265\n",
      "Non-trainable params: 0\n",
      "_________________________________________________________________\n"
     ]
    }
   ],
   "source": [
    "#对子类模型的使用\n",
    "inputs = tf.constant([[1]])\n",
    "print(\"inputs shape:{}\".format(inputs.shape))\n",
    "model = MyModel()\n",
    "model(inputs)\n",
    "model.summary()"
   ]
  },
  {
   "cell_type": "markdown",
   "metadata": {},
   "source": [
    "## 五、总结"
   ]
  },
  {
   "cell_type": "markdown",
   "metadata": {},
   "source": [
    "对于三种搭建网络的方法，建议初学者重点掌握子类模型。在此对三种搭建网络的方法进行对比。"
   ]
  },
  {
   "cell_type": "markdown",
   "metadata": {},
   "source": [
    "<img src=\"https://tianchi-public.oss-cn-hangzhou.aliyuncs.com/public/files/forum/161598611720561691615986116125.png\"/>"
   ]
  },
  {
   "cell_type": "code",
   "execution_count": null,
   "metadata": {},
   "outputs": [],
   "source": []
  }
 ],
 "metadata": {
  "kernelspec": {
   "display_name": "Python 3",
   "language": "python",
   "name": "python3"
  },
  "language_info": {
   "codemirror_mode": {
    "name": "ipython",
    "version": 3
   },
   "file_extension": ".py",
   "mimetype": "text/x-python",
   "name": "python",
   "nbconvert_exporter": "python",
   "pygments_lexer": "ipython3",
   "version": "3.6.5"
  },
  "tianchi_metadata": {
   "competitions": [],
   "datasets": [],
   "description": "",
   "notebookId": "174301",
   "source": "dsw"
  }
 },
 "nbformat": 4,
 "nbformat_minor": 4
}
