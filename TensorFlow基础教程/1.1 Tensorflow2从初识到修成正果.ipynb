{
 "cells": [
  {
   "cell_type": "markdown",
   "metadata": {},
   "source": [
    "# Tensorflow2从初识到修成正果\n",
    "工欲善其事 必先利其器"
   ]
  },
  {
   "cell_type": "markdown",
   "metadata": {},
   "source": [
    "# 一、本节目标\n",
    "本节主要阐述一下为什么建议读者拥抱Tensorflow2，从不同的角度分享了使用Tensorflow2的一些体会。依据自身使用Tensorflow2开发项目的经验，组织并撰写了此教程，最后向读者阐明了推荐本教程的几点理由，供读者参考与品味。"
   ]
  },
  {
   "cell_type": "markdown",
   "metadata": {},
   "source": [
    "# 二、Why选择Tensorflow2\n",
    "Tensorflow目前发布了两个版本：1.x和2.0，通过对这两个版本的使用，相较于Tensorflow1.x,有以下感触：  \n",
    "\n",
    "**（1）简单易用:**  \n",
    "\n",
    "Tensorflow2去除了冗余的接口，并将计算过程封装成了函数，方便开发者调用。同时，Tensorflow2内置了Keras,使用Keras开发神经网络更加便捷。\n",
    "\n",
    "**（2）工具多样化：**  \n",
    "\n",
    "Tensorflow2提供绝大多数AI开发及落地应用的函数，从数据处理，到搭建及可视化网络，从训练网络到部署应用网络，从各种文件读取到保存等，几乎实现了Opencv\\pillow\\Matplotlib所包含的所有功能。\n",
    "\n",
    "**（3）兼容性好，受众广：**  \n",
    "\n",
    "Tensorflow2针对不同等级的AI开发者提供了不同等级的接口，为底层开发者提供了底层接口，为高层开发者提供了高层接口。\n",
    "\n",
    "**（4）高效：**  \n",
    "\n",
    "Tensorflow2使用了Eager execution机制，与python运行时集成度更高，动态图机制可以实时获取结果，开发效率更高。新的装饰器的加入，可将python对象转换为图结构，实现张量的跟踪。  \n",
    "\n",
    "总而言之，Tensorflow2的发布，标志者AI新纪元的开启，解放了AI开发者，加速了AI的发展。"
   ]
  },
  {
   "cell_type": "markdown",
   "metadata": {},
   "source": [
    "# 三、Why选择本教程\n",
    "\n",
    "**1 举网以纲 ， 千目皆张：**  \n",
    "\n",
    "\n",
    "本教程完全基于Tensorflow2设计，涵盖了AI开发各阶段的知识点，一张知识网络图，让你快速建立知识架构。"
   ]
  },
  {
   "cell_type": "markdown",
   "metadata": {},
   "source": [
    "\n",
    "<img src=\"https://tianchi-public.oss-cn-hangzhou.aliyuncs.com/public/files/forum/161646347595067281616463477056.png\"/>"
   ]
  },
  {
   "cell_type": "markdown",
   "metadata": {},
   "source": [
    "**2 由浅入深：**     \n",
    "\n",
    "本教程按照AI项目开发的需求及不同受众的实际情况，有针对性的对知识进行了分类，让初学者从初识到相知，让AI培训学员及高校学生从相恋到相爱，让1.x开发者从相爱到修成正果。  \n",
    "<img src=\"https://tianchi-public.oss-cn-hangzhou.aliyuncs.com/public/files/forum/161646360367434151616463604572.png\"/>"
   ]
  },
  {
   "cell_type": "markdown",
   "metadata": {},
   "source": [
    "**3 实践出真知：**  \n",
    "\n",
    "本教程理论与实践相结合，有知识点的地方必有code相伴。让你在理论和实践的交替中，轻松掌握Tensorflow2的使用。此外，为了让读者系统的掌握AI开发，本教程配备了目前常见的完整案例，让读者通过实践实现巩固与提升。 "
   ]
  },
  {
   "cell_type": "markdown",
   "metadata": {},
   "source": [
    "**4 授人以鱼不如授人以渔：**  \n",
    "\n",
    "本教程让你学到的不仅仅是Tensorflow2的工具函数，而是让你完整的学会如何使用Tensorflow2进行AI开发。本教程通过串联的方式，详述了AI开发工作的完整流程，从数据处理，网络搭建到网络训练及优化，最后到持久化网络模型。  \n",
    "\n",
    "<img src=\"https://tianchi-public.oss-cn-hangzhou.aliyuncs.com/public/files/forum/161646373530463561616463736419.png\"/>"
   ]
  },
  {
   "cell_type": "code",
   "execution_count": null,
   "metadata": {},
   "outputs": [],
   "source": []
  }
 ],
 "metadata": {
  "kernelspec": {
   "display_name": "Python 3",
   "language": "python",
   "name": "python3"
  },
  "language_info": {
   "codemirror_mode": {
    "name": "ipython",
    "version": 3
   },
   "file_extension": ".py",
   "mimetype": "text/x-python",
   "name": "python",
   "nbconvert_exporter": "python",
   "pygments_lexer": "ipython3",
   "version": "3.6.5"
  },
  "tianchi_metadata": {
   "competitions": [],
   "datasets": [],
   "description": "",
   "notebookId": "176812",
   "source": "dsw"
  }
 },
 "nbformat": 4,
 "nbformat_minor": 4
}
