{
 "cells": [
  {
   "cell_type": "markdown",
   "metadata": {},
   "source": [
    "# 📚 TensorFlow基础教程【5.5 曲线拟合】\n"
   ]
  },
  {
   "cell_type": "markdown",
   "metadata": {},
   "source": [
    "能今天做好的事就不要等到明天。以梦为马，学习趁年华。\n"
   ]
  },
  {
   "cell_type": "markdown",
   "metadata": {},
   "source": [
    "通过最简单的神经网络曲线拟合案例，展现人工智能应用开发的全过程，包括数据集制作、网络搭建、网络训练、网络评估及结果预测。"
   ]
  },
  {
   "cell_type": "markdown",
   "metadata": {},
   "source": [
    "## 一、本节目标\n",
    "        本节主要通过Keras自定义搭建神经网络实现曲线的全过程，帮助大家理解Tensorflow2.0开发项目的过程，同时对Tensorflow2.0有一个整体认识。"
   ]
  },
  {
   "cell_type": "markdown",
   "metadata": {},
   "source": [
    "## 二、 项目内容\n",
    "曲线拟合是指给定输入数据，经过网络的计算，输出预测值。本项目中网络拟合的二次曲线为：  \n",
    "$$y=x^2-4x+\\Delta$$\n",
    "\n",
    "其中x 为输入，y为输出， $\\Delta$为随机噪声。"
   ]
  },
  {
   "cell_type": "code",
   "execution_count": 1,
   "metadata": {},
   "outputs": [],
   "source": [
    "#导入头文件\n",
    "import tensorflow as tf \n",
    "from tensorflow import keras\n",
    "import numpy as np \n",
    "import matplotlib.pyplot as plt\n",
    "from datetime import datetime"
   ]
  },
  {
   "cell_type": "markdown",
   "metadata": {},
   "source": [
    "### 2.1 网络搭建\n",
    "     网络搭建在此不完全借助Keras接口，损失函数与优化器部分采用自定义的方式。实现过程如下："
   ]
  },
  {
   "cell_type": "code",
   "execution_count": 10,
   "metadata": {},
   "outputs": [],
   "source": [
    "def creata_net():\n",
    "    \"\"\"使用keras新建神经网络\n",
    "    参数:\n",
    "        无\n",
    "    网络结构：\n",
    "        输入数据：100*1\n",
    "        输入层-隐藏层1： 1*10\n",
    "        隐藏层1—隐藏层2:  10*5\n",
    "        隐藏层2—输出层   ：5*1\n",
    "        输出数据：100*1\n",
    "    返回:\n",
    "        model: 神经网络实例\n",
    "    \"\"\"\n",
    "    model=tf.keras.Sequential([\n",
    "        tf.keras.layers.Dense(\n",
    "            10,\n",
    "            activation=tf.nn.relu,\n",
    "            input_shape=(1,),\n",
    "            name=\"layer1\"\n",
    "            ),\n",
    "         tf.keras.layers.Dense(\n",
    "            5,\n",
    "            activation=tf.nn.relu,\n",
    "            input_shape=(1,),\n",
    "            name=\"layer2\"\n",
    "            ),\n",
    "        tf.keras.layers.Dense(\n",
    "            1,\n",
    "            name=\"outputs\"\n",
    "            )\n",
    "    ])\n",
    "    return model"
   ]
  },
  {
   "cell_type": "code",
   "execution_count": null,
   "metadata": {},
   "outputs": [],
   "source": []
  },
  {
   "cell_type": "markdown",
   "metadata": {},
   "source": [
    "### 2.2 训练网络\n",
    "搭建完成网络结构后，需要通过对网络参数的学习更好的拟合曲线特征，实现预测功能。"
   ]
  },
  {
   "cell_type": "markdown",
   "metadata": {},
   "source": [
    "#### 2.2.1 生成训练数据\n",
    "  神经网络的训练需要大量的数据，在此拟合问题中，我们通过专业的数据处理模块——numpy进行数据的生成。"
   ]
  },
  {
   "cell_type": "code",
   "execution_count": 2,
   "metadata": {},
   "outputs": [],
   "source": [
    "def gen_datas():\n",
    "    \"\"\"生成数据\n",
    "    参数:\n",
    "        无\n",
    "        为了表达训练过程，生成的模拟数据需要加入噪声\n",
    "    返回:\n",
    "        inputs: 输入值（自变量）\n",
    "        outputs: 输出值（因变量）\n",
    "    \"\"\"\n",
    "    # 输入数据\n",
    "    inputs = np.linspace(-5, 5, 100, dtype=np.float32)[:,np.newaxis]\n",
    "    # 噪声数据 符合正态分布\n",
    "    noise = np.random.normal(0, 0.05, inputs.shape).astype(np.float32)\n",
    "    # 输出数据\n",
    "    outputs = np.square(inputs) -4*inputs + noise\n",
    "    # 返回数据\n",
    "    return inputs, outputs"
   ]
  },
  {
   "cell_type": "markdown",
   "metadata": {},
   "source": [
    "Numpy相关函数介绍"
   ]
  },
  {
   "cell_type": "markdown",
   "metadata": {},
   "source": [
    "<img src=\"https://tianchi-public.oss-cn-hangzhou.aliyuncs.com/public/files/forum/161841017564963401618410175949.png\"/>"
   ]
  },
  {
   "cell_type": "markdown",
   "metadata": {},
   "source": [
    "#### 2.2.2 训练网络\n",
    "训练是主要任务是让神经网络学习上述生成数据的规律， 其过程就是逐步更新网络参数，使网络具有预测曲线值的能力。训练开始前需要定义优化器和损失函数，故又可将训练过程分为：计算损失值、获取优化变量和更新网络参数三部分。   \n",
    "1）计算损失  \n",
    "损失值是通过损失函数得来的，在此选用均方差（Mean Squared Error,MSE）损失函数。  "
   ]
  },
  {
   "cell_type": "code",
   "execution_count": 3,
   "metadata": {},
   "outputs": [],
   "source": [
    "def loss(model, inputs, outputs):\n",
    "    \"\"\"计算损失函数值\n",
    "    参数:\n",
    "        model: 神经网络实例\n",
    "        inputs: 输入数据\n",
    "        outputs: 输出数据\n",
    "    返回:\n",
    "        loss_value:\n",
    "    \"\"\"\n",
    "    # 神经网络推理计算：\n",
    "    pre = model(inputs)\n",
    "    # 计算损失值\n",
    "    #自定义方法\n",
    "    # loss_value = tf.reduce_mean(tf.reduce_sum(tf.square(outputs-pre)))\n",
    "    mse = tf.keras.losses.MeanSquaredError()\n",
    "    loss_value = mse(outputs, pre)\n",
    "    # 返回损失值\n",
    "    return loss_value"
   ]
  },
  {
   "cell_type": "markdown",
   "metadata": {},
   "source": [
    "2) 获取优化变量  \n",
    "该过程是目的是获取网络中的训练变量，便于优化器更新训练参数。"
   ]
  },
  {
   "cell_type": "code",
   "execution_count": 4,
   "metadata": {},
   "outputs": [],
   "source": [
    "def grad_loss(model, inputs, outputs):\n",
    "    \"\"\"计算损失函数值及获取梯度优化对象\n",
    "    参数:\n",
    "        model: 神经网络实例\n",
    "        inputs: 输入数据\n",
    "        outputs: 输出数据\n",
    "    返回:\n",
    "        loss_value: 损失值\n",
    "        tape.gradient: 损失梯度优化对象\n",
    "    \"\"\"\n",
    "    # 梯度优化\n",
    "    with tf.GradientTape() as tape:\n",
    "        # 计算损失值\n",
    "        loss_value = loss(model, inputs, outputs)\n",
    "    # 返回数据\n",
    "    return loss_value, tape.gradient(loss_value, model.trainable_variables)"
   ]
  },
  {
   "cell_type": "markdown",
   "metadata": {},
   "source": [
    "3）优化损失函数  \n",
    "该过程是主要目的是更新网络参数。在此为防止出现梯度爆炸的情况，使用Adam优化器促进网络快速收敛。"
   ]
  },
  {
   "cell_type": "code",
   "execution_count": 5,
   "metadata": {},
   "outputs": [],
   "source": [
    "def optimizer_loss(model, inputs, outputs):\n",
    "    \"\"\"优化器\n",
    "    参数:\n",
    "        model: 神经网络实例\n",
    "        inputs: 输入数据\n",
    "        outputs: 输出数据\n",
    "    返回:\n",
    "        loss_value: 损失函数值\n",
    "    \"\"\"\n",
    "    # 优化器：Adam\n",
    "    optimizer = tf.keras.optimizers.Adam(learning_rate=0.001)\n",
    "    # 损失值及获取梯度优化对象\n",
    "    loss_value, grads = grad_loss(model, inputs, outputs)\n",
    "    # 损失函数优化，更新训练变量\n",
    "    optimizer.apply_gradients(zip(grads, model.trainable_variables))\n",
    "    # 返回数据\n",
    "    return loss_value"
   ]
  },
  {
   "cell_type": "markdown",
   "metadata": {},
   "source": [
    "4）训练神经网络  \n",
    "网络训练的过程就参数迭代更新的过程，在此需要指定训练次数，模型保存路径等信息。实现代码如下："
   ]
  },
  {
   "cell_type": "code",
   "execution_count": 6,
   "metadata": {},
   "outputs": [],
   "source": [
    "def train_model(model,inputs, outputs, model_path):\n",
    "    \"\"\"训练神经网络\n",
    "    参数:\n",
    "        model: 神经网络实例\n",
    "        inputs: 输入数据\n",
    "        outputs: 输出数据\n",
    "        model_path: 模型文件路径\n",
    "        log_path: 日志文件路径\n",
    "    返回:\n",
    "        无\n",
    "    \"\"\"\n",
    "    # 迭代次数\n",
    "    num_epochs = 1800\n",
    "    # 输出计数\n",
    "    n = 0\n",
    "    # 开始迭代计算\n",
    "    for epoch in range(num_epochs):\n",
    "        # 损失均值对象\n",
    "        epoch_loss_avg = tf.keras.metrics.Mean()\n",
    "        # 预测值与真实值差的绝对值平均\n",
    "        epoch_accuracy = tf.keras.metrics.MeanAbsoluteError()\n",
    "        # 计算损失值\n",
    "        loss_value = optimizer_loss(model, inputs, outputs)\n",
    "        # 损失值均值\n",
    "        epoch_loss_avg(loss_value)\n",
    "        # 更新偏差\n",
    "        _ = epoch_accuracy.update_state(outputs, model(inputs))\n",
    "        # 每训练300次，输出一次结果\n",
    "        if epoch % 300 == 0:\n",
    "            pre = model(inputs)\n",
    "            n += 1\n",
    "            plt.subplot(2,3,n).set_title(\"Figure{}\".format(n))\n",
    "            plt.subplots_adjust(wspace=0.5, hspace=0.5)\n",
    "            plt.plot(inputs, pre, \"r\")\n",
    "            plt.scatter(inputs, outputs, s=2, c=\"b\")\n",
    "            plt.xlabel(\"input\")\n",
    "            plt.ylabel(\"output\")\n",
    "            plt.title(\" train{}times\".format(epoch))\n",
    "            print(\"epoch:{}, loss:{:.3f}, accuracy:{}\".format(\n",
    "                epoch, epoch_loss_avg.result(), 1-epoch_accuracy.result()\n",
    "            ))\n",
    "        # 保存模型\n",
    "        model.save_weights(model_path)\n",
    "    plt.savefig(\"./result_train.png\", format=\"png\", dpi=300)\n",
    "    plt.show()"
   ]
  },
  {
   "cell_type": "markdown",
   "metadata": {},
   "source": [
    "开启训练的主程序为："
   ]
  },
  {
   "cell_type": "code",
   "execution_count": 11,
   "metadata": {},
   "outputs": [
    {
     "name": "stdout",
     "output_type": "stream",
     "text": [
      "20210414-22:12:37\n",
      "inputs shape: (100, 1)\n",
      "outputs shape: (100, 1)\n",
      "epoch:0, loss:257.129, accuracy:-9.439844131469727\n",
      "epoch:300, loss:32.224, accuracy:-3.092864990234375\n",
      "epoch:600, loss:5.640, accuracy:-1.043654203414917\n",
      "epoch:900, loss:2.424, accuracy:-0.34048032760620117\n",
      "epoch:1200, loss:1.971, accuracy:-0.19972097873687744\n",
      "epoch:1500, loss:1.464, accuracy:-0.025240063667297363\n"
     ]
    },
    {
     "data": {
      "image/png": "[encoded data removed]",
      "text/plain": [
       "<Figure size 432x288 with 6 Axes>"
      ]
     },
     "metadata": {
      "needs_background": "light"
     },
     "output_type": "display_data"
    }
   ],
   "source": [
    "# 时间戳\n",
    "stamp = datetime.now().strftime(\"%Y%m%d-%H:%M:%S\")\n",
    "print(stamp)\n",
    "model_path = \"./models/mid/line-fit-mid\" +stamp\n",
    "# 生成数据\n",
    "inputs, outputs = gen_datas()\n",
    "# 获取数据维度\n",
    "print(\"inputs shape: {}\".format(inputs.shape))\n",
    "print(\"outputs shape: {}\".format(outputs.shape))\n",
    "# 新建网络模型\n",
    "model = creata_net()\n",
    "train_model(model, inputs, outputs, model_path)"
   ]
  },
  {
   "cell_type": "markdown",
   "metadata": {},
   "source": [
    "训练过程中每训练300次就保存一次模型，并输出当前的损失值和模型的预测精度。训练过程中的拟合效果打印的效果图所示。"
   ]
  },
  {
   "cell_type": "markdown",
   "metadata": {},
   "source": [
    "## 四、作业\n",
    "1、调整训练参数，重新训练出一个高精度的预测模型。   \n",
    "2、自行完成Keras神经网络的搭建及训练，实现曲线拟合功能。"
   ]
  },
  {
   "cell_type": "code",
   "execution_count": null,
   "metadata": {},
   "outputs": [],
   "source": []
  }
 ],
 "metadata": {
  "kernelspec": {
   "display_name": "Python 3",
   "language": "python",
   "name": "python3"
  },
  "language_info": {
   "codemirror_mode": {
    "name": "ipython",
    "version": 3
   },
   "file_extension": ".py",
   "mimetype": "text/x-python",
   "name": "python",
   "nbconvert_exporter": "python",
   "pygments_lexer": "ipython3",
   "version": "3.6.5"
  },
  "tianchi_metadata": {
   "competitions": [],
   "datasets": [],
   "description": "",
   "notebookId": "187843",
   "source": "dsw"
  }
 },
 "nbformat": 4,
 "nbformat_minor": 4
}
