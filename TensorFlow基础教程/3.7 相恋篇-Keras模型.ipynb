{
 "cells": [
  {
   "cell_type": "markdown",
   "id": "centered-gateway",
   "metadata": {},
   "source": [
    "#  📚 3.7相恋篇-Keras模型\n"
   ]
  },
  {
   "cell_type": "markdown",
   "id": "worse-imperial",
   "metadata": {},
   "source": [
    "         ✅能今天做好的事就不要等到明天。以梦为马，学习趁年华.\n",
    "\n",
    "----------------------------------------------------------------------------------------------------------------"
   ]
  },
  {
   "cell_type": "markdown",
   "id": "floppy-harassment",
   "metadata": {},
   "source": [
    "   对于常用的网络模型，如 ResNet，VGG 等，不需要手动创建网络，可以直接从keras.applications 子模块下一行代码即可创建并使用这些经典模型，同时还可以通过设置weights 参数加载预训练的网络参数，非常方便。那么这里面都有什么经典的模型呢？如图:"
   ]
  },
  {
   "cell_type": "markdown",
   "id": "later-terrace",
   "metadata": {},
   "source": [
    "<img src=\"https://tianchi-public.oss-cn-hangzhou.aliyuncs.com/public/files/forum/161606632025543651616066319358.png\"/>"
   ]
  },
  {
   "cell_type": "markdown",
   "id": "subject-bench",
   "metadata": {},
   "source": [
    "# 一、本节目标\n",
    "        本节介绍加载常用模型和设置weights 参数加载预训练的网络参数。"
   ]
  },
  {
   "cell_type": "markdown",
   "id": "timely-mattress",
   "metadata": {},
   "source": [
    "# 二、加载模型\n",
    "  "
   ]
  },
  {
   "cell_type": "markdown",
   "id": "enhanced-township",
   "metadata": {},
   "source": [
    "    以 ResNet50 迁移学习为例，一般将 ResNet50 去掉最后一层后的网络作为新任务的特 征提取子网络，即利用 ImageNet 上面预训练的特征提取方法迁移到我们自定义的数据集 上，并根据自定义任务的类别追加一个对应数据类别数的全连接分类层，从而可以在预训 练网络的基础上可以快速、高效地学习新任务。首先利用 Keras 模型乐园加载 ImageNet 预训练的ResNet50网络: "
   ]
  },
  {
   "cell_type": "code",
   "execution_count": null,
   "id": "legendary-salem",
   "metadata": {},
   "outputs": [
    {
     "name": "stdout",
     "output_type": "stream",
     "text": [
      "Downloading data from https://storage.googleapis.com/tensorflow/keras-applications/resnet/resnet50_weights_tf_dim_ordering_tf_kernels_notop.h5\n",
      "12771328/94765736 [===>..........................] - ETA: 54:54"
     ]
    }
   ],
   "source": [
    "import tensorflow as tf #导入tensorflow\n",
    "from tensorflow import keras  # 导入keras模型，不能使用import keras，它导入的是标准的Keras库\n",
    "# 加载 ImageNet 预训练网络模型，并去掉最后一层\n",
    "resnet = keras.applications.ResNet50(weights='imagenet',include_top=False)\n",
    "resnet.summary()\n",
    "x = tf.random.normal([4,224,224,3]) \n",
    "out = resnet(x)\n",
    "out.shape"
   ]
  },
  {
   "cell_type": "markdown",
   "id": "billion-approval",
   "metadata": {},
   "source": [
    "#  三、课后作业"
   ]
  },
  {
   "cell_type": "markdown",
   "id": "plastic-groove",
   "metadata": {},
   "source": [
    "      1 试着加载keras里面自带的模型\n",
    "      2 熟悉每个模型结构"
   ]
  }
 ],
 "metadata": {
  "kernelspec": {
   "display_name": "Python 3",
   "language": "python",
   "name": "python3"
  },
  "language_info": {
   "codemirror_mode": {
    "name": "ipython",
    "version": 3
   },
   "file_extension": ".py",
   "mimetype": "text/x-python",
   "name": "python",
   "nbconvert_exporter": "python",
   "pygments_lexer": "ipython3",
   "version": "3.7.9"
  }
 },
 "nbformat": 4,
 "nbformat_minor": 5
}
