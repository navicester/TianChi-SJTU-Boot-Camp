{
 "cells": [
  {
   "cell_type": "markdown",
   "metadata": {},
   "source": [
    "# 📚 4.5相爱篇-模型的加载与保存"
   ]
  },
  {
   "cell_type": "markdown",
   "metadata": {},
   "source": [
    "🔲能今天做好的事就不要等到明天。以梦为马，学习趁年华。"
   ]
  },
  {
   "cell_type": "markdown",
   "metadata": {},
   "source": [
    "训练完网络后需要对训练结果进行保存，即网络参数的持久化。当需要使用网络进行推理预测时，加载保存的数据即可。"
   ]
  },
  {
   "cell_type": "markdown",
   "metadata": {},
   "source": [
    "## 一、本节目标\n",
    "        本节主要讲述tensorflow2中模型的类型、保存模型的方法、加载模型的方法"
   ]
  },
  {
   "cell_type": "markdown",
   "metadata": {},
   "source": [
    "## 二、 模型格式\n",
    "tensorflow2中模型有ckpt、h5、pb三种格式。  \n",
    "（1）ckpt格式  \n",
    "ckpt格式是对模型进行分开保存的，主要是3种文件：checkpoint、data、index，各文件的描述如下。  "
   ]
  },
  {
   "cell_type": "markdown",
   "metadata": {},
   "source": [
    "<img src=\"https://tianchi-public.oss-cn-hangzhou.aliyuncs.com/public/files/forum/161598641959821361615986418552.png\"/>"
   ]
  },
  {
   "cell_type": "markdown",
   "metadata": {},
   "source": [
    "（2）h5格式   \n",
    "h5文件将模型的参数以及网络结构保存为一个整体文件。  \n",
    "（3）pb格式  \n",
    "pb格式服务器部署模型，谷歌推荐的保存模型的方式是保存模型为 PB 文件，它具有语言独立性，可独立运行，封闭的序列化格式，任何语言都可以解析它，它允许其他语言和深度学习框架读取、继续训练和迁移 TensorFlow 的模型。  "
   ]
  },
  {
   "cell_type": "markdown",
   "metadata": {},
   "source": [
    "## 三、 模型保存"
   ]
  },
  {
   "cell_type": "markdown",
   "metadata": {},
   "source": [
    "### 2.1 API整体介绍\n",
    "     针对三种格式的模型，tensorflow2三种保存模型的方式，如下表所示。"
   ]
  },
  {
   "cell_type": "markdown",
   "metadata": {},
   "source": [
    "<img src=\"https://tianchi-public.oss-cn-hangzhou.aliyuncs.com/public/files/forum/161598656456577111615986563485.png\"/>"
   ]
  },
  {
   "cell_type": "markdown",
   "metadata": {},
   "source": [
    "### 2.2 API整体介绍"
   ]
  },
  {
   "cell_type": "code",
   "execution_count": 2,
   "metadata": {},
   "outputs": [],
   "source": [
    "#导入库\n",
    "import numpy as np\n",
    "import tensorflow as tf\n",
    "import os"
   ]
  },
  {
   "cell_type": "code",
   "execution_count": 3,
   "metadata": {},
   "outputs": [
    {
     "name": "stdout",
     "output_type": "stream",
     "text": [
      "Train on 1000 samples, validate on 200 samples\n",
      "Epoch 1/5\n",
      "1000/1000 [==============================] - 4s 4ms/sample - loss: 2.3147 - sparse_categorical_accuracy: 0.1020 - val_loss: 2.3235 - val_sparse_categorical_accuracy: 0.0900\n",
      "Epoch 2/5\n",
      "1000/1000 [==============================] - 0s 85us/sample - loss: 2.2932 - sparse_categorical_accuracy: 0.1240 - val_loss: 2.3205 - val_sparse_categorical_accuracy: 0.1100\n",
      "Epoch 3/5\n",
      "1000/1000 [==============================] - 0s 87us/sample - loss: 2.2844 - sparse_categorical_accuracy: 0.1410 - val_loss: 2.3198 - val_sparse_categorical_accuracy: 0.1150\n",
      "Epoch 4/5\n",
      "1000/1000 [==============================] - 0s 80us/sample - loss: 2.2745 - sparse_categorical_accuracy: 0.1460 - val_loss: 2.3134 - val_sparse_categorical_accuracy: 0.0950\n",
      "Epoch 5/5\n",
      "1000/1000 [==============================] - 0s 89us/sample - loss: 2.2663 - sparse_categorical_accuracy: 0.1670 - val_loss: 2.3230 - val_sparse_categorical_accuracy: 0.1050\n",
      "Model: \"model\"\n",
      "_________________________________________________________________\n",
      "Layer (type)                 Output Shape              Param #   \n",
      "=================================================================\n",
      "digits (InputLayer)          [(None, 32)]              0         \n",
      "_________________________________________________________________\n",
      "dense_1 (Dense)              (None, 64)                2112      \n",
      "_________________________________________________________________\n",
      "dense_2 (Dense)              (None, 64)                4160      \n",
      "_________________________________________________________________\n",
      "predictions (Dense)          (None, 10)                650       \n",
      "=================================================================\n",
      "Total params: 6,922\n",
      "Trainable params: 6,922\n",
      "Non-trainable params: 0\n",
      "_________________________________________________________________\n"
     ]
    }
   ],
   "source": [
    "#制作训练数据\n",
    "x_train = np.random.random((1000, 32))\n",
    "y_train = np.random.randint(10, size=(1000,))\n",
    "#制作验证数据\n",
    "x_val = np.random.random((200, 32))\n",
    "y_val = np.random.randint(10, size=(200,))\n",
    "#制作测试数据\n",
    "x_test = np.random.random((200, 32))\n",
    "y_test = np.random.randint(10, size=(200,))\n",
    "#创建网络\n",
    "inputs = tf.keras.Input(shape=(32,), name='digits')\n",
    "x = tf.keras.layers.Dense(64, activation='relu', name='dense_1')(inputs)\n",
    "x = tf.keras.layers.Dense(64, activation='relu', name='dense_2')(x)\n",
    "outputs = tf.keras.layers.Dense(10, name='predictions')(x)\n",
    "model = tf.keras.Model(inputs=inputs, outputs=outputs)\n",
    "\n",
    "#构建优化器及损失函数\n",
    "optimizer = tf.keras.optimizers.RMSprop(learning_rate=1e-3)\n",
    "loss = tf.keras.losses.SparseCategoricalCrossentropy(from_logits=True)\n",
    "metrics = ['sparse_categorical_accuracy']\n",
    "model.compile(optimizer,loss ,metrics)\n",
    "\n",
    "#训练网络\n",
    "model.fit(x_train, y_train, batch_size=32, epochs=5, validation_data=(x_val, y_val))\n",
    "model.summary()"
   ]
  },
  {
   "cell_type": "markdown",
   "metadata": {},
   "source": [
    "### 2.3 保存ckpt模型"
   ]
  },
  {
   "cell_type": "markdown",
   "metadata": {},
   "source": [
    "方法1"
   ]
  },
  {
   "cell_type": "code",
   "execution_count": 4,
   "metadata": {},
   "outputs": [
    {
     "data": {
      "text/plain": [
       "'./models\\\\ckpt-1'"
      ]
     },
     "execution_count": 4,
     "metadata": {},
     "output_type": "execute_result"
    }
   ],
   "source": [
    "os.mkdir(\"./models\") \n",
    "checkpoint_dir=\"./models\"\n",
    "checkpoint_prefix=os.path.join(checkpoint_dir,\"ckpt\")\n",
    "checkpoint=tf.train.Checkpoint(optimizer=optimizer)\n",
    "checkpoint.save(file_prefix=checkpoint_prefix)"
   ]
  },
  {
   "cell_type": "markdown",
   "metadata": {},
   "source": [
    "<img src=\"https://tianchi-public.oss-cn-hangzhou.aliyuncs.com/public/files/forum/161598771322774891615987712181.png\"/>"
   ]
  },
  {
   "cell_type": "markdown",
   "metadata": {},
   "source": [
    "方法二"
   ]
  },
  {
   "cell_type": "code",
   "execution_count": 5,
   "metadata": {},
   "outputs": [],
   "source": [
    "model.save_weights('./model1/save_model.ckpt')"
   ]
  },
  {
   "cell_type": "markdown",
   "metadata": {},
   "source": [
    "<img src=\"https://tianchi-public.oss-cn-hangzhou.aliyuncs.com/public/files/forum/161598775004278801615987748994.png\"/>"
   ]
  },
  {
   "cell_type": "markdown",
   "metadata": {},
   "source": [
    "### 2.4 保存h5模型"
   ]
  },
  {
   "cell_type": "code",
   "execution_count": 6,
   "metadata": {},
   "outputs": [],
   "source": [
    "model.save(\"tf_model.h5\")\n",
    "model.save_weights(\"tf_model_weights.h5\")"
   ]
  },
  {
   "cell_type": "markdown",
   "metadata": {},
   "source": [
    "<img src=\"https://tianchi-public.oss-cn-hangzhou.aliyuncs.com/public/files/forum/161598779606227981615987795024.png\"/>"
   ]
  },
  {
   "cell_type": "markdown",
   "metadata": {},
   "source": [
    "### 2.5 保存pb模型"
   ]
  },
  {
   "cell_type": "code",
   "execution_count": 7,
   "metadata": {},
   "outputs": [
    {
     "name": "stdout",
     "output_type": "stream",
     "text": [
      "WARNING:tensorflow:From C:\\Users\\1\\Anaconda03\\envs\\tf2.0py37\\lib\\site-packages\\tensorflow_core\\python\\ops\\resource_variable_ops.py:1781: calling BaseResourceVariable.__init__ (from tensorflow.python.ops.resource_variable_ops) with constraint is deprecated and will be removed in a future version.\n",
      "Instructions for updating:\n",
      "If using Keras pass *_constraint arguments to layers.\n",
      "INFO:tensorflow:Assets written to: tf_model.pb\\assets\n"
     ]
    }
   ],
   "source": [
    "model_path=\"tf_model.pb\"\n",
    "tf.keras.models.save_model(model,model_path,overwrite=True,include_optimizer=True)"
   ]
  },
  {
   "cell_type": "markdown",
   "metadata": {},
   "source": [
    "<img src=\"https://tianchi-public.oss-cn-hangzhou.aliyuncs.com/public/files/forum/161598784515146571615987844103.png\"/>"
   ]
  },
  {
   "cell_type": "markdown",
   "metadata": {},
   "source": [
    "## 四、 模型加载\n",
    "模型加载是模型用于实际的关键步骤，tensorflow2 提供了两种方式加载模型：只加载模型参数、同时加载模型参数和网络结构。其中只载入模型参数需要重新建立与模型完全一致的网络结构，同时加载模型参数和网络结构则不需要新建网络结构，使用较灵活。"
   ]
  },
  {
   "cell_type": "markdown",
   "metadata": {},
   "source": [
    "### 4.1 总体"
   ]
  },
  {
   "cell_type": "markdown",
   "metadata": {},
   "source": [
    "<img src=\"https://tianchi-public.oss-cn-hangzhou.aliyuncs.com/public/files/forum/161598738165534781615987380575.png\"/>"
   ]
  },
  {
   "cell_type": "markdown",
   "metadata": {},
   "source": [
    "### 4.2ckpt模型加载\n",
    "加载checkpoint模型权重。"
   ]
  },
  {
   "cell_type": "code",
   "execution_count": 9,
   "metadata": {},
   "outputs": [
    {
     "name": "stdout",
     "output_type": "stream",
     "text": [
      "<class 'numpy.ndarray'>\n"
     ]
    }
   ],
   "source": [
    "model.load_weights('./model1/save_model.ckpt')\n",
    "print(type(model.predict(x_test)))"
   ]
  },
  {
   "cell_type": "markdown",
   "metadata": {},
   "source": [
    "### 4.3 h5模型加载\n",
    "（1）同时加载网络结构和参数"
   ]
  },
  {
   "cell_type": "code",
   "execution_count": 10,
   "metadata": {},
   "outputs": [
    {
     "name": "stdout",
     "output_type": "stream",
     "text": [
      "<class 'numpy.ndarray'>\n"
     ]
    }
   ],
   "source": [
    "model_load=tf.keras.models.load_model(\"tf_model.h5\")\n",
    "print(type(model_load.predict(x_test)))"
   ]
  },
  {
   "cell_type": "markdown",
   "metadata": {},
   "source": [
    "（2）只加载参数"
   ]
  },
  {
   "cell_type": "code",
   "execution_count": 11,
   "metadata": {},
   "outputs": [
    {
     "name": "stdout",
     "output_type": "stream",
     "text": [
      "<class 'numpy.ndarray'>\n"
     ]
    }
   ],
   "source": [
    "model.load_weights(\"tf_model_weights.h5\")\n",
    "print(type(model.predict(x_test)))"
   ]
  },
  {
   "cell_type": "code",
   "execution_count": null,
   "metadata": {},
   "outputs": [],
   "source": []
  }
 ],
 "metadata": {
  "kernelspec": {
   "display_name": "Pythontf",
   "language": "python",
   "name": "pythontf"
  },
  "language_info": {
   "codemirror_mode": {
    "name": "ipython",
    "version": 3
   },
   "file_extension": ".py",
   "mimetype": "text/x-python",
   "name": "python",
   "nbconvert_exporter": "python",
   "pygments_lexer": "ipython3",
   "version": "3.7.0"
  }
 },
 "nbformat": 4,
 "nbformat_minor": 4
}
