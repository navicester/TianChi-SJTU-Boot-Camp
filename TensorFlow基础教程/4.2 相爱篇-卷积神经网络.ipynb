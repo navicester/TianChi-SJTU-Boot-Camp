{
 "cells": [
  {
   "cell_type": "markdown",
   "id": "furnished-validity",
   "metadata": {},
   "source": [
    "#  📚 4.2相爱篇-卷积神经网络\n"
   ]
  },
  {
   "cell_type": "markdown",
   "id": "stupid-uzbekistan",
   "metadata": {},
   "source": [
    "         ✅愿你阳光下像个孩子，风里像个大人\n",
    "\n",
    "----------------------------------------------------------------------------------------------------------------"
   ]
  },
  {
   "cell_type": "markdown",
   "id": "guided-links",
   "metadata": {},
   "source": [
    "    卷积神经网络（Convolutional Neural Network, CNN）由一个或多个卷积层和顶端的全连通层（对应经典的神经网络）组成，同时也包括关联权重和池化层（pooling layer）。CNNs目前在很多很多研究领域取得了巨大的成功，例如: 语音识别，图像识别，图像分割，自然语言处理等。我们已经知道使用全连接网络会出现参数非常大的 缺陷 ，为了解决这个缺陷，我们引入了卷积神经网络。"
   ]
  },
  {
   "cell_type": "markdown",
   "id": "completed-neutral",
   "metadata": {},
   "source": [
    "# 一、本节目标\n",
    "        本节将详述概述卷积神经网络，知道什么是卷积，怎么构成卷积神经网络，能够在tensorflow2的环境中，用LeNet-5卷积神经网络实现MNIST手写数据识别。\n"
   ]
  },
  {
   "cell_type": "markdown",
   "id": "communist-burton",
   "metadata": {},
   "source": [
    "# 二、卷积神经网络架构\n",
    "    基础的CNN由 卷积(convolution), 激活(activation), and 池化(pooling)三种结构组成。CNN输出的结果是每幅图像的特定特征空间。当处理图像分类任务时，我们会把CNN输出的特征空间作为全连接层或全连接神经网络(fully connected neural network, FCN)的输入，用全连接层来完成从输入图像到标签集的映射，即分类。当然，整个过程最重要的工作就是如何通过训练数据迭代调整网络权重，也就是后向传播算法。目前主流的卷积神经网络(CNNs)，比如VGG, ResNet都是由简单的CNN调整，组合而来。"
   ]
  },
  {
   "cell_type": "markdown",
   "id": "dependent-alliance",
   "metadata": {},
   "source": [
    "## 2.1 卷积\n",
    "     介绍一下1D离散卷积运算,input=[3,4,5,6],卷积核g=[1,2,3],运算过程如下图："
   ]
  },
  {
   "attachments": {},
   "cell_type": "markdown",
   "id": "least-sixth",
   "metadata": {},
   "source": [
    "<img src=\"http://tianchi-media.oss-cn-beijing.aliyuncs.com/AIlearning/TensorFlow%E8%AF%BE%E7%A8%8B%E5%9B%BE%E7%89%87/%E7%9B%B8%E7%88%B1%E7%AF%87-%E5%8D%B7%E7%A7%AF%E7%A5%9E%E7%BB%8F%E7%BD%91%E7%BB%9C/WechatIMG955.png\"/>"
   ]
  },
  {
   "cell_type": "markdown",
   "id": "timely-dubai",
   "metadata": {},
   "source": [
    "   介绍一下2D离散卷积运算"
   ]
  },
  {
   "cell_type": "markdown",
   "id": "generous-thirty",
   "metadata": {},
   "source": [
    "<img src=\"http://tianchi-media.oss-cn-beijing.aliyuncs.com/AIlearning/TensorFlow%E8%AF%BE%E7%A8%8B%E5%9B%BE%E7%89%87/%E7%9B%B8%E7%88%B1%E7%AF%87-%E5%8D%B7%E7%A7%AF%E7%A5%9E%E7%BB%8F%E7%BD%91%E7%BB%9C/cnn_image_sample.gif\"/>"
   ]
  },
  {
   "attachments": {},
   "cell_type": "markdown",
   "id": "spanish-anxiety",
   "metadata": {},
   "source": [
    "<img src=\"http://tianchi-media.oss-cn-beijing.aliyuncs.com/AIlearning/TensorFlow%E8%AF%BE%E7%A8%8B%E5%9B%BE%E7%89%87/%E7%9B%B8%E7%88%B1%E7%AF%87-%E5%8D%B7%E7%A7%AF%E7%A5%9E%E7%BB%8F%E7%BD%91%E7%BB%9C/WechatIMG956.png\"/>"
   ]
  },
  {
   "cell_type": "markdown",
   "id": "accurate-prefix",
   "metadata": {},
   "source": [
    "   介绍一下三维的卷积网络\n",
    "   一般一张图片是三维的，由（R,G,B）通道构成，现在最常用的就是这种的。"
   ]
  },
  {
   "attachments": {},
   "cell_type": "markdown",
   "id": "descending-reading",
   "metadata": {},
   "source": [
    " <img src=\"http://tianchi-media.oss-cn-beijing.aliyuncs.com/AIlearning/TensorFlow%E8%AF%BE%E7%A8%8B%E5%9B%BE%E7%89%87/%E7%9B%B8%E7%88%B1%E7%AF%87-%E5%8D%B7%E7%A7%AF%E7%A5%9E%E7%BB%8F%E7%BD%91%E7%BB%9C/WechatIMG957.png\"/>"
   ]
  },
  {
   "cell_type": "markdown",
   "id": "comic-observer",
   "metadata": {},
   "source": [
    " 如图可见，每一张图片都会进行上面的计算，提取出特征，其中这里面会进行步长，填充，夸张的参数的设置。"
   ]
  },
  {
   "cell_type": "code",
   "execution_count": 162,
   "id": "played-question",
   "metadata": {},
   "outputs": [],
   "source": [
    "#代码怎么实现卷积呢\n",
    "x=[[[[1,-1,0,2,0],\n",
    "     [-1,-2,2,3,1],\n",
    "     [1,2,-2,1,0],\n",
    "     [0,-1,-1,-3,2],\n",
    "     [2,0,0,1,-1]],\n",
    "     [[2,1,1,-2,3],\n",
    "      [-1,2,-2,3,1],\n",
    "      [-1,0,1,-1,0],\n",
    "      [0,-1,-2,-3,-2],\n",
    "      [1,0,1,3,-1]],\n",
    "       [[3,-1,0,-1,0],\n",
    "       [-1,2,2,3,-1],\n",
    "       [-2,2,-2,-3,0],\n",
    "                     [0,-1,2,-3,0],\n",
    "                     [2,0,0,1,-1]]]]\n"
   ]
  },
  {
   "cell_type": "code",
   "execution_count": 163,
   "id": "balanced-lambda",
   "metadata": {},
   "outputs": [],
   "source": [
    "w=[[[[-1,1,2],\n",
    "   [1,-1,3],\n",
    "   [0,-1,-2]],\n",
    "    [[0,1,-2],\n",
    "     [3,-2,2],\n",
    "    [0,0,1]],\n",
    "     [[-2,-2,0],\n",
    "      [1,0,3],\n",
    "      [1,-1,-1]]]]"
   ]
  },
  {
   "cell_type": "code",
   "execution_count": 164,
   "id": "quality-colors",
   "metadata": {},
   "outputs": [],
   "source": [
    "import tensorflow as tf\n",
    "x= tf.constant(x , tf.float32)\n",
    "w= tf.constant(w , tf.float32 )"
   ]
  },
  {
   "cell_type": "code",
   "execution_count": 165,
   "id": "direct-advocacy",
   "metadata": {},
   "outputs": [
    {
     "data": {
      "text/plain": [
       "TensorShape([1, 3, 5, 5])"
      ]
     },
     "execution_count": 165,
     "metadata": {},
     "output_type": "execute_result"
    }
   ],
   "source": [
    "x.shape"
   ]
  },
  {
   "cell_type": "code",
   "execution_count": 166,
   "id": "outdoor-cambridge",
   "metadata": {},
   "outputs": [
    {
     "data": {
      "text/plain": [
       "TensorShape([1, 3, 3, 3])"
      ]
     },
     "execution_count": 166,
     "metadata": {},
     "output_type": "execute_result"
    }
   ],
   "source": [
    "w.shape"
   ]
  },
  {
   "cell_type": "code",
   "execution_count": 167,
   "id": "allied-presence",
   "metadata": {},
   "outputs": [],
   "source": [
    "x=tf.transpose(x,[0,2,3,1])\n",
    "w=tf.transpose(w,[2,3,1,0])"
   ]
  },
  {
   "cell_type": "code",
   "execution_count": 168,
   "id": "registered-hobby",
   "metadata": {},
   "outputs": [
    {
     "data": {
      "text/plain": [
       "TensorShape([1, 5, 5, 3])"
      ]
     },
     "execution_count": 168,
     "metadata": {},
     "output_type": "execute_result"
    }
   ],
   "source": [
    "x.shape"
   ]
  },
  {
   "cell_type": "code",
   "execution_count": 169,
   "id": "interesting-hungarian",
   "metadata": {},
   "outputs": [],
   "source": [
    "o = tf.nn.conv2d(x,w,strides=1,padding=[[0,0],[0,0],[0,0],[0,0]])"
   ]
  },
  {
   "cell_type": "code",
   "execution_count": 170,
   "id": "useful-taiwan",
   "metadata": {},
   "outputs": [
    {
     "data": {
      "text/plain": [
       "<tf.Tensor: shape=(1, 3, 3, 1), dtype=float32, numpy=\n",
       "array([[[[ -5.],\n",
       "         [ 50.],\n",
       "         [-13.]],\n",
       "\n",
       "        [[ -9.],\n",
       "         [ -6.],\n",
       "         [ -4.]],\n",
       "\n",
       "        [[  0.],\n",
       "         [-23.],\n",
       "         [ 18.]]]], dtype=float32)>"
      ]
     },
     "execution_count": 170,
     "metadata": {},
     "output_type": "execute_result"
    }
   ],
   "source": [
    "o"
   ]
  },
  {
   "cell_type": "markdown",
   "id": "corresponding-breed",
   "metadata": {},
   "source": [
    "    在计算机视觉领域，2D 卷积运算能够提取数据的有用特征，通过特定的卷积核与输入 图片进行卷积运算，能够获得不同特征的输出图片，如下图所示，列举了一些常见的卷积核及其效果样片:"
   ]
  },
  {
   "attachments": {},
   "cell_type": "markdown",
   "id": "material-alliance",
   "metadata": {},
   "source": [
    "<img src=\"http://tianchi-media.oss-cn-beijing.aliyuncs.com/AIlearning/TensorFlow%E8%AF%BE%E7%A8%8B%E5%9B%BE%E7%89%87/%E7%9B%B8%E7%88%B1%E7%AF%87-%E5%8D%B7%E7%A7%AF%E7%A5%9E%E7%BB%8F%E7%BD%91%E7%BB%9C/WechatIMG960.png\"/>"
   ]
  },
  {
   "cell_type": "markdown",
   "id": "vocational-thumb",
   "metadata": {},
   "source": [
    "## 2.2  池化\n",
    "   池化需要一个池化核，在这个核中，通常取最大值或者平均值来代替这个区域，最大值有提取纹理的功能，平均值则考虑了背景。"
   ]
  },
  {
   "cell_type": "code",
   "execution_count": 191,
   "id": "possible-generation",
   "metadata": {},
   "outputs": [],
   "source": [
    "x=tf.random.normal([1,6,6,3])\n",
    "layer=tf.keras.layers.MaxPool2D(strides=2)"
   ]
  },
  {
   "cell_type": "code",
   "execution_count": 192,
   "id": "twenty-domain",
   "metadata": {},
   "outputs": [
    {
     "data": {
      "text/plain": [
       "TensorShape([1, 3, 3, 3])"
      ]
     },
     "execution_count": 192,
     "metadata": {},
     "output_type": "execute_result"
    }
   ],
   "source": [
    "layer(x).shape"
   ]
  },
  {
   "cell_type": "markdown",
   "id": "frequent-program",
   "metadata": {},
   "source": [
    "这是下采样，同样也有上采样\n"
   ]
  },
  {
   "cell_type": "code",
   "execution_count": 194,
   "id": "still-swedish",
   "metadata": {},
   "outputs": [],
   "source": [
    "x=tf.random.normal([1,6,6,3])\n",
    "layer=tf.keras.layers.UpSampling2D(size=(2,2))"
   ]
  },
  {
   "cell_type": "code",
   "execution_count": 195,
   "id": "alert-madonna",
   "metadata": {},
   "outputs": [
    {
     "data": {
      "text/plain": [
       "TensorShape([1, 12, 12, 3])"
      ]
     },
     "execution_count": 195,
     "metadata": {},
     "output_type": "execute_result"
    }
   ],
   "source": [
    "layer(x).shape"
   ]
  },
  {
   "cell_type": "markdown",
   "id": "reflected-fusion",
   "metadata": {},
   "source": [
    "## 2.3 卷积层实现\n",
    "    在 TensorFlow 中，既可以通过自定义权值的底层实现方式搭建神经网络，也可以直接\n",
    "    调用现成的卷积层类的高层方式快速搭建复杂网络。我们主要以 2D 卷积为例。"
   ]
  },
  {
   "cell_type": "code",
   "execution_count": 199,
   "id": "national-genetics",
   "metadata": {},
   "outputs": [
    {
     "data": {
      "text/plain": [
       "TensorShape([2, 3, 3, 4])"
      ]
     },
     "execution_count": 199,
     "metadata": {},
     "output_type": "execute_result"
    }
   ],
   "source": [
    "x = tf.random.normal([2,5,5,3]) # 模拟输入,输入两个样本，一个是3通道，高宽为5\n",
    "w = tf.random.normal([3,3,3,4]) # 需要根据[k,k,cin,cout]格式创建，4个3x3大小卷积核，k是卷积核 的大小，cin是输入的通道数，cout是输出的通道数\n",
    "o = tf.nn.conv2d(x,w,strides=1,padding=[[0,0],[0,0],[0,0],[0,0]]) # 步长为1, padding为0,\n",
    "o.shape"
   ]
  },
  {
   "cell_type": "markdown",
   "id": "prime-ethics",
   "metadata": {},
   "source": [
    "##  2.4 卷积层类"
   ]
  },
  {
   "cell_type": "markdown",
   "id": "tested-ultimate",
   "metadata": {},
   "source": [
    "  layers.Conv2D 可以不需要手动定义卷积核 W 和偏置 b 张量，直接调用类实例即可完成卷积层的前向计算，在 TensorFlow 中，API 的命名首字母大写的对象一般表示类，全部小写的一般表示函数，如layers.Conv2D 表示卷积层类，nn.conv2d 表示卷积运算函数。使用类方式会(在创建类时或build 时)自动创建需要的权值张量和偏置向量，用户不需要记忆卷积核张量的定义格式， 因此使用起来更简单方便，但是灵活性也较低。函数方式的接口需要自行定义权值和偏置等，更加灵活和底层。\n"
   ]
  },
  {
   "cell_type": "code",
   "execution_count": 204,
   "id": "given-procedure",
   "metadata": {},
   "outputs": [
    {
     "data": {
      "text/plain": [
       "TensorShape([2, 10, 10, 4])"
      ]
     },
     "execution_count": 204,
     "metadata": {},
     "output_type": "execute_result"
    }
   ],
   "source": [
    "#卷积核数量参数 filters，卷积核大小 kernel_size，步长strides，填充 padding 等即可，如下创建了 4 个 3x3 大小的卷积核的卷积层，步长为 1，padding 方案为'SAME':\n",
    "x = tf.random.normal([2,10,10,3])\n",
    "layer = tf.keras.layers.Conv2D(4,kernel_size=3,strides=1,padding='SAME')\n",
    "ou = layer(x) # 前向计算\n",
    "ou.shape"
   ]
  },
  {
   "cell_type": "markdown",
   "id": "covered-tender",
   "metadata": {},
   "source": [
    "在类 Conv2D 中，保存了卷积核张量 W 和偏置 b，可以通过类成员 trainable_variables直接返回 W，b 的列表:"
   ]
  },
  {
   "cell_type": "code",
   "execution_count": 205,
   "id": "third-anchor",
   "metadata": {},
   "outputs": [
    {
     "data": {
      "text/plain": [
       "[<tf.Variable 'conv2d_8/kernel:0' shape=(3, 3, 3, 4) dtype=float32, numpy=\n",
       " array([[[[-0.05424875, -0.12316805,  0.14042464, -0.09181267],\n",
       "          [-0.05779049, -0.12499698, -0.18850774,  0.01709244],\n",
       "          [ 0.2861069 , -0.00301814, -0.17811409, -0.13712013]],\n",
       " \n",
       "         [[ 0.08640096,  0.2678291 , -0.06030513,  0.06222528],\n",
       "          [ 0.227536  , -0.07651427, -0.2753651 ,  0.20111397],\n",
       "          [ 0.11253837,  0.04475781,  0.192709  ,  0.21182856]],\n",
       " \n",
       "         [[-0.26467133,  0.23967776, -0.13042375,  0.29990676],\n",
       "          [ 0.04932544, -0.26342934,  0.13425738, -0.23490237],\n",
       "          [ 0.19242659, -0.17633174,  0.20375332, -0.23358253]]],\n",
       " \n",
       " \n",
       "        [[[-0.0566982 , -0.17876334, -0.13366191,  0.08674574],\n",
       "          [ 0.06748837,  0.03183582,  0.16182822,  0.17911127],\n",
       "          [-0.07164086,  0.08939064,  0.2723672 , -0.13861802]],\n",
       " \n",
       "         [[-0.29300937, -0.06000501,  0.14038241,  0.02234846],\n",
       "          [-0.11585164,  0.09885153,  0.27549365, -0.12739405],\n",
       "          [-0.02812186, -0.20751819, -0.17892404,  0.04171452]],\n",
       " \n",
       "         [[ 0.25700697,  0.09840861, -0.28868625, -0.2764801 ],\n",
       "          [ 0.05844694,  0.20214275, -0.14628884,  0.3073626 ],\n",
       "          [-0.04852116,  0.22750589,  0.14866894, -0.02296907]]],\n",
       " \n",
       " \n",
       "        [[[ 0.07073739,  0.00039503,  0.04200441,  0.22084793],\n",
       "          [-0.1895273 , -0.08220896,  0.11259067,  0.13640752],\n",
       "          [ 0.03981924,  0.02902606, -0.16491707,  0.18768382]],\n",
       " \n",
       "         [[ 0.21968117, -0.03945318,  0.23810712, -0.15792212],\n",
       "          [-0.01919228, -0.1288901 , -0.19830304, -0.0171299 ],\n",
       "          [ 0.14315629,  0.01970011, -0.25423715, -0.02575994]],\n",
       " \n",
       "         [[-0.2804526 , -0.29046807, -0.05793631, -0.28832424],\n",
       "          [-0.04208446,  0.22973922,  0.2632126 , -0.2816479 ],\n",
       "          [-0.09203738,  0.11494833, -0.14738207, -0.20518439]]]],\n",
       "       dtype=float32)>,\n",
       " <tf.Variable 'conv2d_8/bias:0' shape=(4,) dtype=float32, numpy=array([0., 0., 0., 0.], dtype=float32)>]"
      ]
     },
     "execution_count": 205,
     "metadata": {},
     "output_type": "execute_result"
    }
   ],
   "source": [
    "layer.trainable_variables"
   ]
  },
  {
   "cell_type": "markdown",
   "id": "honey-barrier",
   "metadata": {},
   "source": [
    "# 三、LeNet-5 实战"
   ]
  },
  {
   "attachments": {},
   "cell_type": "markdown",
   "id": "leading-station",
   "metadata": {},
   "source": [
    "<img src=\"https://tianchi-public.oss-cn-hangzhou.aliyuncs.com/public/files/forum/161612059427842291616120591902.png\"/>"
   ]
  },
  {
   "cell_type": "markdown",
   "id": "therapeutic-madison",
   "metadata": {},
   "source": [
    "Yann LeCun 等人提出了用于手写数字和机器打印字符识别的神经网 络，被命名为 LeNet-5 (Lecun, Bottou, Bengio, & Haffner, 1998)。LeNet-5 的提出，使得卷积神经网络在当时能够成功被商用，广泛应用在邮政编码、支票号码识别等任务中。"
   ]
  },
  {
   "attachments": {},
   "cell_type": "markdown",
   "id": "colored-memorabilia",
   "metadata": {},
   "source": [
    "<img src=\"http://tianchi-media.oss-cn-beijing.aliyuncs.com/AIlearning/TensorFlow%E8%AF%BE%E7%A8%8B%E5%9B%BE%E7%89%87/%E7%9B%B8%E7%88%B1%E7%AF%87-%E5%8D%B7%E7%A7%AF%E7%A5%9E%E7%BB%8F%E7%BD%91%E7%BB%9C/WechatIMG962.png\"/>"
   ]
  },
  {
   "cell_type": "markdown",
   "id": "searching-borough",
   "metadata": {},
   "source": [
    "我们基于 MNIST 手写数字图片数据集训练 LeNet-5 网络，并测试其最终准确度。前面已经介绍了如何在 TensorFlow 中加载 MNIST 数据集。 首先通过 Sequential 容器创建 LeNet-5:"
   ]
  },
  {
   "cell_type": "markdown",
   "id": "declared-singer",
   "metadata": {},
   "source": [
    "## 3.1 模型搭建："
   ]
  },
  {
   "cell_type": "code",
   "execution_count": 206,
   "id": "initial-footwear",
   "metadata": {},
   "outputs": [],
   "source": [
    "#导入相关的包\n",
    "import tensorboard\n",
    "import tensorflow as tf\n",
    "from tensorflow.keras import Sequential, layers, losses, optimizers, datasets\n",
    "import datetime"
   ]
  },
  {
   "cell_type": "code",
   "execution_count": 208,
   "id": "lyric-juvenile",
   "metadata": {},
   "outputs": [],
   "source": [
    "from tensorflow.keras import Sequential\n",
    "model = tf.keras.models.Sequential([\n",
    "    tf.keras.layers.Conv2D(6,kernel_size=3,strides=1), # 第一个卷积层, 6个3x3卷积核\n",
    "    tf.keras.layers.MaxPooling2D(pool_size=2,strides=2), # 高宽各减半的池化层\n",
    "    tf.keras.layers.ReLU(), # 激活函数\n",
    "    tf.keras.layers.Conv2D(16,kernel_size=3,strides=1), # 第二个卷积层, 16个3x3卷积核\n",
    "    tf.keras.layers.MaxPooling2D(pool_size=2,strides=2), # 高宽各减半的池化层\n",
    "    tf.keras.layers.ReLU(), # 激活函数\n",
    "    tf.keras.layers.Flatten(), # 打平层，方便全连接层处理\n",
    "    tf.keras.layers.Dense(120, activation='relu'), # 全连接层，120个节点\n",
    "    tf.keras.layers.Dense(84, activation='relu'), # 全连接层，84节点 layers.Dense(10) # 全连接层，10个节点\n",
    "])\n",
    "# build一次网络模型，给输入X的形状，其中4为随意给的batchsz\n",
    "model.build(input_shape=(4, 28, 28, 1))\n"
   ]
  },
  {
   "cell_type": "markdown",
   "id": "attended-pierce",
   "metadata": {},
   "source": [
    "通过 summary()函数统计出每层的参数量，打印出网络结构信息和每层参数量详情，我们可以与全连接进行参数对比，看一下参数量的变化。"
   ]
  },
  {
   "cell_type": "code",
   "execution_count": 209,
   "id": "theoretical-intro",
   "metadata": {},
   "outputs": [
    {
     "name": "stdout",
     "output_type": "stream",
     "text": [
      "Model: \"sequential_1\"\n",
      "_________________________________________________________________\n",
      "Layer (type)                 Output Shape              Param #   \n",
      "=================================================================\n",
      "conv2d_11 (Conv2D)           (4, 26, 26, 6)            60        \n",
      "_________________________________________________________________\n",
      "max_pooling2d_7 (MaxPooling2 (4, 13, 13, 6)            0         \n",
      "_________________________________________________________________\n",
      "re_lu_2 (ReLU)               (4, 13, 13, 6)            0         \n",
      "_________________________________________________________________\n",
      "conv2d_12 (Conv2D)           (4, 11, 11, 16)           880       \n",
      "_________________________________________________________________\n",
      "max_pooling2d_8 (MaxPooling2 (4, 5, 5, 16)             0         \n",
      "_________________________________________________________________\n",
      "re_lu_3 (ReLU)               (4, 5, 5, 16)             0         \n",
      "_________________________________________________________________\n",
      "flatten_1 (Flatten)          (4, 400)                  0         \n",
      "_________________________________________________________________\n",
      "dense_2 (Dense)              (4, 120)                  48120     \n",
      "_________________________________________________________________\n",
      "dense_3 (Dense)              (4, 84)                   10164     \n",
      "=================================================================\n",
      "Total params: 59,224\n",
      "Trainable params: 59,224\n",
      "Non-trainable params: 0\n",
      "_________________________________________________________________\n"
     ]
    }
   ],
   "source": [
    "model.summary()"
   ]
  },
  {
   "cell_type": "markdown",
   "id": "documentary-garlic",
   "metadata": {},
   "source": [
    "## 3.2 数据处理"
   ]
  },
  {
   "cell_type": "code",
   "execution_count": 214,
   "id": "solved-grammar",
   "metadata": {},
   "outputs": [
    {
     "name": "stdout",
     "output_type": "stream",
     "text": [
      "(60000, 28, 28, 1)\n"
     ]
    }
   ],
   "source": [
    "import tensorboard\n",
    "import tensorflow as tf\n",
    "from tensorflow.keras import Sequential, layers, losses, optimizers, datasets\n",
    "import datetime\n",
    "# 读取数据集,28*28像素1通道mnist图片，标签为10类\n",
    "(train_images, train_labels), (test_images, test_labels) = tf.keras.datasets.mnist.load_data()\n",
    "\n",
    "train_images = tf.reshape(train_images, (train_images.shape[0], train_images.shape[1], train_images.shape[2], 1))\n",
    "print(train_images.shape)\n",
    "test_images = tf.reshape(test_images, (test_images.shape[0], test_images.shape[1], test_images.shape[2], 1))\n",
    "\n",
    "# 数据集归一化\n",
    "train_images = train_images / 255\n",
    "train_labels = train_labels / 255  "
   ]
  },
  {
   "cell_type": "markdown",
   "id": "acknowledged-victorian",
   "metadata": {},
   "source": [
    "## 3.3 模型的训练"
   ]
  },
  {
   "cell_type": "code",
   "execution_count": 212,
   "id": "homeless-grenada",
   "metadata": {},
   "outputs": [],
   "source": [
    "model.compile(optimizer=tf.keras.optimizers.SGD(learning_rate=0.01),\n",
    "              loss=\"sparse_categorical_crossentropy\",\n",
    "              metrics=['acc'])"
   ]
  },
  {
   "cell_type": "code",
   "execution_count": 215,
   "id": "departmental-insulin",
   "metadata": {},
   "outputs": [
    {
     "name": "stdout",
     "output_type": "stream",
     "text": [
      "Epoch 1/5\n",
      "10800/10800 [==============================] - 24s 2ms/step - loss: 0.0253 - acc: 0.0984 - val_loss: 1.8078e-05 - val_acc: 0.0978\n",
      "Epoch 2/5\n",
      "10800/10800 [==============================] - 23s 2ms/step - loss: 1.5462e-05 - acc: 0.0989 - val_loss: 1.6642e-05 - val_acc: 0.0978\n",
      "Epoch 3/5\n",
      "10800/10800 [==============================] - 33s 3ms/step - loss: 1.5047e-05 - acc: 0.0992 - val_loss: 1.6241e-05 - val_acc: 0.0978\n",
      "Epoch 4/5\n",
      "10800/10800 [==============================] - 32s 3ms/step - loss: 1.4746e-05 - acc: 0.0994 - val_loss: 1.5266e-05 - val_acc: 0.0978\n",
      "Epoch 5/5\n",
      "10800/10800 [==============================] - 34s 3ms/step - loss: 1.4553e-05 - acc: 0.0979 - val_loss: 1.5302e-05 - val_acc: 0.0978\n",
      "313/313 [==============================] - 2s 3ms/step - loss: 14.0941 - acc: 0.0978\n"
     ]
    },
    {
     "data": {
      "text/plain": [
       "[14.094076156616211, 0.09780000150203705]"
      ]
     },
     "execution_count": 215,
     "metadata": {},
     "output_type": "execute_result"
    }
   ],
   "source": [
    "history = model.fit(train_images, train_labels, batch_size=5, epochs=5, validation_split=0.1, verbose=1)\n",
    "\n",
    "# 模型评估\n",
    "model.evaluate(test_images, test_labels)\n"
   ]
  },
  {
   "cell_type": "markdown",
   "id": "subtle-somewhere",
   "metadata": {},
   "source": [
    "## 3.4 模型评估 "
   ]
  },
  {
   "cell_type": "code",
   "execution_count": 216,
   "id": "twenty-orange",
   "metadata": {},
   "outputs": [
    {
     "name": "stdout",
     "output_type": "stream",
     "text": [
      "313/313 [==============================] - 1s 2ms/step - loss: 14.0941 - acc: 0.0978\n"
     ]
    },
    {
     "data": {
      "text/plain": [
       "[14.094076156616211, 0.09780000150203705]"
      ]
     },
     "execution_count": 216,
     "metadata": {},
     "output_type": "execute_result"
    }
   ],
   "source": [
    "model.evaluate(test_images, test_labels)"
   ]
  },
  {
   "cell_type": "markdown",
   "id": "confidential-nerve",
   "metadata": {},
   "source": [
    "# 四、课后习题\n",
    "    1 可以会写Vgg网络，Resnet网络等一些常用的网络模型\n",
    "    2 会卷积操作，会计算参数量。"
   ]
  },
  {
   "cell_type": "code",
   "execution_count": null,
   "id": "seventh-checklist",
   "metadata": {},
   "outputs": [],
   "source": []
  }
 ],
 "metadata": {
  "kernelspec": {
   "display_name": "Python 3",
   "language": "python",
   "name": "python3"
  },
  "language_info": {
   "codemirror_mode": {
    "name": "ipython",
    "version": 3
   },
   "file_extension": ".py",
   "mimetype": "text/x-python",
   "name": "python",
   "nbconvert_exporter": "python",
   "pygments_lexer": "ipython3",
   "version": "3.7.9"
  }
 },
 "nbformat": 4,
 "nbformat_minor": 5
}
