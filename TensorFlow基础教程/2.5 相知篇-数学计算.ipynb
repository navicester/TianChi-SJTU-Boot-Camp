{
 "cells": [
  {
   "cell_type": "markdown",
   "metadata": {},
   "source": [
    "# 📚 2.5相知篇-数学计算"
   ]
  },
  {
   "cell_type": "markdown",
   "metadata": {},
   "source": [
    "🔲能今天做好的事就不要等到明天。以梦为马，学习趁年华。"
   ]
  },
  {
   "cell_type": "markdown",
   "metadata": {},
   "source": [
    "Tensorflow2重新组织了数学计算模块，其提供了数学计算、数值处理的全维度接口，方便了使用者对数据的处理。本部分主要讲解tensorflow2的常用数学计算函数。"
   ]
  },
  {
   "cell_type": "markdown",
   "metadata": {},
   "source": [
    "## 一、本节目标\n",
    "        本节将详述讲解tensorflow2的tf.math模块，其提供了常用的基本数学计算、三角计算、复数计算等常用的函数。"
   ]
  },
  {
   "cell_type": "markdown",
   "metadata": {},
   "source": [
    "## 二、 tf.math模块常用函数列表\n",
    "Tensorflow提供了丰富的数学计算函数，并将这些函数统一到了tf.math模块中，常用的函数类型如下表所示。"
   ]
  },
  {
   "cell_type": "markdown",
   "metadata": {},
   "source": [
    "<img src=\"https://tianchi-public.oss-cn-hangzhou.aliyuncs.com/public/files/forum/161598302540250421615983024305.png\"/>"
   ]
  },
  {
   "cell_type": "markdown",
   "metadata": {},
   "source": [
    "关于数学计算所有的API请学者自行查阅文档：https://tensorflow.google.cn/api_docs/python/tf\n",
    "从左侧导航栏找到tf.math模块，即可浏览查看所有的数据计算api及其使用方法。"
   ]
  },
  {
   "cell_type": "markdown",
   "metadata": {},
   "source": [
    "## 三、 基本运算"
   ]
  },
  {
   "cell_type": "markdown",
   "metadata": {},
   "source": [
    "### 2.2 加减乘除\n",
    "加法："
   ]
  },
  {
   "cell_type": "markdown",
   "metadata": {},
   "source": [
    "tf.math.add(\n",
    "    x, y, name=None\n",
    ")"
   ]
  },
  {
   "cell_type": "markdown",
   "metadata": {},
   "source": [
    "Given two input tensors, the tf.add operation computes the sum for every element in the tensor.   \n",
    "Both input and output have a range (-inf, inf).   \n",
    "\n",
    "<img src=\"https://tianchi-public.oss-cn-hangzhou.aliyuncs.com/public/files/forum/161598320833664891615983207233.png\"/>"
   ]
  },
  {
   "cell_type": "markdown",
   "metadata": {},
   "source": [
    "减法、乘法、除法的参数与加法的类似，在此不再赘述，给出相关的API.  \n",
    "\n",
    "减法："
   ]
  },
  {
   "cell_type": "markdown",
   "metadata": {},
   "source": [
    "tf.math.subtract(\n",
    "    x, y, name=None\n",
    ")"
   ]
  },
  {
   "cell_type": "markdown",
   "metadata": {},
   "source": [
    "乘法："
   ]
  },
  {
   "cell_type": "markdown",
   "metadata": {},
   "source": [
    "tf.math.multiply(\n",
    "    x, y, name=None\n",
    ")"
   ]
  },
  {
   "cell_type": "markdown",
   "metadata": {},
   "source": [
    "除法："
   ]
  },
  {
   "cell_type": "markdown",
   "metadata": {},
   "source": [
    "tf.math.divide(\n",
    "    x, y, name=None\n",
    ")"
   ]
  },
  {
   "cell_type": "markdown",
   "metadata": {},
   "source": [
    "代码测试："
   ]
  },
  {
   "cell_type": "code",
   "execution_count": 5,
   "metadata": {},
   "outputs": [
    {
     "name": "stdout",
     "output_type": "stream",
     "text": [
      "tf.Tensor([ 5 13], shape=(2,), dtype=int32)\n",
      "--------------------------------------------------\n",
      "tf.Tensor([1 3], shape=(2,), dtype=int32)\n",
      "--------------------------------------------------\n",
      "tf.Tensor([ 6 40], shape=(2,), dtype=int32)\n",
      "--------------------------------------------------\n",
      "tf.Tensor([1.5 1.6], shape=(2,), dtype=float64)\n"
     ]
    }
   ],
   "source": [
    "import tensorflow as tf\n",
    "# 定义张量常量\n",
    "a = tf.constant([3,8])\n",
    "b = tf.constant([2,5])\n",
    "add = tf.add(a,b)   # 加法\n",
    "sub = tf.subtract(a,b)   # 减法\n",
    "mul = tf.multiply(a,b)   # 乘法\n",
    "div = tf.divide(a,b)   # 除法\n",
    "print(add)\n",
    "print('-'*50)\n",
    "print(sub)\n",
    "print('-'*50)\n",
    "print(mul)\n",
    "print('-'*50)\n",
    "print(div)"
   ]
  },
  {
   "cell_type": "markdown",
   "metadata": {},
   "source": [
    "### 2.2 指数、开方、对数\n",
    "指数运算："
   ]
  },
  {
   "cell_type": "markdown",
   "metadata": {},
   "source": [
    "tf.math.pow(\n",
    "    x, y, name=None\n",
    ")"
   ]
  },
  {
   "cell_type": "markdown",
   "metadata": {},
   "source": [
    "开方运算："
   ]
  },
  {
   "cell_type": "markdown",
   "metadata": {},
   "source": [
    "tf.math.sqrt(\n",
    "    x, name=None\n",
    ")"
   ]
  },
  {
   "cell_type": "markdown",
   "metadata": {},
   "source": [
    "对数运算："
   ]
  },
  {
   "cell_type": "markdown",
   "metadata": {},
   "source": [
    "tf.math.log(\n",
    "    x, name=None\n",
    ")"
   ]
  },
  {
   "cell_type": "markdown",
   "metadata": {},
   "source": [
    "代码测试："
   ]
  },
  {
   "cell_type": "code",
   "execution_count": 8,
   "metadata": {},
   "outputs": [
    {
     "name": "stdout",
     "output_type": "stream",
     "text": [
      "tf.Tensor(\n",
      "[[ 1.  4.]\n",
      " [ 9. 16.]], shape=(2, 2), dtype=float32)\n",
      "--------------------------------------------------\n",
      "tf.Tensor(\n",
      "[[1. 2.]\n",
      " [3. 4.]], shape=(2, 2), dtype=float32)\n",
      "--------------------------------------------------\n",
      "tf.Tensor(\n",
      "[[ 2.7182817  7.389056 ]\n",
      " [20.085537  54.59815  ]], shape=(2, 2), dtype=float32)\n",
      "--------------------------------------------------\n",
      "tf.Tensor(\n",
      "[[0.        0.6931472]\n",
      " [1.0986123 1.3862944]], shape=(2, 2), dtype=float32)\n",
      "--------------------------------------------------\n",
      "tf.Tensor(\n",
      "[[ 1.  4.]\n",
      " [ 9. 16.]], shape=(2, 2), dtype=float32)\n"
     ]
    }
   ],
   "source": [
    "a = tf.constant([[1.,2.],[3.,4.]])\n",
    "# 指数为2\n",
    "b = tf.pow(a,2)\n",
    "# 开方 \n",
    "c = tf.sqrt(b)  \n",
    " # 自然指数运算\n",
    "d = tf.exp(a) \n",
    "# 对数运算,以自然常数e为底的对数\n",
    "e = tf.math.log(a)\n",
    "# 对各个元素求平方\n",
    "f = tf.square(a)   \n",
    "print(b)\n",
    "print('-'*50)\n",
    "print(c)\n",
    "print('-'*50)\n",
    "print(d)\n",
    "print('-'*50)\n",
    "print(e)\n",
    "print('-'*50)\n",
    "print(f)"
   ]
  },
  {
   "cell_type": "markdown",
   "metadata": {},
   "source": [
    "### 2.3矩阵相乘"
   ]
  },
  {
   "cell_type": "code",
   "execution_count": 9,
   "metadata": {},
   "outputs": [
    {
     "name": "stdout",
     "output_type": "stream",
     "text": [
      "tf.Tensor(\n",
      "[[19 22]\n",
      " [43 50]], shape=(2, 2), dtype=int32)\n"
     ]
    }
   ],
   "source": [
    "matrix1 = tf.constant([[1,2],[3,4]])\n",
    "matrix2 = tf.constant([[5,6],[7,8]])\n",
    "result = tf.matmul(matrix1,matrix2)\n",
    "print(result)"
   ]
  },
  {
   "cell_type": "code",
   "execution_count": null,
   "metadata": {},
   "outputs": [],
   "source": []
  }
 ],
 "metadata": {
  "kernelspec": {
   "display_name": "Python 3",
   "language": "python",
   "name": "python3"
  },
  "language_info": {
   "codemirror_mode": {
    "name": "ipython",
    "version": 3
   },
   "file_extension": ".py",
   "mimetype": "text/x-python",
   "name": "python",
   "nbconvert_exporter": "python",
   "pygments_lexer": "ipython3",
   "version": "3.6.5"
  },
  "tianchi_metadata": {
   "competitions": [],
   "datasets": [],
   "description": "",
   "notebookId": "174234",
   "source": "dsw"
  }
 },
 "nbformat": 4,
 "nbformat_minor": 4
}
