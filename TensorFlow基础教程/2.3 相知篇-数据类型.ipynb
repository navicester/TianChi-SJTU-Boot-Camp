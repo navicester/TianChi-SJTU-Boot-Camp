{
 "cells": [
  {
   "cell_type": "markdown",
   "metadata": {},
   "source": [
    "# 📚 2.3相知篇-数据类型"
   ]
  },
  {
   "cell_type": "markdown",
   "metadata": {},
   "source": [
    "🔲能今天做好的事就不要等到明天。以梦为马，学习趁年华。   \n",
    "Tensorflow的基本数据类型有：数值型、字符串型和布尔型。"
   ]
  },
  {
   "cell_type": "markdown",
   "metadata": {},
   "source": [
    "## 一、本节目标\n",
    "        本节将详述概述Tensorflow2中的数据类型及创建方法，通过实例列举了部分常用的 。"
   ]
  },
  {
   "cell_type": "markdown",
   "metadata": {},
   "source": [
    "## 二、 数值型"
   ]
  },
  {
   "cell_type": "markdown",
   "metadata": {},
   "source": [
    "<img src=\"https://tianchi-public.oss-cn-hangzhou.aliyuncs.com/public/files/forum/161598218325659271615982182129.png\">"
   ]
  },
  {
   "cell_type": "markdown",
   "metadata": {},
   "source": [
    "**注意：** TensorFlow中将以上统称为张量，不作严格区分，可以通过type()函数获得数值的类型，tf.is_tensor()函数判断数值是否是张量。  \n",
    "\n",
    "**总结 ：**张量是一个多维数组，张量属性包括：ndim(维度)、shape(形状)和dtype(类型)。tf.Tensors对象可以驻留在加速器内存中(如GPU)。TensorFlow提供了丰富的操作库，用于生成和使用张量。"
   ]
  },
  {
   "cell_type": "markdown",
   "metadata": {},
   "source": [
    "### 2.1 张量创建"
   ]
  },
  {
   "cell_type": "markdown",
   "metadata": {},
   "source": [
    "张量创建通过tf.constant()来实现。"
   ]
  },
  {
   "cell_type": "markdown",
   "metadata": {},
   "source": [
    "tf.constant(\n",
    "    value, dtype=None, shape=None, name='Const'\n",
    ")"
   ]
  },
  {
   "cell_type": "markdown",
   "metadata": {},
   "source": [
    "（1）0维"
   ]
  },
  {
   "cell_type": "code",
   "execution_count": 7,
   "metadata": {},
   "outputs": [
    {
     "data": {
      "text/plain": [
       "(tensorflow.python.framework.ops.EagerTensor, True)"
      ]
     },
     "execution_count": 7,
     "metadata": {},
     "output_type": "execute_result"
    }
   ],
   "source": [
    "import tensorflow as  tf\n",
    "#0维\n",
    "scalar_tf=tf.constant(3.14)\n",
    "type(scalar_tf),tf.is_tensor(scalar_tf) #查看张量类型及是否是张量"
   ]
  },
  {
   "cell_type": "markdown",
   "metadata": {},
   "source": [
    "（2）1维"
   ]
  },
  {
   "cell_type": "code",
   "execution_count": 9,
   "metadata": {},
   "outputs": [
    {
     "data": {
      "text/plain": [
       "(tensorflow.python.framework.ops.EagerTensor, True)"
      ]
     },
     "execution_count": 9,
     "metadata": {},
     "output_type": "execute_result"
    }
   ],
   "source": [
    "#1维\n",
    "vec_tf=tf.constant([3.14,0,1])\n",
    "type(vec_tf),tf.is_tensor(vec_tf)"
   ]
  },
  {
   "cell_type": "markdown",
   "metadata": {},
   "source": [
    "（3）2维"
   ]
  },
  {
   "cell_type": "code",
   "execution_count": 5,
   "metadata": {},
   "outputs": [
    {
     "data": {
      "text/plain": [
       "(tensorflow.python.framework.ops.EagerTensor, True)"
      ]
     },
     "execution_count": 5,
     "metadata": {},
     "output_type": "execute_result"
    }
   ],
   "source": [
    "#2维\n",
    "Max_tf=tf.constant([[3.14,0,1],[6.28,0,2]])\n",
    "type(Max_tf),tf.is_tensor(Max_tf)"
   ]
  },
  {
   "cell_type": "markdown",
   "metadata": {},
   "source": [
    "（4）3维"
   ]
  },
  {
   "cell_type": "code",
   "execution_count": 6,
   "metadata": {},
   "outputs": [
    {
     "data": {
      "text/plain": [
       "(tensorflow.python.framework.ops.EagerTensor, True)"
      ]
     },
     "execution_count": 6,
     "metadata": {},
     "output_type": "execute_result"
    }
   ],
   "source": [
    "#3维\n",
    "Tensor_tf=tf.constant([[[3.14,0,1],[6.28,0,2]],[[1,2,3],[4,5,6]]])\n",
    "type(Tensor_tf),tf.is_tensor(Tensor_tf)"
   ]
  },
  {
   "cell_type": "markdown",
   "metadata": {},
   "source": [
    "显示tensor内容"
   ]
  },
  {
   "cell_type": "code",
   "execution_count": 8,
   "metadata": {},
   "outputs": [
    {
     "data": {
      "text/plain": [
       "<tf.Tensor: id=6, shape=(2, 2, 3), dtype=float32, numpy=\n",
       "array([[[3.14, 0.  , 1.  ],\n",
       "        [6.28, 0.  , 2.  ]],\n",
       "\n",
       "       [[1.  , 2.  , 3.  ],\n",
       "        [4.  , 5.  , 6.  ]]], dtype=float32)>"
      ]
     },
     "execution_count": 8,
     "metadata": {},
     "output_type": "execute_result"
    }
   ],
   "source": [
    "Tensor_tf"
   ]
  },
  {
   "cell_type": "markdown",
   "metadata": {},
   "source": [
    "(5）其他方法"
   ]
  },
  {
   "cell_type": "code",
   "execution_count": 12,
   "metadata": {},
   "outputs": [
    {
     "data": {
      "text/plain": [
       "<tf.Tensor: id=47, shape=(2, 3), dtype=float32, numpy=\n",
       "array([[1., 2., 3.],\n",
       "       [4., 5., 6.]], dtype=float32)>"
      ]
     },
     "execution_count": 12,
     "metadata": {},
     "output_type": "execute_result"
    }
   ],
   "source": [
    "import tensorflow as tf\n",
    "# 创建常量张量，数字后面加个点代表转float32类型\n",
    "a = tf.constant([[1., 2., 3.], [4., 5., 6.]]) \n",
    "a"
   ]
  },
  {
   "cell_type": "code",
   "execution_count": 13,
   "metadata": {},
   "outputs": [
    {
     "data": {
      "text/plain": [
       "<tf.Tensor: id=50, shape=(2, 3), dtype=float32, numpy=\n",
       "array([[0., 0., 0.],\n",
       "       [0., 0., 0.]], dtype=float32)>"
      ]
     },
     "execution_count": 13,
     "metadata": {},
     "output_type": "execute_result"
    }
   ],
   "source": [
    "# 创建一个shape形状的全为0元素的张量，dtype='tf.float32'为默认，可以自己进行设定。\n",
    "b = tf.zeros([2,3]) \n",
    "b"
   ]
  },
  {
   "cell_type": "code",
   "execution_count": 14,
   "metadata": {},
   "outputs": [
    {
     "data": {
      "text/plain": [
       "<tf.Tensor: id=53, shape=(2, 3), dtype=float32, numpy=\n",
       "array([[1., 1., 1.],\n",
       "       [1., 1., 1.]], dtype=float32)>"
      ]
     },
     "execution_count": 14,
     "metadata": {},
     "output_type": "execute_result"
    }
   ],
   "source": [
    "# 创建一个全为1元素的张量。\n",
    "c = tf.ones([2,3])  \n",
    "c"
   ]
  },
  {
   "cell_type": "code",
   "execution_count": 15,
   "metadata": {},
   "outputs": [
    {
     "data": {
      "text/plain": [
       "<tf.Tensor: id=53, shape=(2, 3), dtype=float32, numpy=\n",
       "array([[1., 1., 1.],\n",
       "       [1., 1., 1.]], dtype=float32)>"
      ]
     },
     "execution_count": 15,
     "metadata": {},
     "output_type": "execute_result"
    }
   ],
   "source": [
    "# 改变张量中元素的数据类型，只能由低精度向高精度转化。\n",
    "d = tf.cast(c,float)  \n",
    "d"
   ]
  },
  {
   "cell_type": "code",
   "execution_count": 16,
   "metadata": {},
   "outputs": [
    {
     "data": {
      "text/plain": [
       "<tf.Tensor: id=56, shape=(2, 3), dtype=int32, numpy=\n",
       "array([[3, 3, 3],\n",
       "       [3, 3, 3]])>"
      ]
     },
     "execution_count": 16,
     "metadata": {},
     "output_type": "execute_result"
    }
   ],
   "source": [
    "# tf.file(dims,value)创建维度为dims，值全为value的张量。\n",
    "e = tf.fill([2,3],3)   \n",
    "e"
   ]
  },
  {
   "cell_type": "code",
   "execution_count": 17,
   "metadata": {},
   "outputs": [
    {
     "data": {
      "text/plain": [
       "<tf.Tensor: id=62, shape=(3, 2), dtype=float32, numpy=\n",
       "array([[0.9792441 , 2.9201713 ],\n",
       "       [2.3214788 , 0.60974157],\n",
       "       [3.7466826 , 1.5505522 ]], dtype=float32)>"
      ]
     },
     "execution_count": 17,
     "metadata": {},
     "output_type": "execute_result"
    }
   ],
   "source": [
    "# 创建一个标准正态分布,shape:形状，mean: 均值，默认是0,stddev: 标准差，默认是1,dtype: 数据类型默认是float32\n",
    "f = tf.random.normal(shape=(3,2),mean=2,stddev=1,dtype=tf.float32)   \n",
    "f"
   ]
  },
  {
   "cell_type": "code",
   "execution_count": 18,
   "metadata": {},
   "outputs": [
    {
     "data": {
      "text/plain": [
       "<tf.Tensor: id=68, shape=(3, 2), dtype=float32, numpy=\n",
       "array([[2.763433 , 2.24438  ],\n",
       "       [2.1531014, 1.9796753],\n",
       "       [1.413722 , 3.9397883]], dtype=float32)>"
      ]
     },
     "execution_count": 18,
     "metadata": {},
     "output_type": "execute_result"
    }
   ],
   "source": [
    "# 创建一个截断正态分布,返回一个截断的正态分布，截断标准是标准差的二倍\n",
    "g = tf.random.truncated_normal(shape=(3,2),mean=2,stddev=1,dtype=tf.float32)  \n",
    "g"
   ]
  },
  {
   "cell_type": "code",
   "execution_count": 19,
   "metadata": {},
   "outputs": [
    {
     "data": {
      "text/plain": [
       "<tf.Tensor: id=75, shape=(2, 3), dtype=float32, numpy=\n",
       "array([[3.3014631, 1.2753613, 3.250054 ],\n",
       "       [1.5777968, 2.3296537, 2.4439101]], dtype=float32)>"
      ]
     },
     "execution_count": 19,
     "metadata": {},
     "output_type": "execute_result"
    }
   ],
   "source": [
    "# 创建均匀分布张量，minval为最小值，maxval为最大值\n",
    "h = tf.random.uniform(shape=(2,3),minval=1,maxval=4,dtype=tf.float32)  \n",
    "h"
   ]
  },
  {
   "cell_type": "code",
   "execution_count": 20,
   "metadata": {},
   "outputs": [
    {
     "data": {
      "text/plain": [
       "<tf.Tensor: id=76, shape=(2, 3), dtype=float32, numpy=\n",
       "array([[4., 5., 6.],\n",
       "       [1., 2., 3.]], dtype=float32)>"
      ]
     },
     "execution_count": 20,
     "metadata": {},
     "output_type": "execute_result"
    }
   ],
   "source": [
    "# 随机打乱数组，只打乱第一维元素\n",
    "i = tf.random.shuffle(a)   \n",
    "i "
   ]
  },
  {
   "cell_type": "code",
   "execution_count": 21,
   "metadata": {},
   "outputs": [
    {
     "data": {
      "text/plain": [
       "<tf.Tensor: id=83, shape=(4,), dtype=float32, numpy=array([1., 2., 3., 4.], dtype=float32)>"
      ]
     },
     "execution_count": 21,
     "metadata": {},
     "output_type": "execute_result"
    }
   ],
   "source": [
    "# 创建start为起点，delta为变化量，不超过limit的等差张量。\n",
    "j = tf.range(start=1,limit=5,delta=1,dtype=tf.float32) \n",
    "j"
   ]
  },
  {
   "cell_type": "markdown",
   "metadata": {},
   "source": [
    "## 三、字符串类型"
   ]
  },
  {
   "cell_type": "markdown",
   "metadata": {},
   "source": [
    "字符串类型主要用于表示文件的路径；"
   ]
  },
  {
   "cell_type": "markdown",
   "metadata": {},
   "source": [
    "### 3.1 字符串类型创建"
   ]
  },
  {
   "cell_type": "markdown",
   "metadata": {},
   "source": [
    "同样字符串类型的创建也是通过tf.constant()来实现。"
   ]
  },
  {
   "cell_type": "code",
   "execution_count": 24,
   "metadata": {},
   "outputs": [
    {
     "data": {
      "text/plain": [
       "<tf.Tensor: id=85, shape=(), dtype=string, numpy=b'tensorflow string type'>"
      ]
     },
     "execution_count": 24,
     "metadata": {},
     "output_type": "execute_result"
    }
   ],
   "source": [
    "#字符串创建\n",
    "String_tf=tf.constant('tensorflow string type')\n",
    "String_tf"
   ]
  },
  {
   "cell_type": "markdown",
   "metadata": {},
   "source": [
    "### 3.2   字符串操作"
   ]
  },
  {
   "cell_type": "markdown",
   "metadata": {},
   "source": [
    "Tensorflow中，字符串操作通过Tf.strings模块进行的，Tf.strings模块包含了一些常见的字符串处理函数，如拼接join（），长度length（），切分split（）等."
   ]
  },
  {
   "cell_type": "code",
   "execution_count": 25,
   "metadata": {},
   "outputs": [
    {
     "data": {
      "text/plain": [
       "<tf.Tensor: id=87, shape=(), dtype=int32, numpy=22>"
      ]
     },
     "execution_count": 25,
     "metadata": {},
     "output_type": "execute_result"
    }
   ],
   "source": [
    "#创建字符串\n",
    "String_tf=tf.constant('tensorflow string type')\n",
    "#统计长度\n",
    "tf.strings.length(String_tf)"
   ]
  },
  {
   "cell_type": "markdown",
   "metadata": {},
   "source": [
    "## 四、布尔类型"
   ]
  },
  {
   "cell_type": "markdown",
   "metadata": {},
   "source": [
    "TensorFlow的bool类型用于表达比较运算结果；"
   ]
  },
  {
   "cell_type": "code",
   "execution_count": 27,
   "metadata": {},
   "outputs": [
    {
     "data": {
      "text/plain": [
       "<tf.Tensor: id=89, shape=(), dtype=bool, numpy=False>"
      ]
     },
     "execution_count": 27,
     "metadata": {},
     "output_type": "execute_result"
    }
   ],
   "source": [
    "#bool类型创建\n",
    "bool_tf = tf.constant(False)\n",
    "bool_tf"
   ]
  },
  {
   "cell_type": "markdown",
   "metadata": {},
   "source": [
    "## 五、数值精度"
   ]
  },
  {
   "cell_type": "markdown",
   "metadata": {},
   "source": [
    "对于数值类型的张量有不同字节长度的精度，在创建张量时可以设定其精度如：16bit  32bit 64bit;对应TensorFlow中常用的精度类型有：tf.int16,tf.int32,tf.int64, tf.float16,tf. float 32,tf. float 64(tf.double)。"
   ]
  },
  {
   "cell_type": "code",
   "execution_count": 28,
   "metadata": {},
   "outputs": [
    {
     "data": {
      "text/plain": [
       "<tf.Tensor: id=90, shape=(), dtype=float64, numpy=3.1415926>"
      ]
     },
     "execution_count": 28,
     "metadata": {},
     "output_type": "execute_result"
    }
   ],
   "source": [
    "tf.constant(3.1415926,dtype=tf.double)"
   ]
  },
  {
   "cell_type": "markdown",
   "metadata": {},
   "source": [
    "### 5.1查看数值精度"
   ]
  },
  {
   "cell_type": "markdown",
   "metadata": {},
   "source": [
    "通过张量的dtype成员属性查看数值的精度"
   ]
  },
  {
   "cell_type": "code",
   "execution_count": 29,
   "metadata": {},
   "outputs": [
    {
     "data": {
      "text/plain": [
       "tf.float32"
      ]
     },
     "execution_count": 29,
     "metadata": {},
     "output_type": "execute_result"
    }
   ],
   "source": [
    "data_tf=tf.constant(3.1415926)\n",
    "data_tf.dtype"
   ]
  },
  {
   "cell_type": "markdown",
   "metadata": {},
   "source": [
    "### 5.2 数值类型转换"
   ]
  },
  {
   "cell_type": "markdown",
   "metadata": {},
   "source": [
    "Tensorflow中数据转换是通过tf.cast函数实现的"
   ]
  },
  {
   "cell_type": "code",
   "execution_count": 30,
   "metadata": {},
   "outputs": [],
   "source": [
    "#创建一个张量\n",
    "data_tf=tf.constant(3.1415926)\n",
    "#转换其数值精度\n",
    "data_tf=tf.cast(data_tf,tf.float64)"
   ]
  },
  {
   "cell_type": "markdown",
   "metadata": {},
   "source": [
    "注意：同python、c++，数据类型转换需要保证合法性；"
   ]
  },
  {
   "cell_type": "code",
   "execution_count": null,
   "metadata": {},
   "outputs": [],
   "source": []
  }
 ],
 "metadata": {
  "kernelspec": {
   "display_name": "Pythontf",
   "language": "python",
   "name": "pythontf"
  },
  "language_info": {
   "codemirror_mode": {
    "name": "ipython",
    "version": 3
   },
   "file_extension": ".py",
   "mimetype": "text/x-python",
   "name": "python",
   "nbconvert_exporter": "python",
   "pygments_lexer": "ipython3",
   "version": "3.7.0"
  },
  "tianchi_metadata": {
   "competitions": [],
   "datasets": [],
   "description": "",
   "notebookId": "173216",
   "source": "dsw"
  }
 },
 "nbformat": 4,
 "nbformat_minor": 4
}
