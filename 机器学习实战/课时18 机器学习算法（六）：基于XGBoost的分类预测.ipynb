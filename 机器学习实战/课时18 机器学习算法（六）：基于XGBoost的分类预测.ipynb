{
 "cells": [
  {
   "cell_type": "markdown",
   "metadata": {
    "uuid": "f1d71839-2697-4c93-b134-3969f61383db"
   },
   "source": [
    "# 1. 实验室介绍"
   ]
  },
  {
   "cell_type": "markdown",
   "metadata": {
    "uuid": "5b2a3f83-ca2c-4fb2-acae-ae37d42a64a7"
   },
   "source": [
    "## 1.1 XGBoost的介绍"
   ]
  },
  {
   "cell_type": "markdown",
   "metadata": {
    "uuid": "c226f0bc-04c4-497e-87c3-87498eebfa6c"
   },
   "source": [
    "XGBoost是2016年由华盛顿大学陈天奇老师带领开发的一个可扩展机器学习系统。严格意义上讲XGBoost并不是一种模型，而是一个可供用户轻松解决分类、回归或排序问题的软件包。它内部实现了梯度提升树(GBDT)模型，并对模型中的算法进行了诸多优化，在取得高精度的同时又保持了极快的速度，在一段时间内成为了国内外数据挖掘、机器学习领域中的大规模杀伤性武器。\n",
    "\n",
    "更重要的是，XGBoost在系统优化和机器学习原理方面都进行了深入的考虑。毫不夸张的讲，XGBoost提供的可扩展性，可移植性与准确性推动了机器学习计算限制的上限，该系统在单台机器上运行速度比当时流行解决方案快十倍以上，甚至在分布式系统中可以处理十亿级的数据。"
   ]
  },
  {
   "cell_type": "markdown",
   "metadata": {
    "uuid": "882fb3bb-eefe-4f9a-b85c-9af8c7e20cb8"
   },
   "source": [
    "XGBoost的主要优点：\n",
    "\n",
    "1. 简单易用。相对其他机器学习库，用户可以轻松使用XGBoost并获得相当不错的效果。\n",
    "2. 高效可扩展。在处理大规模数据集时速度快效果好，对内存等硬件资源要求不高。\n",
    "3. 鲁棒性强。相对于深度学习模型不需要精细调参便能取得接近的效果。\n",
    "4. XGBoost内部实现提升树模型，可以自动处理缺失值。"
   ]
  },
  {
   "cell_type": "markdown",
   "metadata": {
    "uuid": "c074d155-5ec5-483d-b303-4e5ae629f538"
   },
   "source": [
    "XGBoost的主要缺点：\n",
    "\n",
    "1. 相对于深度学习模型无法对时空位置建模，不能很好地捕获图像、语音、文本等高维数据。\n",
    "2. 在拥有海量训练数据，并能找到合适的深度学习模型时，深度学习的精度可以遥遥领先XGBoost。"
   ]
  },
  {
   "cell_type": "markdown",
   "metadata": {
    "uuid": "6c77773d-b383-498c-a010-fd6885261691"
   },
   "source": [
    "## 1.2 XGboost的应用"
   ]
  },
  {
   "cell_type": "markdown",
   "metadata": {
    "uuid": "70e29563-ac90-4e64-9e91-0854d4e7fe68"
   },
   "source": [
    "XGBoost在机器学习与数据挖掘领域有着极为广泛的应用。据统计在2015年Kaggle平台上29个获奖方案中，17只队伍使用了XGBoost；在2015年KDD-Cup中，前十名的队伍均使用了XGBoost，且集成其他模型比不上调节XGBoost的参数所带来的提升。这些实实在在的例子都表明，XGBoost在各种问题上都可以取得非常好的效果。\n",
    "\n",
    "同时，XGBoost还被成功应用在工业界与学术界的各种问题中。例如商店销售额预测、高能物理事件分类、web文本分类;用户行为预测、运动检测、广告点击率预测、恶意软件分类、灾害风险预测、在线课程退学率预测。虽然领域相关的数据分析和特性工程在这些解决方案中也发挥了重要作用，但学习者与实践者对XGBoost的一致选择表明了这一软件包的影响力与重要性。"
   ]
  },
  {
   "cell_type": "markdown",
   "metadata": {
    "uuid": "8c818f85-5541-42f6-866d-184bf99d6dc2"
   },
   "source": [
    "# 2. 实验室手册"
   ]
  },
  {
   "cell_type": "markdown",
   "metadata": {
    "uuid": "943edb94-8dbe-417d-94c1-172f09855ceb"
   },
   "source": [
    "## 2.1 学习目标"
   ]
  },
  {
   "cell_type": "markdown",
   "metadata": {
    "uuid": "1719d2c0-79ba-4b3b-8d45-4fd3d4b2cc0d"
   },
   "source": [
    "- 了解 XGBoost 的参数与相关知识\n",
    "- 掌握 XGBoost 的Python调用并将其运用到天气数据集预测"
   ]
  },
  {
   "cell_type": "markdown",
   "metadata": {
    "uuid": "6565312d-a513-4acd-b99a-87c4560b5153"
   },
   "source": [
    "## 2.2 代码流程"
   ]
  },
  {
   "cell_type": "markdown",
   "metadata": {
    "uuid": "ee0c2e4e-073f-4f8f-a5ab-7e8b053b795b"
   },
   "source": [
    "Part1 基于天气数据集的XGBoost分类实践\n",
    "\n",
    "- Step1: 库函数导入 \n",
    "- Step2: 数据读取/载入 \n",
    "- Step3: 数据信息简单查看 \n",
    "- Step4: 可视化描述 \n",
    "- Step5: 对离散变量进行编码\n",
    "- Step6: 利用 XGBoost 进行训练与预测\n",
    "- Step7: 利用 XGBoost 进行特征选择\n",
    "- Step8: 通过调整参数获得更好的效果"
   ]
  },
  {
   "cell_type": "markdown",
   "metadata": {
    "uuid": "1e7426f5-ad5e-4fba-899b-ca3f30e20f4a"
   },
   "source": [
    "## 2.3 算法实战"
   ]
  },
  {
   "cell_type": "markdown",
   "metadata": {
    "uuid": "b72af374-e214-4c20-beda-c220507ce7f5"
   },
   "source": [
    "## 2.3.1 基于天气数据集的XGBoost分类实战"
   ]
  },
  {
   "cell_type": "markdown",
   "metadata": {
    "uuid": "8df688fc-3333-4ce7-a83f-8097f6437470"
   },
   "source": [
    "在实践的最开始，我们首先需要导入一些基础的函数库包括：numpy （Python进行科学计算的基础软件包），pandas（pandas是一种快速，强大，灵活且易于使用的开源数据分析和处理工具），matplotlib和seaborn绘图。"
   ]
  },
  {
   "cell_type": "code",
   "execution_count": null,
   "metadata": {
    "uuid": "279685f2-1468-4a70-bbaa-2ccf0314cad6"
   },
   "outputs": [],
   "source": [
    "#导入需要用到的数据集\n",
    "!wget https://tianchi-media.oss-cn-beijing.aliyuncs.com/DSW/7XGBoost/train.csv"
   ]
  },
  {
   "cell_type": "markdown",
   "metadata": {
    "uuid": "771d934a-1db8-4ebe-8a90-5f408d9f2fb7"
   },
   "source": [
    "**Step1：函数库导入**"
   ]
  },
  {
   "cell_type": "code",
   "execution_count": null,
   "metadata": {
    "uuid": "f0545519-577a-4e23-bd42-a8f1028a0110"
   },
   "outputs": [],
   "source": [
    "##  基础函数库\n",
    "import numpy as np \n",
    "import pandas as pd\n",
    "\n",
    "## 绘图函数库\n",
    "import matplotlib.pyplot as plt\n",
    "import seaborn as sns"
   ]
  },
  {
   "cell_type": "markdown",
   "metadata": {
    "uuid": "74178b21-e9d1-4a59-b5b5-0ca0d19e0c51"
   },
   "source": [
    "本次我们选择天气数据集进行方法的尝试训练，现在有一些由气象站提供的每日降雨数据，我们需要根据历史降雨数据来预测明天会下雨的概率。样例涉及到的测试集数据test.csv与train.csv的格式完全相同，但其RainTomorrow未给出，为预测变量。"
   ]
  },
  {
   "cell_type": "markdown",
   "metadata": {
    "uuid": "eb78e760-4a75-47f9-8337-9d4552e59a56"
   },
   "source": [
    "数据的各个特征描述如下："
   ]
  },
  {
   "cell_type": "markdown",
   "metadata": {
    "uuid": "52fc4785-e700-4cc1-a132-0c64c53e4fa6"
   },
   "source": [
    "| 特征名称      | 意义            | 取值范围 |\n",
    "|---------------|-----------------|----------|\n",
    "| Date          | 日期            | 字符串   |\n",
    "| Location      | 气象站的地址    | 字符串   |\n",
    "| MinTemp       | 最低温度        | 实数     |\n",
    "| MaxTemp       | 最高温度        | 实数     |\n",
    "| Rainfall      | 降雨量          | 实数     |\n",
    "| Evaporation   | 蒸发量          | 实数     |\n",
    "| Sunshine      | 光照时间        | 实数     |\n",
    "| WindGustDir   | 最强的风的方向  | 字符串   |\n",
    "| WindGustSpeed | 最强的风的速度  | 实数     |\n",
    "| WindDir9am    | 早上9点的风向   | 字符串   |\n",
    "| WindDir3pm    | 下午3点的风向   | 字符串   |\n",
    "| WindSpeed9am  | 早上9点的风速   | 实数     |\n",
    "| WindSpeed3pm  | 下午3点的风速   | 实数     |\n",
    "| Humidity9am   | 早上9点的湿度   | 实数     |\n",
    "| Humidity3pm   | 下午3点的湿度   | 实数     |\n",
    "| Pressure9am   | 早上9点的大气压 | 实数     |\n",
    "| Pressure3pm   | 早上3点的大气压 | 实数     |\n",
    "| Cloud9am      | 早上9点的云指数 | 实数     |\n",
    "| Cloud3pm      | 早上3点的云指数 | 实数     |\n",
    "| Temp9am       | 早上9点的温度   | 实数     |\n",
    "| Temp3pm       | 早上3点的温度   | 实数     |\n",
    "| RainToday     | 今天是否下雨    | No，Yes  |\n",
    "| RainTomorrow  | 明天是否下雨    | No，Yes  |"
   ]
  },
  {
   "cell_type": "markdown",
   "metadata": {
    "uuid": "d8c5733d-90bc-49ac-abac-446051cdb41f"
   },
   "source": [
    "**Step2：数据读取/载入**"
   ]
  },
  {
   "cell_type": "code",
   "execution_count": null,
   "metadata": {
    "uuid": "fd383daa-73bc-4325-8332-a8aa1538e7f9"
   },
   "outputs": [],
   "source": [
    "## 我们利用Pandas自带的read_csv函数读取并转化为DataFrame格式\n",
    "\n",
    "data = pd.read_csv('../data/train.csv')"
   ]
  },
  {
   "cell_type": "markdown",
   "metadata": {
    "uuid": "4f3169f9-3830-4890-9fd4-36ed0001c4cd"
   },
   "source": [
    "**Step3：数据信息简单查看**"
   ]
  },
  {
   "cell_type": "code",
   "execution_count": null,
   "metadata": {
    "uuid": "d76c9920-9bfa-4ed6-870e-c29669a2b0d5"
   },
   "outputs": [],
   "source": [
    "## 利用.info()查看数据的整体信息\n",
    "data.info()"
   ]
  },
  {
   "cell_type": "code",
   "execution_count": null,
   "metadata": {
    "uuid": "e43081bf-b61d-4215-b78f-aa0245c3f7fe"
   },
   "outputs": [],
   "source": [
    "## 进行简单的数据查看，我们可以利用 .head() 头部.tail()尾部\n",
    "data.head()"
   ]
  },
  {
   "cell_type": "markdown",
   "metadata": {
    "uuid": "0cbab12d-c48b-4e40-a571-5652ce7f3c53"
   },
   "source": [
    "这里我们发现数据集中存在NaN，一般的我们认为NaN在数据集中代表了缺失值，可能是数据采集或处理时产生的一种错误。这里我们采用-1将缺失值进行填补，还有其他例如“中位数填补、平均数填补”的缺失值处理方法有兴趣的同学也可以尝试。"
   ]
  },
  {
   "cell_type": "code",
   "execution_count": null,
   "metadata": {
    "uuid": "74c328d1-f690-4cb7-a757-53f95fa40576"
   },
   "outputs": [],
   "source": [
    "data = data.fillna(-1)"
   ]
  },
  {
   "cell_type": "code",
   "execution_count": null,
   "metadata": {
    "uuid": "87825152-ad75-47ca-84dc-bb5af57fa603"
   },
   "outputs": [],
   "source": [
    "data.tail()"
   ]
  },
  {
   "cell_type": "code",
   "execution_count": null,
   "metadata": {
    "uuid": "5a68be5a-7b24-45eb-8524-1bad402e5798"
   },
   "outputs": [],
   "source": [
    "## 利用value_counts函数查看训练集标签的数量\n",
    "pd.Series(data['RainTomorrow']).value_counts()"
   ]
  },
  {
   "cell_type": "markdown",
   "metadata": {
    "uuid": "1b5bc894-aa6a-4d88-aca7-f48a9d138d4a"
   },
   "source": [
    "我们发现数据集中的负样本数量远大于正样本数量，这种常见的问题叫做“数据不平衡”问题，在某些情况下需要进行一些特殊处理。"
   ]
  },
  {
   "cell_type": "code",
   "execution_count": null,
   "metadata": {
    "uuid": "62086cbb-fb99-4c55-9faf-c729445f4690"
   },
   "outputs": [],
   "source": [
    "## 对于特征进行一些统计描述\n",
    "data.describe()"
   ]
  },
  {
   "cell_type": "markdown",
   "metadata": {
    "uuid": "212c975c-7107-4dc5-bce9-6d5d72c570f4"
   },
   "source": [
    "**Step4:可视化描述**"
   ]
  },
  {
   "cell_type": "markdown",
   "metadata": {
    "uuid": "ef304f5e-0bbc-4a7b-9e76-9c16d5ec49a2"
   },
   "source": [
    "为了方便，我们先纪录数字特征与非数字特征："
   ]
  },
  {
   "cell_type": "code",
   "execution_count": null,
   "metadata": {
    "uuid": "e9ad19ea-27da-49d3-9709-665d67fba80c"
   },
   "outputs": [],
   "source": [
    "numerical_features = [x for x in data.columns if data[x].dtype == np.float]"
   ]
  },
  {
   "cell_type": "code",
   "execution_count": null,
   "metadata": {
    "uuid": "5990acb8-ba5b-46bf-ac0b-d7120badb86f"
   },
   "outputs": [],
   "source": [
    "category_features = [x for x in data.columns if data[x].dtype != np.float and x != 'RainTomorrow']"
   ]
  },
  {
   "cell_type": "code",
   "execution_count": null,
   "metadata": {
    "uuid": "845f8732-c047-43b9-8f29-40e699184910"
   },
   "outputs": [],
   "source": [
    "## 选取三个特征与标签组合的散点可视化\n",
    "sns.pairplot(data=data[['Rainfall','Evaporation','Sunshine'] + ['RainTomorrow']], diag_kind='hist', hue= 'RainTomorrow')\n",
    "plt.show()"
   ]
  },
  {
   "cell_type": "markdown",
   "metadata": {
    "uuid": "dbb0a397-f80d-4d90-8a7f-3131996421d4"
   },
   "source": [
    "从上图可以发现，在2D情况下不同的特征组合对于第二天下雨与不下雨的散点分布，以及大概的区分能力。相对的Sunshine与其他特征的组合更具有区分能力"
   ]
  },
  {
   "cell_type": "code",
   "execution_count": null,
   "metadata": {
    "uuid": "c71bfc44-d837-45e0-af0f-1fe7fc7fa60a"
   },
   "outputs": [],
   "source": [
    "for col in data[numerical_features].columns:\n",
    "    if col != 'RainTomorrow':\n",
    "        sns.boxplot(x='RainTomorrow', y=col, saturation=0.5, palette='pastel', data=data)\n",
    "        plt.title(col)\n",
    "        plt.show()"
   ]
  },
  {
   "cell_type": "markdown",
   "metadata": {
    "uuid": "6534ed6d-9065-42b7-8b3a-9f70f23afef9"
   },
   "source": [
    "利用箱型图我们也可以得到不同类别在不同特征上的分布差异情况。我们可以发现Sunshine,Humidity3pm,Cloud9am,Cloud3pm的区分能力较强"
   ]
  },
  {
   "cell_type": "code",
   "execution_count": null,
   "metadata": {
    "uuid": "435991f8-2e5f-4f4b-9dae-889b542d6a57"
   },
   "outputs": [],
   "source": [
    "tlog = {}\n",
    "for i in category_features:\n",
    "    tlog[i] = data[data['RainTomorrow'] == 'Yes'][i].value_counts()\n",
    "flog = {}\n",
    "for i in category_features:\n",
    "    flog[i] = data[data['RainTomorrow'] == 'No'][i].value_counts()"
   ]
  },
  {
   "cell_type": "code",
   "execution_count": null,
   "metadata": {
    "uuid": "5b34f0cf-14ca-4575-a013-a45440d847e3"
   },
   "outputs": [],
   "source": [
    "plt.figure(figsize=(10,10))\n",
    "plt.subplot(1,2,1)\n",
    "plt.title('RainTomorrow')\n",
    "sns.barplot(x = pd.DataFrame(tlog['Location']).sort_index()['Location'], y = pd.DataFrame(tlog['Location']).sort_index().index, color = \"red\")\n",
    "plt.subplot(1,2,2)\n",
    "plt.title('Not RainTomorrow')\n",
    "sns.barplot(x = pd.DataFrame(flog['Location']).sort_index()['Location'], y = pd.DataFrame(flog['Location']).sort_index().index, color = \"blue\")\n",
    "plt.show()"
   ]
  },
  {
   "cell_type": "markdown",
   "metadata": {
    "uuid": "b2fd003a-cb0c-4638-86a6-008bf208a72c"
   },
   "source": [
    "从上图可以发现不同地区降雨情况差别很大，有些地方明显更容易降雨"
   ]
  },
  {
   "cell_type": "code",
   "execution_count": null,
   "metadata": {
    "uuid": "cbf8ecdd-9d39-4bdf-a9c2-670ea7d0dbab"
   },
   "outputs": [],
   "source": [
    "plt.figure(figsize=(10,2))\n",
    "plt.subplot(1,2,1)\n",
    "plt.title('RainTomorrow')\n",
    "sns.barplot(x = pd.DataFrame(tlog['RainToday'][:2]).sort_index()['RainToday'], y = pd.DataFrame(tlog['RainToday'][:2]).sort_index().index, color = \"red\")\n",
    "plt.subplot(1,2,2)\n",
    "plt.title('Not RainTomorrow')\n",
    "sns.barplot(x = pd.DataFrame(flog['RainToday'][:2]).sort_index()['RainToday'], y = pd.DataFrame(flog['RainToday'][:2]).sort_index().index, color = \"blue\")\n",
    "plt.show()"
   ]
  },
  {
   "cell_type": "markdown",
   "metadata": {
    "uuid": "4126c498-1ba3-4f88-9059-c963f717ce2a"
   },
   "source": [
    "上图我们可以发现，今天下雨明天不一定下雨，但今天不下雨，第二天大概率也不下雨。"
   ]
  },
  {
   "cell_type": "markdown",
   "metadata": {
    "uuid": "e38658c3-5ec9-4a3d-8f59-d977a24f6183"
   },
   "source": [
    "**Step5:对离散变量进行编码**"
   ]
  },
  {
   "cell_type": "markdown",
   "metadata": {
    "uuid": "cc2c8934-0a1b-4889-9a47-fc2ac73b69c0"
   },
   "source": [
    "由于XGBoost无法处理字符串类型的数据，我们需要一些方法讲字符串数据转化为数据。一种最简单的方法是把所有的相同类别的特征编码成同一个值，例如女=0，男=1，狗狗=2，所以最后编码的特征值是在$[0, 特征数量-1]$之间的整数。除此之外，还有独热编码、求和编码、留一法编码等等方法可以获得更好的效果。"
   ]
  },
  {
   "cell_type": "code",
   "execution_count": null,
   "metadata": {
    "uuid": "90a1f854-ffbf-4cdd-988b-2e9bef9ce174"
   },
   "outputs": [],
   "source": [
    "## 把所有的相同类别的特征编码为同一个值\n",
    "def get_mapfunction(x):\n",
    "    mapp = dict(zip(x.unique().tolist(),\n",
    "         range(len(x.unique().tolist()))))\n",
    "    def mapfunction(y):\n",
    "        if y in mapp:\n",
    "            return mapp[y]\n",
    "        else:\n",
    "            return -1\n",
    "    return mapfunction\n",
    "for i in category_features:\n",
    "    data[i] = data[i].apply(get_mapfunction(data[i]))"
   ]
  },
  {
   "cell_type": "code",
   "execution_count": null,
   "metadata": {
    "uuid": "aa676c65-e239-43ad-8388-b80a208ba240"
   },
   "outputs": [],
   "source": [
    "## 编码后的字符串特征变成了数字\n",
    "\n",
    "data['Location'].unique()"
   ]
  },
  {
   "cell_type": "markdown",
   "metadata": {
    "uuid": "d4809e57-e815-43d4-badc-404b2990c296"
   },
   "source": [
    "**Step6：利用 XGBoost 进行训练与预测**"
   ]
  },
  {
   "cell_type": "code",
   "execution_count": null,
   "metadata": {
    "uuid": "ecdbab67-6616-400f-9d12-202cc1cd3029"
   },
   "outputs": [],
   "source": [
    "## 为了正确评估模型性能，将数据划分为训练集和测试集，并在训练集上训练模型，在测试集上验证模型性能。\n",
    "from sklearn.model_selection import train_test_split\n",
    "\n",
    "## 选择其类别为0和1的样本 （不包括类别为2的样本）\n",
    "data_target_part = data['RainTomorrow']\n",
    "data_features_part = data[[x for x in data.columns if x != 'RainTomorrow']]\n",
    "\n",
    "## 测试集大小为20%， 80%/20%分\n",
    "x_train, x_test, y_train, y_test = train_test_split(data_features_part, data_target_part, test_size = 0.2, random_state = 2020)"
   ]
  },
  {
   "cell_type": "code",
   "execution_count": null,
   "metadata": {
    "uuid": "c0983bb2-d73a-4e40-9057-4a1273876613"
   },
   "outputs": [],
   "source": [
    "## 导入XGBoost模型\n",
    "from xgboost.sklearn import XGBClassifier\n",
    "## 定义 XGBoost模型 \n",
    "clf = XGBClassifier()\n",
    "# 在训练集上训练XGBoost模型\n",
    "clf.fit(x_train, y_train)"
   ]
  },
  {
   "cell_type": "code",
   "execution_count": null,
   "metadata": {
    "uuid": "07074272-bb7b-4114-8cc4-8cf8a84914e7"
   },
   "outputs": [],
   "source": [
    "## 在训练集和测试集上分布利用训练好的模型进行预测\n",
    "train_predict = clf.predict(x_train)\n",
    "test_predict = clf.predict(x_test)\n",
    "from sklearn import metrics\n",
    "\n",
    "## 利用accuracy（准确度）【预测正确的样本数目占总预测样本数目的比例】评估模型效果\n",
    "print('The accuracy of the Logistic Regression is:',metrics.accuracy_score(y_train,train_predict))\n",
    "print('The accuracy of the Logistic Regression is:',metrics.accuracy_score(y_test,test_predict))\n",
    "\n",
    "## 查看混淆矩阵 (预测值和真实值的各类情况统计矩阵)\n",
    "confusion_matrix_result = metrics.confusion_matrix(test_predict,y_test)\n",
    "print('The confusion matrix result:\\n',confusion_matrix_result)\n",
    "\n",
    "# 利用热力图对于结果进行可视化\n",
    "plt.figure(figsize=(8, 6))\n",
    "sns.heatmap(confusion_matrix_result, annot=True, cmap='Blues')\n",
    "plt.xlabel('Predicted labels')\n",
    "plt.ylabel('True labels')\n",
    "plt.show()"
   ]
  },
  {
   "cell_type": "markdown",
   "metadata": {
    "uuid": "c8f6b909-14db-4f6c-b0c6-6a5103997556"
   },
   "source": [
    "我们可以发现共有15759 + 2306个样本预测正确，2470 + 794个样本预测错误。"
   ]
  },
  {
   "cell_type": "markdown",
   "metadata": {
    "uuid": "feb26ffe-274c-4205-8115-fab1fb9e0e84"
   },
   "source": [
    "**Step7: 利用 XGBoost 进行特征选择**"
   ]
  },
  {
   "cell_type": "markdown",
   "metadata": {
    "uuid": "e42f6e49-2a4b-4edb-b4e0-e0de69228e06"
   },
   "source": [
    "XGBoost的特征选择属于特征选择中的嵌入式方法，在XGboost中可以用属性feature_importances_去查看特征的重要度。"
   ]
  },
  {
   "cell_type": "code",
   "execution_count": null,
   "metadata": {
    "uuid": "f421c3e3-2e51-4c5e-93f8-c85abe71c619"
   },
   "outputs": [],
   "source": [
    "? sns.barplot"
   ]
  },
  {
   "cell_type": "code",
   "execution_count": null,
   "metadata": {
    "uuid": "193b65c7-9ca0-4c3b-a1af-98453eb0ddf1"
   },
   "outputs": [],
   "source": [
    "sns.barplot(y=data_features_part.columns, x=clf.feature_importances_)"
   ]
  },
  {
   "cell_type": "markdown",
   "metadata": {
    "uuid": "13167bf9-41e6-4911-87f9-a7ec0eb5c768"
   },
   "source": [
    "从图中我们可以发现下午3点的湿度与今天是否下雨是决定第二天是否下雨最重要的因素"
   ]
  },
  {
   "cell_type": "markdown",
   "metadata": {
    "uuid": "d85a8dc2-79fe-44bf-bfcf-6ccb98f18090"
   },
   "source": [
    "初次之外，我们还可以使用XGBoost中的下列重要属性来评估特征的重要性。\n",
    "\n",
    "- weight:是以特征用到的次数来评价\n",
    "- gain:当利用特征做划分的时候的评价基尼指数\n",
    "- cover:利用一个覆盖样本的指标二阶导数（具体原理不清楚有待探究）平均值来划分。\n",
    "- total_gain:总基尼指数\n",
    "- total_cover:总覆盖"
   ]
  },
  {
   "cell_type": "code",
   "execution_count": null,
   "metadata": {
    "uuid": "9868e60a-afcb-4ede-a519-108b833f4ab4"
   },
   "outputs": [],
   "source": [
    "from sklearn.metrics import accuracy_score\n",
    "from xgboost import plot_importance\n",
    "\n",
    "def estimate(model,data):\n",
    "\n",
    "    #sns.barplot(data.columns,model.feature_importances_)\n",
    "    ax1=plot_importance(model,importance_type=\"gain\")\n",
    "    ax1.set_title('gain')\n",
    "    ax2=plot_importance(model, importance_type=\"weight\")\n",
    "    ax2.set_title('weight')\n",
    "    ax3 = plot_importance(model, importance_type=\"cover\")\n",
    "    ax3.set_title('cover')\n",
    "    plt.show()\n",
    "def classes(data,label,test):\n",
    "    model=XGBClassifier()\n",
    "    model.fit(data,label)\n",
    "    ans=model.predict(test)\n",
    "    estimate(model, data)\n",
    "    return ans\n",
    " \n",
    "ans=classes(x_train,y_train,x_test)\n",
    "pre=accuracy_score(y_test, ans)\n",
    "print('acc=',accuracy_score(y_test,ans))\n"
   ]
  },
  {
   "cell_type": "markdown",
   "metadata": {
    "uuid": "f13c561a-3edc-4ebb-82d6-c41f8180b146"
   },
   "source": [
    "这些图同样可以帮助我们更好的了解其他重要特征。"
   ]
  },
  {
   "cell_type": "markdown",
   "metadata": {
    "uuid": "39b1c7d4-e414-4cba-97e0-2306e1ac5fd3"
   },
   "source": [
    "**Step8: 通过调整参数获得更好的效果**"
   ]
  },
  {
   "cell_type": "markdown",
   "metadata": {
    "uuid": "dfc16ed4-ebf8-4dc6-a9ef-fd4af6f2759d"
   },
   "source": [
    "XGBoost中包括但不限于下列对模型影响较大的参数：\n",
    "1. learning_rate: 有时也叫作eta，系统默认值为0.3。每一步迭代的步长，很重要。太大了运行准确率不高，太小了运行速度慢。\n",
    "2. subsample：系统默认为1。这个参数控制对于每棵树，随机采样的比例。减小这个参数的值，算法会更加保守，避免过拟合, 取值范围零到一。\n",
    "3. colsample_bytree：系统默认值为1。我们一般设置成0.8左右。用来控制每棵随机采样的列数的占比(每一列是一个特征)。\n",
    "4. max_depth： 系统默认值为6，我们常用3-10之间的数字。这个值为树的最大深度。这个值是用来控制过拟合的。max_depth越大，模型学习的更加具体。"
   ]
  },
  {
   "cell_type": "markdown",
   "metadata": {
    "uuid": "4806b722-864c-4705-b6dd-808a17994d8d"
   },
   "source": [
    "调节模型参数的方法有贪心算法、网格调参、贝叶斯调参等。这里我们采用网格调参，它的基本思想是穷举搜索：在所有候选的参数选择中，通过循环遍历，尝试每一种可能性，表现最好的参数就是最终的结果"
   ]
  },
  {
   "cell_type": "code",
   "execution_count": null,
   "metadata": {
    "uuid": "81d6f940-ef7b-47b1-9a88-7530f46c3af0"
   },
   "outputs": [],
   "source": [
    "## 从sklearn库中导入网格调参函数\n",
    "from sklearn.model_selection import GridSearchCV\n",
    "\n",
    "## 定义参数取值范围\n",
    "learning_rate = [0.1, 0.3, 0.6]\n",
    "subsample = [0.8, 0.9]\n",
    "colsample_bytree = [0.6, 0.8]\n",
    "max_depth = [3,5,8]\n",
    "\n",
    "parameters = { 'learning_rate': learning_rate,\n",
    "              'subsample': subsample,\n",
    "              'colsample_bytree':colsample_bytree,\n",
    "              'max_depth': max_depth}\n",
    "model = XGBClassifier(n_estimators = 50)\n",
    "\n",
    "## 进行网格搜索\n",
    "clf = GridSearchCV(model, parameters, cv=3, scoring='accuracy',verbose=1,n_jobs=-1)\n",
    "clf = clf.fit(x_train, y_train)"
   ]
  },
  {
   "cell_type": "code",
   "execution_count": null,
   "metadata": {
    "uuid": "879eecb7-301d-4172-bf56-e139c410ab79"
   },
   "outputs": [],
   "source": [
    "## 网格搜索后的最好参数为\n",
    "\n",
    "clf.best_params_"
   ]
  },
  {
   "cell_type": "code",
   "execution_count": null,
   "metadata": {
    "uuid": "bdaa1885-9daf-493a-9576-314cad6cc60d"
   },
   "outputs": [],
   "source": [
    "## 在训练集和测试集上分布利用最好的模型参数进行预测\n",
    "\n",
    "## 定义带参数的 XGBoost模型 \n",
    "clf = XGBClassifier(colsample_bytree = 0.6, learning_rate = 0.3, max_depth= 8, subsample = 0.9)\n",
    "# 在训练集上训练XGBoost模型\n",
    "clf.fit(x_train, y_train)\n",
    "\n",
    "train_predict = clf.predict(x_train)\n",
    "test_predict = clf.predict(x_test)\n",
    "\n",
    "## 利用accuracy（准确度）【预测正确的样本数目占总预测样本数目的比例】评估模型效果\n",
    "print('The accuracy of the Logistic Regression is:',metrics.accuracy_score(y_train,train_predict))\n",
    "print('The accuracy of the Logistic Regression is:',metrics.accuracy_score(y_test,test_predict))\n",
    "\n",
    "## 查看混淆矩阵 (预测值和真实值的各类情况统计矩阵)\n",
    "confusion_matrix_result = metrics.confusion_matrix(test_predict,y_test)\n",
    "print('The confusion matrix result:\\n',confusion_matrix_result)\n",
    "\n",
    "# 利用热力图对于结果进行可视化\n",
    "plt.figure(figsize=(8, 6))\n",
    "sns.heatmap(confusion_matrix_result, annot=True, cmap='Blues')\n",
    "plt.xlabel('Predicted labels')\n",
    "plt.ylabel('True labels')\n",
    "plt.show()"
   ]
  },
  {
   "cell_type": "markdown",
   "metadata": {
    "uuid": "0d578ce9-5059-4a88-8f4a-5837ad874245"
   },
   "source": [
    "原本有2470 + 790个错误，现在有 2112 + 939个错误，带来了明显的正确率提升。"
   ]
  },
  {
   "cell_type": "markdown",
   "metadata": {
    "uuid": "c3ebe57f-98ae-4d4e-b46b-b3b18aa3b58a"
   },
   "source": [
    "## 2.4 重要知识点"
   ]
  },
  {
   "cell_type": "markdown",
   "metadata": {
    "uuid": "44f3d5c2-ed05-4089-a02b-b4c07df1a504"
   },
   "source": [
    "### 2.4.1 XGBoost的重要参数"
   ]
  },
  {
   "cell_type": "markdown",
   "metadata": {
    "uuid": "47989402-15d1-4f67-9685-f764faef6f28"
   },
   "source": [
    "1.**eta**[默认0.3]    \n",
    "通过为每一颗树增加权重，提高模型的鲁棒性。   \n",
    "典型值为0.01-0.2。   \n",
    "\n",
    "2.**min_child_weight**[默认1]    \n",
    "决定最小叶子节点样本权重和。    \n",
    "这个参数可以避免过拟合。当它的值较大时，可以避免模型学习到局部的特殊样本。    \n",
    "但是如果这个值过高，则会导致模型拟合不充分。  \n",
    "\n",
    "3.**max_depth**[默认6]     \n",
    "这个值也是用来避免过拟合的。max_depth越大，模型会学到更具体更局部的样本。        \n",
    "典型值：3-10     \n",
    "\n",
    "4.**max_leaf_nodes**     \n",
    "树上最大的节点或叶子的数量。   \n",
    "可以替代max_depth的作用。     \n",
    "这个参数的定义会导致忽略max_depth参数。    \n",
    "\n",
    "5.**gamma**[默认0]      \n",
    "在节点分裂时，只有分裂后损失函数的值下降了，才会分裂这个节点。Gamma指定了节点分裂所需的最小损失函数下降值。\n",
    "这个参数的值越大，算法越保守。这个参数的值和损失函数息息相关。   \n",
    "\n",
    "6.**max_delta_step**[默认0]    \n",
    "这参数限制每棵树权重改变的最大步长。如果这个参数的值为0，那就意味着没有约束。如果它被赋予了某个正值，那么它会让这个算法更加保守。   \n",
    "但是当各类别的样本十分不平衡时，它对分类问题是很有帮助的。   \n",
    "\n",
    "7.**subsample**[默认1]     \n",
    "这个参数控制对于每棵树，随机采样的比例。   \n",
    "减小这个参数的值，算法会更加保守，避免过拟合。但是，如果这个值设置得过小，它可能会导致欠拟合。    \n",
    "典型值：0.5-1   \n",
    "  \n",
    "8.**colsample_bytree**[默认1]    \n",
    "用来控制每棵随机采样的列数的占比(每一列是一个特征)。   \n",
    "典型值：0.5-1   \n",
    "\n",
    "9.**colsample_bylevel**[默认1]   \n",
    "用来控制树的每一级的每一次分裂，对列数的采样的占比。   \n",
    "subsample参数和colsample_bytree参数可以起到相同的作用，一般用不到。\n",
    "\n",
    "10.**lambda**[默认1]    \n",
    "权重的L2正则化项。(和Ridge regression类似)。    \n",
    "这个参数是用来控制XGBoost的正则化部分的。虽然大部分数据科学家很少用到这个参数，但是这个参数在减少过拟合上还是可以挖掘出更多用处的。    \n",
    "\n",
    "11.**alpha**[默认1]    \n",
    "权重的L1正则化项。(和Lasso regression类似)。  \n",
    "可以应用在很高维度的情况下，使得算法的速度更快。     \n",
    "\n",
    "12.**scale_pos_weight**[默认1]    \n",
    "在各类别样本十分不平衡时，把这个参数设定为一个正值，可以使算法更快收敛。    \n"
   ]
  },
  {
   "cell_type": "markdown",
   "metadata": {
    "uuid": "08f7dafd-45b2-475a-9ef3-b0bdbb316b85"
   },
   "source": [
    "### 2.4.2 XGBoost原理粗略讲解"
   ]
  },
  {
   "cell_type": "markdown",
   "metadata": {
    "uuid": "dfef76b2-9ba8-4b16-9571-42edc404853f"
   },
   "source": [
    "XGBoost底层实现了GBDT算法，并对GBDT算法做了一系列优化：\n",
    "1. 对目标函数进行了泰勒展示的二阶展开，可以更加高效拟合误差。\n",
    "2. 提出了一种估计分裂点的算法加速CART树的构建过程，同时可以处理稀疏数据。\n",
    "3. 提出了一种树的并行策略加速迭代。\n",
    "4. 为模型的分布式算法进行了底层优化。"
   ]
  },
  {
   "attachments": {
    "image.png": {
     "image/png": "[encoded data removed]"
    }
   },
   "cell_type": "markdown",
   "metadata": {
    "uuid": "bb349970-9ded-4a56-996b-1ce3f3f08668"
   },
   "source": [
    "XGBoost是基于CART树的集成模型，它的思想是串联多个决策树模型共同进行决策。\n",
    "\n",
    "![image.png](attachment:image.png)\n",
    "\n",
    "那么如何串联呢？XGBoost采用迭代预测误差的方法串联。举个通俗的例子，我们现在需要预测一辆车价值3000元。我们构建决策树1训练后预测为2600元，我们发现有400元的误差，那么决策树2的训练目标为400元，但决策树2的预测结果为350元，还存在50元的误差就交给第三棵树……以此类推，每一颗树用来估计之前所有树的误差，最后所有树预测结果的求和就是最终预测结果！\n",
    "\n",
    "XGBoost的基模型是CART回归树，它有两个特点：（1）CART树，是一颗二叉树。（2）回归树，最后拟合结果是连续值。\n",
    "\n",
    "XGBoost模型可以表示为以下形式，我们约定$f_t(x)$表示前$t$颗树的和，$h_t(x)$表示第$t$颗决策树，模型定义如下：\n",
    "\n",
    "$f_{t}(x)=\\sum_{t=1}^{T} h_{t}(x)$\n",
    "\n",
    "由于模型递归生成，第$t$步的模型由第$t-1$步的模型形成，可以写成：\n",
    "\n",
    "$f_{t}(x)=f_{t-1}(x)+h_{t}(x)$\n",
    "\n",
    "每次需要加上的树$h_t(x)$是之前树求和的误差：\n",
    "\n",
    "$r_{t, i}=y_{i}-f_{m-1}\\left(x_{i}\\right)$\n",
    "\n",
    "我们每一步只要拟合一颗输出为$r_{t,i}$的CART树加到$f_{t-1}(x)$就可以了。"
   ]
  }
 ],
 "metadata": {
  "kernelspec": {
   "display_name": "Python 3 (ipykernel)",
   "language": "python",
   "name": "python3"
  },
  "language_info": {
   "codemirror_mode": {
    "name": "ipython",
    "version": 3
   },
   "file_extension": ".py",
   "mimetype": "text/x-python",
   "name": "python",
   "nbconvert_exporter": "python",
   "pygments_lexer": "ipython3",
   "version": "3.8.12"
  }
 },
 "nbformat": 4,
 "nbformat_minor": 4
}
