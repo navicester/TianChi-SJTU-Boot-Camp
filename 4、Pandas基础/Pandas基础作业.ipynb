{
 "cells": [
  {
   "cell_type": "markdown",
   "metadata": {},
   "source": [
    "## Pandas基础作业"
   ]
  },
  {
   "cell_type": "markdown",
   "metadata": {},
   "source": [
    "### 提交作业方式请参考此链接：[<u>如何提交作业<u/>](https://tianchi.aliyun.com/notebook-ai/detail?postId=182576)"
   ]
  },
  {
   "cell_type": "markdown",
   "metadata": {},
   "source": [
    " #### 1. 用pandas读取 stockprices_0.csv 文件，将第一列作为索引。\n"
   ]
  },
  {
   "cell_type": "markdown",
   "metadata": {},
   "source": [
    " #### 2. 请将股票代码为“600011”的2020年全年股价构造成一个Series，并计算全年股价均值。\n",
    "\n"
   ]
  },
  {
   "cell_type": "markdown",
   "metadata": {},
   "source": [
    " #### 3. 请提取代码为“600012”和“600020”的两列股票价格，对600012股价升序排列，同时，对600020的股价降序排列。"
   ]
  },
  {
   "cell_type": "markdown",
   "metadata": {},
   "source": [
    "#### 4. 请在原数据集中，做以下几个操作：\n",
    " （1）查询2020-04-01这一天大家的股价；<Br>\n",
    " （2）截取整个5月份的股价列表；<br>\n",
    " （3）截取2020年600011股价超过4.5元时，且600030股价低于25元时的数据集；<br>\n",
    " （4）截取第50行-100行的数据集。<br>\n",
    "\n",
    "你还可以尝试各种不同的切片，例如在某个月份中，股价低于某个价位时的数据，可以自行尝试。"
   ]
  },
  {
   "cell_type": "markdown",
   "metadata": {},
   "source": [
    "#### 5. concat函数中的axis参数和how参数分别代表什么含义？\n",
    " （1）读取stockprices_1.csv文件，将stockprices_0中的“600010”，“600011”，“600012”，和stockprices_1中的“600050”和“601162”拼接成一张新表。<br>\n",
    " （2）查询新表中是否有缺失值，找到有缺失值的行。<br>\n",
    " （3）查看缺失值在列中的比例和数量。<br>\n",
    " （4）已知这些有缺失值的日期是股票停牌的日期，请选择一个最合理的方式填充缺失值。<br>"
   ]
  }
 ],
 "metadata": {
  "kernelspec": {
   "display_name": "Python 3 (ipykernel)",
   "language": "python",
   "name": "python3"
  },
  "language_info": {
   "codemirror_mode": {
    "name": "ipython",
    "version": 3
   },
   "file_extension": ".py",
   "mimetype": "text/x-python",
   "name": "python",
   "nbconvert_exporter": "python",
   "pygments_lexer": "ipython3",
   "version": "3.8.12"
  },
  "tianchi_metadata": {
   "competitions": [],
   "datasets": [
    {
     "id": "90788",
     "title": "上交训练营数据集"
    }
   ],
   "description": "",
   "notebookId": "199374",
   "source": "dsw"
  }
 },
 "nbformat": 4,
 "nbformat_minor": 4
}
