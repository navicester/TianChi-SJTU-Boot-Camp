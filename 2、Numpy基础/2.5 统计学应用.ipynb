{
 "cells": [
  {
   "cell_type": "markdown",
   "metadata": {
    "id": "264D33D9F1BE47FE85539E0510FD79EB",
    "jupyter": {},
    "mdEditEnable": true,
    "slideshow": {
     "slide_type": "slide"
    },
    "tags": []
   },
   "source": [
    "# 2.5 统计学应用"
   ]
  },
  {
   "cell_type": "markdown",
   "metadata": {
    "id": "A4E1059336E048828AEFC1634C1D98E2",
    "jupyter": {},
    "mdEditEnable": true,
    "notebookId": "60162be1ac79f40016b81ca1",
    "slideshow": {
     "slide_type": "slide"
    },
    "tags": []
   },
   "source": [
    "## 1. 生成正态分布数据\n",
    "* 正态分布又叫做高斯分布，Numpy中名为random的模块，里面包含若干生成随机数据的函数，其中normal就是专门用来生成符合正态分布规律的随机数字\n",
    "\n",
    "* 完整的函数表达式为：numpy.random.normal(loc = 0.0, scale = 1.0, size= None)\n",
    "\n",
    "* loc：浮点数，分布的平均值\n",
    "\n",
    "* scale：浮点数，分布的标准差,scale越大，越矮胖，scale越小，越瘦高\n",
    "\n",
    "* size：整数或者整数元素的元组，输出的数据个数"
   ]
  },
  {
   "cell_type": "code",
   "execution_count": null,
   "metadata": {
    "id": "4919A5CCA87A4CC0BE9926EE1B733A1A",
    "jupyter": {},
    "slideshow": {
     "slide_type": "slide"
    },
    "tags": []
   },
   "outputs": [],
   "source": [
    "import numpy as np\n",
    "mu, sigma = 0.0, 1.0\n",
    "a= np.random.normal(loc = mu, scale = sigma, size =10)\n",
    "a"
   ]
  },
  {
   "cell_type": "markdown",
   "metadata": {
    "id": "8CCA5B217A2B4A388636D1AC4760FCA4",
    "jupyter": {},
    "mdEditEnable": true,
    "slideshow": {
     "slide_type": "slide"
    },
    "tags": []
   },
   "source": [
    "## 1.1  np.random.randn(size)\n",
    "另一个可以获得随机数的函数 np.random.randn(size),利用这个函数所得到随机数是符合loc=0.0， scale = 1.0条件的正太分布-称之为“标准正态分布”"
   ]
  },
  {
   "cell_type": "code",
   "execution_count": null,
   "metadata": {
    "id": "3138FDE471C0435B8BCA08A4B2440BEB",
    "jupyter": {},
    "slideshow": {
     "slide_type": "slide"
    },
    "tags": []
   },
   "outputs": [],
   "source": [
    "b= np.random.randn(10)\n",
    "b"
   ]
  },
  {
   "cell_type": "markdown",
   "metadata": {
    "id": "79325224B3064B59AD53352E76BDE159",
    "jupyter": {},
    "mdEditEnable": true,
    "slideshow": {
     "slide_type": "slide"
    },
    "tags": []
   },
   "source": [
    "## 1.2 np.random.rand(size)\n",
    "随机产生在[0,1)之间的数"
   ]
  },
  {
   "cell_type": "code",
   "execution_count": null,
   "metadata": {
    "id": "4E5BBE67CF0C4DBE80D9F8459B8E25BD",
    "jupyter": {},
    "slideshow": {
     "slide_type": "slide"
    },
    "tags": []
   },
   "outputs": [],
   "source": [
    "np.random.rand(3,3)"
   ]
  },
  {
   "cell_type": "markdown",
   "metadata": {
    "id": "7C7DDC789C244C7CB0F9AB4689097121",
    "jupyter": {},
    "mdEditEnable": true,
    "slideshow": {
     "slide_type": "slide"
    },
    "tags": []
   },
   "source": [
    "## 1.3 np.random.randint(low, high=None, size=None, dtype=’l’)\n",
    "输入：\n",
    "- low—–为最小值\n",
    "- high—-为最大值\n",
    "- size—–为数组维度大小\n",
    "- dtype—为数据类型，默认的数据类型是np.int。\n",
    "返回值：\n",
    "- 返回随机整数或整型数组，范围区间为[low,high），包含low，不包含high；\n",
    "high没有填写时，默认生成随机数的范围是[0，low）"
   ]
  },
  {
   "cell_type": "code",
   "execution_count": null,
   "metadata": {
    "id": "DEA251A277B749008298812FD7E44062",
    "jupyter": {},
    "slideshow": {
     "slide_type": "slide"
    },
    "tags": []
   },
   "outputs": [],
   "source": [
    "np.random.randint(6, size=(2,3))"
   ]
  },
  {
   "cell_type": "markdown",
   "metadata": {
    "id": "2A2C4532D79442AA8CE552D2AC77B8B5",
    "jupyter": {},
    "mdEditEnable": true,
    "slideshow": {
     "slide_type": "slide"
    },
    "tags": []
   },
   "source": [
    "## 2. 简单的统计函数："
   ]
  },
  {
   "cell_type": "markdown",
   "metadata": {
    "id": "08D93A6EFF6D4186A6ADFB503B9255B2",
    "jupyter": {},
    "mdEditEnable": true,
    "slideshow": {
     "slide_type": "slide"
    },
    "tags": []
   },
   "source": [
    "* np.mean()：计算平均值           \n",
    "* np.average()：加权平均数\n",
    "* np.var()：方差(variance)        \n",
    "* np.std()：计算标准差(standard)\n",
    "* np.min()，np.max():最小值，最大值\n",
    "* np.median()：中值               \n",
    "* np.sum()：对象的和"
   ]
  },
  {
   "cell_type": "code",
   "execution_count": null,
   "metadata": {
    "id": "C3C53F635DA04DCB9E05BF46249A0B6E",
    "jupyter": {},
    "slideshow": {
     "slide_type": "slide"
    },
    "tags": []
   },
   "outputs": [],
   "source": [
    "a=np.arange(0,10)\n",
    "a"
   ]
  },
  {
   "cell_type": "code",
   "execution_count": null,
   "metadata": {
    "id": "A06E26EDEFE24334A9D07B7A63424A34",
    "jupyter": {},
    "slideshow": {
     "slide_type": "slide"
    },
    "tags": []
   },
   "outputs": [],
   "source": [
    "np.mean(a)   # 均值"
   ]
  },
  {
   "cell_type": "code",
   "execution_count": null,
   "metadata": {
    "id": "8D3BA9002D914080A3C24868132E0A0D",
    "jupyter": {},
    "slideshow": {
     "slide_type": "slide"
    },
    "tags": []
   },
   "outputs": [],
   "source": [
    "np.var(a)  #方差"
   ]
  },
  {
   "cell_type": "code",
   "execution_count": null,
   "metadata": {
    "id": "CA4330DB361A4B7B9022270D4F6B11A0",
    "jupyter": {},
    "slideshow": {
     "slide_type": "slide"
    },
    "tags": []
   },
   "outputs": [],
   "source": [
    "np.std(a)  # 标准差"
   ]
  },
  {
   "cell_type": "code",
   "execution_count": null,
   "metadata": {
    "id": "5CCAA89EDAA24B649A0C57A4FEA89413",
    "jupyter": {},
    "slideshow": {
     "slide_type": "slide"
    },
    "tags": []
   },
   "outputs": [],
   "source": [
    "np.min(a), np.max(a)   # 最小值，最大值"
   ]
  },
  {
   "cell_type": "code",
   "execution_count": null,
   "metadata": {
    "id": "7C92D4E4A60B48138F4441BE44CD0770",
    "jupyter": {},
    "slideshow": {
     "slide_type": "slide"
    },
    "tags": []
   },
   "outputs": [],
   "source": [
    "np.median(a)   # 中值"
   ]
  },
  {
   "cell_type": "code",
   "execution_count": null,
   "metadata": {
    "id": "43BE41B08EE64EFABF50430C51F350D1",
    "jupyter": {},
    "slideshow": {
     "slide_type": "slide"
    },
    "tags": []
   },
   "outputs": [],
   "source": [
    "np.sum(a)  # 求和"
   ]
  },
  {
   "cell_type": "markdown",
   "metadata": {
    "id": "AE1894D36D08498DBF55D147E75D6AE8",
    "jupyter": {},
    "mdEditEnable": true,
    "slideshow": {
     "slide_type": "slide"
    },
    "tags": []
   },
   "source": [
    "###  Numpy不仅能够对一维数据进行统计，还能够针对多维数组的数据进行统计"
   ]
  },
  {
   "cell_type": "code",
   "execution_count": null,
   "metadata": {
    "id": "716D4D8A10FB4AD980C260BE03C65FE9",
    "jupyter": {},
    "slideshow": {
     "slide_type": "slide"
    },
    "tags": []
   },
   "outputs": [],
   "source": [
    "vresult = np.vstack((a,b))  #垂直（按照行顺序）的把数组给堆叠起\n",
    "vresult"
   ]
  },
  {
   "cell_type": "code",
   "execution_count": null,
   "metadata": {
    "id": "2A20A47BACEC462E97B8C54C74036576",
    "jupyter": {},
    "slideshow": {
     "slide_type": "slide"
    },
    "tags": []
   },
   "outputs": [],
   "source": [
    "hresult = np.hstack((a,b))  #水平（按照列顺序）的把数组给堆叠起\n",
    "hresult"
   ]
  },
  {
   "cell_type": "markdown",
   "metadata": {
    "id": "1D531E3400FB4083A2ECE30A516A790A",
    "jupyter": {},
    "mdEditEnable": false,
    "slideshow": {
     "slide_type": "slide"
    },
    "tags": []
   },
   "source": [
    "Note:注意仔细看上面两个结果中括号的位置"
   ]
  },
  {
   "cell_type": "code",
   "execution_count": null,
   "metadata": {
    "id": "0E59CB2009B64BE8906BC5C8C1AC653C",
    "jupyter": {},
    "slideshow": {
     "slide_type": "slide"
    },
    "tags": []
   },
   "outputs": [],
   "source": [
    "np.mean(vresult,axis =1)  # 沿着列方向计算平均值，分别得到a和b的平均值"
   ]
  },
  {
   "cell_type": "code",
   "execution_count": null,
   "metadata": {
    "id": "25ADA75FD48C42068B9094A7DC757671",
    "jupyter": {},
    "slideshow": {
     "slide_type": "slide"
    },
    "tags": []
   },
   "outputs": [],
   "source": [
    "np.mean(vresult, axis= 0)  # 沿行方向计算平均值，分别得到每一行的平均值"
   ]
  },
  {
   "cell_type": "code",
   "execution_count": null,
   "metadata": {
    "id": "8BDDF13D4FBC4937AC31D67FAD4FD156",
    "jupyter": {},
    "slideshow": {
     "slide_type": "slide"
    },
    "tags": []
   },
   "outputs": [],
   "source": [
    "np.std(vresult ,axis =1)   # 沿着列方向计算平均值，分别得到a和b的标准差"
   ]
  },
  {
   "cell_type": "markdown",
   "metadata": {
    "id": "F2DA52983FF74C42A948B56E7BDFF275",
    "jupyter": {},
    "mdEditEnable": false,
    "slideshow": {
     "slide_type": "slide"
    },
    "tags": []
   },
   "source": [
    "### 如果以布尔类型的数组作为下标，则可以根据要求选出想应的元素"
   ]
  },
  {
   "cell_type": "code",
   "execution_count": null,
   "metadata": {
    "id": "D5B66DC0621E491F82CE8E96751FED78",
    "jupyter": {},
    "slideshow": {
     "slide_type": "slide"
    },
    "tags": []
   },
   "outputs": [],
   "source": [
    "#方法一：直接用索引选出结果\n",
    "a[a > np.mean(a)]"
   ]
  },
  {
   "cell_type": "markdown",
   "metadata": {
    "id": "35288DD2459946A7897D1AFFC9718026",
    "jupyter": {},
    "mdEditEnable": false,
    "slideshow": {
     "slide_type": "slide"
    },
    "tags": []
   },
   "source": [
    "除了这种方法外，还有好用的  np.where()函数， 它其实是面向数组的条件语句的三元操作"
   ]
  },
  {
   "cell_type": "markdown",
   "metadata": {
    "id": "EAC4061D934A49F89D8DC513D07B9931",
    "jupyter": {},
    "mdEditEnable": true,
    "slideshow": {
     "slide_type": "slide"
    },
    "tags": []
   },
   "source": [
    "###  np.where(condition, x, y)\n",
    "满足条件(condition)，输出x，不满足输出y"
   ]
  },
  {
   "cell_type": "code",
   "execution_count": null,
   "metadata": {
    "id": "6906C66DD6C041DD9AE1C326EB3A0511",
    "jupyter": {},
    "slideshow": {
     "slide_type": "slide"
    },
    "tags": []
   },
   "outputs": [],
   "source": [
    "a"
   ]
  },
  {
   "cell_type": "code",
   "execution_count": null,
   "metadata": {
    "id": "C36D04CAC77F464D827E65CEC821735E",
    "jupyter": {},
    "slideshow": {
     "slide_type": "slide"
    },
    "tags": []
   },
   "outputs": [],
   "source": [
    "b=[1,2,1,1,1,2,4,56,66,33]"
   ]
  },
  {
   "cell_type": "code",
   "execution_count": null,
   "metadata": {
    "id": "0D01F27E06374DE086DFFCE589F9EF92",
    "jupyter": {},
    "slideshow": {
     "slide_type": "slide"
    },
    "tags": []
   },
   "outputs": [],
   "source": [
    "#a中的元素大于b中的元素，就返回1，否则返回-1\n",
    "np.where(a>b, 1,-1)"
   ]
  },
  {
   "cell_type": "markdown",
   "metadata": {
    "id": "21F0A3A820D84FB9B1730696BE15AC57",
    "jupyter": {},
    "mdEditEnable": false,
    "slideshow": {
     "slide_type": "slide"
    },
    "tags": []
   },
   "source": [
    "* 也可以只写条件，那么返回的就是由符合条件的元素索引组成的数组\n"
   ]
  },
  {
   "cell_type": "code",
   "execution_count": null,
   "metadata": {
    "id": "8ECC9E2BC02D4749879A90B326913235",
    "jupyter": {},
    "slideshow": {
     "slide_type": "slide"
    },
    "tags": []
   },
   "outputs": [],
   "source": [
    "np.where(a > a.mean())"
   ]
  },
  {
   "cell_type": "markdown",
   "metadata": {
    "id": "3E7690E23920483D82FA2D7E4B646EDD",
    "jupyter": {},
    "mdEditEnable": true,
    "notebookId": "60162be1ac79f40016b81ca1",
    "slideshow": {
     "slide_type": "slide"
    },
    "tags": []
   },
   "source": [
    "END"
   ]
  }
 ],
 "metadata": {
  "kernelspec": {
   "display_name": "Python 3 (ipykernel)",
   "language": "python",
   "name": "python3"
  },
  "language_info": {
   "codemirror_mode": {
    "name": "ipython",
    "version": 3
   },
   "file_extension": ".py",
   "mimetype": "text/x-python",
   "name": "python",
   "nbconvert_exporter": "python",
   "pygments_lexer": "ipython3",
   "version": "3.8.12"
  },
  "tianchi_metadata": {
   "competitions": [],
   "datasets": [
    {
     "id": "90788",
     "title": "上交训练营数据集"
    }
   ],
   "description": "",
   "notebookId": "199340",
   "source": "dsw"
  }
 },
 "nbformat": 4,
 "nbformat_minor": 4
}
