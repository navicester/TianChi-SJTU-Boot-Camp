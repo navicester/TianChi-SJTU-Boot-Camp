{
 "cells": [
  {
   "cell_type": "markdown",
   "metadata": {
    "id": "A1A9357DB05546D699E68E527F01A663",
    "jupyter": {},
    "mdEditEnable": true,
    "notebookId": "60103381ac79f40016a06ad1",
    "slideshow": {
     "slide_type": "slide"
    },
    "tags": []
   },
   "source": [
    "### Numpy基础作业"
   ]
  },
  {
   "cell_type": "markdown",
   "metadata": {},
   "source": [
    "#### 提交作业方式请参考此链接：[<u>如何提交作业<u/>](https://tianchi.aliyun.com/notebook-ai/detail?postId=182576)"
   ]
  },
  {
   "cell_type": "markdown",
   "metadata": {
    "id": "5B252D0E2D4C4A598D45F75613345E05",
    "jupyter": {},
    "mdEditEnable": false,
    "slideshow": {
     "slide_type": "slide"
    },
    "tags": []
   },
   "source": [
    "### 1.创建一个长度为10的分布在[0,1)一维随机矩阵,然后让第5个元素等于1"
   ]
  },
  {
   "cell_type": "markdown",
   "metadata": {
    "id": "07DFA6E2D85E4DA981A028117B3FC09B",
    "jupyter": {},
    "mdEditEnable": false,
    "slideshow": {
     "slide_type": "slide"
    },
    "tags": []
   },
   "source": [
    "### 2.创建一个元素为从20到80的长度为10的ndarray对象"
   ]
  },
  {
   "cell_type": "markdown",
   "metadata": {
    "id": "E25D16E811BC46978D853ADB2A55AC44",
    "jupyter": {},
    "mdEditEnable": false,
    "slideshow": {
     "slide_type": "slide"
    },
    "tags": []
   },
   "source": [
    "### 3.创建一个符合正太分布的长度为10的数组并反转这个数组"
   ]
  },
  {
   "cell_type": "markdown",
   "metadata": {
    "id": "3BA55E3138BF4940B0405AA64848523B",
    "jupyter": {},
    "mdEditEnable": false,
    "slideshow": {
     "slide_type": "slide"
    },
    "tags": []
   },
   "source": [
    "### 4.随机创建一个4维矩阵，并得到最后两维的和。"
   ]
  },
  {
   "cell_type": "markdown",
   "metadata": {
    "id": "ED2CB7EA6FAB4B7BA80BCD85DEE869FC",
    "jupyter": {},
    "mdEditEnable": false,
    "slideshow": {
     "slide_type": "slide"
    },
    "tags": []
   },
   "source": [
    "### 5.创建一个999999长度的随机数组，使用两种方法对其求三次方，并比较所用时间"
   ]
  },
  {
   "cell_type": "markdown",
   "metadata": {
    "id": "C4FEB710588C45D48373B1B3E6262727",
    "jupyter": {},
    "mdEditEnable": false,
    "slideshow": {
     "slide_type": "slide"
    },
    "tags": []
   },
   "source": [
    "### 6.创建一个 5x5 的二维数组，并设置值 1, 2, 3, 4 落在其对角线下方"
   ]
  },
  {
   "cell_type": "markdown",
   "metadata": {
    "id": "667826EB29D546CC8779AAE3EDF03593",
    "jupyter": {},
    "mdEditEnable": true,
    "notebookId": "60103381ac79f40016a06ad1",
    "slideshow": {
     "slide_type": "slide"
    },
    "tags": []
   },
   "source": [
    "END"
   ]
  }
 ],
 "metadata": {
  "kernelspec": {
   "display_name": "Python 3",
   "language": "python",
   "name": "python3"
  },
  "language_info": {
   "codemirror_mode": {
    "name": "ipython",
    "version": 3
   },
   "file_extension": ".py",
   "mimetype": "text/x-python",
   "name": "python",
   "nbconvert_exporter": "python",
   "pygments_lexer": "ipython3",
   "version": "3.6.5"
  },
  "tianchi_metadata": {
   "competitions": [],
   "datasets": [
    {
     "id": "90788",
     "title": "上交训练营数据集"
    }
   ],
   "description": "",
   "notebookId": "199354",
   "source": "dsw"
  }
 },
 "nbformat": 4,
 "nbformat_minor": 4
}
