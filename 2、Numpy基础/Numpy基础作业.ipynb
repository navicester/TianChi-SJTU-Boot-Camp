{
 "cells": [
  {
   "cell_type": "markdown",
   "metadata": {
    "id": "A1A9357DB05546D699E68E527F01A663",
    "jupyter": {},
    "mdEditEnable": true,
    "notebookId": "60103381ac79f40016a06ad1",
    "slideshow": {
     "slide_type": "slide"
    },
    "tags": []
   },
   "source": [
    "### Numpy基础作业"
   ]
  },
  {
   "cell_type": "markdown",
   "metadata": {},
   "source": [
    "#### 提交作业方式请参考此链接：[<u>如何提交作业<u/>](https://tianchi.aliyun.com/notebook-ai/detail?postId=182576)"
   ]
  },
  {
   "cell_type": "markdown",
   "metadata": {
    "id": "5B252D0E2D4C4A598D45F75613345E05",
    "jupyter": {},
    "mdEditEnable": false,
    "slideshow": {
     "slide_type": "slide"
    },
    "tags": []
   },
   "source": [
    "### 1.创建一个长度为10的分布在[0,1)一维随机矩阵,然后让第5个元素等于1"
   ]
  },
  {
   "cell_type": "code",
   "execution_count": 1,
   "metadata": {},
   "outputs": [],
   "source": [
    "import numpy as np"
   ]
  },
  {
   "cell_type": "code",
   "execution_count": 6,
   "metadata": {},
   "outputs": [
    {
     "data": {
      "text/plain": [
       "array([0.03932506, 0.2483113 , 0.29254022, 0.57074999, 0.84438843,\n",
       "       0.21415202, 0.3859914 , 0.81779606, 0.43235451, 0.66464961])"
      ]
     },
     "execution_count": 6,
     "metadata": {},
     "output_type": "execute_result"
    }
   ],
   "source": [
    "a = np.random.rand(10)\n",
    "a"
   ]
  },
  {
   "cell_type": "code",
   "execution_count": 7,
   "metadata": {},
   "outputs": [
    {
     "data": {
      "text/plain": [
       "array([0.03932506, 0.2483113 , 0.29254022, 0.57074999, 1.        ,\n",
       "       0.21415202, 0.3859914 , 0.81779606, 0.43235451, 0.66464961])"
      ]
     },
     "execution_count": 7,
     "metadata": {},
     "output_type": "execute_result"
    }
   ],
   "source": [
    "a[4]=1\n",
    "a"
   ]
  },
  {
   "cell_type": "markdown",
   "metadata": {
    "id": "07DFA6E2D85E4DA981A028117B3FC09B",
    "jupyter": {},
    "mdEditEnable": false,
    "slideshow": {
     "slide_type": "slide"
    },
    "tags": []
   },
   "source": [
    "### 2.创建一个元素为从20到80的长度为10的ndarray对象"
   ]
  },
  {
   "cell_type": "code",
   "execution_count": 10,
   "metadata": {},
   "outputs": [
    {
     "data": {
      "text/plain": [
       "array([20.        , 26.66666667, 33.33333333, 40.        , 46.66666667,\n",
       "       53.33333333, 60.        , 66.66666667, 73.33333333, 80.        ])"
      ]
     },
     "execution_count": 10,
     "metadata": {},
     "output_type": "execute_result"
    }
   ],
   "source": [
    "a = np.linspace(20,80,10, endpoint = True)\n",
    "a"
   ]
  },
  {
   "cell_type": "markdown",
   "metadata": {
    "id": "E25D16E811BC46978D853ADB2A55AC44",
    "jupyter": {},
    "mdEditEnable": false,
    "slideshow": {
     "slide_type": "slide"
    },
    "tags": []
   },
   "source": [
    "### 3.创建一个符合正太分布的长度为10的数组并反转这个数组"
   ]
  },
  {
   "cell_type": "code",
   "execution_count": 15,
   "metadata": {},
   "outputs": [
    {
     "name": "stdout",
     "output_type": "stream",
     "text": [
      "[ 0.56705829  1.19191147  0.60702942 -0.92420255  1.55405523  1.42461139\n",
      "  0.63931784 -0.29694438 -1.46569923 -0.01956253]\n",
      "[-0.01956253 -1.46569923 -0.29694438  0.63931784  1.42461139  1.55405523\n",
      " -0.92420255  0.60702942  1.19191147  0.56705829]\n"
     ]
    }
   ],
   "source": [
    "a = np.random.randn(10)\n",
    "print(a)\n",
    "a = a[::-1]\n",
    "print(a)"
   ]
  },
  {
   "cell_type": "markdown",
   "metadata": {
    "id": "3BA55E3138BF4940B0405AA64848523B",
    "jupyter": {},
    "mdEditEnable": false,
    "slideshow": {
     "slide_type": "slide"
    },
    "tags": []
   },
   "source": [
    "### 4.随机创建一个4维矩阵，并得到最后两维的和。"
   ]
  },
  {
   "cell_type": "code",
   "execution_count": 25,
   "metadata": {},
   "outputs": [
    {
     "name": "stdout",
     "output_type": "stream",
     "text": [
      "[[[3 5 4 6]\n",
      "  [3 2 4 5]\n",
      "  [6 4 4 4]\n",
      "  [2 2 5 3]]\n",
      "\n",
      " [[6 6 2 4]\n",
      "  [3 4 4 5]\n",
      "  [4 5 4 5]\n",
      "  [6 5 4 5]]\n",
      "\n",
      " [[3 3 7 3]\n",
      "  [4 4 3 5]\n",
      "  [5 5 5 5]\n",
      "  [6 4 4 6]]\n",
      "\n",
      " [[3 2 5 2]\n",
      "  [7 7 5 5]\n",
      "  [5 4 3 4]\n",
      "  [1 3 3 1]]]\n",
      "[[[1 3 2 3]\n",
      "  [1 0 2 4]\n",
      "  [2 3 1 3]\n",
      "  [0 1 3 2]]\n",
      "\n",
      " [[3 2 1 3]\n",
      "  [1 3 2 2]\n",
      "  [2 3 2 2]\n",
      "  [3 3 2 2]]\n",
      "\n",
      " [[1 1 4 2]\n",
      "  [3 2 2 1]\n",
      "  [2 2 3 3]\n",
      "  [3 2 2 3]]\n",
      "\n",
      " [[1 1 3 1]\n",
      "  [3 4 3 2]\n",
      "  [3 2 2 1]\n",
      "  [0 2 2 0]]]\n"
     ]
    }
   ],
   "source": [
    "#a = np.random.rand(4,4,4,4)  # reshape\n",
    "a = np.random.randint(2, size=(4,4,4,4))\n",
    "#print(a,a.ndim)\n",
    "ax1 = np.sum(a, axis=2)\n",
    "ax2 = np.sum(a, axis=3)\n",
    "print(ax1+ax2)\n",
    "print(ax1)"
   ]
  },
  {
   "cell_type": "markdown",
   "metadata": {
    "id": "ED2CB7EA6FAB4B7BA80BCD85DEE869FC",
    "jupyter": {},
    "mdEditEnable": false,
    "slideshow": {
     "slide_type": "slide"
    },
    "tags": []
   },
   "source": [
    "### 5.创建一个999999长度的随机数组，使用两种方法对其求三次方，并比较所用时间"
   ]
  },
  {
   "cell_type": "markdown",
   "metadata": {
    "id": "C4FEB710588C45D48373B1B3E6262727",
    "jupyter": {},
    "mdEditEnable": false,
    "slideshow": {
     "slide_type": "slide"
    },
    "tags": []
   },
   "source": [
    "### 6.创建一个 5x5 的二维数组，并设置值 1, 2, 3, 4 落在其对角线下方"
   ]
  },
  {
   "cell_type": "markdown",
   "metadata": {
    "id": "667826EB29D546CC8779AAE3EDF03593",
    "jupyter": {},
    "mdEditEnable": true,
    "notebookId": "60103381ac79f40016a06ad1",
    "slideshow": {
     "slide_type": "slide"
    },
    "tags": []
   },
   "source": [
    "END"
   ]
  }
 ],
 "metadata": {
  "kernelspec": {
   "display_name": "Python 3 (ipykernel)",
   "language": "python",
   "name": "python3"
  },
  "language_info": {
   "codemirror_mode": {
    "name": "ipython",
    "version": 3
   },
   "file_extension": ".py",
   "mimetype": "text/x-python",
   "name": "python",
   "nbconvert_exporter": "python",
   "pygments_lexer": "ipython3",
   "version": "3.8.12"
  },
  "tianchi_metadata": {
   "competitions": [],
   "datasets": [
    {
     "id": "90788",
     "title": "上交训练营数据集"
    }
   ],
   "description": "",
   "notebookId": "199354",
   "source": "dsw"
  }
 },
 "nbformat": 4,
 "nbformat_minor": 4
}
