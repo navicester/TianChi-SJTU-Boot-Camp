{
 "cells": [
  {
   "cell_type": "markdown",
   "metadata": {
    "id": "28DC357C9EEA49CC92A71916DE857C69",
    "jupyter": {},
    "mdEditEnable": true,
    "notebookId": "60162be0ac79f40016b81c9e",
    "slideshow": {
     "slide_type": "slide"
    },
    "tags": []
   },
   "source": [
    "# 2.4 时间日期和时间增量\n",
    " 注：在金融领域与时间相关的操作是必不可少的，所以本节我们来进行简单的时间相关操作了解"
   ]
  },
  {
   "cell_type": "markdown",
   "metadata": {
    "id": "5D8DCEA33CE74DA1BCE89B54A06EE7B9",
    "jupyter": {},
    "mdEditEnable": true,
    "notebookId": "60162be0ac79f40016b81c9e",
    "slideshow": {
     "slide_type": "slide"
    },
    "tags": []
   },
   "source": [
    "## 1. datetime64 基础\n",
    "\n",
    "在 numpy 中，我们很方便的将字符串转换成时间日期类型 `datetime64`（`datetime` 已被 python 包含的日期时间库所占用）。\n",
    "\n",
    "`datatime64`是带单位的日期时间类型，其单位如下：\n",
    "\n",
    "日期单位 | 代码含义|时间单位 | 代码含义\n",
    ":---:|:---:|:---:|:---:\n",
    "Y | 年 |h | 小时\n",
    "M | 月 |m | 分钟\n",
    "W | 周 |s | 秒\n",
    "D | 天 |ms | 毫秒\n",
    "- | -  |us | 微秒\n",
    "- | -  |ns | 纳秒\n",
    "- | -  |ps | 皮秒\n",
    "- | -  |fs | 飞秒\n",
    "- | -  |as | 阿托秒\n",
    "\n",
    "注意：\n",
    "- 1秒 = 1000 毫秒（milliseconds）\n",
    "- 1毫秒 = 1000 微秒（microseconds）\n"
   ]
  },
  {
   "cell_type": "markdown",
   "metadata": {
    "id": "E95FB20BD81A42729C9281E60240EB9A",
    "jupyter": {},
    "mdEditEnable": true,
    "notebookId": "60162be0ac79f40016b81c9e",
    "slideshow": {
     "slide_type": "slide"
    },
    "tags": []
   },
   "source": [
    "从字符串创建 datetime64 类型时，默认情况下，numpy 会根据字符串自动选择对应的单位。"
   ]
  },
  {
   "cell_type": "code",
   "execution_count": 1,
   "metadata": {
    "id": "A454C47B2FC24D4E8DA4A9B74D3DFA86",
    "jupyter": {},
    "notebookId": "60162be0ac79f40016b81c9e",
    "slideshow": {
     "slide_type": "slide"
    },
    "tags": []
   },
   "outputs": [
    {
     "name": "stdout",
     "output_type": "stream",
     "text": [
      "2021-03-01 datetime64[D]\n",
      "2021-03 datetime64[M]\n",
      "2021-03-08T20:00:05 datetime64[s]\n",
      "2021-03-08T20:00 datetime64[m]\n",
      "2021-03-08T20 datetime64[h]\n"
     ]
    }
   ],
   "source": [
    "import numpy as np\n",
    "\n",
    "a = np.datetime64('2021-03-01')\n",
    "print(a, a.dtype)  # 2020-04-01 datetime64[D]\n",
    "\n",
    "a = np.datetime64('2021-03')\n",
    "print(a, a.dtype)  # 2020-04 datetime64[M]\n",
    "\n",
    "a = np.datetime64('2021-03-08 20:00:05')\n",
    "print(a, a.dtype)  # 2020-04-08T20:00:05 datetime64[s]\n",
    "\n",
    "a = np.datetime64('2021-03-08 20:00')\n",
    "print(a, a.dtype)  # 2020-04-08T20:00 datetime64[m]\n",
    "\n",
    "a = np.datetime64('2021-03-08 20')\n",
    "print(a, a.dtype)  # 2020-04-08T20 datetime64[h]"
   ]
  },
  {
   "cell_type": "markdown",
   "metadata": {
    "id": "954659F19E8642D28C012B6EDA8D4105",
    "jupyter": {},
    "mdEditEnable": true,
    "notebookId": "60162be0ac79f40016b81c9e",
    "slideshow": {
     "slide_type": "slide"
    },
    "tags": []
   },
   "source": [
    "从字符串创建 datetime64 类型时，可以强制指定使用的单位。"
   ]
  },
  {
   "cell_type": "code",
   "execution_count": 2,
   "metadata": {
    "id": "99F6B8B3A88E484599EE7FE3F7A86FF8",
    "jupyter": {},
    "notebookId": "60162be0ac79f40016b81c9e",
    "slideshow": {
     "slide_type": "slide"
    },
    "tags": []
   },
   "outputs": [
    {
     "name": "stdout",
     "output_type": "stream",
     "text": [
      "2021-03-01 datetime64[D]\n",
      "2021 datetime64[Y]\n",
      "True\n"
     ]
    }
   ],
   "source": [
    "import numpy as np\n",
    "\n",
    "a = np.datetime64('2021-03', 'D')\n",
    "print(a, a.dtype)  # 2021-03-01 datetime64[D]\n",
    "\n",
    "a = np.datetime64('2021-03', 'Y')\n",
    "print(a, a.dtype)  # 2021 datetime64[Y]\n",
    "\n",
    "print(np.datetime64('2021-03') == np.datetime64('2021-03-01'))  # True"
   ]
  },
  {
   "cell_type": "markdown",
   "metadata": {
    "id": "BC1C13ADDA1C41429D588ABA77241B73",
    "jupyter": {},
    "mdEditEnable": true,
    "notebookId": "60162be0ac79f40016b81c9e",
    "slideshow": {
     "slide_type": "slide"
    },
    "tags": []
   },
   "source": [
    "由上例可以看出，2020-03 和 2020-03-01 所表示的其实是同一个时间。\n",
    "事实上，如果两个 datetime64 对象具有不同的单位，它们可能仍然代表相同的时刻。并且从较大的单位（如月份）转换为较小的单位（如天数）是安全的。"
   ]
  },
  {
   "cell_type": "markdown",
   "metadata": {
    "id": "9EDF779151024022AEE7DB40AE6DC343",
    "jupyter": {},
    "mdEditEnable": true,
    "notebookId": "60162be0ac79f40016b81c9e",
    "slideshow": {
     "slide_type": "slide"
    },
    "tags": []
   },
   "source": [
    "从字符串创建 datetime64 数组时，如果单位不统一，则一律转化成其中最小的单位。"
   ]
  },
  {
   "cell_type": "code",
   "execution_count": 3,
   "metadata": {
    "id": "C0E55133216248B0917D9962BD6D1A92",
    "jupyter": {},
    "notebookId": "60162be0ac79f40016b81c9e",
    "slideshow": {
     "slide_type": "slide"
    },
    "tags": []
   },
   "outputs": [
    {
     "name": "stdout",
     "output_type": "stream",
     "text": [
      "['2021-03-01T00:00' '2021-03-08T00:00' '2021-03-08T20:00'] datetime64[m]\n"
     ]
    }
   ],
   "source": [
    "import numpy as np\n",
    "\n",
    "a = np.array(['2021-03', '2021-03-08', '2021-03-08 20:00'], dtype='datetime64')\n",
    "print(a, a.dtype)"
   ]
  },
  {
   "cell_type": "markdown",
   "metadata": {
    "id": "9E38FE38B8EA4C81B6E943410D62837B",
    "jupyter": {},
    "mdEditEnable": true,
    "notebookId": "60162be0ac79f40016b81c9e",
    "slideshow": {
     "slide_type": "slide"
    },
    "tags": []
   },
   "source": [
    "使用`arange()`创建 datetime64 数组，用于生成日期范围。\n"
   ]
  },
  {
   "cell_type": "code",
   "execution_count": 4,
   "metadata": {
    "id": "EB77043EC0D9413F8A80A8AE51353F0F",
    "jupyter": {},
    "notebookId": "60162be0ac79f40016b81c9e",
    "slideshow": {
     "slide_type": "slide"
    },
    "tags": []
   },
   "outputs": [
    {
     "name": "stdout",
     "output_type": "stream",
     "text": [
      "['2021-08-01' '2021-08-02' '2021-08-03' '2021-08-04' '2021-08-05'\n",
      " '2021-08-06' '2021-08-07' '2021-08-08' '2021-08-09']\n",
      "datetime64[D]\n",
      "['2021-08-01T20:00' '2021-08-01T20:01' '2021-08-01T20:02' ...\n",
      " '2021-08-09T23:57' '2021-08-09T23:58' '2021-08-09T23:59']\n",
      "datetime64[m]\n",
      "['2021-05' '2021-06' '2021-07' '2021-08' '2021-09' '2021-10' '2021-11']\n",
      "datetime64[M]\n"
     ]
    }
   ],
   "source": [
    "import numpy as np\n",
    "\n",
    "a = np.arange('2021-08-01', '2021-08-10', dtype=np.datetime64)\n",
    "print(a)\n",
    "print(a.dtype)  # datetime64[D]\n",
    "\n",
    "a = np.arange('2021-08-01 20:00', '2021-08-10', dtype=np.datetime64)\n",
    "print(a)\n",
    "print(a.dtype)  # datetime64[m]\n",
    "\n",
    "a = np.arange('2021-05', '2021-12', dtype=np.datetime64)\n",
    "print(a)\n",
    "print(a.dtype)  # datetime64[M]"
   ]
  },
  {
   "cell_type": "markdown",
   "metadata": {
    "id": "73D7CCD1E5D944409CC1B538AFCA00DA",
    "jupyter": {},
    "mdEditEnable": true,
    "notebookId": "60162be0ac79f40016b81c9e",
    "slideshow": {
     "slide_type": "slide"
    },
    "tags": []
   },
   "source": [
    "## 2. datetime64 和 timedelta64 运算"
   ]
  },
  {
   "cell_type": "markdown",
   "metadata": {
    "id": "664DE3A3F66A4CCD8BC07D27F3F76B42",
    "jupyter": {},
    "mdEditEnable": true,
    "notebookId": "60162be0ac79f40016b81c9e",
    "slideshow": {
     "slide_type": "slide"
    },
    "tags": []
   },
   "source": [
    "timedelta64 表示两个 datetime64 之间的时间间隔。timedelta64 也是带单位的，并且和相减运算中的两个 datetime64 中的较小的单位保持一致。\n"
   ]
  },
  {
   "cell_type": "code",
   "execution_count": 5,
   "metadata": {
    "id": "2B0539EC899841C293C08985488B75CE",
    "jupyter": {},
    "notebookId": "60162be0ac79f40016b81c9e",
    "slideshow": {
     "slide_type": "slide"
    },
    "tags": []
   },
   "outputs": [
    {
     "name": "stdout",
     "output_type": "stream",
     "text": [
      "1 days timedelta64[D]\n",
      "960 minutes timedelta64[m]\n",
      "1 days timedelta64[D]\n",
      "2021-03-21 datetime64[D]\n",
      "2021-06-15T12:00 datetime64[m]\n"
     ]
    }
   ],
   "source": [
    "import numpy as np\n",
    "\n",
    "a = np.datetime64('2021-03-08') - np.datetime64('2021-03-07')\n",
    "b = np.datetime64('2021-03-08') - np.datetime64('2021-03-07 08:00')\n",
    "c = np.datetime64('2021-03-08') - np.datetime64('2021-03-07 23:00', 'D')\n",
    "\n",
    "print(a, a.dtype)  # 1 days timedelta64[D]\n",
    "print(b, b.dtype)  # 956178240 minutes timedelta64[m]\n",
    "print(c, c.dtype)  # 1 days timedelta64[D]\n",
    "\n",
    "a = np.datetime64('2021-03') + np.timedelta64(20, 'D')\n",
    "b = np.datetime64('2021-06-15 00:00') + np.timedelta64(12, 'h')\n",
    "print(a, a.dtype)  # 2021-03-21 datetime64[D]\n",
    "print(b, b.dtype)  # 2021-06-15T12:00 datetime64[m]"
   ]
  },
  {
   "cell_type": "markdown",
   "metadata": {
    "id": "47FC77F108064B1F8DED791728C8C1C5",
    "jupyter": {},
    "mdEditEnable": true,
    "notebookId": "60162be0ac79f40016b81c9e",
    "slideshow": {
     "slide_type": "slide"
    },
    "tags": []
   },
   "source": [
    "## 3. timedelta64 的运算。"
   ]
  },
  {
   "cell_type": "code",
   "execution_count": 6,
   "metadata": {
    "id": "4494FFBF0BB44D798C0479FE01EBBCC6",
    "jupyter": {},
    "notebookId": "60162be0ac79f40016b81c9e",
    "slideshow": {
     "slide_type": "slide"
    },
    "tags": []
   },
   "outputs": [
    {
     "name": "stdout",
     "output_type": "stream",
     "text": [
      "1 years\n",
      "6 months\n",
      "18 months\n",
      "6 months\n",
      "2 years\n",
      "2.0\n",
      "7.0\n",
      "7 days\n"
     ]
    }
   ],
   "source": [
    "import numpy as np\n",
    "\n",
    "a = np.timedelta64(1, 'Y')\n",
    "b = np.timedelta64(6, 'M')\n",
    "c = np.timedelta64(1, 'W')\n",
    "d = np.timedelta64(1, 'D')\n",
    "e = np.timedelta64(10, 'D')\n",
    "\n",
    "print(a)  # 1 years\n",
    "print(b)  # 6 months\n",
    "print(a + b)  # 18 months\n",
    "print(a - b)  # 6 months\n",
    "print(2 * a)  # 2 years\n",
    "print(a / b)  # 2.0\n",
    "print(c / d)  # 7.0\n",
    "print(c % e)  # 7 days"
   ]
  },
  {
   "cell_type": "markdown",
   "metadata": {
    "id": "4A1DA83975114DDE957E69E22CCF4B9C",
    "jupyter": {},
    "mdEditEnable": true,
    "notebookId": "60162be0ac79f40016b81c9e",
    "slideshow": {
     "slide_type": "slide"
    },
    "tags": []
   },
   "source": [
    "## 4. datetime64 的应用"
   ]
  },
  {
   "cell_type": "markdown",
   "metadata": {
    "id": "33E5BEB1B5044D6CB84F3A421C7E4DA7",
    "jupyter": {},
    "mdEditEnable": true,
    "notebookId": "60162be0ac79f40016b81c9e",
    "slideshow": {
     "slide_type": "slide"
    },
    "tags": []
   },
   "source": [
    "为了允许在只有一周中某些日子有效的上下文中使用日期时间，NumPy包含一组“busday”（工作日）功能。\n",
    "\n",
    "- `numpy.busday_offset(dates, offsets, roll='raise', weekmask='1111100', holidays=None, busdaycal=None, out=None)` First adjusts the date to fall on a valid day according to the roll rule, then applies offsets to the given dates counted in valid days.\n",
    "\n",
    "参数`roll`：{'raise', 'nat', 'forward', 'following', 'backward', 'preceding', 'modifiedfollowing', 'modifiedpreceding'}\n",
    "- 'raise' means to raise an exception for an invalid day.\n",
    "- 'nat' means to return a NaT (not-a-time) for an invalid day.\n",
    "- 'forward' and 'following' mean to take the first valid day later in time.\n",
    "- 'backward' and 'preceding' mean to take the first valid day earlier in time.\n"
   ]
  },
  {
   "cell_type": "markdown",
   "metadata": {
    "id": "1EBBDE8BA2CA46BC84E3031DD3E25F5C",
    "jupyter": {},
    "mdEditEnable": true,
    "notebookId": "60162be0ac79f40016b81c9e",
    "slideshow": {
     "slide_type": "slide"
    },
    "tags": []
   },
   "source": [
    "将指定的偏移量应用于工作日，单位天（'D'）。计算下一个工作日，如果当前日期为非工作日，默认报错。可以指定 `forward` 或 `backward` 规则来避免报错。（一个是向前取第一个有效的工作日，一个是向后取第一个有效的工作日）"
   ]
  },
  {
   "cell_type": "code",
   "execution_count": 7,
   "metadata": {
    "id": "36E566A4400841209F238DA38023D7FA",
    "jupyter": {},
    "notebookId": "60162be0ac79f40016b81c9e",
    "slideshow": {
     "slide_type": "slide"
    },
    "tags": []
   },
   "outputs": [
    {
     "name": "stdout",
     "output_type": "stream",
     "text": [
      "2021-04-05\n"
     ]
    },
    {
     "ename": "ValueError",
     "evalue": "Non-business day date in busday_offset",
     "output_type": "error",
     "traceback": [
      "\u001b[0;31m---------------------------------------------------------------------------\u001b[0m",
      "\u001b[0;31mValueError\u001b[0m                                Traceback (most recent call last)",
      "\u001b[0;32m<ipython-input-7-00fcfcb1180f>\u001b[0m in \u001b[0;36m<module>\u001b[0;34m\u001b[0m\n\u001b[1;32m      5\u001b[0m \u001b[0mprint\u001b[0m\u001b[0;34m(\u001b[0m\u001b[0ma\u001b[0m\u001b[0;34m)\u001b[0m  \u001b[0;31m# 2021-04-05\u001b[0m\u001b[0;34m\u001b[0m\u001b[0m\n\u001b[1;32m      6\u001b[0m \u001b[0;34m\u001b[0m\u001b[0m\n\u001b[0;32m----> 7\u001b[0;31m \u001b[0ma\u001b[0m \u001b[0;34m=\u001b[0m \u001b[0mnp\u001b[0m\u001b[0;34m.\u001b[0m\u001b[0mbusday_offset\u001b[0m\u001b[0;34m(\u001b[0m\u001b[0;34m'2021-04-03'\u001b[0m\u001b[0;34m,\u001b[0m \u001b[0moffsets\u001b[0m\u001b[0;34m=\u001b[0m\u001b[0;36m1\u001b[0m\u001b[0;34m)\u001b[0m\u001b[0;34m\u001b[0m\u001b[0m\n\u001b[0m\u001b[1;32m      8\u001b[0m \u001b[0mprint\u001b[0m\u001b[0;34m(\u001b[0m\u001b[0ma\u001b[0m\u001b[0;34m)\u001b[0m\u001b[0;34m\u001b[0m\u001b[0m\n\u001b[1;32m      9\u001b[0m \u001b[0;34m\u001b[0m\u001b[0m\n",
      "\u001b[0;32m<__array_function__ internals>\u001b[0m in \u001b[0;36mbusday_offset\u001b[0;34m(*args, **kwargs)\u001b[0m\n",
      "\u001b[0;31mValueError\u001b[0m: Non-business day date in busday_offset"
     ]
    }
   ],
   "source": [
    "import numpy as np\n",
    "\n",
    "# 2021-04-02 星期五\n",
    "a = np.busday_offset('2021-04-02', offsets=1)\n",
    "print(a)  # 2021-04-05\n",
    "\n",
    "a = np.busday_offset('2021-04-03', offsets=1)\n",
    "print(a)\n",
    "\n",
    "# ValueError: Non-business day date in busday_offset\n"
   ]
  },
  {
   "cell_type": "code",
   "execution_count": 8,
   "metadata": {
    "id": "ECB1B3AE995549F7B32F8B217B98E111",
    "jupyter": {},
    "notebookId": "60162be0ac79f40016b81c9e",
    "slideshow": {
     "slide_type": "slide"
    },
    "tags": []
   },
   "outputs": [
    {
     "name": "stdout",
     "output_type": "stream",
     "text": [
      "2021-04-05\n",
      "2021-04-02\n",
      "2021-04-06\n",
      "2021-04-05\n"
     ]
    }
   ],
   "source": [
    "a = np.busday_offset('2021-04-03', offsets=0, roll='forward')\n",
    "b = np.busday_offset('2021-04-03', offsets=0, roll='backward')\n",
    "print(a)  # 2021-04-05\n",
    "print(b)  # 2021-04-02\n",
    "\n",
    "a = np.busday_offset('2021-04-03', offsets=1, roll='forward')\n",
    "b = np.busday_offset('2021-04-03', offsets=1, roll='backward')\n",
    "print(a)  # 2021-04-06\n",
    "print(b)  # 2021-04-05"
   ]
  },
  {
   "cell_type": "markdown",
   "metadata": {
    "id": "A4E5A048637A4AA6BFD3EB9EB47824F2",
    "jupyter": {},
    "mdEditEnable": true,
    "notebookId": "60162be0ac79f40016b81c9e",
    "slideshow": {
     "slide_type": "slide"
    },
    "tags": []
   },
   "source": [
    "### 可以指定偏移量为 0 来获取当前日期向前或向后最近的工作日，当然，如果当前日期本身就是工作日，则直接返回当前日期。\n",
    "\n",
    "- `numpy.is_busday(dates, weekmask='1111100', holidays=None, busdaycal=None, out=None)` Calculates which of the given dates are valid days, and which are not.\n",
    "\n"
   ]
  },
  {
   "cell_type": "markdown",
   "metadata": {
    "id": "3701F89F08FA4B39854A19DD35CBB9B8",
    "jupyter": {},
    "mdEditEnable": true,
    "notebookId": "60162be0ac79f40016b81c9e",
    "slideshow": {
     "slide_type": "slide"
    },
    "tags": []
   },
   "source": [
    "返回指定日期是否是工作日。"
   ]
  },
  {
   "cell_type": "code",
   "execution_count": 9,
   "metadata": {
    "id": "A134C46B9547451BA0FDA51BDBDE44FB",
    "jupyter": {},
    "notebookId": "60162be0ac79f40016b81c9e",
    "slideshow": {
     "slide_type": "slide"
    },
    "tags": []
   },
   "outputs": [
    {
     "name": "stdout",
     "output_type": "stream",
     "text": [
      "True\n",
      "False\n"
     ]
    }
   ],
   "source": [
    "import numpy as np\n",
    "\n",
    "# 2021-04-02 星期五\n",
    "a = np.is_busday('2021-04-02')\n",
    "b = np.is_busday('2021-04-03')\n",
    "print(a)  # True\n",
    "print(b)  # False"
   ]
  },
  {
   "cell_type": "markdown",
   "metadata": {
    "id": "B9DEA717D68642488833259C3211A391",
    "jupyter": {},
    "mdEditEnable": true,
    "notebookId": "60162be0ac79f40016b81c9e",
    "slideshow": {
     "slide_type": "slide"
    },
    "tags": []
   },
   "source": [
    "#### 统计一个 `datetime64[D]` 数组中的工作日天数。"
   ]
  },
  {
   "cell_type": "code",
   "execution_count": 10,
   "metadata": {
    "id": "D80B7E09A344425CAF1759F822615C2C",
    "jupyter": {},
    "notebookId": "60162be0ac79f40016b81c9e",
    "slideshow": {
     "slide_type": "slide"
    },
    "tags": []
   },
   "outputs": [
    {
     "name": "stdout",
     "output_type": "stream",
     "text": [
      "['2021-04-02' '2021-04-03' '2021-04-04' '2021-04-05' '2021-04-06'\n",
      " '2021-04-07' '2021-04-08' '2021-04-09' '2021-04-10' '2021-04-11']\n",
      "6\n"
     ]
    }
   ],
   "source": [
    "import numpy as np\n",
    "\n",
    "# 2021-04-02 星期五\n",
    "begindates = np.datetime64('2021-04-02')\n",
    "enddates = np.datetime64('2021-04-12')\n",
    "a = np.arange(begindates, enddates, dtype='datetime64')\n",
    "b = np.count_nonzero(np.is_busday(a))\n",
    "print(a)\n",
    "print(b)  # 6"
   ]
  },
  {
   "cell_type": "markdown",
   "metadata": {
    "id": "788F9BB92CE84CA189C6CB1384A210BE",
    "jupyter": {},
    "mdEditEnable": true,
    "notebookId": "60162be0ac79f40016b81c9e",
    "slideshow": {
     "slide_type": "slide"
    },
    "tags": []
   },
   "source": [
    "#### 自定义周掩码值，即指定一周中哪些是工作日。"
   ]
  },
  {
   "cell_type": "code",
   "execution_count": 11,
   "metadata": {
    "id": "FD25F8BF9BD84C08805AB4013608F80E",
    "jupyter": {},
    "notebookId": "60162be0ac79f40016b81c9e",
    "slideshow": {
     "slide_type": "slide"
    },
    "tags": []
   },
   "outputs": [
    {
     "name": "stdout",
     "output_type": "stream",
     "text": [
      "True\n",
      "False\n"
     ]
    }
   ],
   "source": [
    "import numpy as np\n",
    "\n",
    "# 2021-04-02 星期五\n",
    "a = np.is_busday('2021-04-02', weekmask=[1, 1, 1, 1, 1, 0, 0])\n",
    "b = np.is_busday('2021-04-02', weekmask=[1, 1, 1, 1, 0, 0, 1])\n",
    "print(a)  # True\n",
    "print(b)  # False"
   ]
  },
  {
   "cell_type": "markdown",
   "metadata": {
    "id": "EE92091BAB7E43518D4B876F1CAFB307",
    "jupyter": {},
    "mdEditEnable": true,
    "notebookId": "60162be0ac79f40016b81c9e",
    "slideshow": {
     "slide_type": "slide"
    },
    "tags": []
   },
   "source": [
    "#### 返回两个日期之间的工作日数量。\n",
    "- `numpy.busday_count(begindates, enddates, weekmask='1111100', holidays=[], busdaycal=None, out=None)`Counts the number of valid days between `begindates` and `enddates`, not including the day of `enddates`."
   ]
  },
  {
   "cell_type": "code",
   "execution_count": 12,
   "metadata": {
    "id": "9FFA77BB5C8C488386BD0ACA4C47DC74",
    "jupyter": {},
    "notebookId": "60162be0ac79f40016b81c9e",
    "slideshow": {
     "slide_type": "slide"
    },
    "tags": []
   },
   "outputs": [
    {
     "name": "stdout",
     "output_type": "stream",
     "text": [
      "6\n",
      "-6\n"
     ]
    }
   ],
   "source": [
    "import numpy as np\n",
    "\n",
    "# 2021-04-02 星期五\n",
    "begindates = np.datetime64('2021-04-02')\n",
    "enddates = np.datetime64('2021-04-12')\n",
    "a = np.busday_count(begindates, enddates)\n",
    "b = np.busday_count(enddates, begindates)\n",
    "print(a)  # 6\n",
    "print(b)  # -6"
   ]
  },
  {
   "cell_type": "markdown",
   "metadata": {
    "id": "CD30ED427C9C4F8C92E4A7B7F9EE606E",
    "jupyter": {},
    "mdEditEnable": true,
    "slideshow": {
     "slide_type": "slide"
    },
    "tags": []
   },
   "source": [
    "END"
   ]
  }
 ],
 "metadata": {
  "kernelspec": {
   "display_name": "Python 3",
   "language": "python",
   "name": "python3"
  },
  "language_info": {
   "codemirror_mode": {
    "name": "ipython",
    "version": 3
   },
   "file_extension": ".py",
   "mimetype": "text/x-python",
   "name": "python",
   "nbconvert_exporter": "python",
   "pygments_lexer": "ipython3",
   "version": "3.6.5"
  },
  "tianchi_metadata": {
   "competitions": [],
   "datasets": [
    {
     "id": "90788",
     "title": "上交训练营数据集"
    }
   ],
   "description": "",
   "notebookId": "199336",
   "source": "dsw"
  }
 },
 "nbformat": 4,
 "nbformat_minor": 4
}
