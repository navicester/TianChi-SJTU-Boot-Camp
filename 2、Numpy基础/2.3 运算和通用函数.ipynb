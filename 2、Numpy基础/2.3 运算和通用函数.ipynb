{
 "cells": [
  {
   "cell_type": "markdown",
   "metadata": {
    "id": "2ABA27C4AAA3435C9CB9DC8DB07CCB51",
    "jupyter": {},
    "mdEditEnable": true,
    "slideshow": {
     "slide_type": "slide"
    },
    "tags": []
   },
   "source": [
    "# 2.3 运算和通用函数\n",
    "对整数进行某种运算，在python中不得不使用循环，而Numpy则不需要写循环语句，用更直接的运算符号或者函数就能完成对众多数值的操作"
   ]
  },
  {
   "cell_type": "markdown",
   "metadata": {
    "id": "3A6046F0A6D0407D91CF1DE38589DFA0",
    "jupyter": {},
    "mdEditEnable": true,
    "notebookId": "5fd5e17f1a34b90030b918ab",
    "slideshow": {
     "slide_type": "slide"
    },
    "tags": []
   },
   "source": [
    "## 1. 基础运算"
   ]
  },
  {
   "cell_type": "code",
   "execution_count": null,
   "metadata": {
    "id": "0E103F42224541368D6EC1F2E06E7CCB",
    "jupyter": {},
    "slideshow": {
     "slide_type": "slide"
    },
    "tags": []
   },
   "outputs": [],
   "source": [
    "import numpy as np\n",
    "lst = [1, 2, 3, 4, 5]\n",
    "a = np.array(lst)\n",
    "a*3"
   ]
  },
  {
   "cell_type": "code",
   "execution_count": null,
   "metadata": {
    "id": "3E80FF83AA764A66AC37A83B6C8C70F0",
    "jupyter": {},
    "slideshow": {
     "slide_type": "slide"
    },
    "tags": []
   },
   "outputs": [],
   "source": [
    "a = np.arange(12).reshape((3,4))\n",
    "a"
   ]
  },
  {
   "cell_type": "code",
   "execution_count": null,
   "metadata": {
    "id": "A019D9C3419F402D870B3AD1893054C3",
    "jupyter": {},
    "slideshow": {
     "slide_type": "slide"
    },
    "tags": []
   },
   "outputs": [],
   "source": [
    "b = a + 10\n",
    "b"
   ]
  },
  {
   "cell_type": "code",
   "execution_count": null,
   "metadata": {
    "id": "5E6ED40D03004262848A2DC98F36BF04",
    "jupyter": {},
    "slideshow": {
     "slide_type": "slide"
    },
    "tags": []
   },
   "outputs": [],
   "source": [
    "a -10"
   ]
  },
  {
   "cell_type": "code",
   "execution_count": null,
   "metadata": {
    "id": "4C13092AA0964ABF9634DF7A73CFF604",
    "jupyter": {},
    "slideshow": {
     "slide_type": "slide"
    },
    "tags": []
   },
   "outputs": [],
   "source": [
    "a/10"
   ]
  },
  {
   "cell_type": "markdown",
   "metadata": {
    "id": "6CB4B7F0C87847A2AC67093D562BDE8F",
    "jupyter": {},
    "mdEditEnable": true,
    "slideshow": {
     "slide_type": "slide"
    },
    "tags": []
   },
   "source": [
    "### 两个数组进行运算\n",
    "* 原则上，只有形状一样的数组之间才能进行运算"
   ]
  },
  {
   "cell_type": "code",
   "execution_count": null,
   "metadata": {
    "id": "627945436B7C46B69171CC1920C13B8C",
    "jupyter": {},
    "slideshow": {
     "slide_type": "slide"
    },
    "tags": []
   },
   "outputs": [],
   "source": [
    "a"
   ]
  },
  {
   "cell_type": "code",
   "execution_count": null,
   "metadata": {
    "id": "FEA4974B0F7C4EE48F1A245A2A0294A5",
    "jupyter": {},
    "slideshow": {
     "slide_type": "slide"
    },
    "tags": []
   },
   "outputs": [],
   "source": [
    "b"
   ]
  },
  {
   "cell_type": "code",
   "execution_count": null,
   "metadata": {
    "id": "6057B166DEB343E5821346E2051AE768",
    "jupyter": {},
    "slideshow": {
     "slide_type": "slide"
    },
    "tags": []
   },
   "outputs": [],
   "source": [
    "a.shape == b.shape"
   ]
  },
  {
   "cell_type": "code",
   "execution_count": null,
   "metadata": {
    "id": "D704E3D88A5C4DA480C9058E0BF4022F",
    "jupyter": {},
    "slideshow": {
     "slide_type": "slide"
    },
    "tags": []
   },
   "outputs": [],
   "source": [
    "a + b"
   ]
  },
  {
   "cell_type": "code",
   "execution_count": null,
   "metadata": {
    "id": "328F70A0FB554F88B0AAFB7FCB00191F",
    "jupyter": {},
    "slideshow": {
     "slide_type": "slide"
    },
    "tags": []
   },
   "outputs": [],
   "source": [
    "a - b"
   ]
  },
  {
   "cell_type": "code",
   "execution_count": null,
   "metadata": {
    "id": "0D7B962C0B8B492089D4CCD017D3C54D",
    "jupyter": {},
    "slideshow": {
     "slide_type": "slide"
    },
    "tags": []
   },
   "outputs": [],
   "source": [
    "a * b"
   ]
  },
  {
   "cell_type": "code",
   "execution_count": null,
   "metadata": {
    "id": "7802C4A6D8804A3A8D3E733AA07DE8E8",
    "jupyter": {},
    "slideshow": {
     "slide_type": "slide"
    },
    "tags": []
   },
   "outputs": [],
   "source": [
    "a /b"
   ]
  },
  {
   "cell_type": "code",
   "execution_count": null,
   "metadata": {
    "id": "E5488875EE414D4D86BA4D0B4E21EC74",
    "jupyter": {},
    "slideshow": {
     "slide_type": "slide"
    },
    "tags": []
   },
   "outputs": [],
   "source": [
    "a "
   ]
  },
  {
   "cell_type": "code",
   "execution_count": null,
   "metadata": {
    "id": "CC70C5BA52604A5389912EC496D460FB",
    "jupyter": {},
    "slideshow": {
     "slide_type": "slide"
    },
    "tags": []
   },
   "outputs": [],
   "source": [
    "m = np.arange(4)\n",
    "m"
   ]
  },
  {
   "cell_type": "code",
   "execution_count": null,
   "metadata": {
    "id": "3400035DDA004BC591C447F234299323",
    "jupyter": {},
    "slideshow": {
     "slide_type": "slide"
    },
    "tags": []
   },
   "outputs": [],
   "source": [
    "a + m"
   ]
  },
  {
   "cell_type": "markdown",
   "metadata": {
    "id": "53598A1D48C8480495909F1340DED1CF",
    "jupyter": {},
    "mdEditEnable": true,
    "slideshow": {
     "slide_type": "slide"
    },
    "tags": []
   },
   "source": [
    "### 广播机制\n",
    "广播（Broadcasting）机制描述了 numpy 如何在算术运算期间处理具有不同形状的数组，让较小的数组在较大的数组上“广播”，以便它们具有兼容的形状。并不是所有的维度都要彼此兼容才符合广播机制的要求，但它们必须满足一定的条件。\n",
    "\n",
    "若两个数组的各维度兼容，也就是两个数组的每一维等长，或其中一个数组为 一维，那么广播机制就适用。如果这两个条件不满足，numpy就会抛出异常，说两个数组不兼容。\n",
    "\n",
    "总结来说，广播的规则有三个：\n",
    "\n",
    "* 如果两个数组的维度数dim不相同，那么小维度数组的形状将会在左边补1。\n",
    "* 如果shape维度不匹配，但是有维度是1，那么可以扩展维度是1的维度匹配另一个数组；\n",
    "* 如果shape维度不匹配，但是没有任何一个维度是1，则匹配引发错误；"
   ]
  },
  {
   "cell_type": "code",
   "execution_count": null,
   "metadata": {
    "id": "1910DA0A755D4D33842D7BBD5FDAFC2F",
    "jupyter": {},
    "notebookId": "5fd5e17f1a34b90030b918ab",
    "slideshow": {
     "slide_type": "slide"
    },
    "tags": []
   },
   "outputs": [],
   "source": [
    "import numpy as np  \n",
    "# 例1 二维数组加一维数组\n",
    "x = np.arange(4) \n",
    "print(x) \n",
    "y = np.ones((3, 4)) \n",
    "print(y) \n",
    "print(x.shape)  # (4,)  \n",
    "print(y.shape)  # (3, 4)  \n",
    "\n",
    "print((x + y).shape)  # (3, 4)  \n",
    "print(x + y) "
   ]
  },
  {
   "cell_type": "code",
   "execution_count": null,
   "metadata": {
    "id": "D330871E944D4AA59A47D7216B2B7B66",
    "jupyter": {},
    "notebookId": "5fd5e17f1a34b90030b918ab",
    "slideshow": {
     "slide_type": "slide"
    },
    "tags": []
   },
   "outputs": [],
   "source": [
    "#例2 两个数组均需要广播\n",
    "x = np.arange(4).reshape(4, 1) \n",
    "print(x)  \n",
    "y = np.ones(5)  \n",
    "print(y) \n",
    "print(x.shape)  # (4, 1)  \n",
    "print(y.shape)  # (5,)  \n",
    "\n",
    "print((x + y).shape)  # (4, 5)  \n",
    "print(x + y)  "
   ]
  },
  {
   "cell_type": "code",
   "execution_count": null,
   "metadata": {
    "id": "6746B4A2BB36438B807440C3B67F4AC3",
    "jupyter": {},
    "notebookId": "5fd5e17f1a34b90030b918ab",
    "slideshow": {
     "slide_type": "slide"
    },
    "tags": []
   },
   "outputs": [],
   "source": [
    "#例1 不匹配报错\n",
    "x = np.arange(4)  \n",
    "y = np.ones(5)  \n",
    "\n",
    "print(x.shape)  # (4,)  \n",
    "print(y.shape)  # (5,)  \n",
    "\n",
    "print(x + y)  "
   ]
  },
  {
   "cell_type": "markdown",
   "metadata": {
    "id": "1E4D7519E427400B87C20D2E988AD842",
    "jupyter": {},
    "mdEditEnable": true,
    "slideshow": {
     "slide_type": "slide"
    },
    "tags": []
   },
   "source": [
    "## 2. 比较运算和逻辑运算"
   ]
  },
  {
   "cell_type": "markdown",
   "metadata": {
    "id": "94E8AF1CF4FB447681CDA8D4CC957E24",
    "jupyter": {},
    "mdEditEnable": true,
    "slideshow": {
     "slide_type": "slide"
    },
    "tags": []
   },
   "source": [
    "### 2.1 比较运算"
   ]
  },
  {
   "cell_type": "code",
   "execution_count": null,
   "metadata": {
    "id": "F0C37CB1F8D8415D9BA2B00CB3DB7206",
    "jupyter": {},
    "slideshow": {
     "slide_type": "slide"
    },
    "tags": []
   },
   "outputs": [],
   "source": [
    "a= np.array([1, 2, 3])\n",
    "b= np.array([4, 5 ,2])"
   ]
  },
  {
   "cell_type": "code",
   "execution_count": null,
   "metadata": {
    "id": "9DCBD483E89641E4B0A11B3F17C6982B",
    "jupyter": {},
    "slideshow": {
     "slide_type": "slide"
    },
    "tags": []
   },
   "outputs": [],
   "source": [
    "a>b"
   ]
  },
  {
   "cell_type": "markdown",
   "metadata": {
    "id": "FF296007EE2B4FA6826540E2E0767F89",
    "jupyter": {},
    "mdEditEnable": true,
    "slideshow": {
     "slide_type": "slide"
    },
    "tags": []
   },
   "source": [
    "### 2.2 逻辑运算：\n",
    "* python中有and, or , not 三个逻辑运算符，因为Numpy是第三方库，所以它不能把自己的逻辑运算也用这三个单词命名\n",
    "* 而是使用logical_and, logical_or, logical_not"
   ]
  },
  {
   "cell_type": "code",
   "execution_count": null,
   "metadata": {
    "id": "FA0A86ECEDED428E8ED363793A74F9FF",
    "jupyter": {},
    "slideshow": {
     "slide_type": "slide"
    },
    "tags": []
   },
   "outputs": [],
   "source": [
    "a = np.array([3, 6, 9])\n",
    "b = np.array([4, 5, 8])"
   ]
  },
  {
   "cell_type": "markdown",
   "metadata": {
    "id": "A68B70D3D8124BE39F61314B81E563A4",
    "jupyter": {},
    "slideshow": {
     "slide_type": "slide"
    },
    "tags": []
   },
   "source": [
    "*  np.any(a, axis = None, out = None)，a是类数组对象，主要a中(或者指定的轴中)有一个元素是True,则返回True，否则返回False\n",
    "*  np.all(a, axis = None, out = None), 如果类数组对象a(或指定某个指定的轴中)所有元素都是True，则会返回True，否则返回False"
   ]
  },
  {
   "cell_type": "code",
   "execution_count": null,
   "metadata": {
    "id": "9549A0524089495B84B2BA281B4DD2DA",
    "jupyter": {},
    "slideshow": {
     "slide_type": "slide"
    },
    "tags": []
   },
   "outputs": [],
   "source": [
    "print(np.any(a > b) and np.any(a < b))\n",
    "print(np.all(a>b))"
   ]
  },
  {
   "cell_type": "markdown",
   "metadata": {
    "id": "D9F702560A134DF98A44264B6F79EDE9",
    "jupyter": {},
    "mdEditEnable": true,
    "slideshow": {
     "slide_type": "slide"
    },
    "tags": []
   },
   "source": [
    "## 3. 通用函数\n",
    "通用函数是能对数组中的每个元素进行操作的函数，即元素级的函数"
   ]
  },
  {
   "cell_type": "markdown",
   "metadata": {
    "id": "44E91CDA36DB4EEF886C7BA01F887B26",
    "jupyter": {},
    "mdEditEnable": true,
    "slideshow": {
     "slide_type": "slide"
    },
    "tags": []
   },
   "source": [
    "###  3.1 内置函数\n",
    "Numpy有一些默认的通用函数，按照参数的个数可将他们进行分类，一个参数的称为一元函数，两个参数称为二元函数\n",
    "* np.sin, np.cos, np.tan          \t\t\t\t 三角函数\n",
    "* np.arcsin, np.arccos, np.arctan    反三角函数\n",
    "* np.round                     \t\t\t\t\t\t\t\t\t 四舍五入\n",
    "* np.sqrt                     \t\t\t\t\t\t\t\t\t\t 求平方根\n",
    "* np.power                     \t\t\t\t\t\t\t\t\t指数运算\n",
    "* np.subtract                    \t\t\t\t\t\t\t\t相减操作\n",
    "* np.multiply                     \t\t\t\t\t\t\t相乘操作\n",
    "* np.divide                    \t\t\t\t\t\t\t\t\t 相除操作\n",
    "* np.floor_divide                    \t\t\t\t\t整除操作\n",
    "* np.add                      \t\t\t\t\t\t\t\t\t 相加操作\n"
   ]
  },
  {
   "cell_type": "code",
   "execution_count": null,
   "metadata": {
    "id": "8A2D0627D6E743F29DE19168340D8E6A",
    "jupyter": {},
    "slideshow": {
     "slide_type": "slide"
    },
    "tags": []
   },
   "outputs": [],
   "source": [
    "alpha = np.linspace(-1, 1, 11)   #初始alpha的值\n",
    "alpha   "
   ]
  },
  {
   "cell_type": "code",
   "execution_count": null,
   "metadata": {
    "id": "56007A6A9F7F44DD82033B39F14AA9CF",
    "jupyter": {},
    "slideshow": {
     "slide_type": "slide"
    },
    "tags": []
   },
   "outputs": [],
   "source": [
    "y = np.sin(np.pi * alpha)    #计算，并放入sin函数中\n",
    "y"
   ]
  },
  {
   "cell_type": "code",
   "execution_count": null,
   "metadata": {
    "id": "8E8FC0DC8FC447C295CB034B19866935",
    "jupyter": {},
    "slideshow": {
     "slide_type": "slide"
    },
    "tags": []
   },
   "outputs": [],
   "source": [
    "np.round(y, decimals = 3)  #四舍五入，保留3位有效数字"
   ]
  },
  {
   "cell_type": "code",
   "execution_count": null,
   "metadata": {
    "id": "6C62782394A64DE485E2967FEC7F2FEB",
    "jupyter": {},
    "slideshow": {
     "slide_type": "slide"
    },
    "tags": []
   },
   "outputs": [],
   "source": [
    "a = np.array([3, 6, 9])\n",
    "b = np.array([4, 5, 8])\n",
    "print(a)\n",
    "print(b)"
   ]
  },
  {
   "cell_type": "code",
   "execution_count": null,
   "metadata": {
    "id": "D53DAB816DE740CDA253B88538F2A106",
    "jupyter": {},
    "slideshow": {
     "slide_type": "slide"
    },
    "tags": []
   },
   "outputs": [],
   "source": [
    "np.add(a, b)   # 相加"
   ]
  },
  {
   "cell_type": "code",
   "execution_count": null,
   "metadata": {
    "id": "5C4C8779F60848DD85C718F603DC5506",
    "jupyter": {},
    "slideshow": {
     "slide_type": "slide"
    },
    "tags": []
   },
   "outputs": [],
   "source": [
    "np.add(np.power(np.sin(alpha),2), np.power(np.cos(alpha),2))  #（cos^2(x)+sin^2(x)=1）"
   ]
  },
  {
   "cell_type": "code",
   "execution_count": null,
   "metadata": {
    "id": "BFB1E5937F6A42D18D45141812B5ADEC",
    "jupyter": {},
    "slideshow": {
     "slide_type": "slide"
    },
    "tags": []
   },
   "outputs": [],
   "source": [
    "np.sin(alpha)**2 + np.cos(alpha)**2    #（cos^2(x)+sin^2(x)=1）   "
   ]
  },
  {
   "cell_type": "code",
   "execution_count": null,
   "metadata": {
    "id": "46CE61F022BF469E8992F64548580D40",
    "jupyter": {},
    "slideshow": {
     "slide_type": "slide"
    },
    "tags": []
   },
   "outputs": [],
   "source": [
    "a = np.arange(10.0, 100.0,2)        # 初始a的值\n",
    "b = np.sqrt(a)\n",
    "b"
   ]
  },
  {
   "cell_type": "code",
   "execution_count": null,
   "metadata": {
    "id": "3DE00C7091B64BFA8D1B31B4DFB8043F",
    "jupyter": {},
    "slideshow": {
     "slide_type": "slide"
    },
    "tags": []
   },
   "outputs": [],
   "source": [
    "np.power(b,2)  #和原来产生的a的值一样"
   ]
  },
  {
   "cell_type": "markdown",
   "metadata": {
    "id": "41C5F7C13C584C51BEDCEC311D4E4CEC",
    "jupyter": {},
    "mdEditEnable": true,
    "notebookId": "60162be0ac79f40016b81c9b",
    "slideshow": {
     "slide_type": "slide"
    },
    "tags": []
   },
   "source": [
    "END"
   ]
  }
 ],
 "metadata": {
  "kernelspec": {
   "display_name": "Python 3 (ipykernel)",
   "language": "python",
   "name": "python3"
  },
  "language_info": {
   "codemirror_mode": {
    "name": "ipython",
    "version": 3
   },
   "file_extension": ".py",
   "mimetype": "text/x-python",
   "name": "python",
   "nbconvert_exporter": "python",
   "pygments_lexer": "ipython3",
   "version": "3.8.12"
  },
  "tianchi_metadata": {
   "competitions": [],
   "datasets": [
    {
     "id": "90788",
     "title": "上交训练营数据集"
    }
   ],
   "description": "",
   "notebookId": "182635",
   "source": "dsw"
  }
 },
 "nbformat": 4,
 "nbformat_minor": 4
}
