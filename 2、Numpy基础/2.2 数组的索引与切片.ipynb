{
 "cells": [
  {
   "cell_type": "markdown",
   "metadata": {
    "id": "B2A83E38FE8144F0AABBF7F2D0F305F1",
    "jupyter": {},
    "mdEditEnable": true,
    "slideshow": {
     "slide_type": "slide"
    },
    "tags": []
   },
   "source": [
    "# 2.2 数组的索引与切片\n",
    "\n",
    "* 用“序列”的观点来看数组，数组中每个元素都是固定的，可以用“索引”来表示数组中的每个元素"
   ]
  },
  {
   "cell_type": "code",
   "execution_count": null,
   "metadata": {
    "id": "0AF92EDB3EB1493C98C665F5A3C84E0A",
    "jupyter": {
     "outputs_hidden": false
    },
    "slideshow": {
     "slide_type": "slide"
    },
    "tags": []
   },
   "outputs": [],
   "source": [
    "import numpy as np\n",
    "a = np.arange(12).reshape((2, 2, 3))\n",
    "print(a)\n",
    "print(a.shape)\n",
    "print(a.ndim)  #查看数组的维度"
   ]
  },
  {
   "cell_type": "markdown",
   "metadata": {
    "id": "45B914B3B840459D8D08DF8F22C627BA",
    "jupyter": {},
    "mdEditEnable": true,
    "slideshow": {
     "slide_type": "slide"
    },
    "tags": []
   },
   "source": [
    "## 1. 索引\n",
    "* 可以看到上面我们创建了一个三维数组，规定：按照从外到内每一层是一个轴，从0开始计数，所以第一层就是0轴，第2层就是1轴，第三层就是2轴\n",
    "* 轴上的元素也是从0开始计数，通过数组上的轴，我们可以操作任意指定方向上的元素"
   ]
  },
  {
   "cell_type": "code",
   "execution_count": null,
   "metadata": {
    "id": "76EB7BE5328342FF98D16E6BC68A12EC",
    "jupyter": {
     "outputs_hidden": false
    },
    "slideshow": {
     "slide_type": "slide"
    },
    "tags": []
   },
   "outputs": [],
   "source": [
    "a"
   ]
  },
  {
   "cell_type": "code",
   "execution_count": null,
   "metadata": {
    "id": "923884EFCFBA41A28DF9EA2A7BF0359E",
    "jupyter": {
     "outputs_hidden": false
    },
    "slideshow": {
     "slide_type": "slide"
    },
    "tags": []
   },
   "outputs": [],
   "source": [
    "print(a[1])\n",
    "a[1][0][0]  #打印元素6"
   ]
  },
  {
   "cell_type": "markdown",
   "metadata": {
    "id": "81A70E1B9BE742319537825A3A2C2766",
    "jupyter": {},
    "mdEditEnable": true,
    "slideshow": {
     "slide_type": "slide"
    },
    "tags": []
   },
   "source": [
    "### 1.1 根据索引取得数组的元素"
   ]
  },
  {
   "cell_type": "code",
   "execution_count": null,
   "metadata": {
    "id": "D651E41001554EADB133E8D13B3BC00C",
    "jupyter": {
     "outputs_hidden": false
    },
    "slideshow": {
     "slide_type": "slide"
    },
    "tags": []
   },
   "outputs": [],
   "source": [
    "b = np.linspace(0, 50, 5)   # 创建一个等差数组\n",
    "b"
   ]
  },
  {
   "cell_type": "code",
   "execution_count": null,
   "metadata": {
    "id": "1CF452ADB9B8464D823BB93470F92C2D",
    "jupyter": {
     "outputs_hidden": false
    },
    "slideshow": {
     "slide_type": "slide"
    },
    "tags": []
   },
   "outputs": [],
   "source": [
    "b[1] #查看12.5"
   ]
  },
  {
   "cell_type": "code",
   "execution_count": null,
   "metadata": {
    "id": "9C1C9DEB84424A3E8925DB050C8AB43F",
    "jupyter": {
     "outputs_hidden": false
    },
    "slideshow": {
     "slide_type": "slide"
    },
    "tags": []
   },
   "outputs": [],
   "source": [
    "c = np.logspace(1, 4, 12).reshape(3, 4)\n",
    "c\n",
    "# 可以看到0轴上有三个元素，1轴上有四个元素 （一个二维数组）"
   ]
  },
  {
   "cell_type": "code",
   "execution_count": null,
   "metadata": {
    "id": "35BC5039B84642A4B7EFCD0D257017F5",
    "jupyter": {
     "outputs_hidden": false
    },
    "slideshow": {
     "slide_type": "slide"
    },
    "tags": []
   },
   "outputs": [],
   "source": [
    "print(c.shape)"
   ]
  },
  {
   "cell_type": "code",
   "execution_count": null,
   "metadata": {
    "id": "79D1A63ABBB14EF3848288ADA79E201E",
    "jupyter": {
     "outputs_hidden": false
    },
    "slideshow": {
     "slide_type": "slide"
    },
    "tags": []
   },
   "outputs": [],
   "source": [
    "c[1]"
   ]
  },
  {
   "cell_type": "code",
   "execution_count": null,
   "metadata": {
    "id": "FDF707C94B3C4A6881BC705DEA99BE15",
    "jupyter": {
     "outputs_hidden": false
    },
    "slideshow": {
     "slide_type": "slide"
    },
    "tags": []
   },
   "outputs": [],
   "source": [
    "c[1, 3]"
   ]
  },
  {
   "cell_type": "code",
   "execution_count": null,
   "metadata": {
    "id": "67D6E95E7A4F434D8F485DC6DA8F2D46",
    "jupyter": {
     "outputs_hidden": false
    },
    "slideshow": {
     "slide_type": "slide"
    },
    "tags": []
   },
   "outputs": [],
   "source": [
    "c[1][3]  #c[1, 3]和c[1][3]得到结果相同"
   ]
  },
  {
   "cell_type": "markdown",
   "metadata": {
    "id": "CA33A5973ED94FD3862D8B39999A32D6",
    "jupyter": {},
    "mdEditEnable": true,
    "slideshow": {
     "slide_type": "slide"
    },
    "tags": []
   },
   "source": [
    "###  1.2 数组跟列表相同，每个索引对应的值可以通过索引进行修改"
   ]
  },
  {
   "cell_type": "code",
   "execution_count": null,
   "metadata": {
    "id": "D220CDFE74AD40E6823ECBD55D60AC86",
    "jupyter": {
     "outputs_hidden": false
    },
    "slideshow": {
     "slide_type": "slide"
    },
    "tags": []
   },
   "outputs": [],
   "source": [
    "b"
   ]
  },
  {
   "cell_type": "code",
   "execution_count": null,
   "metadata": {
    "id": "6AB0C3C947C2419988D3B151064ADA58",
    "jupyter": {
     "outputs_hidden": false
    },
    "slideshow": {
     "slide_type": "slide"
    },
    "tags": []
   },
   "outputs": [],
   "source": [
    "b[1] = 100\n",
    "b    #注意是在原数组基础上修改的，所以打印b是修改后的结果"
   ]
  },
  {
   "cell_type": "code",
   "execution_count": null,
   "metadata": {
    "id": "02708F58FB4D4CD3870C8C2E7F803D8E",
    "jupyter": {
     "outputs_hidden": false
    },
    "slideshow": {
     "slide_type": "slide"
    },
    "tags": []
   },
   "outputs": [],
   "source": [
    "c"
   ]
  },
  {
   "cell_type": "code",
   "execution_count": null,
   "metadata": {
    "id": "BB50EEF17A284373AABEF9C285D2939E",
    "jupyter": {
     "outputs_hidden": false
    },
    "slideshow": {
     "slide_type": "slide"
    },
    "tags": []
   },
   "outputs": [],
   "source": [
    "c[1, 2] = 1\n",
    "c"
   ]
  },
  {
   "cell_type": "markdown",
   "metadata": {
    "id": "8D4CE53931AB4D348BDA16A4471B4665",
    "jupyter": {},
    "mdEditEnable": true,
    "slideshow": {
     "slide_type": "slide"
    },
    "tags": []
   },
   "source": [
    "###  1.3 下标为列表（一维数组）\n",
    "* 可以看到上面用的是下标为整数，下面来看看下标为列表的形式"
   ]
  },
  {
   "cell_type": "code",
   "execution_count": null,
   "metadata": {
    "id": "D1B876F6E72C475F86EBC9A3E7F4E46C",
    "jupyter": {
     "outputs_hidden": false
    },
    "slideshow": {
     "slide_type": "slide"
    },
    "tags": []
   },
   "outputs": [],
   "source": [
    "d = np.linspace(1, 50, 5)\n",
    "d"
   ]
  },
  {
   "cell_type": "code",
   "execution_count": null,
   "metadata": {
    "id": "31DA2D07726148F38492AEE7A3A93069",
    "jupyter": {
     "outputs_hidden": false
    },
    "slideshow": {
     "slide_type": "slide"
    },
    "tags": []
   },
   "outputs": [],
   "source": [
    "d[0], d[1], d[2]    # 从数组b中取出三个元素\n",
    "# 如果用 d[0, 1, 2] 显然是会报错的(三维数组索引)"
   ]
  },
  {
   "cell_type": "code",
   "execution_count": null,
   "metadata": {
    "id": "934FAFEF071B44C79E5242A09C8D3713",
    "jupyter": {
     "outputs_hidden": false
    },
    "slideshow": {
     "slide_type": "slide"
    },
    "tags": []
   },
   "outputs": [],
   "source": [
    "d[[0, 1, 2]]  # 返回一个数组，对应的是 b[0]，b[1]，b[2]的值"
   ]
  },
  {
   "cell_type": "code",
   "execution_count": null,
   "metadata": {
    "id": "41AA2689B4A54EDA80738AE1A219F09A",
    "jupyter": {
     "outputs_hidden": false
    },
    "slideshow": {
     "slide_type": "slide"
    },
    "tags": []
   },
   "outputs": [],
   "source": [
    "d[[2]]"
   ]
  },
  {
   "cell_type": "markdown",
   "metadata": {
    "id": "BE278E3A67FE443A98F27B2194E54363",
    "jupyter": {},
    "mdEditEnable": false,
    "slideshow": {
     "slide_type": "slide"
    },
    "tags": []
   },
   "source": [
    "#### 可以看到列表作为下标时从原数组中改变了一些元素组成了新数组，这个新数组和原数组相互独立 (从内存来看没有公用一个内存)"
   ]
  },
  {
   "cell_type": "code",
   "execution_count": null,
   "metadata": {
    "id": "A92E24CECDA64F608E3B9C65358DCBA1",
    "jupyter": {
     "outputs_hidden": false
    },
    "slideshow": {
     "slide_type": "slide"
    },
    "tags": []
   },
   "outputs": [],
   "source": [
    "e = b[[0, 1, 2]]\n",
    "e"
   ]
  },
  {
   "cell_type": "code",
   "execution_count": null,
   "metadata": {
    "id": "ACB53829818F42E988AE1CF48E28F372",
    "jupyter": {
     "outputs_hidden": false
    },
    "slideshow": {
     "slide_type": "slide"
    },
    "tags": []
   },
   "outputs": [],
   "source": [
    "e[1] = 3\n",
    "e"
   ]
  },
  {
   "cell_type": "markdown",
   "metadata": {
    "id": "A61C64EE49974BE7A931BDFAF991120E",
    "jupyter": {},
    "mdEditEnable": true,
    "slideshow": {
     "slide_type": "slide"
    },
    "tags": []
   },
   "source": [
    "###  1.4 下标为列表（二维数组）"
   ]
  },
  {
   "cell_type": "code",
   "execution_count": null,
   "metadata": {
    "id": "C4D80B1567DD4C4B8A03D51D6547151A",
    "jupyter": {
     "outputs_hidden": false
    },
    "slideshow": {
     "slide_type": "slide"
    },
    "tags": []
   },
   "outputs": [],
   "source": [
    "f = np.linspace(1, 12, 12).reshape(3, 4)\n",
    "f"
   ]
  },
  {
   "cell_type": "code",
   "execution_count": null,
   "metadata": {
    "id": "169CB0C010E1493A8F6D4C17A6BD1DAF",
    "jupyter": {
     "outputs_hidden": false
    },
    "slideshow": {
     "slide_type": "slide"
    },
    "tags": []
   },
   "outputs": [],
   "source": [
    "f[[0, 2]]"
   ]
  },
  {
   "cell_type": "code",
   "execution_count": null,
   "metadata": {
    "id": "BDF7B6D3EBDF40D59C7E14244F9B9B94",
    "jupyter": {
     "outputs_hidden": false
    },
    "slideshow": {
     "slide_type": "slide"
    },
    "tags": []
   },
   "outputs": [],
   "source": [
    "f[[0, 2], [1, 2]]"
   ]
  },
  {
   "cell_type": "markdown",
   "metadata": {
    "id": "48E070C544CB4F038B154C12765645FD",
    "jupyter": {},
    "mdEditEnable": true,
    "slideshow": {
     "slide_type": "slide"
    },
    "tags": []
   },
   "source": [
    "###  1.5 下标是数组\n",
    "除了整数，列表，还可以是数组"
   ]
  },
  {
   "cell_type": "code",
   "execution_count": null,
   "metadata": {
    "id": "C4913D3FC7F04DC49E8FD702A20E42AE",
    "jupyter": {
     "outputs_hidden": false
    },
    "slideshow": {
     "slide_type": "slide"
    },
    "tags": []
   },
   "outputs": [],
   "source": [
    "d    #以d为例子"
   ]
  },
  {
   "cell_type": "code",
   "execution_count": null,
   "metadata": {
    "id": "9B57016549E54E22B8BFA7A87AE6616C",
    "jupyter": {
     "outputs_hidden": false
    },
    "slideshow": {
     "slide_type": "slide"
    },
    "tags": []
   },
   "outputs": [],
   "source": [
    "d[np.array([2, 3, 2, 3])]"
   ]
  },
  {
   "cell_type": "code",
   "execution_count": null,
   "metadata": {
    "id": "72C65539B78246ED8632862B85401C37",
    "jupyter": {
     "outputs_hidden": false
    },
    "slideshow": {
     "slide_type": "slide"
    },
    "tags": []
   },
   "outputs": [],
   "source": [
    "g= np.logspace(1 ,50, 12).reshape(3, 4)  #创建一个等比数组\n",
    "g[np.array([1, 2])]"
   ]
  },
  {
   "cell_type": "markdown",
   "metadata": {
    "id": "40CDD89799AD46C9AE61AB8CE210BEA8",
    "jupyter": {},
    "mdEditEnable": true,
    "slideshow": {
     "slide_type": "slide"
    },
    "tags": []
   },
   "source": [
    "## 2. 切片：\n",
    "* 切片操作是指抽取数组的一部分元素生成新数组。对 python 列表进行切片操作得到的数组是原数组的副本，而对 Numpy 数据进行切片操作得到的数组则是指向相同缓冲区的视图。\n",
    "*下标和切片都可以从数组中得到部分元素，遵守“前包括， 后不包括”的原则"
   ]
  },
  {
   "cell_type": "code",
   "execution_count": null,
   "metadata": {
    "id": "D7AC92D11A774480817F17F307CA3005",
    "jupyter": {
     "outputs_hidden": false
    },
    "slideshow": {
     "slide_type": "slide"
    },
    "tags": []
   },
   "outputs": [],
   "source": [
    "a = np.arange(10, 20)\n",
    "a"
   ]
  },
  {
   "cell_type": "code",
   "execution_count": null,
   "metadata": {
    "id": "55C958EC4377446B80EB3377D48CA92A",
    "jupyter": {
     "outputs_hidden": false
    },
    "slideshow": {
     "slide_type": "slide"
    },
    "tags": []
   },
   "outputs": [],
   "source": [
    "b = a[2 : 8]\n",
    "b"
   ]
  },
  {
   "cell_type": "code",
   "execution_count": null,
   "metadata": {
    "id": "3E2A1F0B16E94020AFB40EC6BB3A38ED",
    "jupyter": {
     "outputs_hidden": false
    },
    "slideshow": {
     "slide_type": "slide"
    },
    "tags": []
   },
   "outputs": [],
   "source": [
    "b[2] = 200\n",
    "b # 新得到的数组b中的第一个元素的值被修改了"
   ]
  },
  {
   "cell_type": "code",
   "execution_count": null,
   "metadata": {
    "id": "46F9667AAF9049AF90281A4923C586EB",
    "jupyter": {
     "outputs_hidden": false
    },
    "slideshow": {
     "slide_type": "slide"
    },
    "tags": []
   },
   "outputs": [],
   "source": [
    "a  #同时数组a中的元素也得到了改变"
   ]
  },
  {
   "cell_type": "markdown",
   "metadata": {
    "id": "CA22C96D4F56420289CEB7FBFC8E526C",
    "jupyter": {},
    "mdEditEnable": false,
    "slideshow": {
     "slide_type": "slide"
    },
    "tags": []
   },
   "source": [
    "\n",
    "\n",
    "* 通过切边得到的数组和原数组共享了一个内存空间\n",
    "\n",
    "* 通过索引，得到的是两个不同的数组，占用不同的内存"
   ]
  },
  {
   "cell_type": "code",
   "execution_count": null,
   "metadata": {
    "id": "21FE6544CB0845678289BC05F4820D22",
    "jupyter": {
     "outputs_hidden": false
    },
    "slideshow": {
     "slide_type": "slide"
    },
    "tags": []
   },
   "outputs": [],
   "source": [
    "a = np.arange(10 ,20)\n",
    "print(a[::2])\n",
    "print(a[3:])\n",
    "print(a[::-1])"
   ]
  },
  {
   "cell_type": "markdown",
   "metadata": {
    "id": "954CFF8125744FF08AB2262EE01D5996",
    "jupyter": {},
    "mdEditEnable": false,
    "slideshow": {
     "slide_type": "slide"
    },
    "tags": []
   },
   "source": [
    "#### 对二维或者更多的数组进行切片，也是在一维是基础上进行操作的，分别在每个轴上实施，最终获得合并区域"
   ]
  },
  {
   "cell_type": "code",
   "execution_count": null,
   "metadata": {
    "id": "20F03E24B6CC422197817521C8ABFEC4",
    "jupyter": {
     "outputs_hidden": false
    },
    "slideshow": {
     "slide_type": "slide"
    },
    "tags": []
   },
   "outputs": [],
   "source": [
    "np.arange(0, 100, 10).reshape(-1, 1)"
   ]
  },
  {
   "cell_type": "code",
   "execution_count": null,
   "metadata": {
    "id": "FF0556BD23F64FF1B35DABB5301FAE12",
    "jupyter": {
     "outputs_hidden": false
    },
    "slideshow": {
     "slide_type": "slide"
    },
    "tags": []
   },
   "outputs": [],
   "source": [
    "np.arange(0, 6)"
   ]
  },
  {
   "cell_type": "code",
   "execution_count": null,
   "metadata": {
    "id": "23B59A154E93436694691396FCAD5594",
    "jupyter": {
     "outputs_hidden": false
    },
    "slideshow": {
     "slide_type": "slide"
    },
    "tags": []
   },
   "outputs": [],
   "source": [
    "b = np.arange(0, 100, 10).reshape(-1, 1) + np.arange(0, 6)\n",
    "b"
   ]
  },
  {
   "cell_type": "code",
   "execution_count": null,
   "metadata": {
    "id": "B3FF849404B94BA789FC6119693A8831",
    "jupyter": {
     "outputs_hidden": false
    },
    "slideshow": {
     "slide_type": "slide"
    },
    "tags": []
   },
   "outputs": [],
   "source": [
    "b[1: 4]   # 在0轴方向上切片，得到了按照0轴方向上元素为单元的切片后的数组"
   ]
  },
  {
   "cell_type": "code",
   "execution_count": null,
   "metadata": {
    "id": "FFC73883A4E64B9888A7ED37402C835E",
    "jupyter": {
     "outputs_hidden": false
    },
    "slideshow": {
     "slide_type": "slide"
    },
    "tags": []
   },
   "outputs": [],
   "source": [
    "print(b[1:4, 2:5])  # 先在0轴方向上“切出一片”，然后在1轴方向上安装[2:5]的要求“切出”"
   ]
  },
  {
   "cell_type": "code",
   "execution_count": null,
   "metadata": {
    "id": "2C9ED1CEB2C5452A8B817BFEEAB0819B",
    "jupyter": {
     "outputs_hidden": false
    },
    "slideshow": {
     "slide_type": "slide"
    },
    "tags": []
   },
   "outputs": [],
   "source": [
    "print(b[0])       # 在0轴方向上切片，得到了按照0轴方向上元素为单元的切片后的数组\n",
    "print(b[1,:])     "
   ]
  },
  {
   "cell_type": "code",
   "execution_count": null,
   "metadata": {
    "id": "DC0B93D24C56456DBFF20D0D6BED3AB7",
    "jupyter": {
     "outputs_hidden": false
    },
    "slideshow": {
     "slide_type": "slide"
    },
    "tags": []
   },
   "outputs": [],
   "source": [
    "print(b[:, 2])  #取第三列所有数据\n",
    "print(b[0:2, 0:2])  #取左上角的四个元素"
   ]
  },
  {
   "cell_type": "markdown",
   "metadata": {
    "id": "91F0A11E28254CEABACAA874D260DF45",
    "jupyter": {},
    "mdEditEnable": true,
    "notebookId": "5fd5e17f1a34b90030b918a5",
    "slideshow": {
     "slide_type": "slide"
    },
    "tags": []
   },
   "source": [
    "END"
   ]
  }
 ],
 "metadata": {
  "kernelspec": {
   "display_name": "Python 3 (ipykernel)",
   "language": "python",
   "name": "python3"
  },
  "language_info": {
   "codemirror_mode": {
    "name": "ipython",
    "version": 3
   },
   "file_extension": ".py",
   "mimetype": "text/x-python",
   "name": "python",
   "nbconvert_exporter": "python",
   "pygments_lexer": "ipython3",
   "version": "3.8.12"
  },
  "tianchi_metadata": {
   "competitions": [],
   "datasets": [
    {
     "id": "90788",
     "title": "上交训练营数据集"
    }
   ],
   "description": "",
   "notebookId": "182394",
   "source": "dsw"
  }
 },
 "nbformat": 4,
 "nbformat_minor": 4
}
