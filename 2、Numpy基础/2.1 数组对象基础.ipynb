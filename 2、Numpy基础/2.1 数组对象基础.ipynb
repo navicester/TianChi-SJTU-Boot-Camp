{
 "cells": [
  {
   "cell_type": "markdown",
   "metadata": {
    "id": "73840B67AE1B4DFC82C0772AF3AEC4D1",
    "jupyter": {},
    "mdEditEnable": true,
    "notebookId": "5fd5e17f1a34b90030b918a2",
    "slideshow": {
     "slide_type": "slide"
    },
    "tags": []
   },
   "source": [
    "# 2.1 数组对象基础"
   ]
  },
  {
   "cell_type": "markdown",
   "metadata": {
    "id": "911206C77A9B47AF83D5926F97379624",
    "jupyter": {},
    "mdEditEnable": true,
    "notebookId": "60162be0ac79f40016b81c95",
    "slideshow": {
     "slide_type": "slide"
    },
    "tags": []
   },
   "source": [
    "**推荐学习资料：**\n",
    "《利用python进行数据分析》"
   ]
  },
  {
   "cell_type": "markdown",
   "metadata": {
    "id": "F4DDF1B261E341F1BEA7B3212DC61B44",
    "jupyter": {},
    "mdEditEnable": true,
    "slideshow": {
     "slide_type": "slide"
    },
    "tags": []
   },
   "source": [
    "## 1. Numpy是什么\n",
    "1. python语言的一个第三方库\n",
    "2. 实现了多维数组与矩阵的高效运算\n",
    "3. 提供了大量的数学函数\n",
    "\n",
    "官方文档（推荐查看哦！）：\n",
    "https://www.numpy.org.cn/user/quickstart.html"
   ]
  },
  {
   "cell_type": "markdown",
   "metadata": {
    "id": "F6349D679DC0445D9F7FDC7D406230B2",
    "jupyter": {},
    "mdEditEnable": true,
    "slideshow": {
     "slide_type": "slide"
    },
    "tags": []
   },
   "source": [
    "## 2. 数组对象\n",
    "* n-dimensional-array(ndarray),多维数组\n",
    "* 数组（narray）是数组中重要的数据结构\n",
    "* python中 “万物皆对象”原则，数组同样也是对象，是对象就会有属性和方法"
   ]
  },
  {
   "cell_type": "code",
   "execution_count": 1,
   "metadata": {
    "id": "86D8ED1DBB67412792A5476F5968C87B",
    "jupyter": {},
    "slideshow": {
     "slide_type": "slide"
    },
    "tags": []
   },
   "outputs": [],
   "source": [
    "import numpy as np  # 导入包"
   ]
  },
  {
   "cell_type": "markdown",
   "metadata": {
    "id": "E858444F0EC34426AA726B0C83143733",
    "jupyter": {},
    "mdEditEnable": true,
    "slideshow": {
     "slide_type": "slide"
    },
    "tags": []
   },
   "source": [
    "## 2.1 创建数组\n",
    "* np.array()__是基本方法\n",
    "* object, dtype=None ndim =0"
   ]
  },
  {
   "cell_type": "code",
   "execution_count": 20,
   "metadata": {
    "id": "9D46C5099FF8496F8913262D201D7795",
    "jupyter": {},
    "mdEditEnable": false,
    "slideshow": {
     "slide_type": "slide"
    },
    "tags": []
   },
   "outputs": [
    {
     "name": "stdout",
     "output_type": "stream",
     "text": [
      "[0 1 2 3 4] <class 'numpy.ndarray'>\n",
      "[0 1 2 3 4] <class 'numpy.ndarray'>\n",
      "[[11 12 13 14 15]\n",
      " [16 17 18 19 20]\n",
      " [21 22 23 24 25]\n",
      " [26 27 28 29 30]\n",
      " [31 32 33 34 35]] <class 'numpy.ndarray'>\n",
      "[[[1.5 2.  3. ]\n",
      "  [4.  5.  6. ]]\n",
      "\n",
      " [[3.  2.  1. ]\n",
      "  [4.  5.  6. ]]] <class 'numpy.ndarray'>\n",
      "[[[1.5 2.  3. ]\n",
      "  [4.  5.  6. ]]\n",
      "\n",
      " [[1.5 2.  3. ]\n",
      "  [4.  5.  6. ]]\n",
      "\n",
      " [[1.5 2.  3. ]\n",
      "  [4.  5.  6. ]]\n",
      "\n",
      " [[3.  2.  1. ]\n",
      "  [4.  5.  6. ]]] <class 'numpy.ndarray'>\n",
      "(4, 2, 3)\n",
      "2\n"
     ]
    }
   ],
   "source": [
    "import numpy as np  \n",
    "\n",
    "# 创建一维数组  \n",
    "a = np.array([0, 1, 2, 3, 4])  \n",
    "b = np.array((0, 1, 2, 3, 4))  \n",
    "print(a, type(a))  \n",
    "print(b, type(b))  \n",
    "\n",
    "# 创建二维数组  \n",
    "c = np.array([[11, 12, 13, 14, 15],  \n",
    "              [16, 17, 18, 19, 20],  \n",
    "              [21, 22, 23, 24, 25],  \n",
    "              [26, 27, 28, 29, 30],  \n",
    "              [31, 32, 33, 34, 35]])  \n",
    "print(c, type(c))  \n",
    "\n",
    "# 创建三维数组  \n",
    "d = np.array([[(1.5, 2, 3), (4, 5, 6)],  \n",
    "              [(3, 2, 1), (4, 5, 6)]])  \n",
    "print(d, type(d))  \n",
    "\n",
    "f = np.array([[(1.5, 2, 3), (4, 5, 6)],  \n",
    "              [(1.5, 2, 3), (4, 5, 6)],  \n",
    "              [(1.5, 2, 3), (4, 5, 6)],  \n",
    "              [(3, 2, 1), (4, 5, 6)]])  \n",
    "print(f, type(f))  \n",
    "print(f.shape)\n",
    "print(f.ndim)"
   ]
  },
  {
   "cell_type": "markdown",
   "metadata": {
    "id": "30AEA3C283ED4CA1BD1E6567BDA5E273",
    "jupyter": {},
    "mdEditEnable": true,
    "slideshow": {
     "slide_type": "slide"
    },
    "tags": []
   },
   "source": [
    "## 2.2 数组元素的类型：\n",
    "* 组成数组的元素必须是同一个类型\n",
    "* 某一数组一旦组成，其元素类型是确定的不能随意改变的"
   ]
  },
  {
   "cell_type": "code",
   "execution_count": 7,
   "metadata": {
    "id": "339DD9828CD34380B1685A4E24CEE938",
    "jupyter": {},
    "slideshow": {
     "slide_type": "slide"
    },
    "tags": []
   },
   "outputs": [
    {
     "name": "stdout",
     "output_type": "stream",
     "text": [
      "int64\n"
     ]
    }
   ],
   "source": [
    "data = np.array([1, 2, 3, 4])\n",
    "print(data.dtype)"
   ]
  },
  {
   "cell_type": "markdown",
   "metadata": {
    "id": "355AB730CFC2478F9AF77E8913588772",
    "jupyter": {},
    "mdEditEnable": true,
    "slideshow": {
     "slide_type": "slide"
    },
    "tags": []
   },
   "source": [
    "## 2.3 修改元素类型\n",
    "* astype()___数组对象的一个方法\n",
    "* 根据指定的数组新生成一个数组\n",
    "* 新数组（new_data）相对于就数组data只有元素的类型不同"
   ]
  },
  {
   "cell_type": "code",
   "execution_count": 10,
   "metadata": {
    "id": "D51B83A4F40D4392BF1B4D66B0FCDD1A",
    "jupyter": {},
    "slideshow": {
     "slide_type": "slide"
    },
    "tags": []
   },
   "outputs": [
    {
     "name": "stdout",
     "output_type": "stream",
     "text": [
      "[1. 2. 3. 4.]\n",
      "<class 'numpy.ndarray'>\n",
      "float64\n"
     ]
    }
   ],
   "source": [
    "data = np.array([1,2 ,3 ,4])\n",
    "new_data = data.astype(np.float)\n",
    "print(new_data)\n",
    "print(type(new_data))\n",
    "print(new_data.dtype)"
   ]
  },
  {
   "cell_type": "markdown",
   "metadata": {
    "id": "7DE377693A3648E0B7115E5A3D3A78B8",
    "jupyter": {},
    "mdEditEnable": true,
    "slideshow": {
     "slide_type": "slide"
    },
    "tags": []
   },
   "source": [
    "## 2.4 数组的属性\n",
    "* shape\n",
    "* 返回一个元组\n",
    "* 其中的元素有整数构成，代表着该数组的形状———每个轴的元素数"
   ]
  },
  {
   "cell_type": "code",
   "execution_count": 11,
   "metadata": {
    "id": "67B74042CF724C909674251D9A2FBC10",
    "jupyter": {},
    "slideshow": {
     "slide_type": "slide"
    },
    "tags": []
   },
   "outputs": [
    {
     "name": "stdout",
     "output_type": "stream",
     "text": [
      "(2, 4)\n"
     ]
    }
   ],
   "source": [
    "data  = np.array([[1, 2, 3, 4],\n",
    "                [4, 5 ,6 ,7]])\n",
    "print(data.shape)"
   ]
  },
  {
   "cell_type": "markdown",
   "metadata": {
    "id": "4209EC8F0DD14E2F97D26D302078A3EB",
    "jupyter": {},
    "mdEditEnable": true,
    "slideshow": {
     "slide_type": "slide"
    },
    "tags": []
   },
   "source": [
    "## 2.5 数组的维度\n",
    "* ndim\n",
    "* 只有一个轴的数组被称为一维数组\n",
    "* 返回一个数，代表数组的轴的个数，即维度"
   ]
  },
  {
   "cell_type": "code",
   "execution_count": 22,
   "metadata": {
    "id": "27C025EFEFA74BFA9EF2D3083AF867B1",
    "jupyter": {},
    "slideshow": {
     "slide_type": "slide"
    },
    "tags": []
   },
   "outputs": [
    {
     "name": "stdout",
     "output_type": "stream",
     "text": [
      "2\n",
      "3\n"
     ]
    }
   ],
   "source": [
    "data = np.array([[1, 2, 3 ,4],\n",
    "               [2,3 ,4 ,5]])\n",
    "print(data.ndim)\n",
    "\n",
    "data = np.array([[(1,1), (2,2), (3,3) ,(4,4)],\n",
    "               [(2,2), (3,3), (4,4) ,(5,5)]])\n",
    "print(data.ndim)"
   ]
  },
  {
   "cell_type": "markdown",
   "metadata": {
    "id": "253EF9E15F9648C1B7EDB161FEE65715",
    "jupyter": {},
    "mdEditEnable": true,
    "slideshow": {
     "slide_type": "slide"
    },
    "tags": []
   },
   "source": [
    "## 2.6 数组的大小 \n",
    "* size\n",
    "* 返回一个整数，代表数组中的元素个数"
   ]
  },
  {
   "cell_type": "code",
   "execution_count": 23,
   "metadata": {
    "id": "98EBD47C37A140959DE5CEB955AC7AA9",
    "jupyter": {},
    "slideshow": {
     "slide_type": "slide"
    },
    "tags": []
   },
   "outputs": [
    {
     "name": "stdout",
     "output_type": "stream",
     "text": [
      "8\n"
     ]
    }
   ],
   "source": [
    "data = np.array([[1, 2, 3 ,4],\n",
    "               [2,3 ,4 ,5]])\n",
    "print(data.size)"
   ]
  },
  {
   "cell_type": "markdown",
   "metadata": {
    "id": "A66507C028AD406E82154AC60B95764F",
    "jupyter": {},
    "mdEditEnable": true,
    "slideshow": {
     "slide_type": "slide"
    },
    "tags": []
   },
   "source": [
    "## 2.7 创建多维数组\n",
    "* 如果我们传入的是嵌套列表，则得到的一个多维数组\n",
    "\n",
    "* 嵌套列表的各个元素的长度必须要一致"
   ]
  },
  {
   "cell_type": "code",
   "execution_count": 24,
   "metadata": {
    "id": "9F9FD3BD43384890A997B04387F9B357",
    "jupyter": {},
    "slideshow": {
     "slide_type": "slide"
    },
    "tags": []
   },
   "outputs": [
    {
     "name": "stdout",
     "output_type": "stream",
     "text": [
      "(2, 4)\n",
      "2\n",
      "8\n"
     ]
    }
   ],
   "source": [
    "data = np.array([[1, 2, 3, 4],\n",
    "                [1, 2 ,3, 4]])\n",
    "print(data.shape)\n",
    "print(data.ndim)\n",
    "print(data.size)"
   ]
  },
  {
   "cell_type": "markdown",
   "metadata": {
    "id": "CB5B487F5DD24C2A81F792AFD4482BC8",
    "jupyter": {},
    "mdEditEnable": true,
    "slideshow": {
     "slide_type": "slide"
    },
    "tags": []
   },
   "source": [
    "## 2.8 函数创建数组\n",
    "* 通过专门的函数来创建有特征的数组\n",
    "\n",
    "* 数据比较有规律\n",
    "\n",
    "* 用元组的形式进行创建"
   ]
  },
  {
   "cell_type": "code",
   "execution_count": 25,
   "metadata": {
    "id": "26DD0B1005CF450085DEB3F894AD79CB",
    "jupyter": {},
    "slideshow": {
     "slide_type": "slide"
    },
    "tags": []
   },
   "outputs": [
    {
     "name": "stdout",
     "output_type": "stream",
     "text": [
      "[[1. 1. 1.]\n",
      " [1. 1. 1.]]\n",
      "[[0. 0. 0.]\n",
      " [0. 0. 0.]]\n"
     ]
    }
   ],
   "source": [
    "data = np.zeros((2, 3))\n",
    "data1 = np.ones((2, 3))\n",
    "print(data1)\n",
    "print(data)"
   ]
  },
  {
   "cell_type": "markdown",
   "metadata": {
    "id": "4B554804F46540B8AEFB260876DBED6F",
    "jupyter": {},
    "mdEditEnable": true,
    "slideshow": {
     "slide_type": "slide"
    },
    "tags": []
   },
   "source": [
    "## 2.9 Numpy中创建特殊数组的函数"
   ]
  },
  {
   "cell_type": "markdown",
   "metadata": {
    "id": "8B54EFEDD3F94A94BC44DC841F80FA44",
    "jupyter": {},
    "mdEditEnable": true,
    "slideshow": {
     "slide_type": "slide"
    },
    "tags": []
   },
   "source": [
    "### 2.9.1 arange\n",
    "* 根据开始值、结束值和步长来创建一个数组(the default start value is 0; the default setp size is 1)\n",
    "\n",
    "* 通过它创建的是一维数组，数组的元素符合等差数列（结束值-开始值 = 步长值）\n",
    "\n",
    "* 同于python中常规的“前包括，后不包括”的原则"
   ]
  },
  {
   "cell_type": "code",
   "execution_count": 27,
   "metadata": {
    "id": "54BA02F0643B4A7E8EDE966082369F19",
    "jupyter": {},
    "slideshow": {
     "slide_type": "slide"
    },
    "tags": []
   },
   "outputs": [
    {
     "name": "stdout",
     "output_type": "stream",
     "text": [
      "[1 4 7]\n",
      "[0 1 2 3]\n"
     ]
    }
   ],
   "source": [
    "data = np.arange(1, 10, 3)\n",
    "data1 = np.arange(4)\n",
    "print(data)\n",
    "print(data1)"
   ]
  },
  {
   "cell_type": "markdown",
   "metadata": {
    "id": "57C3575D7EAD463587DCD169B572D4BB",
    "jupyter": {},
    "mdEditEnable": true,
    "slideshow": {
     "slide_type": "slide"
    },
    "tags": []
   },
   "source": [
    "###  2.9.2 linspace\n",
    "* 在指定的间隔内返回均匀间隔的数字（得到等差数列）\n",
    "* np.linspace(start ,stop , num, endpoint = True, retstep = False, dtype =None)\n",
    "* 不同于python中常规的“前包括，后不包括”的原则\n",
    "* 可以通过endpoint来调控是否包括末尾的值（default is True）"
   ]
  },
  {
   "cell_type": "code",
   "execution_count": 28,
   "metadata": {
    "id": "A6595C253A3F48CD89CBE1ADF1D1AF18",
    "jupyter": {},
    "slideshow": {
     "slide_type": "slide"
    },
    "tags": []
   },
   "outputs": [
    {
     "name": "stdout",
     "output_type": "stream",
     "text": [
      "[ 1.   5.5 10. ]\n",
      "[1. 4. 7.]\n"
     ]
    }
   ],
   "source": [
    "data = np.linspace(1, 10 ,3)\n",
    "data1 = np.linspace(1, 10, 3, endpoint = False)\n",
    "print(data)\n",
    "print(data1)"
   ]
  },
  {
   "cell_type": "markdown",
   "metadata": {
    "id": "46B7CFFDCF7A45DF8FFA893F9ED1476B",
    "jupyter": {},
    "mdEditEnable": true,
    "slideshow": {
     "slide_type": "slide"
    },
    "tags": []
   },
   "source": [
    "###  2.9.3 logspace\n",
    "* 得到的是一个对数等比数列\n",
    "* np.logspace()返回的是由等比元素组成的数组，等比数列的开始值$base^{start}$  结束值$base^{end}$\n",
    "* np.logspace(start, stop, num = 50, endpoint = True, base = 10.0, dtype = None)"
   ]
  },
  {
   "cell_type": "code",
   "execution_count": 29,
   "metadata": {
    "id": "C6E914C502534B8B86E916C1C43A1A72",
    "jupyter": {},
    "slideshow": {
     "slide_type": "slide"
    },
    "tags": []
   },
   "outputs": [
    {
     "name": "stdout",
     "output_type": "stream",
     "text": [
      "[ 100.          215.443469    464.15888336 1000.        ]\n"
     ]
    }
   ],
   "source": [
    "data = np.logspace(2, 3, 4) #对数的底默认为10\n",
    "print(data)"
   ]
  },
  {
   "cell_type": "markdown",
   "metadata": {
    "id": "26A248DEF1BC4D3A819116E3793CCA49",
    "jupyter": {},
    "mdEditEnable": true,
    "slideshow": {
     "slide_type": "slide"
    },
    "tags": []
   },
   "source": [
    "###  2.9.4 full  \n",
    "* 填充一个全部是某个数字的指定形状的数组\n",
    "* np.full(shape, fill_value, dtype = None)"
   ]
  },
  {
   "cell_type": "code",
   "execution_count": 30,
   "metadata": {
    "id": "7F17081511F24C329F0AC37BE2AE6E61",
    "jupyter": {},
    "slideshow": {
     "slide_type": "slide"
    },
    "tags": []
   },
   "outputs": [
    {
     "name": "stdout",
     "output_type": "stream",
     "text": [
      "[[6.4 6.4 6.4 6.4]\n",
      " [6.4 6.4 6.4 6.4]\n",
      " [6.4 6.4 6.4 6.4]\n",
      " [6.4 6.4 6.4 6.4]\n",
      " [6.4 6.4 6.4 6.4]\n",
      " [6.4 6.4 6.4 6.4]]\n"
     ]
    }
   ],
   "source": [
    "data = np.full((6,4), 6.4)\n",
    "print(data)"
   ]
  },
  {
   "cell_type": "markdown",
   "metadata": {
    "id": "399F21020A4C44D0852AFE517552D629",
    "jupyter": {},
    "mdEditEnable": true,
    "slideshow": {
     "slide_type": "slide"
    },
    "tags": []
   },
   "source": [
    "### 2.9.5 eye\n",
    "* 不仅能够创建对角线元素为1的$n*n$元素，还能根据k值调整“对角线”位置"
   ]
  },
  {
   "cell_type": "code",
   "execution_count": 31,
   "metadata": {
    "id": "FE2A377ECBEE462784FB2DBAF6CC7FD5",
    "jupyter": {},
    "slideshow": {
     "slide_type": "slide"
    },
    "tags": []
   },
   "outputs": [
    {
     "name": "stdout",
     "output_type": "stream",
     "text": [
      "[[0 0 0 0]\n",
      " [1 0 0 0]\n",
      " [0 1 0 0]\n",
      " [0 0 1 0]]\n"
     ]
    }
   ],
   "source": [
    "data = np.eye(4, dtype = int ,k = -1)\n",
    "print(data)"
   ]
  },
  {
   "cell_type": "markdown",
   "metadata": {
    "id": "C9DA54F2367E445585B1ABCF93DBBD71",
    "jupyter": {},
    "mdEditEnable": true,
    "slideshow": {
     "slide_type": "slide"
    },
    "tags": []
   },
   "source": [
    "### 2.9.6 identity\n",
    "* np.identity()所创建的是一个不能调整“对角线”的单位矩阵\n",
    "* 输出默认的数据类型是float"
   ]
  },
  {
   "cell_type": "code",
   "execution_count": 32,
   "metadata": {
    "id": "D50F1739363E4DB1ADED8C5B4F2FC84A",
    "jupyter": {},
    "slideshow": {
     "slide_type": "slide"
    },
    "tags": []
   },
   "outputs": [
    {
     "name": "stdout",
     "output_type": "stream",
     "text": [
      "[[1. 0. 0. 0.]\n",
      " [0. 1. 0. 0.]\n",
      " [0. 0. 1. 0.]\n",
      " [0. 0. 0. 1.]]\n"
     ]
    }
   ],
   "source": [
    "data = np.identity(4)\n",
    "print(data)"
   ]
  },
  {
   "cell_type": "markdown",
   "metadata": {
    "id": "60044E4ABACF4D558A25F5FCCC072670",
    "jupyter": {},
    "mdEditEnable": true,
    "slideshow": {
     "slide_type": "slide"
    },
    "tags": []
   },
   "source": [
    "###  2.9.7 diag（diagonal line）\n",
    "* 可以指定对角线元素,还可以根据对角线的个数确定数组各轴的元素\n",
    "\n",
    "* 也可以调整对角线的位置\n"
   ]
  },
  {
   "cell_type": "code",
   "execution_count": 33,
   "metadata": {
    "id": "12A687277A544B5BB324A20EBE636246",
    "jupyter": {},
    "slideshow": {
     "slide_type": "slide"
    },
    "tags": []
   },
   "outputs": [
    {
     "name": "stdout",
     "output_type": "stream",
     "text": [
      "[[1 0 0 0]\n",
      " [0 2 0 0]\n",
      " [0 0 3 0]\n",
      " [0 0 0 4]]\n"
     ]
    }
   ],
   "source": [
    "data = np.diag([1, 2, 3, 4])\n",
    "print(data)"
   ]
  },
  {
   "cell_type": "code",
   "execution_count": 34,
   "metadata": {
    "id": "8C99E8B60F3841EFA7ABFC1E36700A02",
    "jupyter": {},
    "slideshow": {
     "slide_type": "slide"
    },
    "tags": []
   },
   "outputs": [
    {
     "name": "stdout",
     "output_type": "stream",
     "text": [
      "[[0 1 2]\n",
      " [3 4 5]\n",
      " [6 7 8]]\n",
      "[0 4 8]\n"
     ]
    }
   ],
   "source": [
    "x = np.arange(9).reshape((3,3)) \n",
    "data = np.diag(x)\n",
    "print(x)\n",
    "print(data)"
   ]
  },
  {
   "cell_type": "markdown",
   "metadata": {
    "id": "A3DBFABD9E4444A7919B26B957AD6D50",
    "jupyter": {},
    "mdEditEnable": true,
    "slideshow": {
     "slide_type": "slide"
    },
    "tags": []
   },
   "source": [
    " ###  2.9.8 fromfuncion\n",
    " * 从函数中创建数组\n",
    " * np.fromfunction(function, shape **kwargsw)\n",
    " * 参数中的function是一个函数对象，shape是创建的数组形状\n",
    " * 默认的dtype是float"
   ]
  },
  {
   "cell_type": "code",
   "execution_count": 35,
   "metadata": {
    "id": "98A27F835A65422BBFC7E4D0C97A0B27",
    "jupyter": {},
    "slideshow": {
     "slide_type": "slide"
    },
    "tags": []
   },
   "outputs": [
    {
     "name": "stdout",
     "output_type": "stream",
     "text": [
      "[1 2 3 4 5]\n"
     ]
    }
   ],
   "source": [
    "def foo(x):\n",
    "    return x+1\n",
    "print(np.fromfunction(foo, (5,), dtype = int))"
   ]
  },
  {
   "cell_type": "code",
   "execution_count": 36,
   "metadata": {
    "id": "31774C9483D644A99531C683645676B0",
    "jupyter": {},
    "slideshow": {
     "slide_type": "slide"
    },
    "tags": []
   },
   "outputs": [
    {
     "name": "stdout",
     "output_type": "stream",
     "text": [
      "[[ 1  2  3  4  5  6  7  8  9]\n",
      " [ 2  4  6  8 10 12 14 16 18]\n",
      " [ 3  6  9 12 15 18 21 24 27]\n",
      " [ 4  8 12 16 20 24 28 32 36]\n",
      " [ 5 10 15 20 25 30 35 40 45]\n",
      " [ 6 12 18 24 30 36 42 48 54]\n",
      " [ 7 14 21 28 35 42 49 56 63]\n",
      " [ 8 16 24 32 40 48 56 64 72]\n",
      " [ 9 18 27 36 45 54 63 72 81]]\n"
     ]
    }
   ],
   "source": [
    "print(np.fromfunction(lambda i,j:(i+1)*(j+1), (9,9), dtype = int))"
   ]
  },
  {
   "cell_type": "markdown",
   "metadata": {
    "id": "A52C50A5529E4E2C8D4B6419CFF4CA5B",
    "jupyter": {},
    "mdEditEnable": true,
    "slideshow": {
     "slide_type": "slide"
    },
    "tags": []
   },
   "source": []
  },
  {
   "cell_type": "markdown",
   "metadata": {
    "id": "6419520F3DF649BE869621262A3C60D5",
    "jupyter": {},
    "mdEditEnable": true,
    "notebookId": "5fd5e17f1a34b90030b918a2",
    "slideshow": {
     "slide_type": "slide"
    },
    "tags": []
   },
   "source": [
    "END"
   ]
  }
 ],
 "metadata": {
  "kernelspec": {
   "display_name": "Python 3 (ipykernel)",
   "language": "python",
   "name": "python3"
  },
  "language_info": {
   "codemirror_mode": {
    "name": "ipython",
    "version": 3
   },
   "file_extension": ".py",
   "mimetype": "text/x-python",
   "name": "python",
   "nbconvert_exporter": "python",
   "pygments_lexer": "ipython3",
   "version": "3.8.12"
  },
  "tianchi_metadata": {
   "competitions": [],
   "datasets": [
    {
     "id": "90788",
     "title": "上交训练营数据集"
    }
   ],
   "description": "",
   "notebookId": "182387",
   "source": "dsw"
  }
 },
 "nbformat": 4,
 "nbformat_minor": 4
}
